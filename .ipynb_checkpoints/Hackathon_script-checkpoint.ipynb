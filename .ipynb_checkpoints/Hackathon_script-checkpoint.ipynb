{
 "cells": [
  {
   "cell_type": "code",
   "execution_count": 1,
   "metadata": {},
   "outputs": [],
   "source": [
    "import pandas as pd\n",
    "import numpy as np\n",
    "import matplotlib.pyplot as plt\n",
    "import seaborn as sns"
   ]
  },
  {
   "cell_type": "code",
   "execution_count": 2,
   "metadata": {},
   "outputs": [],
   "source": [
    "import warnings\n",
    "warnings.filterwarnings('ignore')\n",
    "\n",
    "pd.set_option('max_columns', None)\n",
    "pd.set_option('max_colwidth', None)"
   ]
  },
  {
   "cell_type": "code",
   "execution_count": 3,
   "metadata": {},
   "outputs": [],
   "source": [
    "df = pd.read_csv('training_.csv')\n",
    "test = pd.read_csv('test.csv')"
   ]
  },
  {
   "cell_type": "code",
   "execution_count": 4,
   "metadata": {},
   "outputs": [
    {
     "data": {
      "text/html": [
       "<div>\n",
       "<style scoped>\n",
       "    .dataframe tbody tr th:only-of-type {\n",
       "        vertical-align: middle;\n",
       "    }\n",
       "\n",
       "    .dataframe tbody tr th {\n",
       "        vertical-align: top;\n",
       "    }\n",
       "\n",
       "    .dataframe thead th {\n",
       "        text-align: right;\n",
       "    }\n",
       "</style>\n",
       "<table border=\"1\" class=\"dataframe\">\n",
       "  <thead>\n",
       "    <tr style=\"text-align: right;\">\n",
       "      <th></th>\n",
       "      <th>S.No</th>\n",
       "      <th>Timestamp</th>\n",
       "      <th>Age</th>\n",
       "      <th>Gender</th>\n",
       "      <th>Country</th>\n",
       "      <th>state</th>\n",
       "      <th>self_employed</th>\n",
       "      <th>family_history</th>\n",
       "      <th>treatment</th>\n",
       "      <th>work_interfere</th>\n",
       "      <th>no_employees</th>\n",
       "      <th>remote_work</th>\n",
       "      <th>tech_company</th>\n",
       "      <th>benefits</th>\n",
       "      <th>care_options</th>\n",
       "      <th>wellness_program</th>\n",
       "      <th>seek_help</th>\n",
       "      <th>anonymity</th>\n",
       "      <th>leave</th>\n",
       "      <th>mental_health_consequence</th>\n",
       "      <th>phys_health_consequence</th>\n",
       "      <th>coworkers</th>\n",
       "      <th>supervisor</th>\n",
       "      <th>mental_health_interview</th>\n",
       "      <th>phys_health_interview</th>\n",
       "      <th>mental_vs_physical</th>\n",
       "      <th>obs_consequence</th>\n",
       "      <th>comments</th>\n",
       "    </tr>\n",
       "  </thead>\n",
       "  <tbody>\n",
       "    <tr>\n",
       "      <th>0</th>\n",
       "      <td>1</td>\n",
       "      <td>2014-08-27 11:29:31</td>\n",
       "      <td>37</td>\n",
       "      <td>Female</td>\n",
       "      <td>United States</td>\n",
       "      <td>IL</td>\n",
       "      <td>NaN</td>\n",
       "      <td>No</td>\n",
       "      <td>Yes</td>\n",
       "      <td>Often</td>\n",
       "      <td>6-25</td>\n",
       "      <td>No</td>\n",
       "      <td>Yes</td>\n",
       "      <td>Yes</td>\n",
       "      <td>Not sure</td>\n",
       "      <td>No</td>\n",
       "      <td>Yes</td>\n",
       "      <td>Yes</td>\n",
       "      <td>Somewhat easy</td>\n",
       "      <td>No</td>\n",
       "      <td>No</td>\n",
       "      <td>Some of them</td>\n",
       "      <td>Yes</td>\n",
       "      <td>No</td>\n",
       "      <td>Maybe</td>\n",
       "      <td>Yes</td>\n",
       "      <td>No</td>\n",
       "      <td>NaN</td>\n",
       "    </tr>\n",
       "    <tr>\n",
       "      <th>1</th>\n",
       "      <td>2</td>\n",
       "      <td>2014-08-27 11:29:37</td>\n",
       "      <td>44</td>\n",
       "      <td>M</td>\n",
       "      <td>United States</td>\n",
       "      <td>IN</td>\n",
       "      <td>NaN</td>\n",
       "      <td>No</td>\n",
       "      <td>No</td>\n",
       "      <td>Rarely</td>\n",
       "      <td>More than 1000</td>\n",
       "      <td>No</td>\n",
       "      <td>No</td>\n",
       "      <td>Don't know</td>\n",
       "      <td>No</td>\n",
       "      <td>Don't know</td>\n",
       "      <td>Don't know</td>\n",
       "      <td>Don't know</td>\n",
       "      <td>Don't know</td>\n",
       "      <td>Maybe</td>\n",
       "      <td>No</td>\n",
       "      <td>No</td>\n",
       "      <td>No</td>\n",
       "      <td>No</td>\n",
       "      <td>No</td>\n",
       "      <td>Don't know</td>\n",
       "      <td>No</td>\n",
       "      <td>NaN</td>\n",
       "    </tr>\n",
       "    <tr>\n",
       "      <th>2</th>\n",
       "      <td>3</td>\n",
       "      <td>2014-08-27 11:29:44</td>\n",
       "      <td>32</td>\n",
       "      <td>Male</td>\n",
       "      <td>Canada</td>\n",
       "      <td>NaN</td>\n",
       "      <td>NaN</td>\n",
       "      <td>No</td>\n",
       "      <td>No</td>\n",
       "      <td>Rarely</td>\n",
       "      <td>6-25</td>\n",
       "      <td>No</td>\n",
       "      <td>Yes</td>\n",
       "      <td>No</td>\n",
       "      <td>No</td>\n",
       "      <td>No</td>\n",
       "      <td>No</td>\n",
       "      <td>Don't know</td>\n",
       "      <td>Somewhat difficult</td>\n",
       "      <td>No</td>\n",
       "      <td>No</td>\n",
       "      <td>Yes</td>\n",
       "      <td>Yes</td>\n",
       "      <td>Yes</td>\n",
       "      <td>Yes</td>\n",
       "      <td>No</td>\n",
       "      <td>No</td>\n",
       "      <td>NaN</td>\n",
       "    </tr>\n",
       "    <tr>\n",
       "      <th>3</th>\n",
       "      <td>4</td>\n",
       "      <td>2014-08-27 11:29:46</td>\n",
       "      <td>31</td>\n",
       "      <td>Male</td>\n",
       "      <td>United Kingdom</td>\n",
       "      <td>NaN</td>\n",
       "      <td>NaN</td>\n",
       "      <td>Yes</td>\n",
       "      <td>Yes</td>\n",
       "      <td>Often</td>\n",
       "      <td>26-100</td>\n",
       "      <td>No</td>\n",
       "      <td>Yes</td>\n",
       "      <td>No</td>\n",
       "      <td>Yes</td>\n",
       "      <td>No</td>\n",
       "      <td>No</td>\n",
       "      <td>No</td>\n",
       "      <td>Somewhat difficult</td>\n",
       "      <td>Yes</td>\n",
       "      <td>Yes</td>\n",
       "      <td>Some of them</td>\n",
       "      <td>No</td>\n",
       "      <td>Maybe</td>\n",
       "      <td>Maybe</td>\n",
       "      <td>No</td>\n",
       "      <td>Yes</td>\n",
       "      <td>NaN</td>\n",
       "    </tr>\n",
       "    <tr>\n",
       "      <th>4</th>\n",
       "      <td>5</td>\n",
       "      <td>2014-08-27 11:30:22</td>\n",
       "      <td>31</td>\n",
       "      <td>Male</td>\n",
       "      <td>United States</td>\n",
       "      <td>TX</td>\n",
       "      <td>NaN</td>\n",
       "      <td>No</td>\n",
       "      <td>No</td>\n",
       "      <td>Never</td>\n",
       "      <td>100-500</td>\n",
       "      <td>Yes</td>\n",
       "      <td>Yes</td>\n",
       "      <td>Yes</td>\n",
       "      <td>No</td>\n",
       "      <td>Don't know</td>\n",
       "      <td>Don't know</td>\n",
       "      <td>Don't know</td>\n",
       "      <td>Don't know</td>\n",
       "      <td>No</td>\n",
       "      <td>No</td>\n",
       "      <td>Some of them</td>\n",
       "      <td>Yes</td>\n",
       "      <td>Yes</td>\n",
       "      <td>Yes</td>\n",
       "      <td>Don't know</td>\n",
       "      <td>No</td>\n",
       "      <td>NaN</td>\n",
       "    </tr>\n",
       "  </tbody>\n",
       "</table>\n",
       "</div>"
      ],
      "text/plain": [
       "   S.No            Timestamp  Age  Gender         Country state self_employed  \\\n",
       "0     1  2014-08-27 11:29:31   37  Female   United States    IL           NaN   \n",
       "1     2  2014-08-27 11:29:37   44       M   United States    IN           NaN   \n",
       "2     3  2014-08-27 11:29:44   32    Male          Canada   NaN           NaN   \n",
       "3     4  2014-08-27 11:29:46   31    Male  United Kingdom   NaN           NaN   \n",
       "4     5  2014-08-27 11:30:22   31    Male   United States    TX           NaN   \n",
       "\n",
       "  family_history treatment work_interfere    no_employees remote_work  \\\n",
       "0             No       Yes          Often            6-25          No   \n",
       "1             No        No         Rarely  More than 1000          No   \n",
       "2             No        No         Rarely            6-25          No   \n",
       "3            Yes       Yes          Often          26-100          No   \n",
       "4             No        No          Never         100-500         Yes   \n",
       "\n",
       "  tech_company    benefits care_options wellness_program   seek_help  \\\n",
       "0          Yes         Yes     Not sure               No         Yes   \n",
       "1           No  Don't know           No       Don't know  Don't know   \n",
       "2          Yes          No           No               No          No   \n",
       "3          Yes          No          Yes               No          No   \n",
       "4          Yes         Yes           No       Don't know  Don't know   \n",
       "\n",
       "    anonymity               leave mental_health_consequence  \\\n",
       "0         Yes       Somewhat easy                        No   \n",
       "1  Don't know          Don't know                     Maybe   \n",
       "2  Don't know  Somewhat difficult                        No   \n",
       "3          No  Somewhat difficult                       Yes   \n",
       "4  Don't know          Don't know                        No   \n",
       "\n",
       "  phys_health_consequence     coworkers supervisor mental_health_interview  \\\n",
       "0                      No  Some of them        Yes                      No   \n",
       "1                      No            No         No                      No   \n",
       "2                      No           Yes        Yes                     Yes   \n",
       "3                     Yes  Some of them         No                   Maybe   \n",
       "4                      No  Some of them        Yes                     Yes   \n",
       "\n",
       "  phys_health_interview mental_vs_physical obs_consequence comments  \n",
       "0                 Maybe                Yes              No      NaN  \n",
       "1                    No         Don't know              No      NaN  \n",
       "2                   Yes                 No              No      NaN  \n",
       "3                 Maybe                 No             Yes      NaN  \n",
       "4                   Yes         Don't know              No      NaN  "
      ]
     },
     "execution_count": 4,
     "metadata": {},
     "output_type": "execute_result"
    }
   ],
   "source": [
    "df.head()"
   ]
  },
  {
   "cell_type": "code",
   "execution_count": 5,
   "metadata": {},
   "outputs": [
    {
     "data": {
      "text/html": [
       "<div>\n",
       "<style scoped>\n",
       "    .dataframe tbody tr th:only-of-type {\n",
       "        vertical-align: middle;\n",
       "    }\n",
       "\n",
       "    .dataframe tbody tr th {\n",
       "        vertical-align: top;\n",
       "    }\n",
       "\n",
       "    .dataframe thead th {\n",
       "        text-align: right;\n",
       "    }\n",
       "</style>\n",
       "<table border=\"1\" class=\"dataframe\">\n",
       "  <thead>\n",
       "    <tr style=\"text-align: right;\">\n",
       "      <th></th>\n",
       "      <th>Column</th>\n",
       "      <th>Description</th>\n",
       "    </tr>\n",
       "  </thead>\n",
       "  <tbody>\n",
       "    <tr>\n",
       "      <th>0</th>\n",
       "      <td>Timestamp</td>\n",
       "      <td>Timestamp</td>\n",
       "    </tr>\n",
       "    <tr>\n",
       "      <th>1</th>\n",
       "      <td>Age</td>\n",
       "      <td>Age</td>\n",
       "    </tr>\n",
       "    <tr>\n",
       "      <th>2</th>\n",
       "      <td>Gender</td>\n",
       "      <td>Gender</td>\n",
       "    </tr>\n",
       "    <tr>\n",
       "      <th>3</th>\n",
       "      <td>Country</td>\n",
       "      <td>Country</td>\n",
       "    </tr>\n",
       "    <tr>\n",
       "      <th>4</th>\n",
       "      <td>state</td>\n",
       "      <td>If you live in the United States, which state or territory do you live in?</td>\n",
       "    </tr>\n",
       "  </tbody>\n",
       "</table>\n",
       "</div>"
      ],
      "text/plain": [
       "      Column  \\\n",
       "0  Timestamp   \n",
       "1        Age   \n",
       "2     Gender   \n",
       "3    Country   \n",
       "4      state   \n",
       "\n",
       "                                                                  Description  \n",
       "0                                                                   Timestamp  \n",
       "1                                                                         Age  \n",
       "2                                                                      Gender  \n",
       "3                                                                     Country  \n",
       "4  If you live in the United States, which state or territory do you live in?  "
      ]
     },
     "execution_count": 5,
     "metadata": {},
     "output_type": "execute_result"
    }
   ],
   "source": [
    "desc = {\n",
    "    'Column': [\n",
    "        'Timestamp',\n",
    "        'Age',\n",
    "        'Gender',\n",
    "        'Country',\n",
    "        'state',\n",
    "        'self_employed',\n",
    "        'family_history',\n",
    "        'treatment',\n",
    "        'work_interfere',\n",
    "        'no_employees',\n",
    "        'remote_work',\n",
    "        'tech_company',\n",
    "        'benefits',\n",
    "        'care_options',\n",
    "        'wellness_program',\n",
    "        'seek_help',\n",
    "        'anonymity',\n",
    "        'leave',\n",
    "        'mental_health_consequence',\n",
    "        'phys_health_consequence',\n",
    "        'coworkers',\n",
    "        'supervisor',\n",
    "        'mental_health_interview',\n",
    "        'phys_health_interview',\n",
    "        'mental_vs_physical',\n",
    "        'obs_consequence',\n",
    "        'comments'\n",
    "    ],\n",
    "    'Description': [\n",
    "        'Timestamp',\n",
    "        'Age',\n",
    "        'Gender',\n",
    "        'Country',\n",
    "        'If you live in the United States, which state or territory do you live in?',\n",
    "        'Are you self-employed?',\n",
    "        'Do you have a family history of mental illness?',\n",
    "        'Does he or she really needs treatment.',\n",
    "        'If you have a mental health condition, do you feel that it interferes with your work?',\n",
    "        'How many employees does your company or organization have?',\n",
    "        'Do you work remotely (outside of an office) at least 50% of the time?',\n",
    "        'Is your employer primarily a tech company/organization?',\n",
    "        'Does your employer provide mental health benefits?',\n",
    "        'Do you know the options for mental health care your employer provides?',\n",
    "        'Has your employer ever discussed mental health as part of an employee wellness program?',\n",
    "        'Does your employer provide resources to learn more about mental health issues and how to seek help?',\n",
    "        'Is your anonymity protected if you choose to take advantage of mental health or substance abuse treatment resources?',\n",
    "        'How easy is it for you to take medical leave for a mental health condition?',\n",
    "        'Do you think that discussing a mental health issue with your employer would have negative consequences?',\n",
    "        'Do you think that discussing a physical health issue with your employer would have negative consequences?',\n",
    "        'Would you be willing to discuss a mental health issue with your coworkers?',\n",
    "        'Would you be willing to discuss a mental health issue with your direct supervisor(s)?',\n",
    "        'Would you bring up a mental health issue with a potential employer in an interview?',\n",
    "        'Would you bring up a physical health issue with a potential employer in an interview?',\n",
    "        'Do you feel that your employer takes mental health as seriously as physical health?',\n",
    "        'Have you heard of or observed negative consequences for coworkers with mental health conditions in your workplace?',\n",
    "        'Any additional notes or comments.'\n",
    "    ]\n",
    "}\n",
    "desc = pd.DataFrame(desc)\n",
    "desc.head()"
   ]
  },
  {
   "cell_type": "code",
   "execution_count": 6,
   "metadata": {},
   "outputs": [
    {
     "data": {
      "text/html": [
       "<div>\n",
       "<style scoped>\n",
       "    .dataframe tbody tr th:only-of-type {\n",
       "        vertical-align: middle;\n",
       "    }\n",
       "\n",
       "    .dataframe tbody tr th {\n",
       "        vertical-align: top;\n",
       "    }\n",
       "\n",
       "    .dataframe thead th {\n",
       "        text-align: right;\n",
       "    }\n",
       "</style>\n",
       "<table border=\"1\" class=\"dataframe\">\n",
       "  <thead>\n",
       "    <tr style=\"text-align: right;\">\n",
       "      <th>Column</th>\n",
       "      <th>Timestamp</th>\n",
       "      <th>Age</th>\n",
       "      <th>Gender</th>\n",
       "      <th>Country</th>\n",
       "      <th>state</th>\n",
       "      <th>self_employed</th>\n",
       "      <th>family_history</th>\n",
       "      <th>treatment</th>\n",
       "      <th>work_interfere</th>\n",
       "      <th>no_employees</th>\n",
       "      <th>remote_work</th>\n",
       "      <th>tech_company</th>\n",
       "      <th>benefits</th>\n",
       "      <th>care_options</th>\n",
       "      <th>wellness_program</th>\n",
       "      <th>seek_help</th>\n",
       "      <th>anonymity</th>\n",
       "      <th>leave</th>\n",
       "      <th>mental_health_consequence</th>\n",
       "      <th>phys_health_consequence</th>\n",
       "      <th>coworkers</th>\n",
       "      <th>supervisor</th>\n",
       "      <th>mental_health_interview</th>\n",
       "      <th>phys_health_interview</th>\n",
       "      <th>mental_vs_physical</th>\n",
       "      <th>obs_consequence</th>\n",
       "      <th>comments</th>\n",
       "    </tr>\n",
       "  </thead>\n",
       "  <tbody>\n",
       "    <tr>\n",
       "      <th>Description</th>\n",
       "      <td>Timestamp</td>\n",
       "      <td>Age</td>\n",
       "      <td>Gender</td>\n",
       "      <td>Country</td>\n",
       "      <td>If you live in the United States, which state or territory do you live in?</td>\n",
       "      <td>Are you self-employed?</td>\n",
       "      <td>Do you have a family history of mental illness?</td>\n",
       "      <td>Does he or she really needs treatment.</td>\n",
       "      <td>If you have a mental health condition, do you feel that it interferes with your work?</td>\n",
       "      <td>How many employees does your company or organization have?</td>\n",
       "      <td>Do you work remotely (outside of an office) at least 50% of the time?</td>\n",
       "      <td>Is your employer primarily a tech company/organization?</td>\n",
       "      <td>Does your employer provide mental health benefits?</td>\n",
       "      <td>Do you know the options for mental health care your employer provides?</td>\n",
       "      <td>Has your employer ever discussed mental health as part of an employee wellness program?</td>\n",
       "      <td>Does your employer provide resources to learn more about mental health issues and how to seek help?</td>\n",
       "      <td>Is your anonymity protected if you choose to take advantage of mental health or substance abuse treatment resources?</td>\n",
       "      <td>How easy is it for you to take medical leave for a mental health condition?</td>\n",
       "      <td>Do you think that discussing a mental health issue with your employer would have negative consequences?</td>\n",
       "      <td>Do you think that discussing a physical health issue with your employer would have negative consequences?</td>\n",
       "      <td>Would you be willing to discuss a mental health issue with your coworkers?</td>\n",
       "      <td>Would you be willing to discuss a mental health issue with your direct supervisor(s)?</td>\n",
       "      <td>Would you bring up a mental health issue with a potential employer in an interview?</td>\n",
       "      <td>Would you bring up a physical health issue with a potential employer in an interview?</td>\n",
       "      <td>Do you feel that your employer takes mental health as seriously as physical health?</td>\n",
       "      <td>Have you heard of or observed negative consequences for coworkers with mental health conditions in your workplace?</td>\n",
       "      <td>Any additional notes or comments.</td>\n",
       "    </tr>\n",
       "  </tbody>\n",
       "</table>\n",
       "</div>"
      ],
      "text/plain": [
       "Column       Timestamp  Age  Gender  Country  \\\n",
       "Description  Timestamp  Age  Gender  Country   \n",
       "\n",
       "Column                                                                            state  \\\n",
       "Description  If you live in the United States, which state or territory do you live in?   \n",
       "\n",
       "Column                self_employed  \\\n",
       "Description  Are you self-employed?   \n",
       "\n",
       "Column                                        family_history  \\\n",
       "Description  Do you have a family history of mental illness?   \n",
       "\n",
       "Column                                    treatment  \\\n",
       "Description  Does he or she really needs treatment.   \n",
       "\n",
       "Column                                                                              work_interfere  \\\n",
       "Description  If you have a mental health condition, do you feel that it interferes with your work?   \n",
       "\n",
       "Column                                                     no_employees  \\\n",
       "Description  How many employees does your company or organization have?   \n",
       "\n",
       "Column                                                                 remote_work  \\\n",
       "Description  Do you work remotely (outside of an office) at least 50% of the time?   \n",
       "\n",
       "Column                                                  tech_company  \\\n",
       "Description  Is your employer primarily a tech company/organization?   \n",
       "\n",
       "Column                                                 benefits  \\\n",
       "Description  Does your employer provide mental health benefits?   \n",
       "\n",
       "Column                                                                 care_options  \\\n",
       "Description  Do you know the options for mental health care your employer provides?   \n",
       "\n",
       "Column                                                                              wellness_program  \\\n",
       "Description  Has your employer ever discussed mental health as part of an employee wellness program?   \n",
       "\n",
       "Column                                                                                                 seek_help  \\\n",
       "Description  Does your employer provide resources to learn more about mental health issues and how to seek help?   \n",
       "\n",
       "Column                                                                                                                  anonymity  \\\n",
       "Description  Is your anonymity protected if you choose to take advantage of mental health or substance abuse treatment resources?   \n",
       "\n",
       "Column                                                                             leave  \\\n",
       "Description  How easy is it for you to take medical leave for a mental health condition?   \n",
       "\n",
       "Column                                                                                     mental_health_consequence  \\\n",
       "Description  Do you think that discussing a mental health issue with your employer would have negative consequences?   \n",
       "\n",
       "Column                                                                                         phys_health_consequence  \\\n",
       "Description  Do you think that discussing a physical health issue with your employer would have negative consequences?   \n",
       "\n",
       "Column                                                                        coworkers  \\\n",
       "Description  Would you be willing to discuss a mental health issue with your coworkers?   \n",
       "\n",
       "Column                                                                                  supervisor  \\\n",
       "Description  Would you be willing to discuss a mental health issue with your direct supervisor(s)?   \n",
       "\n",
       "Column                                                                   mental_health_interview  \\\n",
       "Description  Would you bring up a mental health issue with a potential employer in an interview?   \n",
       "\n",
       "Column                                                                       phys_health_interview  \\\n",
       "Description  Would you bring up a physical health issue with a potential employer in an interview?   \n",
       "\n",
       "Column                                                                        mental_vs_physical  \\\n",
       "Description  Do you feel that your employer takes mental health as seriously as physical health?   \n",
       "\n",
       "Column                                                                                                          obs_consequence  \\\n",
       "Description  Have you heard of or observed negative consequences for coworkers with mental health conditions in your workplace?   \n",
       "\n",
       "Column                                comments  \n",
       "Description  Any additional notes or comments.  "
      ]
     },
     "execution_count": 6,
     "metadata": {},
     "output_type": "execute_result"
    }
   ],
   "source": [
    "desc.index = desc['Column']\n",
    "desc.drop('Column', axis=1, inplace=True)\n",
    "desc = desc.T\n",
    "desc.head()"
   ]
  },
  {
   "cell_type": "code",
   "execution_count": 7,
   "metadata": {},
   "outputs": [
    {
     "data": {
      "text/html": [
       "<div>\n",
       "<style scoped>\n",
       "    .dataframe tbody tr th:only-of-type {\n",
       "        vertical-align: middle;\n",
       "    }\n",
       "\n",
       "    .dataframe tbody tr th {\n",
       "        vertical-align: top;\n",
       "    }\n",
       "\n",
       "    .dataframe thead th {\n",
       "        text-align: right;\n",
       "    }\n",
       "</style>\n",
       "<table border=\"1\" class=\"dataframe\">\n",
       "  <thead>\n",
       "    <tr style=\"text-align: right;\">\n",
       "      <th></th>\n",
       "      <th>S.No</th>\n",
       "      <th>Timestamp</th>\n",
       "      <th>Age</th>\n",
       "      <th>Gender</th>\n",
       "      <th>Country</th>\n",
       "      <th>state</th>\n",
       "      <th>self_employed</th>\n",
       "      <th>family_history</th>\n",
       "      <th>work_interfere</th>\n",
       "      <th>no_employees</th>\n",
       "      <th>remote_work</th>\n",
       "      <th>tech_company</th>\n",
       "      <th>benefits</th>\n",
       "      <th>care_options</th>\n",
       "      <th>wellness_program</th>\n",
       "      <th>seek_help</th>\n",
       "      <th>anonymity</th>\n",
       "      <th>leave</th>\n",
       "      <th>mental_health_consequence</th>\n",
       "      <th>phys_health_consequence</th>\n",
       "      <th>coworkers</th>\n",
       "      <th>supervisor</th>\n",
       "      <th>mental_health_interview</th>\n",
       "      <th>phys_health_interview</th>\n",
       "      <th>mental_vs_physical</th>\n",
       "      <th>obs_consequence</th>\n",
       "      <th>comments</th>\n",
       "    </tr>\n",
       "  </thead>\n",
       "  <tbody>\n",
       "    <tr>\n",
       "      <th>0</th>\n",
       "      <td>1</td>\n",
       "      <td>2014-08-29 11:32:22</td>\n",
       "      <td>39</td>\n",
       "      <td>Male</td>\n",
       "      <td>United Kingdom</td>\n",
       "      <td>NaN</td>\n",
       "      <td>Yes</td>\n",
       "      <td>Yes</td>\n",
       "      <td>Sometimes</td>\n",
       "      <td>1-5</td>\n",
       "      <td>Yes</td>\n",
       "      <td>Yes</td>\n",
       "      <td>No</td>\n",
       "      <td>Yes</td>\n",
       "      <td>Yes</td>\n",
       "      <td>Yes</td>\n",
       "      <td>Yes</td>\n",
       "      <td>Somewhat difficult</td>\n",
       "      <td>No</td>\n",
       "      <td>No</td>\n",
       "      <td>Yes</td>\n",
       "      <td>Yes</td>\n",
       "      <td>No</td>\n",
       "      <td>Maybe</td>\n",
       "      <td>Yes</td>\n",
       "      <td>Yes</td>\n",
       "      <td>These result may be a tad confusing so a summary follows.* Currently self-employed so employer is me :)* Last place of employment was amazing when I first discovered I was bi-polar and helped me as long as I was there up to and including a mental health course for the whole team (although no mention why to others which was great).* I've never had a negative reaction yet but I know others who have.* I've been very lucky with company I keep which is why my experience is largely good.</td>\n",
       "    </tr>\n",
       "    <tr>\n",
       "      <th>1</th>\n",
       "      <td>2</td>\n",
       "      <td>2014-08-29 11:32:44</td>\n",
       "      <td>26</td>\n",
       "      <td>female</td>\n",
       "      <td>United States</td>\n",
       "      <td>WA</td>\n",
       "      <td>No</td>\n",
       "      <td>Yes</td>\n",
       "      <td>Sometimes</td>\n",
       "      <td>More than 1000</td>\n",
       "      <td>No</td>\n",
       "      <td>Yes</td>\n",
       "      <td>Yes</td>\n",
       "      <td>Yes</td>\n",
       "      <td>No</td>\n",
       "      <td>No</td>\n",
       "      <td>Don't know</td>\n",
       "      <td>Don't know</td>\n",
       "      <td>No</td>\n",
       "      <td>No</td>\n",
       "      <td>Some of them</td>\n",
       "      <td>Yes</td>\n",
       "      <td>No</td>\n",
       "      <td>Maybe</td>\n",
       "      <td>No</td>\n",
       "      <td>Yes</td>\n",
       "      <td>I should note one of the places my employer fails with regards to mental health is that the company-paid health insurance policy does not cover trans healthcare needs.</td>\n",
       "    </tr>\n",
       "    <tr>\n",
       "      <th>2</th>\n",
       "      <td>3</td>\n",
       "      <td>2014-08-29 11:33:54</td>\n",
       "      <td>23</td>\n",
       "      <td>Female</td>\n",
       "      <td>United States</td>\n",
       "      <td>IL</td>\n",
       "      <td>No</td>\n",
       "      <td>Yes</td>\n",
       "      <td>Sometimes</td>\n",
       "      <td>26-100</td>\n",
       "      <td>No</td>\n",
       "      <td>No</td>\n",
       "      <td>No</td>\n",
       "      <td>No</td>\n",
       "      <td>No</td>\n",
       "      <td>No</td>\n",
       "      <td>Don't know</td>\n",
       "      <td>Somewhat difficult</td>\n",
       "      <td>Yes</td>\n",
       "      <td>No</td>\n",
       "      <td>No</td>\n",
       "      <td>Some of them</td>\n",
       "      <td>No</td>\n",
       "      <td>Maybe</td>\n",
       "      <td>No</td>\n",
       "      <td>No</td>\n",
       "      <td>NaN</td>\n",
       "    </tr>\n",
       "    <tr>\n",
       "      <th>3</th>\n",
       "      <td>4</td>\n",
       "      <td>2014-08-29 11:34:07</td>\n",
       "      <td>35</td>\n",
       "      <td>Male</td>\n",
       "      <td>Switzerland</td>\n",
       "      <td>NaN</td>\n",
       "      <td>No</td>\n",
       "      <td>Yes</td>\n",
       "      <td>Often</td>\n",
       "      <td>More than 1000</td>\n",
       "      <td>No</td>\n",
       "      <td>Yes</td>\n",
       "      <td>Don't know</td>\n",
       "      <td>Not sure</td>\n",
       "      <td>No</td>\n",
       "      <td>No</td>\n",
       "      <td>Yes</td>\n",
       "      <td>Very easy</td>\n",
       "      <td>No</td>\n",
       "      <td>No</td>\n",
       "      <td>Some of them</td>\n",
       "      <td>Some of them</td>\n",
       "      <td>No</td>\n",
       "      <td>Maybe</td>\n",
       "      <td>No</td>\n",
       "      <td>No</td>\n",
       "      <td>NaN</td>\n",
       "    </tr>\n",
       "    <tr>\n",
       "      <th>4</th>\n",
       "      <td>5</td>\n",
       "      <td>2014-08-29 11:36:38</td>\n",
       "      <td>36</td>\n",
       "      <td>Male</td>\n",
       "      <td>United States</td>\n",
       "      <td>FL</td>\n",
       "      <td>No</td>\n",
       "      <td>No</td>\n",
       "      <td>Never</td>\n",
       "      <td>1-5</td>\n",
       "      <td>Yes</td>\n",
       "      <td>Yes</td>\n",
       "      <td>Don't know</td>\n",
       "      <td>Not sure</td>\n",
       "      <td>Don't know</td>\n",
       "      <td>Don't know</td>\n",
       "      <td>Don't know</td>\n",
       "      <td>Very easy</td>\n",
       "      <td>No</td>\n",
       "      <td>No</td>\n",
       "      <td>Some of them</td>\n",
       "      <td>Some of them</td>\n",
       "      <td>No</td>\n",
       "      <td>No</td>\n",
       "      <td>Don't know</td>\n",
       "      <td>No</td>\n",
       "      <td>NaN</td>\n",
       "    </tr>\n",
       "  </tbody>\n",
       "</table>\n",
       "</div>"
      ],
      "text/plain": [
       "   S.No            Timestamp  Age  Gender         Country state self_employed  \\\n",
       "0     1  2014-08-29 11:32:22   39    Male  United Kingdom   NaN           Yes   \n",
       "1     2  2014-08-29 11:32:44   26  female   United States    WA            No   \n",
       "2     3  2014-08-29 11:33:54   23  Female   United States    IL            No   \n",
       "3     4  2014-08-29 11:34:07   35    Male     Switzerland   NaN            No   \n",
       "4     5  2014-08-29 11:36:38   36    Male   United States    FL            No   \n",
       "\n",
       "  family_history work_interfere    no_employees remote_work tech_company  \\\n",
       "0            Yes      Sometimes             1-5         Yes          Yes   \n",
       "1            Yes      Sometimes  More than 1000          No          Yes   \n",
       "2            Yes      Sometimes          26-100          No           No   \n",
       "3            Yes          Often  More than 1000          No          Yes   \n",
       "4             No          Never             1-5         Yes          Yes   \n",
       "\n",
       "     benefits care_options wellness_program   seek_help   anonymity  \\\n",
       "0          No          Yes              Yes         Yes         Yes   \n",
       "1         Yes          Yes               No          No  Don't know   \n",
       "2          No           No               No          No  Don't know   \n",
       "3  Don't know     Not sure               No          No         Yes   \n",
       "4  Don't know     Not sure       Don't know  Don't know  Don't know   \n",
       "\n",
       "                leave mental_health_consequence phys_health_consequence  \\\n",
       "0  Somewhat difficult                        No                      No   \n",
       "1          Don't know                        No                      No   \n",
       "2  Somewhat difficult                       Yes                      No   \n",
       "3           Very easy                        No                      No   \n",
       "4           Very easy                        No                      No   \n",
       "\n",
       "      coworkers    supervisor mental_health_interview phys_health_interview  \\\n",
       "0           Yes           Yes                      No                 Maybe   \n",
       "1  Some of them           Yes                      No                 Maybe   \n",
       "2            No  Some of them                      No                 Maybe   \n",
       "3  Some of them  Some of them                      No                 Maybe   \n",
       "4  Some of them  Some of them                      No                    No   \n",
       "\n",
       "  mental_vs_physical obs_consequence  \\\n",
       "0                Yes             Yes   \n",
       "1                 No             Yes   \n",
       "2                 No              No   \n",
       "3                 No              No   \n",
       "4         Don't know              No   \n",
       "\n",
       "                                                                                                                                                                                                                                                                                                                                                                                                                                                                                                 comments  \n",
       "0  These result may be a tad confusing so a summary follows.* Currently self-employed so employer is me :)* Last place of employment was amazing when I first discovered I was bi-polar and helped me as long as I was there up to and including a mental health course for the whole team (although no mention why to others which was great).* I've never had a negative reaction yet but I know others who have.* I've been very lucky with company I keep which is why my experience is largely good.  \n",
       "1                                                                                                                                                                                                                                                                                                                                 I should note one of the places my employer fails with regards to mental health is that the company-paid health insurance policy does not cover trans healthcare needs.  \n",
       "2                                                                                                                                                                                                                                                                                                                                                                                                                                                                                                     NaN  \n",
       "3                                                                                                                                                                                                                                                                                                                                                                                                                                                                                                     NaN  \n",
       "4                                                                                                                                                                                                                                                                                                                                                                                                                                                                                                     NaN  "
      ]
     },
     "execution_count": 7,
     "metadata": {},
     "output_type": "execute_result"
    }
   ],
   "source": [
    "test.head()"
   ]
  },
  {
   "cell_type": "code",
   "execution_count": 8,
   "metadata": {},
   "outputs": [
    {
     "data": {
      "text/plain": [
       "(1048, 28)"
      ]
     },
     "execution_count": 8,
     "metadata": {},
     "output_type": "execute_result"
    }
   ],
   "source": [
    "df.shape"
   ]
  },
  {
   "cell_type": "code",
   "execution_count": 9,
   "metadata": {},
   "outputs": [
    {
     "data": {
      "text/plain": [
       "(210, 27)"
      ]
     },
     "execution_count": 9,
     "metadata": {},
     "output_type": "execute_result"
    }
   ],
   "source": [
    "test.shape"
   ]
  },
  {
   "cell_type": "code",
   "execution_count": 10,
   "metadata": {},
   "outputs": [
    {
     "data": {
      "text/html": [
       "<div>\n",
       "<style scoped>\n",
       "    .dataframe tbody tr th:only-of-type {\n",
       "        vertical-align: middle;\n",
       "    }\n",
       "\n",
       "    .dataframe tbody tr th {\n",
       "        vertical-align: top;\n",
       "    }\n",
       "\n",
       "    .dataframe thead th {\n",
       "        text-align: right;\n",
       "    }\n",
       "</style>\n",
       "<table border=\"1\" class=\"dataframe\">\n",
       "  <thead>\n",
       "    <tr style=\"text-align: right;\">\n",
       "      <th></th>\n",
       "      <th>S.No</th>\n",
       "      <th>Age</th>\n",
       "    </tr>\n",
       "  </thead>\n",
       "  <tbody>\n",
       "    <tr>\n",
       "      <th>count</th>\n",
       "      <td>1048.000000</td>\n",
       "      <td>1.048000e+03</td>\n",
       "    </tr>\n",
       "    <tr>\n",
       "      <th>mean</th>\n",
       "      <td>524.500000</td>\n",
       "      <td>9.541988e+07</td>\n",
       "    </tr>\n",
       "    <tr>\n",
       "      <th>std</th>\n",
       "      <td>302.675844</td>\n",
       "      <td>3.089010e+09</td>\n",
       "    </tr>\n",
       "    <tr>\n",
       "      <th>min</th>\n",
       "      <td>1.000000</td>\n",
       "      <td>-1.726000e+03</td>\n",
       "    </tr>\n",
       "    <tr>\n",
       "      <th>25%</th>\n",
       "      <td>262.750000</td>\n",
       "      <td>2.700000e+01</td>\n",
       "    </tr>\n",
       "    <tr>\n",
       "      <th>50%</th>\n",
       "      <td>524.500000</td>\n",
       "      <td>3.100000e+01</td>\n",
       "    </tr>\n",
       "    <tr>\n",
       "      <th>75%</th>\n",
       "      <td>786.250000</td>\n",
       "      <td>3.600000e+01</td>\n",
       "    </tr>\n",
       "    <tr>\n",
       "      <th>max</th>\n",
       "      <td>1048.000000</td>\n",
       "      <td>1.000000e+11</td>\n",
       "    </tr>\n",
       "  </tbody>\n",
       "</table>\n",
       "</div>"
      ],
      "text/plain": [
       "              S.No           Age\n",
       "count  1048.000000  1.048000e+03\n",
       "mean    524.500000  9.541988e+07\n",
       "std     302.675844  3.089010e+09\n",
       "min       1.000000 -1.726000e+03\n",
       "25%     262.750000  2.700000e+01\n",
       "50%     524.500000  3.100000e+01\n",
       "75%     786.250000  3.600000e+01\n",
       "max    1048.000000  1.000000e+11"
      ]
     },
     "execution_count": 10,
     "metadata": {},
     "output_type": "execute_result"
    }
   ],
   "source": [
    "df.describe()"
   ]
  },
  {
   "cell_type": "code",
   "execution_count": 11,
   "metadata": {},
   "outputs": [
    {
     "data": {
      "text/html": [
       "<div>\n",
       "<style scoped>\n",
       "    .dataframe tbody tr th:only-of-type {\n",
       "        vertical-align: middle;\n",
       "    }\n",
       "\n",
       "    .dataframe tbody tr th {\n",
       "        vertical-align: top;\n",
       "    }\n",
       "\n",
       "    .dataframe thead th {\n",
       "        text-align: right;\n",
       "    }\n",
       "</style>\n",
       "<table border=\"1\" class=\"dataframe\">\n",
       "  <thead>\n",
       "    <tr style=\"text-align: right;\">\n",
       "      <th></th>\n",
       "      <th>Timestamp</th>\n",
       "      <th>Gender</th>\n",
       "      <th>Country</th>\n",
       "      <th>state</th>\n",
       "      <th>self_employed</th>\n",
       "      <th>family_history</th>\n",
       "      <th>treatment</th>\n",
       "      <th>work_interfere</th>\n",
       "      <th>no_employees</th>\n",
       "      <th>remote_work</th>\n",
       "      <th>tech_company</th>\n",
       "      <th>benefits</th>\n",
       "      <th>care_options</th>\n",
       "      <th>wellness_program</th>\n",
       "      <th>seek_help</th>\n",
       "      <th>anonymity</th>\n",
       "      <th>leave</th>\n",
       "      <th>mental_health_consequence</th>\n",
       "      <th>phys_health_consequence</th>\n",
       "      <th>coworkers</th>\n",
       "      <th>supervisor</th>\n",
       "      <th>mental_health_interview</th>\n",
       "      <th>phys_health_interview</th>\n",
       "      <th>mental_vs_physical</th>\n",
       "      <th>obs_consequence</th>\n",
       "      <th>comments</th>\n",
       "    </tr>\n",
       "  </thead>\n",
       "  <tbody>\n",
       "    <tr>\n",
       "      <th>count</th>\n",
       "      <td>1048</td>\n",
       "      <td>1048</td>\n",
       "      <td>1048</td>\n",
       "      <td>636</td>\n",
       "      <td>1030</td>\n",
       "      <td>1048</td>\n",
       "      <td>1048</td>\n",
       "      <td>812</td>\n",
       "      <td>1048</td>\n",
       "      <td>1048</td>\n",
       "      <td>1048</td>\n",
       "      <td>1048</td>\n",
       "      <td>1048</td>\n",
       "      <td>1048</td>\n",
       "      <td>1048</td>\n",
       "      <td>1048</td>\n",
       "      <td>1048</td>\n",
       "      <td>1048</td>\n",
       "      <td>1048</td>\n",
       "      <td>1048</td>\n",
       "      <td>1048</td>\n",
       "      <td>1048</td>\n",
       "      <td>1048</td>\n",
       "      <td>1048</td>\n",
       "      <td>1048</td>\n",
       "      <td>132</td>\n",
       "    </tr>\n",
       "    <tr>\n",
       "      <th>unique</th>\n",
       "      <td>1035</td>\n",
       "      <td>45</td>\n",
       "      <td>42</td>\n",
       "      <td>45</td>\n",
       "      <td>2</td>\n",
       "      <td>2</td>\n",
       "      <td>2</td>\n",
       "      <td>4</td>\n",
       "      <td>6</td>\n",
       "      <td>2</td>\n",
       "      <td>2</td>\n",
       "      <td>3</td>\n",
       "      <td>3</td>\n",
       "      <td>3</td>\n",
       "      <td>3</td>\n",
       "      <td>3</td>\n",
       "      <td>5</td>\n",
       "      <td>3</td>\n",
       "      <td>3</td>\n",
       "      <td>3</td>\n",
       "      <td>3</td>\n",
       "      <td>3</td>\n",
       "      <td>3</td>\n",
       "      <td>3</td>\n",
       "      <td>2</td>\n",
       "      <td>128</td>\n",
       "    </tr>\n",
       "    <tr>\n",
       "      <th>top</th>\n",
       "      <td>2014-08-27 12:43:28</td>\n",
       "      <td>Male</td>\n",
       "      <td>United States</td>\n",
       "      <td>CA</td>\n",
       "      <td>No</td>\n",
       "      <td>No</td>\n",
       "      <td>No</td>\n",
       "      <td>Sometimes</td>\n",
       "      <td>6-25</td>\n",
       "      <td>No</td>\n",
       "      <td>Yes</td>\n",
       "      <td>Yes</td>\n",
       "      <td>No</td>\n",
       "      <td>No</td>\n",
       "      <td>No</td>\n",
       "      <td>Don't know</td>\n",
       "      <td>Don't know</td>\n",
       "      <td>No</td>\n",
       "      <td>No</td>\n",
       "      <td>Some of them</td>\n",
       "      <td>Yes</td>\n",
       "      <td>No</td>\n",
       "      <td>Maybe</td>\n",
       "      <td>Don't know</td>\n",
       "      <td>No</td>\n",
       "      <td>* Small family business - YMMV.</td>\n",
       "    </tr>\n",
       "    <tr>\n",
       "      <th>freq</th>\n",
       "      <td>2</td>\n",
       "      <td>518</td>\n",
       "      <td>644</td>\n",
       "      <td>123</td>\n",
       "      <td>906</td>\n",
       "      <td>643</td>\n",
       "      <td>536</td>\n",
       "      <td>386</td>\n",
       "      <td>245</td>\n",
       "      <td>733</td>\n",
       "      <td>870</td>\n",
       "      <td>400</td>\n",
       "      <td>422</td>\n",
       "      <td>692</td>\n",
       "      <td>534</td>\n",
       "      <td>685</td>\n",
       "      <td>466</td>\n",
       "      <td>424</td>\n",
       "      <td>773</td>\n",
       "      <td>651</td>\n",
       "      <td>439</td>\n",
       "      <td>835</td>\n",
       "      <td>461</td>\n",
       "      <td>471</td>\n",
       "      <td>902</td>\n",
       "      <td>5</td>\n",
       "    </tr>\n",
       "  </tbody>\n",
       "</table>\n",
       "</div>"
      ],
      "text/plain": [
       "                  Timestamp Gender        Country state self_employed  \\\n",
       "count                  1048   1048           1048   636          1030   \n",
       "unique                 1035     45             42    45             2   \n",
       "top     2014-08-27 12:43:28   Male  United States    CA            No   \n",
       "freq                      2    518            644   123           906   \n",
       "\n",
       "       family_history treatment work_interfere no_employees remote_work  \\\n",
       "count            1048      1048            812         1048        1048   \n",
       "unique              2         2              4            6           2   \n",
       "top                No        No      Sometimes         6-25          No   \n",
       "freq              643       536            386          245         733   \n",
       "\n",
       "       tech_company benefits care_options wellness_program seek_help  \\\n",
       "count          1048     1048         1048             1048      1048   \n",
       "unique            2        3            3                3         3   \n",
       "top             Yes      Yes           No               No        No   \n",
       "freq            870      400          422              692       534   \n",
       "\n",
       "         anonymity       leave mental_health_consequence  \\\n",
       "count         1048        1048                      1048   \n",
       "unique           3           5                         3   \n",
       "top     Don't know  Don't know                        No   \n",
       "freq           685         466                       424   \n",
       "\n",
       "       phys_health_consequence     coworkers supervisor  \\\n",
       "count                     1048          1048       1048   \n",
       "unique                       3             3          3   \n",
       "top                         No  Some of them        Yes   \n",
       "freq                       773           651        439   \n",
       "\n",
       "       mental_health_interview phys_health_interview mental_vs_physical  \\\n",
       "count                     1048                  1048               1048   \n",
       "unique                       3                     3                  3   \n",
       "top                         No                 Maybe         Don't know   \n",
       "freq                       835                   461                471   \n",
       "\n",
       "       obs_consequence                         comments  \n",
       "count             1048                              132  \n",
       "unique               2                              128  \n",
       "top                 No  * Small family business - YMMV.  \n",
       "freq               902                                5  "
      ]
     },
     "execution_count": 11,
     "metadata": {},
     "output_type": "execute_result"
    }
   ],
   "source": [
    "df.describe(include=['O'])"
   ]
  },
  {
   "cell_type": "code",
   "execution_count": 12,
   "metadata": {},
   "outputs": [
    {
     "data": {
      "text/plain": [
       "S.No                           0\n",
       "Timestamp                      0\n",
       "Age                            0\n",
       "Gender                         0\n",
       "Country                        0\n",
       "state                        412\n",
       "self_employed                 18\n",
       "family_history                 0\n",
       "treatment                      0\n",
       "work_interfere               236\n",
       "no_employees                   0\n",
       "remote_work                    0\n",
       "tech_company                   0\n",
       "benefits                       0\n",
       "care_options                   0\n",
       "wellness_program               0\n",
       "seek_help                      0\n",
       "anonymity                      0\n",
       "leave                          0\n",
       "mental_health_consequence      0\n",
       "phys_health_consequence        0\n",
       "coworkers                      0\n",
       "supervisor                     0\n",
       "mental_health_interview        0\n",
       "phys_health_interview          0\n",
       "mental_vs_physical             0\n",
       "obs_consequence                0\n",
       "comments                     916\n",
       "dtype: int64"
      ]
     },
     "execution_count": 12,
     "metadata": {},
     "output_type": "execute_result"
    }
   ],
   "source": [
    "df.isnull().sum()"
   ]
  },
  {
   "cell_type": "code",
   "execution_count": 13,
   "metadata": {},
   "outputs": [
    {
     "data": {
      "text/plain": [
       "S.No                           0\n",
       "Timestamp                      0\n",
       "Age                            0\n",
       "Gender                         0\n",
       "Country                        0\n",
       "state                        103\n",
       "self_employed                  0\n",
       "family_history                 0\n",
       "work_interfere                28\n",
       "no_employees                   0\n",
       "remote_work                    0\n",
       "tech_company                   0\n",
       "benefits                       0\n",
       "care_options                   0\n",
       "wellness_program               0\n",
       "seek_help                      0\n",
       "anonymity                      0\n",
       "leave                          0\n",
       "mental_health_consequence      0\n",
       "phys_health_consequence        0\n",
       "coworkers                      0\n",
       "supervisor                     0\n",
       "mental_health_interview        0\n",
       "phys_health_interview          0\n",
       "mental_vs_physical             0\n",
       "obs_consequence                0\n",
       "comments                     178\n",
       "dtype: int64"
      ]
     },
     "execution_count": 13,
     "metadata": {},
     "output_type": "execute_result"
    }
   ],
   "source": [
    "test.isnull().sum()"
   ]
  },
  {
   "cell_type": "markdown",
   "metadata": {},
   "source": [
    "# Exploratory Data Analysis"
   ]
  },
  {
   "cell_type": "code",
   "execution_count": 14,
   "metadata": {},
   "outputs": [],
   "source": [
    "action = {}\n",
    "p_value = {}"
   ]
  },
  {
   "cell_type": "code",
   "execution_count": 15,
   "metadata": {},
   "outputs": [],
   "source": [
    "def t_test(num, cat, data):\n",
    "    from scipy.stats import ttest_ind\n",
    "    \n",
    "    Ho = f'There is no significant impact of {num} on {cat} (No predictability)'\n",
    "    Ha = f'There is a significant impact of {num} on {cat} (Good predictor)'\n",
    "    print('Ho: ', Ho)\n",
    "    print('Ha: ', Ha)\n",
    "    print('\\n')\n",
    "    \n",
    "    alpha = 0.05\n",
    "    \n",
    "    un1 = data[cat].unique()[0]\n",
    "    un2 = data[cat].unique()[1]\n",
    "    \n",
    "    ind1 = data[data[cat]==un1]\n",
    "    ind2 = data[data[cat]==un2]\n",
    "    \n",
    "    stat, p = ttest_ind(ind1[num], ind2[num])\n",
    "    print('Test Statistics: ', stat)\n",
    "    print('p-value: ', p)\n",
    "    print('\\n')\n",
    "    \n",
    "    if p>alpha:\n",
    "        print('Fail to reject Ho, ', Ho)\n",
    "    else:\n",
    "        print('Reject Ho, ', Ha)\n",
    "        \n",
    "    return p\n",
    "    "
   ]
  },
  {
   "cell_type": "code",
   "execution_count": 16,
   "metadata": {},
   "outputs": [],
   "source": [
    "def chi2(x, y, data):\n",
    "    from scipy.stats import chi2_contingency\n",
    "    \n",
    "    Ho = f'There is no significant assosiation between {x} and {y} (No predictability)'\n",
    "    Ha = f'There is a significant assosiation between {x} and {y} (Good predictor)'\n",
    "    print('Ho: ', Ho)\n",
    "    print('Ha: ', Ha)\n",
    "    print('\\n')\n",
    "    \n",
    "    alpha = 0.05\n",
    "    \n",
    "    ct = pd.crosstab(data[x], data[y])\n",
    "    chi2, p, dof, ex = chi2_contingency(ct)\n",
    "    print('chi-square stats: ', chi2)\n",
    "    print('p-value: ', p)\n",
    "    print('\\n')\n",
    "\n",
    "    if p>alpha:\n",
    "        print('Fail to reject null hypothesis, ', Ho)\n",
    "    else:\n",
    "        print('Reject null hypothesis, ', Ha)\n",
    "        \n",
    "    return p"
   ]
  },
  {
   "cell_type": "code",
   "execution_count": 17,
   "metadata": {},
   "outputs": [],
   "source": [
    "def find_proportion(col, df):\n",
    "    for ind, i in enumerate(df[col].value_counts().index):\n",
    "        print(f'Proportion of {i}: {round(df[col].value_counts()[ind]/len(df[col]) * 100)}%')"
   ]
  },
  {
   "cell_type": "markdown",
   "metadata": {},
   "source": [
    "#### treatment"
   ]
  },
  {
   "cell_type": "code",
   "execution_count": 18,
   "metadata": {},
   "outputs": [
    {
     "data": {
      "text/plain": [
       "Description    Does he or she really needs treatment.\n",
       "Name: treatment, dtype: object"
      ]
     },
     "execution_count": 18,
     "metadata": {},
     "output_type": "execute_result"
    }
   ],
   "source": [
    "desc['treatment']"
   ]
  },
  {
   "cell_type": "code",
   "execution_count": 19,
   "metadata": {},
   "outputs": [
    {
     "data": {
      "text/plain": [
       "count     1048\n",
       "unique       2\n",
       "top         No\n",
       "freq       536\n",
       "Name: treatment, dtype: object"
      ]
     },
     "execution_count": 19,
     "metadata": {},
     "output_type": "execute_result"
    }
   ],
   "source": [
    "df.treatment.describe()"
   ]
  },
  {
   "cell_type": "code",
   "execution_count": 20,
   "metadata": {},
   "outputs": [
    {
     "data": {
      "text/plain": [
       "No     536\n",
       "Yes    512\n",
       "Name: treatment, dtype: int64"
      ]
     },
     "execution_count": 20,
     "metadata": {},
     "output_type": "execute_result"
    }
   ],
   "source": [
    "df.treatment.value_counts()"
   ]
  },
  {
   "cell_type": "code",
   "execution_count": 21,
   "metadata": {},
   "outputs": [
    {
     "data": {
      "text/plain": [
       "<AxesSubplot:xlabel='treatment', ylabel='count'>"
      ]
     },
     "execution_count": 21,
     "metadata": {},
     "output_type": "execute_result"
    },
    {
     "data": {
      "image/png": "[encoded data removed]",
      "text/plain": [
       "<Figure size 432x288 with 1 Axes>"
      ]
     },
     "metadata": {
      "needs_background": "light"
     },
     "output_type": "display_data"
    }
   ],
   "source": [
    "sns.countplot(df.treatment)"
   ]
  },
  {
   "cell_type": "code",
   "execution_count": 22,
   "metadata": {},
   "outputs": [
    {
     "data": {
      "text/plain": [
       "array(['Yes', 'No'], dtype=object)"
      ]
     },
     "execution_count": 22,
     "metadata": {},
     "output_type": "execute_result"
    }
   ],
   "source": [
    "df.treatment.unique()"
   ]
  },
  {
   "cell_type": "code",
   "execution_count": 23,
   "metadata": {},
   "outputs": [],
   "source": [
    "df = df.replace({'treatment': {\n",
    "    32 : 'No'\n",
    "}})"
   ]
  },
  {
   "cell_type": "code",
   "execution_count": 24,
   "metadata": {},
   "outputs": [
    {
     "data": {
      "text/plain": [
       "No     536\n",
       "Yes    512\n",
       "Name: treatment, dtype: int64"
      ]
     },
     "execution_count": 24,
     "metadata": {},
     "output_type": "execute_result"
    }
   ],
   "source": [
    "df.treatment.value_counts()"
   ]
  },
  {
   "cell_type": "code",
   "execution_count": 25,
   "metadata": {},
   "outputs": [
    {
     "name": "stdout",
     "output_type": "stream",
     "text": [
      "Proportion of No: 51%\n",
      "Proportion of Yes: 49%\n"
     ]
    }
   ],
   "source": [
    "find_proportion('treatment', df)"
   ]
  },
  {
   "cell_type": "markdown",
   "metadata": {},
   "source": [
    "#### S.No"
   ]
  },
  {
   "cell_type": "code",
   "execution_count": 26,
   "metadata": {},
   "outputs": [],
   "source": [
    "# A unique identification number. It is not required for model building\n",
    "action['drop'] = ['S.No']"
   ]
  },
  {
   "cell_type": "markdown",
   "metadata": {},
   "source": [
    "#### Timestamp"
   ]
  },
  {
   "cell_type": "code",
   "execution_count": 27,
   "metadata": {},
   "outputs": [
    {
     "data": {
      "text/plain": [
       "Description    Timestamp\n",
       "Name: Timestamp, dtype: object"
      ]
     },
     "execution_count": 27,
     "metadata": {},
     "output_type": "execute_result"
    }
   ],
   "source": [
    "desc['Timestamp']"
   ]
  },
  {
   "cell_type": "code",
   "execution_count": 28,
   "metadata": {},
   "outputs": [
    {
     "data": {
      "text/plain": [
       "0     2014-08-27 11:29:31\n",
       "1     2014-08-27 11:29:37\n",
       "2     2014-08-27 11:29:44\n",
       "3     2014-08-27 11:29:46\n",
       "4     2014-08-27 11:30:22\n",
       "5     2014-08-27 11:31:22\n",
       "6     2014-08-27 11:31:50\n",
       "7     2014-08-27 11:32:05\n",
       "8     2014-08-27 11:32:39\n",
       "9     2014-08-27 11:32:43\n",
       "10    2014-08-27 11:32:44\n",
       "11    2014-08-27 11:32:49\n",
       "12    2014-08-27 11:33:23\n",
       "13    2014-08-27 11:33:26\n",
       "14    2014-08-27 11:33:57\n",
       "15    2014-08-27 11:34:00\n",
       "16    2014-08-27 11:34:20\n",
       "17    2014-08-27 11:34:37\n",
       "18    2014-08-27 11:34:53\n",
       "19    2014-08-27 11:35:08\n",
       "20    2014-08-27 11:35:12\n",
       "21    2014-08-27 11:35:24\n",
       "22    2014-08-27 11:35:48\n",
       "23    2014-08-27 11:36:24\n",
       "24    2014-08-27 11:36:48\n",
       "25    2014-08-27 11:37:08\n",
       "26    2014-08-27 11:37:23\n",
       "27    2014-08-27 11:37:59\n",
       "28    2014-08-27 11:38:12\n",
       "29    2014-08-27 11:38:18\n",
       "Name: Timestamp, dtype: object"
      ]
     },
     "execution_count": 28,
     "metadata": {},
     "output_type": "execute_result"
    }
   ],
   "source": [
    "df.Timestamp.head(30)"
   ]
  },
  {
   "cell_type": "code",
   "execution_count": 304,
   "metadata": {},
   "outputs": [],
   "source": [
    "# It is the timestamp at which the survey was conducted.\n",
    "\n",
    "action['drop'].append('Timestamp')"
   ]
  },
  {
   "cell_type": "markdown",
   "metadata": {},
   "source": [
    "#### Age"
   ]
  },
  {
   "cell_type": "code",
   "execution_count": 30,
   "metadata": {},
   "outputs": [
    {
     "data": {
      "text/plain": [
       "0    37\n",
       "1    44\n",
       "2    32\n",
       "3    31\n",
       "4    31\n",
       "Name: Age, dtype: int64"
      ]
     },
     "execution_count": 30,
     "metadata": {},
     "output_type": "execute_result"
    }
   ],
   "source": [
    "df.Age.head()"
   ]
  },
  {
   "cell_type": "code",
   "execution_count": 31,
   "metadata": {},
   "outputs": [
    {
     "data": {
      "text/plain": [
       "count    1.048000e+03\n",
       "mean     9.541988e+07\n",
       "std      3.089010e+09\n",
       "min     -1.726000e+03\n",
       "25%      2.700000e+01\n",
       "50%      3.100000e+01\n",
       "75%      3.600000e+01\n",
       "max      1.000000e+11\n",
       "Name: Age, dtype: float64"
      ]
     },
     "execution_count": 31,
     "metadata": {},
     "output_type": "execute_result"
    }
   ],
   "source": [
    "df.Age.describe()"
   ]
  },
  {
   "cell_type": "code",
   "execution_count": 32,
   "metadata": {},
   "outputs": [
    {
     "data": {
      "text/plain": [
       "99999999999"
      ]
     },
     "execution_count": 32,
     "metadata": {},
     "output_type": "execute_result"
    }
   ],
   "source": [
    "df.Age.max()"
   ]
  },
  {
   "cell_type": "code",
   "execution_count": 33,
   "metadata": {},
   "outputs": [
    {
     "data": {
      "text/plain": [
       "-1726"
      ]
     },
     "execution_count": 33,
     "metadata": {},
     "output_type": "execute_result"
    }
   ],
   "source": [
    "df.Age.min()"
   ]
  },
  {
   "cell_type": "code",
   "execution_count": 34,
   "metadata": {},
   "outputs": [],
   "source": [
    "# There are some irregularity in the age column"
   ]
  },
  {
   "cell_type": "code",
   "execution_count": 35,
   "metadata": {},
   "outputs": [
    {
     "data": {
      "text/plain": [
       "<AxesSubplot:xlabel='Age'>"
      ]
     },
     "execution_count": 35,
     "metadata": {},
     "output_type": "execute_result"
    },
    {
     "data": {
      "image/png": "[encoded data removed]",
      "text/plain": [
       "<Figure size 432x288 with 1 Axes>"
      ]
     },
     "metadata": {
      "needs_background": "light"
     },
     "output_type": "display_data"
    }
   ],
   "source": [
    "sns.distplot(df.Age)"
   ]
  },
  {
   "cell_type": "code",
   "execution_count": 36,
   "metadata": {},
   "outputs": [
    {
     "data": {
      "text/plain": [
       " 29             73\n",
       " 32             64\n",
       " 26             63\n",
       " 33             63\n",
       " 27             61\n",
       " 31             57\n",
       " 30             56\n",
       " 28             56\n",
       " 34             52\n",
       " 35             49\n",
       " 25             48\n",
       " 23             41\n",
       " 24             38\n",
       " 37             36\n",
       " 36             31\n",
       " 38             30\n",
       " 39             26\n",
       " 40             26\n",
       " 43             23\n",
       " 22             20\n",
       " 42             17\n",
       " 41             15\n",
       " 21             15\n",
       " 45              9\n",
       " 19              9\n",
       " 44              8\n",
       " 46              7\n",
       " 18              7\n",
       " 50              5\n",
       " 48              5\n",
       " 49              4\n",
       " 20              4\n",
       " 51              4\n",
       " 56              3\n",
       " 57              3\n",
       " 54              3\n",
       " 55              3\n",
       " 47              2\n",
       "-29              1\n",
       " 62              1\n",
       " 329             1\n",
       "-1726            1\n",
       " 65              1\n",
       " 5               1\n",
       " 61              1\n",
       " 60              1\n",
       " 58              1\n",
       " 53              1\n",
       " 8               1\n",
       " 99999999999     1\n",
       "Name: Age, dtype: int64"
      ]
     },
     "execution_count": 36,
     "metadata": {},
     "output_type": "execute_result"
    }
   ],
   "source": [
    "df.Age.value_counts()"
   ]
  },
  {
   "cell_type": "code",
   "execution_count": 37,
   "metadata": {},
   "outputs": [],
   "source": [
    "# The values -29, -1726, 5, 8, 329 and 999999999999 does not belong in this group"
   ]
  },
  {
   "cell_type": "code",
   "execution_count": 38,
   "metadata": {},
   "outputs": [],
   "source": [
    "mean_age = round(df[(df.Age<65) & (df.Age>8)].Age.mean())"
   ]
  },
  {
   "cell_type": "code",
   "execution_count": 39,
   "metadata": {},
   "outputs": [],
   "source": [
    "df[df.Age>65] = mean_age\n",
    "df[df.Age<8] = mean_age"
   ]
  },
  {
   "cell_type": "code",
   "execution_count": 40,
   "metadata": {},
   "outputs": [
    {
     "data": {
      "text/plain": [
       "29    73\n",
       "32    69\n",
       "33    63\n",
       "26    63\n",
       "27    61\n",
       "31    57\n",
       "30    56\n",
       "28    56\n",
       "34    52\n",
       "35    49\n",
       "25    48\n",
       "23    41\n",
       "24    38\n",
       "37    36\n",
       "36    31\n",
       "38    30\n",
       "40    26\n",
       "39    26\n",
       "43    23\n",
       "22    20\n",
       "42    17\n",
       "21    15\n",
       "41    15\n",
       "45     9\n",
       "19     9\n",
       "44     8\n",
       "46     7\n",
       "18     7\n",
       "48     5\n",
       "50     5\n",
       "20     4\n",
       "49     4\n",
       "51     4\n",
       "54     3\n",
       "55     3\n",
       "56     3\n",
       "57     3\n",
       "47     2\n",
       "60     1\n",
       "62     1\n",
       "61     1\n",
       "8      1\n",
       "58     1\n",
       "53     1\n",
       "65     1\n",
       "Name: Age, dtype: int64"
      ]
     },
     "execution_count": 40,
     "metadata": {},
     "output_type": "execute_result"
    }
   ],
   "source": [
    "df.Age.value_counts()"
   ]
  },
  {
   "cell_type": "code",
   "execution_count": 41,
   "metadata": {},
   "outputs": [
    {
     "data": {
      "text/plain": [
       "<AxesSubplot:xlabel='Age'>"
      ]
     },
     "execution_count": 41,
     "metadata": {},
     "output_type": "execute_result"
    },
    {
     "data": {
      "image/png": "[encoded data removed]",
      "text/plain": [
       "<Figure size 432x288 with 1 Axes>"
      ]
     },
     "metadata": {
      "needs_background": "light"
     },
     "output_type": "display_data"
    }
   ],
   "source": [
    "from scipy.stats import norm\n",
    "sns.distplot(df.Age, fit=norm)"
   ]
  },
  {
   "cell_type": "code",
   "execution_count": 42,
   "metadata": {},
   "outputs": [],
   "source": [
    "# The distribution is almost normal"
   ]
  },
  {
   "cell_type": "code",
   "execution_count": 43,
   "metadata": {},
   "outputs": [
    {
     "data": {
      "text/plain": [
       " 32    18\n",
       " 25    13\n",
       " 34    13\n",
       " 28    12\n",
       " 29    12\n",
       " 26    12\n",
       " 23    10\n",
       " 27    10\n",
       " 31    10\n",
       " 38     9\n",
       " 24     8\n",
       " 39     7\n",
       " 40     7\n",
       " 30     7\n",
       " 37     7\n",
       " 33     7\n",
       " 36     6\n",
       " 35     6\n",
       " 41     5\n",
       " 43     5\n",
       " 46     5\n",
       " 42     3\n",
       " 44     3\n",
       " 45     3\n",
       " 20     2\n",
       " 51     1\n",
       " 50     1\n",
       " 56     1\n",
       " 60     1\n",
       "-1      1\n",
       " 48     1\n",
       " 11     1\n",
       " 22     1\n",
       " 21     1\n",
       " 72     1\n",
       "Name: Age, dtype: int64"
      ]
     },
     "execution_count": 43,
     "metadata": {},
     "output_type": "execute_result"
    }
   ],
   "source": [
    "test.Age.value_counts()"
   ]
  },
  {
   "cell_type": "code",
   "execution_count": 44,
   "metadata": {},
   "outputs": [],
   "source": [
    "test = test.replace({'Age': {\n",
    "    -1 : round(test.Age.mean())\n",
    "}})"
   ]
  },
  {
   "cell_type": "code",
   "execution_count": 45,
   "metadata": {},
   "outputs": [
    {
     "data": {
      "text/plain": [
       "32    18\n",
       "25    13\n",
       "34    13\n",
       "26    12\n",
       "28    12\n",
       "29    12\n",
       "23    10\n",
       "27    10\n",
       "31    10\n",
       "38     9\n",
       "33     8\n",
       "24     8\n",
       "37     7\n",
       "40     7\n",
       "39     7\n",
       "30     7\n",
       "36     6\n",
       "35     6\n",
       "41     5\n",
       "43     5\n",
       "46     5\n",
       "42     3\n",
       "44     3\n",
       "45     3\n",
       "20     2\n",
       "50     1\n",
       "56     1\n",
       "60     1\n",
       "51     1\n",
       "11     1\n",
       "48     1\n",
       "22     1\n",
       "21     1\n",
       "72     1\n",
       "Name: Age, dtype: int64"
      ]
     },
     "execution_count": 45,
     "metadata": {},
     "output_type": "execute_result"
    }
   ],
   "source": [
    "test.Age.value_counts()"
   ]
  },
  {
   "cell_type": "code",
   "execution_count": 46,
   "metadata": {},
   "outputs": [
    {
     "data": {
      "text/plain": [
       "Index(['S.No', 'Timestamp', 'Age', 'Gender', 'Country', 'state',\n",
       "       'self_employed', 'family_history', 'treatment', 'work_interfere',\n",
       "       'no_employees', 'remote_work', 'tech_company', 'benefits',\n",
       "       'care_options', 'wellness_program', 'seek_help', 'anonymity', 'leave',\n",
       "       'mental_health_consequence', 'phys_health_consequence', 'coworkers',\n",
       "       'supervisor', 'mental_health_interview', 'phys_health_interview',\n",
       "       'mental_vs_physical', 'obs_consequence', 'comments'],\n",
       "      dtype='object')"
      ]
     },
     "execution_count": 46,
     "metadata": {},
     "output_type": "execute_result"
    }
   ],
   "source": [
    "df.columns"
   ]
  },
  {
   "cell_type": "code",
   "execution_count": 47,
   "metadata": {},
   "outputs": [
    {
     "data": {
      "text/plain": [
       "treatment\n",
       "32     32.000000\n",
       "No     31.271536\n",
       "Yes    32.555992\n",
       "Name: Age, dtype: float64"
      ]
     },
     "execution_count": 47,
     "metadata": {},
     "output_type": "execute_result"
    }
   ],
   "source": [
    "### What is the mean age groups of people who really need treatment and those who don't? ###\n",
    "\n",
    "df.groupby('treatment').mean()['Age']"
   ]
  },
  {
   "cell_type": "code",
   "execution_count": 48,
   "metadata": {},
   "outputs": [
    {
     "data": {
      "text/plain": [
       "<AxesSubplot:xlabel='treatment', ylabel='Age'>"
      ]
     },
     "execution_count": 48,
     "metadata": {},
     "output_type": "execute_result"
    },
    {
     "data": {
      "image/png": "[encoded data removed]",
      "text/plain": [
       "<Figure size 432x288 with 1 Axes>"
      ]
     },
     "metadata": {
      "needs_background": "light"
     },
     "output_type": "display_data"
    }
   ],
   "source": [
    "sns.barplot(x='treatment', y='Age', data=df)"
   ]
  },
  {
   "cell_type": "code",
   "execution_count": 49,
   "metadata": {},
   "outputs": [],
   "source": [
    "# The mean age is almost similar for those who need treatment and those who don't"
   ]
  },
  {
   "cell_type": "code",
   "execution_count": 50,
   "metadata": {},
   "outputs": [
    {
     "name": "stdout",
     "output_type": "stream",
     "text": [
      "Ho:  There is no significant impact of Age on treatment (No predictability)\n",
      "Ha:  There is a significant impact of Age on treatment (Good predictor)\n",
      "\n",
      "\n",
      "Test Statistics:  2.8698501571404846\n",
      "p-value:  0.004189746365937874\n",
      "\n",
      "\n",
      "Reject Ho,  There is a significant impact of Age on treatment (Good predictor)\n"
     ]
    }
   ],
   "source": [
    "p_value['Age'] = t_test('Age', 'treatment', df)"
   ]
  },
  {
   "cell_type": "code",
   "execution_count": 51,
   "metadata": {},
   "outputs": [],
   "source": [
    "# Age has an impact, but the p-value suggests that, the impact is minimal."
   ]
  },
  {
   "cell_type": "markdown",
   "metadata": {},
   "source": [
    "#### Gender"
   ]
  },
  {
   "cell_type": "code",
   "execution_count": 52,
   "metadata": {},
   "outputs": [
    {
     "data": {
      "text/plain": [
       "Description    Gender\n",
       "Name: Gender, dtype: object"
      ]
     },
     "execution_count": 52,
     "metadata": {},
     "output_type": "execute_result"
    }
   ],
   "source": [
    "desc['Gender']"
   ]
  },
  {
   "cell_type": "code",
   "execution_count": 53,
   "metadata": {},
   "outputs": [
    {
     "data": {
      "text/plain": [
       "count     1048\n",
       "unique      45\n",
       "top       Male\n",
       "freq       515\n",
       "Name: Gender, dtype: object"
      ]
     },
     "execution_count": 53,
     "metadata": {},
     "output_type": "execute_result"
    }
   ],
   "source": [
    "df.Gender.describe()"
   ]
  },
  {
   "cell_type": "code",
   "execution_count": 54,
   "metadata": {},
   "outputs": [
    {
     "data": {
      "text/plain": [
       "Male                        515\n",
       "male                        161\n",
       "M                           100\n",
       "Female                       99\n",
       "female                       48\n",
       "F                            33\n",
       "m                            30\n",
       "f                            13\n",
       "32                            5\n",
       "Make                          4\n",
       "Female                        2\n",
       "Woman                         2\n",
       "Female (trans)                2\n",
       "Man                           2\n",
       "Cis Male                      2\n",
       "something kinda male?         1\n",
       "Female (cis)                  1\n",
       "Cis Female                    1\n",
       "Malr                          1\n",
       "non-binary                    1\n",
       "Male                          1\n",
       "fluid                         1\n",
       "queer                         1\n",
       "Mal                           1\n",
       "Mail                          1\n",
       "Agender                       1\n",
       "A little about you            1\n",
       "Trans-female                  1\n",
       "Nah                           1\n",
       "Androgyne                     1\n",
       "cis-female/femme              1\n",
       "Guy (-ish) ^_^                1\n",
       "Enby                          1\n",
       "queer/she/they                1\n",
       "Trans woman                   1\n",
       "Male-ish                      1\n",
       "Neuter                        1\n",
       "Genderqueer                   1\n",
       "male leaning androgynous      1\n",
       "cis male                      1\n",
       "Male (CIS)                    1\n",
       "msle                          1\n",
       "Femake                        1\n",
       "maile                         1\n",
       "woman                         1\n",
       "Name: Gender, dtype: int64"
      ]
     },
     "execution_count": 54,
     "metadata": {},
     "output_type": "execute_result"
    }
   ],
   "source": [
    "df.Gender.value_counts()"
   ]
  },
  {
   "cell_type": "code",
   "execution_count": 55,
   "metadata": {},
   "outputs": [
    {
     "data": {
      "text/plain": [
       "array(['Female', 'M', 'Male', 'male', 'female', 'm', 'Male-ish', 'maile',\n",
       "       'Trans-female', 'Cis Female', 'F', 'something kinda male?',\n",
       "       'Cis Male', 32, 'Woman', 'f', 'Mal', 'Male (CIS)',\n",
       "       'queer/she/they', 'non-binary', 'Femake', 'woman', 'Make', 'Nah',\n",
       "       'Enby', 'fluid', 'Genderqueer', 'Female ', 'Androgyne', 'Agender',\n",
       "       'cis-female/femme', 'Guy (-ish) ^_^', 'male leaning androgynous',\n",
       "       'Male ', 'Man', 'Trans woman', 'msle', 'Neuter', 'Female (trans)',\n",
       "       'queer', 'Female (cis)', 'Mail', 'cis male', 'A little about you',\n",
       "       'Malr'], dtype=object)"
      ]
     },
     "execution_count": 55,
     "metadata": {},
     "output_type": "execute_result"
    }
   ],
   "source": [
    "df.Gender.unique()"
   ]
  },
  {
   "cell_type": "code",
   "execution_count": 56,
   "metadata": {},
   "outputs": [],
   "source": [
    "df = df.replace({'Gender': {\n",
    "    'Female': 'Female', 'M': 'Male', 'Male': 'Male' , 'male': 'Male', 'female': 'Female', 'm': 'Male', \n",
    "    'Male-ish': 'Male', 'maile': 'Male',\n",
    "       'Trans-female': 'Female', 'Cis Female': 'Female', 'F': 'Female', 'something kinda male?': 'Male',\n",
    "       'Cis Male': 'Male', 32: 'Other', 'Woman': 'Female', 'f': 'Female', 'Mal': 'Male', 'Male (CIS)': 'Male',\n",
    "       'queer/she/they': 'Female', 'non-binary': 'Other', 'Femake': 'Female', 'woman': 'Female', 'Make': 'Male', 'Nah': 'Other',\n",
    "       'Enby': 'Other', 'fluid': 'Other', 'Genderqueer': 'Other', 'Female ': 'Female', 'Androgyne': 'Other', 'Agender': 'Other',\n",
    "       'cis-female/femme': 'Female', 'Guy (-ish) ^_^': 'Male', 'male leaning androgynous': 'Male',\n",
    "       'Male ': 'Male', 'Man': 'Male', 'Trans woman': 'Female', 'msle': 'Male', 'Neuter': 'Other', 'Female (trans)': 'Female',\n",
    "       'queer': 'Other', 'Female (cis)': 'Female', 'Mail': 'Male', 'cis male': 'Male', 'A little about you': 'Other',\n",
    "       'Malr': 'Male'\n",
    "}})"
   ]
  },
  {
   "cell_type": "code",
   "execution_count": 57,
   "metadata": {},
   "outputs": [
    {
     "data": {
      "text/plain": [
       "Male      826\n",
       "Female    207\n",
       "Other      15\n",
       "Name: Gender, dtype: int64"
      ]
     },
     "execution_count": 57,
     "metadata": {},
     "output_type": "execute_result"
    }
   ],
   "source": [
    "df.Gender.value_counts()"
   ]
  },
  {
   "cell_type": "code",
   "execution_count": 58,
   "metadata": {},
   "outputs": [
    {
     "data": {
      "text/plain": [
       "Male                                              96\n",
       "male                                              44\n",
       "Female                                            22\n",
       "M                                                 16\n",
       "female                                            14\n",
       "F                                                  5\n",
       "m                                                  4\n",
       "f                                                  2\n",
       "Male                                               2\n",
       "Woman                                              1\n",
       "Cis Man                                            1\n",
       "ostensibly male, unsure what that really means     1\n",
       "femail                                             1\n",
       "p                                                  1\n",
       "Name: Gender, dtype: int64"
      ]
     },
     "execution_count": 58,
     "metadata": {},
     "output_type": "execute_result"
    }
   ],
   "source": [
    "test.Gender.value_counts()"
   ]
  },
  {
   "cell_type": "code",
   "execution_count": 59,
   "metadata": {},
   "outputs": [
    {
     "data": {
      "text/plain": [
       "array(['Male', 'female', 'Female', 'M', 'male', 'Male ', 'm', 'p', 'F',\n",
       "       'Woman', 'femail', 'Cis Man',\n",
       "       'ostensibly male, unsure what that really means', 'f'],\n",
       "      dtype=object)"
      ]
     },
     "execution_count": 59,
     "metadata": {},
     "output_type": "execute_result"
    }
   ],
   "source": [
    "test.Gender.unique()"
   ]
  },
  {
   "cell_type": "code",
   "execution_count": 60,
   "metadata": {},
   "outputs": [],
   "source": [
    "test = test.replace({'Gender': {\n",
    "    'Male': 'Male', 'female': 'Female', 'Female': 'Female', 'M': 'Male', 'male': 'Male', 'Male ': 'Male',\n",
    "    'm': 'Male', 'p': 'Other', 'F': 'Female',\n",
    "       'Woman': 'Female', 'femail': 'Female', 'Cis Man': 'Male',\n",
    "       'ostensibly male, unsure what that really means': 'Male', 'f': 'Female'\n",
    "}})"
   ]
  },
  {
   "cell_type": "code",
   "execution_count": 61,
   "metadata": {},
   "outputs": [
    {
     "data": {
      "text/plain": [
       "Male      164\n",
       "Female     45\n",
       "Other       1\n",
       "Name: Gender, dtype: int64"
      ]
     },
     "execution_count": 61,
     "metadata": {},
     "output_type": "execute_result"
    }
   ],
   "source": [
    "test.Gender.value_counts()"
   ]
  },
  {
   "cell_type": "code",
   "execution_count": 62,
   "metadata": {},
   "outputs": [
    {
     "data": {
      "text/plain": [
       "<AxesSubplot:xlabel='Gender', ylabel='count'>"
      ]
     },
     "execution_count": 62,
     "metadata": {},
     "output_type": "execute_result"
    },
    {
     "data": {
      "image/png": "[encoded data removed]",
      "text/plain": [
       "<Figure size 432x288 with 1 Axes>"
      ]
     },
     "metadata": {
      "needs_background": "light"
     },
     "output_type": "display_data"
    }
   ],
   "source": [
    "sns.countplot(df.Gender)"
   ]
  },
  {
   "cell_type": "code",
   "execution_count": 63,
   "metadata": {},
   "outputs": [
    {
     "data": {
      "text/plain": [
       "Index(['S.No', 'Timestamp', 'Age', 'Gender', 'Country', 'state',\n",
       "       'self_employed', 'family_history', 'treatment', 'work_interfere',\n",
       "       'no_employees', 'remote_work', 'tech_company', 'benefits',\n",
       "       'care_options', 'wellness_program', 'seek_help', 'anonymity', 'leave',\n",
       "       'mental_health_consequence', 'phys_health_consequence', 'coworkers',\n",
       "       'supervisor', 'mental_health_interview', 'phys_health_interview',\n",
       "       'mental_vs_physical', 'obs_consequence', 'comments'],\n",
       "      dtype='object')"
      ]
     },
     "execution_count": 63,
     "metadata": {},
     "output_type": "execute_result"
    }
   ],
   "source": [
    "df.columns"
   ]
  },
  {
   "cell_type": "code",
   "execution_count": 64,
   "metadata": {},
   "outputs": [],
   "source": [
    "# Lets see the relation between treatment and gender"
   ]
  },
  {
   "cell_type": "code",
   "execution_count": 65,
   "metadata": {},
   "outputs": [
    {
     "name": "stdout",
     "output_type": "stream",
     "text": [
      "Ho:  There is no significant assosiation between Gender and treatment (No predictability)\n",
      "Ha:  There is a significant assosiation between Gender and treatment (Good predictor)\n",
      "\n",
      "\n",
      "chi-square stats:  391.0574987524923\n",
      "p-value:  2.3788616385396698e-83\n",
      "\n",
      "\n",
      "Reject null hypothesis,  There is a significant assosiation between Gender and treatment (Good predictor)\n"
     ]
    }
   ],
   "source": [
    "p_value['Gender'] = chi2('Gender', 'treatment', df)"
   ]
  },
  {
   "cell_type": "code",
   "execution_count": 66,
   "metadata": {},
   "outputs": [
    {
     "data": {
      "text/html": [
       "<div>\n",
       "<style scoped>\n",
       "    .dataframe tbody tr th:only-of-type {\n",
       "        vertical-align: middle;\n",
       "    }\n",
       "\n",
       "    .dataframe tbody tr th {\n",
       "        vertical-align: top;\n",
       "    }\n",
       "\n",
       "    .dataframe thead th {\n",
       "        text-align: right;\n",
       "    }\n",
       "</style>\n",
       "<table border=\"1\" class=\"dataframe\">\n",
       "  <thead>\n",
       "    <tr style=\"text-align: right;\">\n",
       "      <th>treatment</th>\n",
       "      <th>32</th>\n",
       "      <th>No</th>\n",
       "      <th>Yes</th>\n",
       "    </tr>\n",
       "    <tr>\n",
       "      <th>Gender</th>\n",
       "      <th></th>\n",
       "      <th></th>\n",
       "      <th></th>\n",
       "    </tr>\n",
       "  </thead>\n",
       "  <tbody>\n",
       "    <tr>\n",
       "      <th>Female</th>\n",
       "      <td>0</td>\n",
       "      <td>66</td>\n",
       "      <td>141</td>\n",
       "    </tr>\n",
       "    <tr>\n",
       "      <th>Male</th>\n",
       "      <td>0</td>\n",
       "      <td>467</td>\n",
       "      <td>359</td>\n",
       "    </tr>\n",
       "    <tr>\n",
       "      <th>Other</th>\n",
       "      <td>5</td>\n",
       "      <td>1</td>\n",
       "      <td>9</td>\n",
       "    </tr>\n",
       "  </tbody>\n",
       "</table>\n",
       "</div>"
      ],
      "text/plain": [
       "treatment  32   No  Yes\n",
       "Gender                 \n",
       "Female      0   66  141\n",
       "Male        0  467  359\n",
       "Other       5    1    9"
      ]
     },
     "execution_count": 66,
     "metadata": {},
     "output_type": "execute_result"
    }
   ],
   "source": [
    "pd.crosstab(df.Gender, df.treatment)"
   ]
  },
  {
   "cell_type": "markdown",
   "metadata": {},
   "source": [
    "#### Country"
   ]
  },
  {
   "cell_type": "code",
   "execution_count": 67,
   "metadata": {},
   "outputs": [
    {
     "data": {
      "text/plain": [
       "Description    Country\n",
       "Name: Country, dtype: object"
      ]
     },
     "execution_count": 67,
     "metadata": {},
     "output_type": "execute_result"
    }
   ],
   "source": [
    "desc['Country']"
   ]
  },
  {
   "cell_type": "code",
   "execution_count": 68,
   "metadata": {},
   "outputs": [
    {
     "data": {
      "text/plain": [
       "count              1048\n",
       "unique               42\n",
       "top       United States\n",
       "freq                641\n",
       "Name: Country, dtype: object"
      ]
     },
     "execution_count": 68,
     "metadata": {},
     "output_type": "execute_result"
    }
   ],
   "source": [
    "df.Country.describe()"
   ]
  },
  {
   "cell_type": "code",
   "execution_count": 69,
   "metadata": {},
   "outputs": [
    {
     "data": {
      "text/plain": [
       "United States             641\n",
       "United Kingdom            152\n",
       "Canada                     64\n",
       "Germany                    37\n",
       "Netherlands                18\n",
       "Australia                  18\n",
       "Ireland                    13\n",
       "France                     11\n",
       "India                       8\n",
       "Switzerland                 6\n",
       "Italy                       6\n",
       "Sweden                      6\n",
       "New Zealand                 6\n",
       "32                          5\n",
       "Poland                      5\n",
       "Brazil                      5\n",
       "Israel                      4\n",
       "Belgium                     4\n",
       "South Africa                4\n",
       "Russia                      3\n",
       "Austria                     3\n",
       "Mexico                      3\n",
       "Bulgaria                    3\n",
       "Singapore                   2\n",
       "Portugal                    2\n",
       "Finland                     2\n",
       "Denmark                     2\n",
       "Nigeria                     1\n",
       "Romania                     1\n",
       "Norway                      1\n",
       "Bahamas, The                1\n",
       "Croatia                     1\n",
       "Colombia                    1\n",
       "Latvia                      1\n",
       "Hungary                     1\n",
       "Thailand                    1\n",
       "Uruguay                     1\n",
       "Bosnia and Herzegovina      1\n",
       "Japan                       1\n",
       "Slovenia                    1\n",
       "Costa Rica                  1\n",
       "Spain                       1\n",
       "Name: Country, dtype: int64"
      ]
     },
     "execution_count": 69,
     "metadata": {},
     "output_type": "execute_result"
    }
   ],
   "source": [
    "df.Country.value_counts()"
   ]
  },
  {
   "cell_type": "code",
   "execution_count": 70,
   "metadata": {
    "scrolled": true
   },
   "outputs": [
    {
     "data": {
      "text/plain": [
       "array(['United States', 'Canada', 'United Kingdom', 'Bulgaria', 'France',\n",
       "       'Portugal', 'Netherlands', 'Switzerland', 'Poland', 'Australia',\n",
       "       'Germany', 'Russia', 'Mexico', 'Brazil', 'Slovenia', 'Costa Rica',\n",
       "       'Austria', 32, 'Ireland', 'India', 'South Africa', 'Italy',\n",
       "       'Sweden', 'Colombia', 'Latvia', 'Romania', 'Belgium',\n",
       "       'New Zealand', 'Spain', 'Finland', 'Uruguay', 'Israel',\n",
       "       'Bosnia and Herzegovina', 'Hungary', 'Singapore', 'Japan',\n",
       "       'Nigeria', 'Croatia', 'Norway', 'Thailand', 'Denmark',\n",
       "       'Bahamas, The'], dtype=object)"
      ]
     },
     "execution_count": 70,
     "metadata": {},
     "output_type": "execute_result"
    }
   ],
   "source": [
    "df.Country.unique()"
   ]
  },
  {
   "cell_type": "code",
   "execution_count": 71,
   "metadata": {},
   "outputs": [
    {
     "data": {
      "text/html": [
       "<div>\n",
       "<style scoped>\n",
       "    .dataframe tbody tr th:only-of-type {\n",
       "        vertical-align: middle;\n",
       "    }\n",
       "\n",
       "    .dataframe tbody tr th {\n",
       "        vertical-align: top;\n",
       "    }\n",
       "\n",
       "    .dataframe thead th {\n",
       "        text-align: right;\n",
       "    }\n",
       "</style>\n",
       "<table border=\"1\" class=\"dataframe\">\n",
       "  <thead>\n",
       "    <tr style=\"text-align: right;\">\n",
       "      <th></th>\n",
       "      <th>S.No</th>\n",
       "      <th>Timestamp</th>\n",
       "      <th>Age</th>\n",
       "      <th>Gender</th>\n",
       "      <th>Country</th>\n",
       "      <th>state</th>\n",
       "      <th>self_employed</th>\n",
       "      <th>family_history</th>\n",
       "      <th>treatment</th>\n",
       "      <th>work_interfere</th>\n",
       "      <th>no_employees</th>\n",
       "      <th>remote_work</th>\n",
       "      <th>tech_company</th>\n",
       "      <th>benefits</th>\n",
       "      <th>care_options</th>\n",
       "      <th>wellness_program</th>\n",
       "      <th>seek_help</th>\n",
       "      <th>anonymity</th>\n",
       "      <th>leave</th>\n",
       "      <th>mental_health_consequence</th>\n",
       "      <th>phys_health_consequence</th>\n",
       "      <th>coworkers</th>\n",
       "      <th>supervisor</th>\n",
       "      <th>mental_health_interview</th>\n",
       "      <th>phys_health_interview</th>\n",
       "      <th>mental_vs_physical</th>\n",
       "      <th>obs_consequence</th>\n",
       "      <th>comments</th>\n",
       "    </tr>\n",
       "  </thead>\n",
       "  <tbody>\n",
       "    <tr>\n",
       "      <th>143</th>\n",
       "      <td>32</td>\n",
       "      <td>32</td>\n",
       "      <td>32</td>\n",
       "      <td>Other</td>\n",
       "      <td>32</td>\n",
       "      <td>32</td>\n",
       "      <td>32</td>\n",
       "      <td>32</td>\n",
       "      <td>32</td>\n",
       "      <td>32</td>\n",
       "      <td>32</td>\n",
       "      <td>32</td>\n",
       "      <td>32</td>\n",
       "      <td>32</td>\n",
       "      <td>32</td>\n",
       "      <td>32</td>\n",
       "      <td>32</td>\n",
       "      <td>32</td>\n",
       "      <td>32</td>\n",
       "      <td>32</td>\n",
       "      <td>32</td>\n",
       "      <td>32</td>\n",
       "      <td>32</td>\n",
       "      <td>32</td>\n",
       "      <td>32</td>\n",
       "      <td>32</td>\n",
       "      <td>32</td>\n",
       "      <td>32</td>\n",
       "    </tr>\n",
       "    <tr>\n",
       "      <th>364</th>\n",
       "      <td>32</td>\n",
       "      <td>32</td>\n",
       "      <td>32</td>\n",
       "      <td>Other</td>\n",
       "      <td>32</td>\n",
       "      <td>32</td>\n",
       "      <td>32</td>\n",
       "      <td>32</td>\n",
       "      <td>32</td>\n",
       "      <td>32</td>\n",
       "      <td>32</td>\n",
       "      <td>32</td>\n",
       "      <td>32</td>\n",
       "      <td>32</td>\n",
       "      <td>32</td>\n",
       "      <td>32</td>\n",
       "      <td>32</td>\n",
       "      <td>32</td>\n",
       "      <td>32</td>\n",
       "      <td>32</td>\n",
       "      <td>32</td>\n",
       "      <td>32</td>\n",
       "      <td>32</td>\n",
       "      <td>32</td>\n",
       "      <td>32</td>\n",
       "      <td>32</td>\n",
       "      <td>32</td>\n",
       "      <td>32</td>\n",
       "    </tr>\n",
       "    <tr>\n",
       "      <th>390</th>\n",
       "      <td>32</td>\n",
       "      <td>32</td>\n",
       "      <td>32</td>\n",
       "      <td>Other</td>\n",
       "      <td>32</td>\n",
       "      <td>32</td>\n",
       "      <td>32</td>\n",
       "      <td>32</td>\n",
       "      <td>32</td>\n",
       "      <td>32</td>\n",
       "      <td>32</td>\n",
       "      <td>32</td>\n",
       "      <td>32</td>\n",
       "      <td>32</td>\n",
       "      <td>32</td>\n",
       "      <td>32</td>\n",
       "      <td>32</td>\n",
       "      <td>32</td>\n",
       "      <td>32</td>\n",
       "      <td>32</td>\n",
       "      <td>32</td>\n",
       "      <td>32</td>\n",
       "      <td>32</td>\n",
       "      <td>32</td>\n",
       "      <td>32</td>\n",
       "      <td>32</td>\n",
       "      <td>32</td>\n",
       "      <td>32</td>\n",
       "    </tr>\n",
       "    <tr>\n",
       "      <th>715</th>\n",
       "      <td>32</td>\n",
       "      <td>32</td>\n",
       "      <td>32</td>\n",
       "      <td>Other</td>\n",
       "      <td>32</td>\n",
       "      <td>32</td>\n",
       "      <td>32</td>\n",
       "      <td>32</td>\n",
       "      <td>32</td>\n",
       "      <td>32</td>\n",
       "      <td>32</td>\n",
       "      <td>32</td>\n",
       "      <td>32</td>\n",
       "      <td>32</td>\n",
       "      <td>32</td>\n",
       "      <td>32</td>\n",
       "      <td>32</td>\n",
       "      <td>32</td>\n",
       "      <td>32</td>\n",
       "      <td>32</td>\n",
       "      <td>32</td>\n",
       "      <td>32</td>\n",
       "      <td>32</td>\n",
       "      <td>32</td>\n",
       "      <td>32</td>\n",
       "      <td>32</td>\n",
       "      <td>32</td>\n",
       "      <td>32</td>\n",
       "    </tr>\n",
       "    <tr>\n",
       "      <th>734</th>\n",
       "      <td>32</td>\n",
       "      <td>32</td>\n",
       "      <td>32</td>\n",
       "      <td>Other</td>\n",
       "      <td>32</td>\n",
       "      <td>32</td>\n",
       "      <td>32</td>\n",
       "      <td>32</td>\n",
       "      <td>32</td>\n",
       "      <td>32</td>\n",
       "      <td>32</td>\n",
       "      <td>32</td>\n",
       "      <td>32</td>\n",
       "      <td>32</td>\n",
       "      <td>32</td>\n",
       "      <td>32</td>\n",
       "      <td>32</td>\n",
       "      <td>32</td>\n",
       "      <td>32</td>\n",
       "      <td>32</td>\n",
       "      <td>32</td>\n",
       "      <td>32</td>\n",
       "      <td>32</td>\n",
       "      <td>32</td>\n",
       "      <td>32</td>\n",
       "      <td>32</td>\n",
       "      <td>32</td>\n",
       "      <td>32</td>\n",
       "    </tr>\n",
       "  </tbody>\n",
       "</table>\n",
       "</div>"
      ],
      "text/plain": [
       "     S.No Timestamp  Age Gender Country state self_employed family_history  \\\n",
       "143    32        32   32  Other      32    32            32             32   \n",
       "364    32        32   32  Other      32    32            32             32   \n",
       "390    32        32   32  Other      32    32            32             32   \n",
       "715    32        32   32  Other      32    32            32             32   \n",
       "734    32        32   32  Other      32    32            32             32   \n",
       "\n",
       "    treatment work_interfere no_employees remote_work tech_company benefits  \\\n",
       "143        32             32           32          32           32       32   \n",
       "364        32             32           32          32           32       32   \n",
       "390        32             32           32          32           32       32   \n",
       "715        32             32           32          32           32       32   \n",
       "734        32             32           32          32           32       32   \n",
       "\n",
       "    care_options wellness_program seek_help anonymity leave  \\\n",
       "143           32               32        32        32    32   \n",
       "364           32               32        32        32    32   \n",
       "390           32               32        32        32    32   \n",
       "715           32               32        32        32    32   \n",
       "734           32               32        32        32    32   \n",
       "\n",
       "    mental_health_consequence phys_health_consequence coworkers supervisor  \\\n",
       "143                        32                      32        32         32   \n",
       "364                        32                      32        32         32   \n",
       "390                        32                      32        32         32   \n",
       "715                        32                      32        32         32   \n",
       "734                        32                      32        32         32   \n",
       "\n",
       "    mental_health_interview phys_health_interview mental_vs_physical  \\\n",
       "143                      32                    32                 32   \n",
       "364                      32                    32                 32   \n",
       "390                      32                    32                 32   \n",
       "715                      32                    32                 32   \n",
       "734                      32                    32                 32   \n",
       "\n",
       "    obs_consequence comments  \n",
       "143              32       32  \n",
       "364              32       32  \n",
       "390              32       32  \n",
       "715              32       32  \n",
       "734              32       32  "
      ]
     },
     "execution_count": 71,
     "metadata": {},
     "output_type": "execute_result"
    }
   ],
   "source": [
    "df[df.Country == 32]"
   ]
  },
  {
   "cell_type": "code",
   "execution_count": 72,
   "metadata": {
    "scrolled": false
   },
   "outputs": [],
   "source": [
    "df = df.drop([143, 364, 390, 715, 734], axis=0)"
   ]
  },
  {
   "cell_type": "code",
   "execution_count": 73,
   "metadata": {},
   "outputs": [
    {
     "data": {
      "text/html": [
       "<div>\n",
       "<style scoped>\n",
       "    .dataframe tbody tr th:only-of-type {\n",
       "        vertical-align: middle;\n",
       "    }\n",
       "\n",
       "    .dataframe tbody tr th {\n",
       "        vertical-align: top;\n",
       "    }\n",
       "\n",
       "    .dataframe thead th {\n",
       "        text-align: right;\n",
       "    }\n",
       "</style>\n",
       "<table border=\"1\" class=\"dataframe\">\n",
       "  <thead>\n",
       "    <tr style=\"text-align: right;\">\n",
       "      <th></th>\n",
       "      <th>S.No</th>\n",
       "      <th>Timestamp</th>\n",
       "      <th>Age</th>\n",
       "      <th>Gender</th>\n",
       "      <th>Country</th>\n",
       "      <th>state</th>\n",
       "      <th>self_employed</th>\n",
       "      <th>family_history</th>\n",
       "      <th>treatment</th>\n",
       "      <th>work_interfere</th>\n",
       "      <th>no_employees</th>\n",
       "      <th>remote_work</th>\n",
       "      <th>tech_company</th>\n",
       "      <th>benefits</th>\n",
       "      <th>care_options</th>\n",
       "      <th>wellness_program</th>\n",
       "      <th>seek_help</th>\n",
       "      <th>anonymity</th>\n",
       "      <th>leave</th>\n",
       "      <th>mental_health_consequence</th>\n",
       "      <th>phys_health_consequence</th>\n",
       "      <th>coworkers</th>\n",
       "      <th>supervisor</th>\n",
       "      <th>mental_health_interview</th>\n",
       "      <th>phys_health_interview</th>\n",
       "      <th>mental_vs_physical</th>\n",
       "      <th>obs_consequence</th>\n",
       "      <th>comments</th>\n",
       "    </tr>\n",
       "  </thead>\n",
       "  <tbody>\n",
       "  </tbody>\n",
       "</table>\n",
       "</div>"
      ],
      "text/plain": [
       "Empty DataFrame\n",
       "Columns: [S.No, Timestamp, Age, Gender, Country, state, self_employed, family_history, treatment, work_interfere, no_employees, remote_work, tech_company, benefits, care_options, wellness_program, seek_help, anonymity, leave, mental_health_consequence, phys_health_consequence, coworkers, supervisor, mental_health_interview, phys_health_interview, mental_vs_physical, obs_consequence, comments]\n",
       "Index: []"
      ]
     },
     "execution_count": 73,
     "metadata": {},
     "output_type": "execute_result"
    }
   ],
   "source": [
    "df[df.Country == 32]"
   ]
  },
  {
   "cell_type": "code",
   "execution_count": 74,
   "metadata": {},
   "outputs": [
    {
     "data": {
      "text/html": [
       "<div>\n",
       "<style scoped>\n",
       "    .dataframe tbody tr th:only-of-type {\n",
       "        vertical-align: middle;\n",
       "    }\n",
       "\n",
       "    .dataframe tbody tr th {\n",
       "        vertical-align: top;\n",
       "    }\n",
       "\n",
       "    .dataframe thead th {\n",
       "        text-align: right;\n",
       "    }\n",
       "</style>\n",
       "<table border=\"1\" class=\"dataframe\">\n",
       "  <thead>\n",
       "    <tr style=\"text-align: right;\">\n",
       "      <th></th>\n",
       "      <th>S.No</th>\n",
       "      <th>Timestamp</th>\n",
       "      <th>Age</th>\n",
       "      <th>Gender</th>\n",
       "      <th>Country</th>\n",
       "      <th>state</th>\n",
       "      <th>self_employed</th>\n",
       "      <th>family_history</th>\n",
       "      <th>treatment</th>\n",
       "      <th>work_interfere</th>\n",
       "      <th>no_employees</th>\n",
       "      <th>remote_work</th>\n",
       "      <th>tech_company</th>\n",
       "      <th>benefits</th>\n",
       "      <th>care_options</th>\n",
       "      <th>wellness_program</th>\n",
       "      <th>seek_help</th>\n",
       "      <th>anonymity</th>\n",
       "      <th>leave</th>\n",
       "      <th>mental_health_consequence</th>\n",
       "      <th>phys_health_consequence</th>\n",
       "      <th>coworkers</th>\n",
       "      <th>supervisor</th>\n",
       "      <th>mental_health_interview</th>\n",
       "      <th>phys_health_interview</th>\n",
       "      <th>mental_vs_physical</th>\n",
       "      <th>obs_consequence</th>\n",
       "      <th>comments</th>\n",
       "    </tr>\n",
       "  </thead>\n",
       "  <tbody>\n",
       "    <tr>\n",
       "      <th>31</th>\n",
       "      <td>32</td>\n",
       "      <td>2014-08-27 11:38:55</td>\n",
       "      <td>31</td>\n",
       "      <td>Male</td>\n",
       "      <td>United States</td>\n",
       "      <td>PA</td>\n",
       "      <td>Yes</td>\n",
       "      <td>Yes</td>\n",
       "      <td>No</td>\n",
       "      <td>Rarely</td>\n",
       "      <td>1-5</td>\n",
       "      <td>Yes</td>\n",
       "      <td>Yes</td>\n",
       "      <td>No</td>\n",
       "      <td>Yes</td>\n",
       "      <td>No</td>\n",
       "      <td>No</td>\n",
       "      <td>Don't know</td>\n",
       "      <td>Somewhat difficult</td>\n",
       "      <td>Yes</td>\n",
       "      <td>No</td>\n",
       "      <td>No</td>\n",
       "      <td>No</td>\n",
       "      <td>No</td>\n",
       "      <td>No</td>\n",
       "      <td>No</td>\n",
       "      <td>Yes</td>\n",
       "      <td>NaN</td>\n",
       "    </tr>\n",
       "  </tbody>\n",
       "</table>\n",
       "</div>"
      ],
      "text/plain": [
       "    S.No            Timestamp  Age Gender        Country state self_employed  \\\n",
       "31    32  2014-08-27 11:38:55   31   Male  United States    PA           Yes   \n",
       "\n",
       "   family_history treatment work_interfere no_employees remote_work  \\\n",
       "31            Yes        No         Rarely          1-5         Yes   \n",
       "\n",
       "   tech_company benefits care_options wellness_program seek_help   anonymity  \\\n",
       "31          Yes       No          Yes               No        No  Don't know   \n",
       "\n",
       "                 leave mental_health_consequence phys_health_consequence  \\\n",
       "31  Somewhat difficult                       Yes                      No   \n",
       "\n",
       "   coworkers supervisor mental_health_interview phys_health_interview  \\\n",
       "31        No         No                      No                    No   \n",
       "\n",
       "   mental_vs_physical obs_consequence comments  \n",
       "31                 No             Yes      NaN  "
      ]
     },
     "execution_count": 74,
     "metadata": {},
     "output_type": "execute_result"
    }
   ],
   "source": [
    "df[df['S.No']==32]"
   ]
  },
  {
   "cell_type": "code",
   "execution_count": 75,
   "metadata": {},
   "outputs": [
    {
     "data": {
      "text/plain": [
       "(1043, 28)"
      ]
     },
     "execution_count": 75,
     "metadata": {},
     "output_type": "execute_result"
    }
   ],
   "source": [
    "df.shape"
   ]
  },
  {
   "cell_type": "code",
   "execution_count": 76,
   "metadata": {},
   "outputs": [
    {
     "data": {
      "text/html": [
       "<div>\n",
       "<style scoped>\n",
       "    .dataframe tbody tr th:only-of-type {\n",
       "        vertical-align: middle;\n",
       "    }\n",
       "\n",
       "    .dataframe tbody tr th {\n",
       "        vertical-align: top;\n",
       "    }\n",
       "\n",
       "    .dataframe thead th {\n",
       "        text-align: right;\n",
       "    }\n",
       "</style>\n",
       "<table border=\"1\" class=\"dataframe\">\n",
       "  <thead>\n",
       "    <tr style=\"text-align: right;\">\n",
       "      <th></th>\n",
       "      <th>S.No</th>\n",
       "      <th>Timestamp</th>\n",
       "      <th>Age</th>\n",
       "      <th>Gender</th>\n",
       "      <th>Country</th>\n",
       "      <th>state</th>\n",
       "      <th>self_employed</th>\n",
       "      <th>family_history</th>\n",
       "      <th>work_interfere</th>\n",
       "      <th>no_employees</th>\n",
       "      <th>remote_work</th>\n",
       "      <th>tech_company</th>\n",
       "      <th>benefits</th>\n",
       "      <th>care_options</th>\n",
       "      <th>wellness_program</th>\n",
       "      <th>seek_help</th>\n",
       "      <th>anonymity</th>\n",
       "      <th>leave</th>\n",
       "      <th>mental_health_consequence</th>\n",
       "      <th>phys_health_consequence</th>\n",
       "      <th>coworkers</th>\n",
       "      <th>supervisor</th>\n",
       "      <th>mental_health_interview</th>\n",
       "      <th>phys_health_interview</th>\n",
       "      <th>mental_vs_physical</th>\n",
       "      <th>obs_consequence</th>\n",
       "      <th>comments</th>\n",
       "    </tr>\n",
       "  </thead>\n",
       "  <tbody>\n",
       "    <tr>\n",
       "      <th>31</th>\n",
       "      <td>32</td>\n",
       "      <td>2014-08-29 15:59:55</td>\n",
       "      <td>25</td>\n",
       "      <td>Male</td>\n",
       "      <td>United States</td>\n",
       "      <td>UT</td>\n",
       "      <td>No</td>\n",
       "      <td>Yes</td>\n",
       "      <td>Often</td>\n",
       "      <td>1-5</td>\n",
       "      <td>No</td>\n",
       "      <td>Yes</td>\n",
       "      <td>No</td>\n",
       "      <td>Yes</td>\n",
       "      <td>No</td>\n",
       "      <td>No</td>\n",
       "      <td>Yes</td>\n",
       "      <td>Very easy</td>\n",
       "      <td>Maybe</td>\n",
       "      <td>No</td>\n",
       "      <td>Yes</td>\n",
       "      <td>Yes</td>\n",
       "      <td>No</td>\n",
       "      <td>Maybe</td>\n",
       "      <td>No</td>\n",
       "      <td>No</td>\n",
       "      <td>NaN</td>\n",
       "    </tr>\n",
       "  </tbody>\n",
       "</table>\n",
       "</div>"
      ],
      "text/plain": [
       "    S.No            Timestamp  Age Gender        Country state self_employed  \\\n",
       "31    32  2014-08-29 15:59:55   25   Male  United States    UT            No   \n",
       "\n",
       "   family_history work_interfere no_employees remote_work tech_company  \\\n",
       "31            Yes          Often          1-5          No          Yes   \n",
       "\n",
       "   benefits care_options wellness_program seek_help anonymity      leave  \\\n",
       "31       No          Yes               No        No       Yes  Very easy   \n",
       "\n",
       "   mental_health_consequence phys_health_consequence coworkers supervisor  \\\n",
       "31                     Maybe                      No       Yes        Yes   \n",
       "\n",
       "   mental_health_interview phys_health_interview mental_vs_physical  \\\n",
       "31                      No                 Maybe                 No   \n",
       "\n",
       "   obs_consequence comments  \n",
       "31              No      NaN  "
      ]
     },
     "execution_count": 76,
     "metadata": {},
     "output_type": "execute_result"
    }
   ],
   "source": [
    "test[test['S.No'] == 32]"
   ]
  },
  {
   "cell_type": "code",
   "execution_count": 77,
   "metadata": {},
   "outputs": [
    {
     "data": {
      "text/plain": [
       "array(['United States', 'Canada', 'United Kingdom', 'Bulgaria', 'France',\n",
       "       'Portugal', 'Netherlands', 'Switzerland', 'Poland', 'Australia',\n",
       "       'Germany', 'Russia', 'Mexico', 'Brazil', 'Slovenia', 'Costa Rica',\n",
       "       'Austria', 'Ireland', 'India', 'South Africa', 'Italy', 'Sweden',\n",
       "       'Colombia', 'Latvia', 'Romania', 'Belgium', 'New Zealand', 'Spain',\n",
       "       'Finland', 'Uruguay', 'Israel', 'Bosnia and Herzegovina',\n",
       "       'Hungary', 'Singapore', 'Japan', 'Nigeria', 'Croatia', 'Norway',\n",
       "       'Thailand', 'Denmark', 'Bahamas, The'], dtype=object)"
      ]
     },
     "execution_count": 77,
     "metadata": {},
     "output_type": "execute_result"
    }
   ],
   "source": [
    "df.Country.unique()"
   ]
  },
  {
   "cell_type": "code",
   "execution_count": 78,
   "metadata": {},
   "outputs": [
    {
     "data": {
      "text/plain": [
       "United States             641\n",
       "United Kingdom            152\n",
       "Canada                     64\n",
       "Germany                    37\n",
       "Netherlands                18\n",
       "Australia                  18\n",
       "Ireland                    13\n",
       "France                     11\n",
       "India                       8\n",
       "Switzerland                 6\n",
       "Italy                       6\n",
       "Sweden                      6\n",
       "New Zealand                 6\n",
       "Poland                      5\n",
       "Brazil                      5\n",
       "Israel                      4\n",
       "Belgium                     4\n",
       "South Africa                4\n",
       "Russia                      3\n",
       "Austria                     3\n",
       "Mexico                      3\n",
       "Bulgaria                    3\n",
       "Singapore                   2\n",
       "Portugal                    2\n",
       "Finland                     2\n",
       "Denmark                     2\n",
       "Nigeria                     1\n",
       "Romania                     1\n",
       "Norway                      1\n",
       "Bahamas, The                1\n",
       "Croatia                     1\n",
       "Colombia                    1\n",
       "Latvia                      1\n",
       "Hungary                     1\n",
       "Thailand                    1\n",
       "Uruguay                     1\n",
       "Bosnia and Herzegovina      1\n",
       "Japan                       1\n",
       "Slovenia                    1\n",
       "Costa Rica                  1\n",
       "Spain                       1\n",
       "Name: Country, dtype: int64"
      ]
     },
     "execution_count": 78,
     "metadata": {},
     "output_type": "execute_result"
    }
   ],
   "source": [
    "df.Country.value_counts()"
   ]
  },
  {
   "cell_type": "code",
   "execution_count": 79,
   "metadata": {},
   "outputs": [],
   "source": [
    "df = df.replace({'Country': {\n",
    "    'Bulgaria': 'Other', 'France': 'Other',\n",
    "       'Portugal': 'Other', 'Netherlands': 'Other', 'Switzerland': 'Other', 'Poland': 'Other', 'Australia': 'Other',\n",
    "       'Germany': 'Other', 'Russia': 'Other', 'Mexico': 'Other', 'Brazil': 'Other', 'Slovenia': 'Other', 'Costa Rica': 'Other',\n",
    "       'Austria': 'Other', 'Ireland': 'Other', 'India': 'Other', 'South Africa': 'Other', 'Italy': 'Other', 'Sweden': 'Other',\n",
    "       'Colombia': 'Other', 'Latvia': 'Other', 'Romania': 'Other', 'Belgium': 'Other', 'New Zealand': 'Other', 'Spain': 'Other',\n",
    "       'Finland': 'Other', 'Uruguay': 'Other', 'Israel': 'Other', 'Bosnia and Herzegovina': 'Other',\n",
    "       'Hungary': 'Other', 'Singapore': 'Other', 'Japan': 'Other', 'Nigeria': 'Other', 'Croatia': 'Other', 'Norway': 'Other',\n",
    "       'Thailand': 'Other', 'Denmark': 'Other', 'Bahamas, The': 'Other'\n",
    "}})"
   ]
  },
  {
   "cell_type": "code",
   "execution_count": 80,
   "metadata": {},
   "outputs": [
    {
     "data": {
      "text/plain": [
       "United States     641\n",
       "Other             186\n",
       "United Kingdom    152\n",
       "Canada             64\n",
       "Name: Country, dtype: int64"
      ]
     },
     "execution_count": 80,
     "metadata": {},
     "output_type": "execute_result"
    }
   ],
   "source": [
    "df.Country.value_counts()"
   ]
  },
  {
   "cell_type": "code",
   "execution_count": 81,
   "metadata": {},
   "outputs": [
    {
     "data": {
      "text/plain": [
       "<AxesSubplot:xlabel='Country', ylabel='count'>"
      ]
     },
     "execution_count": 81,
     "metadata": {},
     "output_type": "execute_result"
    },
    {
     "data": {
      "image/png": "[encoded data removed]",
      "text/plain": [
       "<Figure size 432x288 with 1 Axes>"
      ]
     },
     "metadata": {
      "needs_background": "light"
     },
     "output_type": "display_data"
    }
   ],
   "source": [
    "sns.countplot(df.Country)"
   ]
  },
  {
   "cell_type": "code",
   "execution_count": 82,
   "metadata": {},
   "outputs": [
    {
     "data": {
      "text/plain": [
       "United States     106\n",
       "United Kingdom     32\n",
       "Ireland            14\n",
       "Netherlands         9\n",
       "Canada              8\n",
       "Germany             8\n",
       "Australia           3\n",
       "South Africa        2\n",
       "Greece              2\n",
       "India               2\n",
       "Singapore           2\n",
       "Belgium             2\n",
       "France              2\n",
       "Poland              2\n",
       "New Zealand         2\n",
       "Italy               1\n",
       "Bulgaria            1\n",
       "Sweden              1\n",
       "Czech Republic      1\n",
       "Switzerland         1\n",
       "Colombia            1\n",
       "Georgia             1\n",
       "Croatia             1\n",
       "Moldova             1\n",
       "Finland             1\n",
       "Israel              1\n",
       "China               1\n",
       "Philippines         1\n",
       "Brazil              1\n",
       "Name: Country, dtype: int64"
      ]
     },
     "execution_count": 82,
     "metadata": {},
     "output_type": "execute_result"
    }
   ],
   "source": [
    "test.Country.value_counts()"
   ]
  },
  {
   "cell_type": "code",
   "execution_count": 83,
   "metadata": {},
   "outputs": [],
   "source": [
    "test = test.replace({'Country': {\n",
    "    'Bulgaria': 'Other', 'France': 'Other',\n",
    "       'Portugal': 'Other', 'Netherlands': 'Other', 'Switzerland': 'Other', 'Poland': 'Other', 'Australia': 'Other',\n",
    "       'Germany': 'Other', 'Russia': 'Other', 'Mexico': 'Other', 'Brazil': 'Other', 'Slovenia': 'Other', 'Costa Rica': 'Other',\n",
    "       'Austria': 'Other', 'Ireland': 'Other', 'India': 'Other', 'South Africa': 'Other', 'Italy': 'Other', 'Sweden': 'Other',\n",
    "       'Colombia': 'Other', 'Latvia': 'Other', 'Romania': 'Other', 'Belgium': 'Other', 'New Zealand': 'Other', 'Spain': 'Other',\n",
    "       'Finland': 'Other', 'Uruguay': 'Other', 'Israel': 'Other', 'Bosnia and Herzegovina': 'Other',\n",
    "       'Hungary': 'Other', 'Singapore': 'Other', 'Japan': 'Other', 'Nigeria': 'Other', 'Croatia': 'Other', 'Norway': 'Other',\n",
    "       'Thailand': 'Other', 'Denmark': 'Other', 'Bahamas, The': 'Other', 'Greece': 'Other', 'Czech Republic': 'Other',\n",
    "        'China': 'Other', 'Philippines': 'Other', 'Moldova': 'Other', 'Georgia': 'Other'\n",
    "}})"
   ]
  },
  {
   "cell_type": "code",
   "execution_count": 84,
   "metadata": {},
   "outputs": [
    {
     "data": {
      "text/plain": [
       "United States     106\n",
       "Other              64\n",
       "United Kingdom     32\n",
       "Canada              8\n",
       "Name: Country, dtype: int64"
      ]
     },
     "execution_count": 84,
     "metadata": {},
     "output_type": "execute_result"
    }
   ],
   "source": [
    "test.Country.value_counts()"
   ]
  },
  {
   "cell_type": "code",
   "execution_count": 85,
   "metadata": {},
   "outputs": [
    {
     "name": "stdout",
     "output_type": "stream",
     "text": [
      "Ho:  There is no significant assosiation between Country and treatment (No predictability)\n",
      "Ha:  There is a significant assosiation between Country and treatment (Good predictor)\n",
      "\n",
      "\n",
      "chi-square stats:  17.64510204353782\n",
      "p-value:  0.0005205517192911775\n",
      "\n",
      "\n",
      "Reject null hypothesis,  There is a significant assosiation between Country and treatment (Good predictor)\n"
     ]
    }
   ],
   "source": [
    "p_value['Country'] = chi2('Country', 'treatment', df)"
   ]
  },
  {
   "cell_type": "code",
   "execution_count": 86,
   "metadata": {},
   "outputs": [],
   "source": [
    "# Country is a significant predictor, but the p-value is 0.0005."
   ]
  },
  {
   "cell_type": "markdown",
   "metadata": {},
   "source": [
    "#### state"
   ]
  },
  {
   "cell_type": "code",
   "execution_count": 87,
   "metadata": {},
   "outputs": [
    {
     "data": {
      "text/plain": [
       "Description    If you live in the United States, which state or territory do you live in?\n",
       "Name: state, dtype: object"
      ]
     },
     "execution_count": 87,
     "metadata": {},
     "output_type": "execute_result"
    }
   ],
   "source": [
    "desc['state']"
   ]
  },
  {
   "cell_type": "code",
   "execution_count": 88,
   "metadata": {},
   "outputs": [
    {
     "data": {
      "text/plain": [
       "count     633\n",
       "unique     45\n",
       "top        CA\n",
       "freq      123\n",
       "Name: state, dtype: object"
      ]
     },
     "execution_count": 88,
     "metadata": {},
     "output_type": "execute_result"
    }
   ],
   "source": [
    "df.state.describe()"
   ]
  },
  {
   "cell_type": "code",
   "execution_count": 89,
   "metadata": {},
   "outputs": [
    {
     "data": {
      "text/plain": [
       "410"
      ]
     },
     "execution_count": 89,
     "metadata": {},
     "output_type": "execute_result"
    }
   ],
   "source": [
    "df.state.isnull().sum()"
   ]
  },
  {
   "cell_type": "code",
   "execution_count": 90,
   "metadata": {},
   "outputs": [
    {
     "data": {
      "text/plain": [
       "CA    123\n",
       "WA     60\n",
       "NY     49\n",
       "TN     39\n",
       "TX     38\n",
       "OR     26\n",
       "PA     26\n",
       "OH     22\n",
       "IL     21\n",
       "IN     20\n",
       "MA     20\n",
       "MI     19\n",
       "MN     16\n",
       "GA     12\n",
       "MO     12\n",
       "VA     12\n",
       "NC     10\n",
       "FL     10\n",
       "WI     10\n",
       "CO      9\n",
       "MD      7\n",
       "AZ      7\n",
       "UT      6\n",
       "OK      5\n",
       "KY      5\n",
       "SC      4\n",
       "AL      4\n",
       "IA      4\n",
       "DC      4\n",
       "CT      4\n",
       "NJ      3\n",
       "SD      3\n",
       "KS      3\n",
       "NH      3\n",
       "NV      3\n",
       "NE      2\n",
       "NM      2\n",
       "WY      2\n",
       "VT      2\n",
       "ID      1\n",
       "LA      1\n",
       "RI      1\n",
       "WV      1\n",
       "ME      1\n",
       "MS      1\n",
       "Name: state, dtype: int64"
      ]
     },
     "execution_count": 90,
     "metadata": {},
     "output_type": "execute_result"
    }
   ],
   "source": [
    "df.state.value_counts()"
   ]
  },
  {
   "cell_type": "code",
   "execution_count": 91,
   "metadata": {},
   "outputs": [
    {
     "name": "stdout",
     "output_type": "stream",
     "text": [
      "Ho:  There is no significant assosiation between state and treatment (No predictability)\n",
      "Ha:  There is a significant assosiation between state and treatment (Good predictor)\n",
      "\n",
      "\n",
      "chi-square stats:  57.43709792006255\n",
      "p-value:  0.08416808868755185\n",
      "\n",
      "\n",
      "Fail to reject null hypothesis,  There is no significant assosiation between state and treatment (No predictability)\n"
     ]
    }
   ],
   "source": [
    "p_value['state'] = chi2('state', 'treatment', df)"
   ]
  },
  {
   "cell_type": "code",
   "execution_count": 92,
   "metadata": {},
   "outputs": [],
   "source": [
    "# There are many null values in the column, and there is no significant association between state and treatment\n",
    "\n",
    "action['drop'].append('state')"
   ]
  },
  {
   "cell_type": "markdown",
   "metadata": {},
   "source": [
    "#### self_employed"
   ]
  },
  {
   "cell_type": "code",
   "execution_count": 93,
   "metadata": {},
   "outputs": [
    {
     "data": {
      "text/plain": [
       "count     1025\n",
       "unique       2\n",
       "top         No\n",
       "freq       902\n",
       "Name: self_employed, dtype: object"
      ]
     },
     "execution_count": 93,
     "metadata": {},
     "output_type": "execute_result"
    }
   ],
   "source": [
    "df.self_employed.describe()"
   ]
  },
  {
   "cell_type": "code",
   "execution_count": 94,
   "metadata": {},
   "outputs": [
    {
     "data": {
      "text/plain": [
       "No     902\n",
       "Yes    123\n",
       "Name: self_employed, dtype: int64"
      ]
     },
     "execution_count": 94,
     "metadata": {},
     "output_type": "execute_result"
    }
   ],
   "source": [
    "df.self_employed.value_counts()"
   ]
  },
  {
   "cell_type": "code",
   "execution_count": 95,
   "metadata": {},
   "outputs": [
    {
     "name": "stdout",
     "output_type": "stream",
     "text": [
      "Proportion of No: 86%\n",
      "Proportion of Yes: 12%\n"
     ]
    }
   ],
   "source": [
    "find_proportion('self_employed', df)"
   ]
  },
  {
   "cell_type": "code",
   "execution_count": 96,
   "metadata": {},
   "outputs": [
    {
     "data": {
      "text/plain": [
       "<AxesSubplot:xlabel='self_employed', ylabel='count'>"
      ]
     },
     "execution_count": 96,
     "metadata": {},
     "output_type": "execute_result"
    },
    {
     "data": {
      "image/png": "[encoded data removed]",
      "text/plain": [
       "<Figure size 432x288 with 1 Axes>"
      ]
     },
     "metadata": {
      "needs_background": "light"
     },
     "output_type": "display_data"
    }
   ],
   "source": [
    "sns.countplot(df.self_employed)"
   ]
  },
  {
   "cell_type": "code",
   "execution_count": 97,
   "metadata": {},
   "outputs": [
    {
     "data": {
      "text/plain": [
       "Index(['S.No', 'Timestamp', 'Age', 'Gender', 'Country', 'state',\n",
       "       'self_employed', 'family_history', 'treatment', 'work_interfere',\n",
       "       'no_employees', 'remote_work', 'tech_company', 'benefits',\n",
       "       'care_options', 'wellness_program', 'seek_help', 'anonymity', 'leave',\n",
       "       'mental_health_consequence', 'phys_health_consequence', 'coworkers',\n",
       "       'supervisor', 'mental_health_interview', 'phys_health_interview',\n",
       "       'mental_vs_physical', 'obs_consequence', 'comments'],\n",
       "      dtype='object')"
      ]
     },
     "execution_count": 97,
     "metadata": {},
     "output_type": "execute_result"
    }
   ],
   "source": [
    "df.columns"
   ]
  },
  {
   "cell_type": "code",
   "execution_count": 98,
   "metadata": {},
   "outputs": [
    {
     "data": {
      "text/plain": [
       "18"
      ]
     },
     "execution_count": 98,
     "metadata": {},
     "output_type": "execute_result"
    }
   ],
   "source": [
    "df.self_employed.isnull().sum()"
   ]
  },
  {
   "cell_type": "code",
   "execution_count": 99,
   "metadata": {
    "scrolled": true
   },
   "outputs": [
    {
     "data": {
      "text/html": [
       "<div>\n",
       "<style scoped>\n",
       "    .dataframe tbody tr th:only-of-type {\n",
       "        vertical-align: middle;\n",
       "    }\n",
       "\n",
       "    .dataframe tbody tr th {\n",
       "        vertical-align: top;\n",
       "    }\n",
       "\n",
       "    .dataframe thead th {\n",
       "        text-align: right;\n",
       "    }\n",
       "</style>\n",
       "<table border=\"1\" class=\"dataframe\">\n",
       "  <thead>\n",
       "    <tr style=\"text-align: right;\">\n",
       "      <th></th>\n",
       "      <th>S.No</th>\n",
       "      <th>Timestamp</th>\n",
       "      <th>Age</th>\n",
       "      <th>Gender</th>\n",
       "      <th>Country</th>\n",
       "      <th>state</th>\n",
       "      <th>self_employed</th>\n",
       "      <th>family_history</th>\n",
       "      <th>treatment</th>\n",
       "      <th>work_interfere</th>\n",
       "      <th>no_employees</th>\n",
       "      <th>remote_work</th>\n",
       "      <th>tech_company</th>\n",
       "      <th>benefits</th>\n",
       "      <th>care_options</th>\n",
       "      <th>wellness_program</th>\n",
       "      <th>seek_help</th>\n",
       "      <th>anonymity</th>\n",
       "      <th>leave</th>\n",
       "      <th>mental_health_consequence</th>\n",
       "      <th>phys_health_consequence</th>\n",
       "      <th>coworkers</th>\n",
       "      <th>supervisor</th>\n",
       "      <th>mental_health_interview</th>\n",
       "      <th>phys_health_interview</th>\n",
       "      <th>mental_vs_physical</th>\n",
       "      <th>obs_consequence</th>\n",
       "      <th>comments</th>\n",
       "    </tr>\n",
       "  </thead>\n",
       "  <tbody>\n",
       "    <tr>\n",
       "      <th>0</th>\n",
       "      <td>1</td>\n",
       "      <td>2014-08-27 11:29:31</td>\n",
       "      <td>37</td>\n",
       "      <td>Female</td>\n",
       "      <td>United States</td>\n",
       "      <td>IL</td>\n",
       "      <td>NaN</td>\n",
       "      <td>No</td>\n",
       "      <td>Yes</td>\n",
       "      <td>Often</td>\n",
       "      <td>6-25</td>\n",
       "      <td>No</td>\n",
       "      <td>Yes</td>\n",
       "      <td>Yes</td>\n",
       "      <td>Not sure</td>\n",
       "      <td>No</td>\n",
       "      <td>Yes</td>\n",
       "      <td>Yes</td>\n",
       "      <td>Somewhat easy</td>\n",
       "      <td>No</td>\n",
       "      <td>No</td>\n",
       "      <td>Some of them</td>\n",
       "      <td>Yes</td>\n",
       "      <td>No</td>\n",
       "      <td>Maybe</td>\n",
       "      <td>Yes</td>\n",
       "      <td>No</td>\n",
       "      <td>NaN</td>\n",
       "    </tr>\n",
       "    <tr>\n",
       "      <th>1</th>\n",
       "      <td>2</td>\n",
       "      <td>2014-08-27 11:29:37</td>\n",
       "      <td>44</td>\n",
       "      <td>Male</td>\n",
       "      <td>United States</td>\n",
       "      <td>IN</td>\n",
       "      <td>NaN</td>\n",
       "      <td>No</td>\n",
       "      <td>No</td>\n",
       "      <td>Rarely</td>\n",
       "      <td>More than 1000</td>\n",
       "      <td>No</td>\n",
       "      <td>No</td>\n",
       "      <td>Don't know</td>\n",
       "      <td>No</td>\n",
       "      <td>Don't know</td>\n",
       "      <td>Don't know</td>\n",
       "      <td>Don't know</td>\n",
       "      <td>Don't know</td>\n",
       "      <td>Maybe</td>\n",
       "      <td>No</td>\n",
       "      <td>No</td>\n",
       "      <td>No</td>\n",
       "      <td>No</td>\n",
       "      <td>No</td>\n",
       "      <td>Don't know</td>\n",
       "      <td>No</td>\n",
       "      <td>NaN</td>\n",
       "    </tr>\n",
       "    <tr>\n",
       "      <th>2</th>\n",
       "      <td>3</td>\n",
       "      <td>2014-08-27 11:29:44</td>\n",
       "      <td>32</td>\n",
       "      <td>Male</td>\n",
       "      <td>Canada</td>\n",
       "      <td>NaN</td>\n",
       "      <td>NaN</td>\n",
       "      <td>No</td>\n",
       "      <td>No</td>\n",
       "      <td>Rarely</td>\n",
       "      <td>6-25</td>\n",
       "      <td>No</td>\n",
       "      <td>Yes</td>\n",
       "      <td>No</td>\n",
       "      <td>No</td>\n",
       "      <td>No</td>\n",
       "      <td>No</td>\n",
       "      <td>Don't know</td>\n",
       "      <td>Somewhat difficult</td>\n",
       "      <td>No</td>\n",
       "      <td>No</td>\n",
       "      <td>Yes</td>\n",
       "      <td>Yes</td>\n",
       "      <td>Yes</td>\n",
       "      <td>Yes</td>\n",
       "      <td>No</td>\n",
       "      <td>No</td>\n",
       "      <td>NaN</td>\n",
       "    </tr>\n",
       "    <tr>\n",
       "      <th>3</th>\n",
       "      <td>4</td>\n",
       "      <td>2014-08-27 11:29:46</td>\n",
       "      <td>31</td>\n",
       "      <td>Male</td>\n",
       "      <td>United Kingdom</td>\n",
       "      <td>NaN</td>\n",
       "      <td>NaN</td>\n",
       "      <td>Yes</td>\n",
       "      <td>Yes</td>\n",
       "      <td>Often</td>\n",
       "      <td>26-100</td>\n",
       "      <td>No</td>\n",
       "      <td>Yes</td>\n",
       "      <td>No</td>\n",
       "      <td>Yes</td>\n",
       "      <td>No</td>\n",
       "      <td>No</td>\n",
       "      <td>No</td>\n",
       "      <td>Somewhat difficult</td>\n",
       "      <td>Yes</td>\n",
       "      <td>Yes</td>\n",
       "      <td>Some of them</td>\n",
       "      <td>No</td>\n",
       "      <td>Maybe</td>\n",
       "      <td>Maybe</td>\n",
       "      <td>No</td>\n",
       "      <td>Yes</td>\n",
       "      <td>NaN</td>\n",
       "    </tr>\n",
       "    <tr>\n",
       "      <th>4</th>\n",
       "      <td>5</td>\n",
       "      <td>2014-08-27 11:30:22</td>\n",
       "      <td>31</td>\n",
       "      <td>Male</td>\n",
       "      <td>United States</td>\n",
       "      <td>TX</td>\n",
       "      <td>NaN</td>\n",
       "      <td>No</td>\n",
       "      <td>No</td>\n",
       "      <td>Never</td>\n",
       "      <td>100-500</td>\n",
       "      <td>Yes</td>\n",
       "      <td>Yes</td>\n",
       "      <td>Yes</td>\n",
       "      <td>No</td>\n",
       "      <td>Don't know</td>\n",
       "      <td>Don't know</td>\n",
       "      <td>Don't know</td>\n",
       "      <td>Don't know</td>\n",
       "      <td>No</td>\n",
       "      <td>No</td>\n",
       "      <td>Some of them</td>\n",
       "      <td>Yes</td>\n",
       "      <td>Yes</td>\n",
       "      <td>Yes</td>\n",
       "      <td>Don't know</td>\n",
       "      <td>No</td>\n",
       "      <td>NaN</td>\n",
       "    </tr>\n",
       "    <tr>\n",
       "      <th>5</th>\n",
       "      <td>6</td>\n",
       "      <td>2014-08-27 11:31:22</td>\n",
       "      <td>33</td>\n",
       "      <td>Male</td>\n",
       "      <td>United States</td>\n",
       "      <td>TN</td>\n",
       "      <td>NaN</td>\n",
       "      <td>Yes</td>\n",
       "      <td>No</td>\n",
       "      <td>Sometimes</td>\n",
       "      <td>6-25</td>\n",
       "      <td>No</td>\n",
       "      <td>Yes</td>\n",
       "      <td>Yes</td>\n",
       "      <td>Not sure</td>\n",
       "      <td>No</td>\n",
       "      <td>Don't know</td>\n",
       "      <td>Don't know</td>\n",
       "      <td>Don't know</td>\n",
       "      <td>No</td>\n",
       "      <td>No</td>\n",
       "      <td>Yes</td>\n",
       "      <td>Yes</td>\n",
       "      <td>No</td>\n",
       "      <td>Maybe</td>\n",
       "      <td>Don't know</td>\n",
       "      <td>No</td>\n",
       "      <td>NaN</td>\n",
       "    </tr>\n",
       "    <tr>\n",
       "      <th>6</th>\n",
       "      <td>7</td>\n",
       "      <td>2014-08-27 11:31:50</td>\n",
       "      <td>35</td>\n",
       "      <td>Female</td>\n",
       "      <td>United States</td>\n",
       "      <td>MI</td>\n",
       "      <td>NaN</td>\n",
       "      <td>Yes</td>\n",
       "      <td>Yes</td>\n",
       "      <td>Sometimes</td>\n",
       "      <td>1-5</td>\n",
       "      <td>Yes</td>\n",
       "      <td>Yes</td>\n",
       "      <td>No</td>\n",
       "      <td>No</td>\n",
       "      <td>No</td>\n",
       "      <td>No</td>\n",
       "      <td>No</td>\n",
       "      <td>Somewhat difficult</td>\n",
       "      <td>Maybe</td>\n",
       "      <td>Maybe</td>\n",
       "      <td>Some of them</td>\n",
       "      <td>No</td>\n",
       "      <td>No</td>\n",
       "      <td>No</td>\n",
       "      <td>Don't know</td>\n",
       "      <td>No</td>\n",
       "      <td>NaN</td>\n",
       "    </tr>\n",
       "    <tr>\n",
       "      <th>7</th>\n",
       "      <td>8</td>\n",
       "      <td>2014-08-27 11:32:05</td>\n",
       "      <td>39</td>\n",
       "      <td>Male</td>\n",
       "      <td>Canada</td>\n",
       "      <td>NaN</td>\n",
       "      <td>NaN</td>\n",
       "      <td>No</td>\n",
       "      <td>No</td>\n",
       "      <td>Never</td>\n",
       "      <td>1-5</td>\n",
       "      <td>Yes</td>\n",
       "      <td>Yes</td>\n",
       "      <td>No</td>\n",
       "      <td>Yes</td>\n",
       "      <td>No</td>\n",
       "      <td>No</td>\n",
       "      <td>Yes</td>\n",
       "      <td>Don't know</td>\n",
       "      <td>No</td>\n",
       "      <td>No</td>\n",
       "      <td>No</td>\n",
       "      <td>No</td>\n",
       "      <td>No</td>\n",
       "      <td>No</td>\n",
       "      <td>No</td>\n",
       "      <td>No</td>\n",
       "      <td>NaN</td>\n",
       "    </tr>\n",
       "    <tr>\n",
       "      <th>8</th>\n",
       "      <td>9</td>\n",
       "      <td>2014-08-27 11:32:39</td>\n",
       "      <td>42</td>\n",
       "      <td>Female</td>\n",
       "      <td>United States</td>\n",
       "      <td>IL</td>\n",
       "      <td>NaN</td>\n",
       "      <td>Yes</td>\n",
       "      <td>Yes</td>\n",
       "      <td>Sometimes</td>\n",
       "      <td>100-500</td>\n",
       "      <td>No</td>\n",
       "      <td>Yes</td>\n",
       "      <td>Yes</td>\n",
       "      <td>Yes</td>\n",
       "      <td>No</td>\n",
       "      <td>No</td>\n",
       "      <td>No</td>\n",
       "      <td>Very difficult</td>\n",
       "      <td>Maybe</td>\n",
       "      <td>No</td>\n",
       "      <td>Yes</td>\n",
       "      <td>Yes</td>\n",
       "      <td>No</td>\n",
       "      <td>Maybe</td>\n",
       "      <td>No</td>\n",
       "      <td>No</td>\n",
       "      <td>NaN</td>\n",
       "    </tr>\n",
       "    <tr>\n",
       "      <th>9</th>\n",
       "      <td>10</td>\n",
       "      <td>2014-08-27 11:32:43</td>\n",
       "      <td>23</td>\n",
       "      <td>Male</td>\n",
       "      <td>Canada</td>\n",
       "      <td>NaN</td>\n",
       "      <td>NaN</td>\n",
       "      <td>No</td>\n",
       "      <td>No</td>\n",
       "      <td>Never</td>\n",
       "      <td>26-100</td>\n",
       "      <td>No</td>\n",
       "      <td>Yes</td>\n",
       "      <td>Don't know</td>\n",
       "      <td>No</td>\n",
       "      <td>Don't know</td>\n",
       "      <td>Don't know</td>\n",
       "      <td>Don't know</td>\n",
       "      <td>Don't know</td>\n",
       "      <td>No</td>\n",
       "      <td>No</td>\n",
       "      <td>Yes</td>\n",
       "      <td>Yes</td>\n",
       "      <td>Maybe</td>\n",
       "      <td>Maybe</td>\n",
       "      <td>Yes</td>\n",
       "      <td>No</td>\n",
       "      <td>NaN</td>\n",
       "    </tr>\n",
       "    <tr>\n",
       "      <th>10</th>\n",
       "      <td>11</td>\n",
       "      <td>2014-08-27 11:32:44</td>\n",
       "      <td>31</td>\n",
       "      <td>Male</td>\n",
       "      <td>United States</td>\n",
       "      <td>OH</td>\n",
       "      <td>NaN</td>\n",
       "      <td>No</td>\n",
       "      <td>Yes</td>\n",
       "      <td>Sometimes</td>\n",
       "      <td>6-25</td>\n",
       "      <td>Yes</td>\n",
       "      <td>Yes</td>\n",
       "      <td>Don't know</td>\n",
       "      <td>No</td>\n",
       "      <td>No</td>\n",
       "      <td>No</td>\n",
       "      <td>Don't know</td>\n",
       "      <td>Don't know</td>\n",
       "      <td>No</td>\n",
       "      <td>No</td>\n",
       "      <td>Some of them</td>\n",
       "      <td>Yes</td>\n",
       "      <td>No</td>\n",
       "      <td>No</td>\n",
       "      <td>Don't know</td>\n",
       "      <td>No</td>\n",
       "      <td>NaN</td>\n",
       "    </tr>\n",
       "    <tr>\n",
       "      <th>11</th>\n",
       "      <td>12</td>\n",
       "      <td>2014-08-27 11:32:49</td>\n",
       "      <td>29</td>\n",
       "      <td>Male</td>\n",
       "      <td>Other</td>\n",
       "      <td>NaN</td>\n",
       "      <td>NaN</td>\n",
       "      <td>No</td>\n",
       "      <td>No</td>\n",
       "      <td>Never</td>\n",
       "      <td>100-500</td>\n",
       "      <td>Yes</td>\n",
       "      <td>Yes</td>\n",
       "      <td>Don't know</td>\n",
       "      <td>Not sure</td>\n",
       "      <td>No</td>\n",
       "      <td>No</td>\n",
       "      <td>Don't know</td>\n",
       "      <td>Don't know</td>\n",
       "      <td>No</td>\n",
       "      <td>No</td>\n",
       "      <td>Yes</td>\n",
       "      <td>Yes</td>\n",
       "      <td>Yes</td>\n",
       "      <td>Yes</td>\n",
       "      <td>Don't know</td>\n",
       "      <td>No</td>\n",
       "      <td>NaN</td>\n",
       "    </tr>\n",
       "    <tr>\n",
       "      <th>12</th>\n",
       "      <td>13</td>\n",
       "      <td>2014-08-27 11:33:23</td>\n",
       "      <td>42</td>\n",
       "      <td>Female</td>\n",
       "      <td>United States</td>\n",
       "      <td>CA</td>\n",
       "      <td>NaN</td>\n",
       "      <td>Yes</td>\n",
       "      <td>Yes</td>\n",
       "      <td>Sometimes</td>\n",
       "      <td>26-100</td>\n",
       "      <td>No</td>\n",
       "      <td>No</td>\n",
       "      <td>Yes</td>\n",
       "      <td>Yes</td>\n",
       "      <td>No</td>\n",
       "      <td>No</td>\n",
       "      <td>Don't know</td>\n",
       "      <td>Somewhat difficult</td>\n",
       "      <td>Yes</td>\n",
       "      <td>Yes</td>\n",
       "      <td>Yes</td>\n",
       "      <td>Yes</td>\n",
       "      <td>Maybe</td>\n",
       "      <td>Maybe</td>\n",
       "      <td>No</td>\n",
       "      <td>Yes</td>\n",
       "      <td>NaN</td>\n",
       "    </tr>\n",
       "    <tr>\n",
       "      <th>13</th>\n",
       "      <td>14</td>\n",
       "      <td>2014-08-27 11:33:26</td>\n",
       "      <td>36</td>\n",
       "      <td>Male</td>\n",
       "      <td>United States</td>\n",
       "      <td>CT</td>\n",
       "      <td>NaN</td>\n",
       "      <td>Yes</td>\n",
       "      <td>No</td>\n",
       "      <td>Never</td>\n",
       "      <td>500-1000</td>\n",
       "      <td>No</td>\n",
       "      <td>Yes</td>\n",
       "      <td>Don't know</td>\n",
       "      <td>Not sure</td>\n",
       "      <td>No</td>\n",
       "      <td>Don't know</td>\n",
       "      <td>Don't know</td>\n",
       "      <td>Don't know</td>\n",
       "      <td>No</td>\n",
       "      <td>No</td>\n",
       "      <td>Yes</td>\n",
       "      <td>Yes</td>\n",
       "      <td>No</td>\n",
       "      <td>No</td>\n",
       "      <td>Don't know</td>\n",
       "      <td>No</td>\n",
       "      <td>I'm not on my company's health insurance which could be part of the reason I answered Don't know to so many questions.</td>\n",
       "    </tr>\n",
       "    <tr>\n",
       "      <th>14</th>\n",
       "      <td>15</td>\n",
       "      <td>2014-08-27 11:33:57</td>\n",
       "      <td>27</td>\n",
       "      <td>Male</td>\n",
       "      <td>Canada</td>\n",
       "      <td>NaN</td>\n",
       "      <td>NaN</td>\n",
       "      <td>No</td>\n",
       "      <td>No</td>\n",
       "      <td>Never</td>\n",
       "      <td>6-25</td>\n",
       "      <td>No</td>\n",
       "      <td>Yes</td>\n",
       "      <td>Don't know</td>\n",
       "      <td>Not sure</td>\n",
       "      <td>Don't know</td>\n",
       "      <td>Don't know</td>\n",
       "      <td>Don't know</td>\n",
       "      <td>Somewhat easy</td>\n",
       "      <td>No</td>\n",
       "      <td>No</td>\n",
       "      <td>Some of them</td>\n",
       "      <td>Some of them</td>\n",
       "      <td>Maybe</td>\n",
       "      <td>Yes</td>\n",
       "      <td>Yes</td>\n",
       "      <td>No</td>\n",
       "      <td>NaN</td>\n",
       "    </tr>\n",
       "    <tr>\n",
       "      <th>15</th>\n",
       "      <td>16</td>\n",
       "      <td>2014-08-27 11:34:00</td>\n",
       "      <td>29</td>\n",
       "      <td>Female</td>\n",
       "      <td>United States</td>\n",
       "      <td>IL</td>\n",
       "      <td>NaN</td>\n",
       "      <td>Yes</td>\n",
       "      <td>Yes</td>\n",
       "      <td>Rarely</td>\n",
       "      <td>26-100</td>\n",
       "      <td>No</td>\n",
       "      <td>Yes</td>\n",
       "      <td>Yes</td>\n",
       "      <td>Not sure</td>\n",
       "      <td>No</td>\n",
       "      <td>No</td>\n",
       "      <td>Don't know</td>\n",
       "      <td>Somewhat easy</td>\n",
       "      <td>No</td>\n",
       "      <td>No</td>\n",
       "      <td>Yes</td>\n",
       "      <td>Some of them</td>\n",
       "      <td>Maybe</td>\n",
       "      <td>Maybe</td>\n",
       "      <td>Don't know</td>\n",
       "      <td>No</td>\n",
       "      <td>I have chronic low-level neurological issues that have mental health side effects. One of my supervisors has also experienced similar neurological problems so I feel more comfortable being open about my issues than I would with someone without that experience.</td>\n",
       "    </tr>\n",
       "    <tr>\n",
       "      <th>16</th>\n",
       "      <td>17</td>\n",
       "      <td>2014-08-27 11:34:20</td>\n",
       "      <td>23</td>\n",
       "      <td>Male</td>\n",
       "      <td>United Kingdom</td>\n",
       "      <td>NaN</td>\n",
       "      <td>NaN</td>\n",
       "      <td>No</td>\n",
       "      <td>Yes</td>\n",
       "      <td>Sometimes</td>\n",
       "      <td>26-100</td>\n",
       "      <td>Yes</td>\n",
       "      <td>Yes</td>\n",
       "      <td>Don't know</td>\n",
       "      <td>No</td>\n",
       "      <td>Don't know</td>\n",
       "      <td>Don't know</td>\n",
       "      <td>Don't know</td>\n",
       "      <td>Very easy</td>\n",
       "      <td>Maybe</td>\n",
       "      <td>No</td>\n",
       "      <td>Some of them</td>\n",
       "      <td>No</td>\n",
       "      <td>Maybe</td>\n",
       "      <td>Maybe</td>\n",
       "      <td>No</td>\n",
       "      <td>No</td>\n",
       "      <td>My company does provide healthcare but not to me as I'm on a fixed-term contract. The mental healthcare I use is provided entirely outside of my work.</td>\n",
       "    </tr>\n",
       "    <tr>\n",
       "      <th>17</th>\n",
       "      <td>18</td>\n",
       "      <td>2014-08-27 11:34:37</td>\n",
       "      <td>32</td>\n",
       "      <td>Male</td>\n",
       "      <td>United States</td>\n",
       "      <td>TN</td>\n",
       "      <td>NaN</td>\n",
       "      <td>No</td>\n",
       "      <td>Yes</td>\n",
       "      <td>Sometimes</td>\n",
       "      <td>6-25</td>\n",
       "      <td>No</td>\n",
       "      <td>Yes</td>\n",
       "      <td>Yes</td>\n",
       "      <td>Yes</td>\n",
       "      <td>No</td>\n",
       "      <td>Don't know</td>\n",
       "      <td>Don't know</td>\n",
       "      <td>Don't know</td>\n",
       "      <td>Maybe</td>\n",
       "      <td>No</td>\n",
       "      <td>Some of them</td>\n",
       "      <td>Yes</td>\n",
       "      <td>No</td>\n",
       "      <td>No</td>\n",
       "      <td>No</td>\n",
       "      <td>No</td>\n",
       "      <td>NaN</td>\n",
       "    </tr>\n",
       "  </tbody>\n",
       "</table>\n",
       "</div>"
      ],
      "text/plain": [
       "    S.No            Timestamp  Age  Gender         Country state  \\\n",
       "0      1  2014-08-27 11:29:31   37  Female   United States    IL   \n",
       "1      2  2014-08-27 11:29:37   44    Male   United States    IN   \n",
       "2      3  2014-08-27 11:29:44   32    Male          Canada   NaN   \n",
       "3      4  2014-08-27 11:29:46   31    Male  United Kingdom   NaN   \n",
       "4      5  2014-08-27 11:30:22   31    Male   United States    TX   \n",
       "5      6  2014-08-27 11:31:22   33    Male   United States    TN   \n",
       "6      7  2014-08-27 11:31:50   35  Female   United States    MI   \n",
       "7      8  2014-08-27 11:32:05   39    Male          Canada   NaN   \n",
       "8      9  2014-08-27 11:32:39   42  Female   United States    IL   \n",
       "9     10  2014-08-27 11:32:43   23    Male          Canada   NaN   \n",
       "10    11  2014-08-27 11:32:44   31    Male   United States    OH   \n",
       "11    12  2014-08-27 11:32:49   29    Male           Other   NaN   \n",
       "12    13  2014-08-27 11:33:23   42  Female   United States    CA   \n",
       "13    14  2014-08-27 11:33:26   36    Male   United States    CT   \n",
       "14    15  2014-08-27 11:33:57   27    Male          Canada   NaN   \n",
       "15    16  2014-08-27 11:34:00   29  Female   United States    IL   \n",
       "16    17  2014-08-27 11:34:20   23    Male  United Kingdom   NaN   \n",
       "17    18  2014-08-27 11:34:37   32    Male   United States    TN   \n",
       "\n",
       "   self_employed family_history treatment work_interfere    no_employees  \\\n",
       "0            NaN             No       Yes          Often            6-25   \n",
       "1            NaN             No        No         Rarely  More than 1000   \n",
       "2            NaN             No        No         Rarely            6-25   \n",
       "3            NaN            Yes       Yes          Often          26-100   \n",
       "4            NaN             No        No          Never         100-500   \n",
       "5            NaN            Yes        No      Sometimes            6-25   \n",
       "6            NaN            Yes       Yes      Sometimes             1-5   \n",
       "7            NaN             No        No          Never             1-5   \n",
       "8            NaN            Yes       Yes      Sometimes         100-500   \n",
       "9            NaN             No        No          Never          26-100   \n",
       "10           NaN             No       Yes      Sometimes            6-25   \n",
       "11           NaN             No        No          Never         100-500   \n",
       "12           NaN            Yes       Yes      Sometimes          26-100   \n",
       "13           NaN            Yes        No          Never        500-1000   \n",
       "14           NaN             No        No          Never            6-25   \n",
       "15           NaN            Yes       Yes         Rarely          26-100   \n",
       "16           NaN             No       Yes      Sometimes          26-100   \n",
       "17           NaN             No       Yes      Sometimes            6-25   \n",
       "\n",
       "   remote_work tech_company    benefits care_options wellness_program  \\\n",
       "0           No          Yes         Yes     Not sure               No   \n",
       "1           No           No  Don't know           No       Don't know   \n",
       "2           No          Yes          No           No               No   \n",
       "3           No          Yes          No          Yes               No   \n",
       "4          Yes          Yes         Yes           No       Don't know   \n",
       "5           No          Yes         Yes     Not sure               No   \n",
       "6          Yes          Yes          No           No               No   \n",
       "7          Yes          Yes          No          Yes               No   \n",
       "8           No          Yes         Yes          Yes               No   \n",
       "9           No          Yes  Don't know           No       Don't know   \n",
       "10         Yes          Yes  Don't know           No               No   \n",
       "11         Yes          Yes  Don't know     Not sure               No   \n",
       "12          No           No         Yes          Yes               No   \n",
       "13          No          Yes  Don't know     Not sure               No   \n",
       "14          No          Yes  Don't know     Not sure       Don't know   \n",
       "15          No          Yes         Yes     Not sure               No   \n",
       "16         Yes          Yes  Don't know           No       Don't know   \n",
       "17          No          Yes         Yes          Yes               No   \n",
       "\n",
       "     seek_help   anonymity               leave mental_health_consequence  \\\n",
       "0          Yes         Yes       Somewhat easy                        No   \n",
       "1   Don't know  Don't know          Don't know                     Maybe   \n",
       "2           No  Don't know  Somewhat difficult                        No   \n",
       "3           No          No  Somewhat difficult                       Yes   \n",
       "4   Don't know  Don't know          Don't know                        No   \n",
       "5   Don't know  Don't know          Don't know                        No   \n",
       "6           No          No  Somewhat difficult                     Maybe   \n",
       "7           No         Yes          Don't know                        No   \n",
       "8           No          No      Very difficult                     Maybe   \n",
       "9   Don't know  Don't know          Don't know                        No   \n",
       "10          No  Don't know          Don't know                        No   \n",
       "11          No  Don't know          Don't know                        No   \n",
       "12          No  Don't know  Somewhat difficult                       Yes   \n",
       "13  Don't know  Don't know          Don't know                        No   \n",
       "14  Don't know  Don't know       Somewhat easy                        No   \n",
       "15          No  Don't know       Somewhat easy                        No   \n",
       "16  Don't know  Don't know           Very easy                     Maybe   \n",
       "17  Don't know  Don't know          Don't know                     Maybe   \n",
       "\n",
       "   phys_health_consequence     coworkers    supervisor  \\\n",
       "0                       No  Some of them           Yes   \n",
       "1                       No            No            No   \n",
       "2                       No           Yes           Yes   \n",
       "3                      Yes  Some of them            No   \n",
       "4                       No  Some of them           Yes   \n",
       "5                       No           Yes           Yes   \n",
       "6                    Maybe  Some of them            No   \n",
       "7                       No            No            No   \n",
       "8                       No           Yes           Yes   \n",
       "9                       No           Yes           Yes   \n",
       "10                      No  Some of them           Yes   \n",
       "11                      No           Yes           Yes   \n",
       "12                     Yes           Yes           Yes   \n",
       "13                      No           Yes           Yes   \n",
       "14                      No  Some of them  Some of them   \n",
       "15                      No           Yes  Some of them   \n",
       "16                      No  Some of them            No   \n",
       "17                      No  Some of them           Yes   \n",
       "\n",
       "   mental_health_interview phys_health_interview mental_vs_physical  \\\n",
       "0                       No                 Maybe                Yes   \n",
       "1                       No                    No         Don't know   \n",
       "2                      Yes                   Yes                 No   \n",
       "3                    Maybe                 Maybe                 No   \n",
       "4                      Yes                   Yes         Don't know   \n",
       "5                       No                 Maybe         Don't know   \n",
       "6                       No                    No         Don't know   \n",
       "7                       No                    No                 No   \n",
       "8                       No                 Maybe                 No   \n",
       "9                    Maybe                 Maybe                Yes   \n",
       "10                      No                    No         Don't know   \n",
       "11                     Yes                   Yes         Don't know   \n",
       "12                   Maybe                 Maybe                 No   \n",
       "13                      No                    No         Don't know   \n",
       "14                   Maybe                   Yes                Yes   \n",
       "15                   Maybe                 Maybe         Don't know   \n",
       "16                   Maybe                 Maybe                 No   \n",
       "17                      No                    No                 No   \n",
       "\n",
       "   obs_consequence  \\\n",
       "0               No   \n",
       "1               No   \n",
       "2               No   \n",
       "3              Yes   \n",
       "4               No   \n",
       "5               No   \n",
       "6               No   \n",
       "7               No   \n",
       "8               No   \n",
       "9               No   \n",
       "10              No   \n",
       "11              No   \n",
       "12             Yes   \n",
       "13              No   \n",
       "14              No   \n",
       "15              No   \n",
       "16              No   \n",
       "17              No   \n",
       "\n",
       "                                                                                                                                                                                                                                                                 comments  \n",
       "0                                                                                                                                                                                                                                                                     NaN  \n",
       "1                                                                                                                                                                                                                                                                     NaN  \n",
       "2                                                                                                                                                                                                                                                                     NaN  \n",
       "3                                                                                                                                                                                                                                                                     NaN  \n",
       "4                                                                                                                                                                                                                                                                     NaN  \n",
       "5                                                                                                                                                                                                                                                                     NaN  \n",
       "6                                                                                                                                                                                                                                                                     NaN  \n",
       "7                                                                                                                                                                                                                                                                     NaN  \n",
       "8                                                                                                                                                                                                                                                                     NaN  \n",
       "9                                                                                                                                                                                                                                                                     NaN  \n",
       "10                                                                                                                                                                                                                                                                    NaN  \n",
       "11                                                                                                                                                                                                                                                                    NaN  \n",
       "12                                                                                                                                                                                                                                                                    NaN  \n",
       "13                                                                                                                                                 I'm not on my company's health insurance which could be part of the reason I answered Don't know to so many questions.  \n",
       "14                                                                                                                                                                                                                                                                    NaN  \n",
       "15  I have chronic low-level neurological issues that have mental health side effects. One of my supervisors has also experienced similar neurological problems so I feel more comfortable being open about my issues than I would with someone without that experience.   \n",
       "16                                                                                                                 My company does provide healthcare but not to me as I'm on a fixed-term contract. The mental healthcare I use is provided entirely outside of my work.  \n",
       "17                                                                                                                                                                                                                                                                    NaN  "
      ]
     },
     "execution_count": 99,
     "metadata": {},
     "output_type": "execute_result"
    }
   ],
   "source": [
    "df[df.self_employed.isnull()]"
   ]
  },
  {
   "cell_type": "code",
   "execution_count": 100,
   "metadata": {},
   "outputs": [],
   "source": [
    "df.self_employed.fillna('No', inplace=True, axis=0)"
   ]
  },
  {
   "cell_type": "code",
   "execution_count": 101,
   "metadata": {},
   "outputs": [
    {
     "data": {
      "text/plain": [
       "0"
      ]
     },
     "execution_count": 101,
     "metadata": {},
     "output_type": "execute_result"
    }
   ],
   "source": [
    "df.self_employed.isnull().sum()"
   ]
  },
  {
   "cell_type": "code",
   "execution_count": 102,
   "metadata": {},
   "outputs": [
    {
     "data": {
      "text/plain": [
       "No     189\n",
       "Yes     21\n",
       "Name: self_employed, dtype: int64"
      ]
     },
     "execution_count": 102,
     "metadata": {},
     "output_type": "execute_result"
    }
   ],
   "source": [
    "test.self_employed.value_counts()"
   ]
  },
  {
   "cell_type": "code",
   "execution_count": 103,
   "metadata": {},
   "outputs": [
    {
     "data": {
      "text/plain": [
       "<AxesSubplot:xlabel='self_employed', ylabel='Age'>"
      ]
     },
     "execution_count": 103,
     "metadata": {},
     "output_type": "execute_result"
    },
    {
     "data": {
      "image/png": "[encoded data removed]",
      "text/plain": [
       "<Figure size 432x288 with 1 Axes>"
      ]
     },
     "metadata": {
      "needs_background": "light"
     },
     "output_type": "display_data"
    }
   ],
   "source": [
    "# Is Age impacting self employment----no\n",
    "\n",
    "sns.barplot(x=df.self_employed, y=df.Age)"
   ]
  },
  {
   "cell_type": "code",
   "execution_count": 104,
   "metadata": {},
   "outputs": [
    {
     "data": {
      "text/html": [
       "<div>\n",
       "<style scoped>\n",
       "    .dataframe tbody tr th:only-of-type {\n",
       "        vertical-align: middle;\n",
       "    }\n",
       "\n",
       "    .dataframe tbody tr th {\n",
       "        vertical-align: top;\n",
       "    }\n",
       "\n",
       "    .dataframe thead th {\n",
       "        text-align: right;\n",
       "    }\n",
       "</style>\n",
       "<table border=\"1\" class=\"dataframe\">\n",
       "  <thead>\n",
       "    <tr style=\"text-align: right;\">\n",
       "      <th>Country</th>\n",
       "      <th>Canada</th>\n",
       "      <th>Other</th>\n",
       "      <th>United Kingdom</th>\n",
       "      <th>United States</th>\n",
       "    </tr>\n",
       "    <tr>\n",
       "      <th>self_employed</th>\n",
       "      <th></th>\n",
       "      <th></th>\n",
       "      <th></th>\n",
       "      <th></th>\n",
       "    </tr>\n",
       "  </thead>\n",
       "  <tbody>\n",
       "    <tr>\n",
       "      <th>No</th>\n",
       "      <td>85.9375</td>\n",
       "      <td>77.419355</td>\n",
       "      <td>83.552632</td>\n",
       "      <td>92.667707</td>\n",
       "    </tr>\n",
       "    <tr>\n",
       "      <th>Yes</th>\n",
       "      <td>14.0625</td>\n",
       "      <td>22.580645</td>\n",
       "      <td>16.447368</td>\n",
       "      <td>7.332293</td>\n",
       "    </tr>\n",
       "  </tbody>\n",
       "</table>\n",
       "</div>"
      ],
      "text/plain": [
       "Country         Canada      Other  United Kingdom  United States\n",
       "self_employed                                                   \n",
       "No             85.9375  77.419355       83.552632      92.667707\n",
       "Yes            14.0625  22.580645       16.447368       7.332293"
      ]
     },
     "execution_count": 104,
     "metadata": {},
     "output_type": "execute_result"
    }
   ],
   "source": [
    "# Is the Country impacting self employment\n",
    "\n",
    "pd.crosstab(df.self_employed, df.Country, normalize='columns') * 100"
   ]
  },
  {
   "cell_type": "code",
   "execution_count": 105,
   "metadata": {},
   "outputs": [],
   "source": [
    "# In US only 7.4 % of the people are self_employed"
   ]
  },
  {
   "cell_type": "code",
   "execution_count": 106,
   "metadata": {},
   "outputs": [
    {
     "data": {
      "text/html": [
       "<div>\n",
       "<style scoped>\n",
       "    .dataframe tbody tr th:only-of-type {\n",
       "        vertical-align: middle;\n",
       "    }\n",
       "\n",
       "    .dataframe tbody tr th {\n",
       "        vertical-align: top;\n",
       "    }\n",
       "\n",
       "    .dataframe thead th {\n",
       "        text-align: right;\n",
       "    }\n",
       "</style>\n",
       "<table border=\"1\" class=\"dataframe\">\n",
       "  <thead>\n",
       "    <tr style=\"text-align: right;\">\n",
       "      <th>treatment</th>\n",
       "      <th>No</th>\n",
       "      <th>Yes</th>\n",
       "    </tr>\n",
       "    <tr>\n",
       "      <th>self_employed</th>\n",
       "      <th></th>\n",
       "      <th></th>\n",
       "    </tr>\n",
       "  </thead>\n",
       "  <tbody>\n",
       "    <tr>\n",
       "      <th>No</th>\n",
       "      <td>88.576779</td>\n",
       "      <td>87.819253</td>\n",
       "    </tr>\n",
       "    <tr>\n",
       "      <th>Yes</th>\n",
       "      <td>11.423221</td>\n",
       "      <td>12.180747</td>\n",
       "    </tr>\n",
       "  </tbody>\n",
       "</table>\n",
       "</div>"
      ],
      "text/plain": [
       "treatment             No        Yes\n",
       "self_employed                      \n",
       "No             88.576779  87.819253\n",
       "Yes            11.423221  12.180747"
      ]
     },
     "execution_count": 106,
     "metadata": {},
     "output_type": "execute_result"
    }
   ],
   "source": [
    "# Does self-employment determine the status of treatment? ###\n",
    "\n",
    "pd.crosstab(df.self_employed, df.treatment, normalize='columns') * 100"
   ]
  },
  {
   "cell_type": "code",
   "execution_count": 107,
   "metadata": {},
   "outputs": [
    {
     "name": "stdout",
     "output_type": "stream",
     "text": [
      "Ho:  There is no significant assosiation between self_employed and treatment (No predictability)\n",
      "Ha:  There is a significant assosiation between self_employed and treatment (Good predictor)\n",
      "\n",
      "\n",
      "chi-square stats:  0.08016089900597238\n",
      "p-value:  0.7770794838173412\n",
      "\n",
      "\n",
      "Fail to reject null hypothesis,  There is no significant assosiation between self_employed and treatment (No predictability)\n"
     ]
    }
   ],
   "source": [
    "# It appears that there is not much association between self_employed and treatment. Lets do a chi2 test\n",
    "\n",
    "p_value['self_employed'] = chi2('self_employed', 'treatment', df)"
   ]
  },
  {
   "cell_type": "code",
   "execution_count": 108,
   "metadata": {},
   "outputs": [],
   "source": [
    "# chi2 test also tells the same thing.\n",
    "\n",
    "action['drop'].append('self_employed')"
   ]
  },
  {
   "cell_type": "markdown",
   "metadata": {},
   "source": [
    "#### family_history"
   ]
  },
  {
   "cell_type": "code",
   "execution_count": 109,
   "metadata": {},
   "outputs": [
    {
     "data": {
      "text/plain": [
       "Description    Do you have a family history of mental illness?\n",
       "Name: family_history, dtype: object"
      ]
     },
     "execution_count": 109,
     "metadata": {},
     "output_type": "execute_result"
    }
   ],
   "source": [
    "desc['family_history']"
   ]
  },
  {
   "cell_type": "code",
   "execution_count": 110,
   "metadata": {},
   "outputs": [
    {
     "data": {
      "text/plain": [
       "count     1043\n",
       "unique       2\n",
       "top         No\n",
       "freq       639\n",
       "Name: family_history, dtype: object"
      ]
     },
     "execution_count": 110,
     "metadata": {},
     "output_type": "execute_result"
    }
   ],
   "source": [
    "df.family_history.describe()"
   ]
  },
  {
   "cell_type": "code",
   "execution_count": 111,
   "metadata": {},
   "outputs": [
    {
     "data": {
      "text/plain": [
       "No     639\n",
       "Yes    404\n",
       "Name: family_history, dtype: int64"
      ]
     },
     "execution_count": 111,
     "metadata": {},
     "output_type": "execute_result"
    }
   ],
   "source": [
    "df.family_history.value_counts()"
   ]
  },
  {
   "cell_type": "code",
   "execution_count": 112,
   "metadata": {},
   "outputs": [
    {
     "data": {
      "text/plain": [
       "<AxesSubplot:xlabel='family_history', ylabel='count'>"
      ]
     },
     "execution_count": 112,
     "metadata": {},
     "output_type": "execute_result"
    },
    {
     "data": {
      "image/png": "[encoded data removed]",
      "text/plain": [
       "<Figure size 432x288 with 1 Axes>"
      ]
     },
     "metadata": {
      "needs_background": "light"
     },
     "output_type": "display_data"
    }
   ],
   "source": [
    "sns.countplot(df.family_history)"
   ]
  },
  {
   "cell_type": "code",
   "execution_count": 113,
   "metadata": {},
   "outputs": [
    {
     "data": {
      "text/plain": [
       "No     123\n",
       "Yes     87\n",
       "Name: family_history, dtype: int64"
      ]
     },
     "execution_count": 113,
     "metadata": {},
     "output_type": "execute_result"
    }
   ],
   "source": [
    "test.family_history.value_counts()"
   ]
  },
  {
   "cell_type": "code",
   "execution_count": 114,
   "metadata": {},
   "outputs": [
    {
     "data": {
      "text/plain": [
       "Index(['S.No', 'Timestamp', 'Age', 'Gender', 'Country', 'state',\n",
       "       'self_employed', 'family_history', 'treatment', 'work_interfere',\n",
       "       'no_employees', 'remote_work', 'tech_company', 'benefits',\n",
       "       'care_options', 'wellness_program', 'seek_help', 'anonymity', 'leave',\n",
       "       'mental_health_consequence', 'phys_health_consequence', 'coworkers',\n",
       "       'supervisor', 'mental_health_interview', 'phys_health_interview',\n",
       "       'mental_vs_physical', 'obs_consequence', 'comments'],\n",
       "      dtype='object')"
      ]
     },
     "execution_count": 114,
     "metadata": {},
     "output_type": "execute_result"
    }
   ],
   "source": [
    "df.columns"
   ]
  },
  {
   "cell_type": "code",
   "execution_count": 115,
   "metadata": {},
   "outputs": [
    {
     "data": {
      "text/html": [
       "<div>\n",
       "<style scoped>\n",
       "    .dataframe tbody tr th:only-of-type {\n",
       "        vertical-align: middle;\n",
       "    }\n",
       "\n",
       "    .dataframe tbody tr th {\n",
       "        vertical-align: top;\n",
       "    }\n",
       "\n",
       "    .dataframe thead th {\n",
       "        text-align: right;\n",
       "    }\n",
       "</style>\n",
       "<table border=\"1\" class=\"dataframe\">\n",
       "  <thead>\n",
       "    <tr style=\"text-align: right;\">\n",
       "      <th>treatment</th>\n",
       "      <th>No</th>\n",
       "      <th>Yes</th>\n",
       "    </tr>\n",
       "    <tr>\n",
       "      <th>family_history</th>\n",
       "      <th></th>\n",
       "      <th></th>\n",
       "    </tr>\n",
       "  </thead>\n",
       "  <tbody>\n",
       "    <tr>\n",
       "      <th>No</th>\n",
       "      <td>79.588015</td>\n",
       "      <td>42.043222</td>\n",
       "    </tr>\n",
       "    <tr>\n",
       "      <th>Yes</th>\n",
       "      <td>20.411985</td>\n",
       "      <td>57.956778</td>\n",
       "    </tr>\n",
       "  </tbody>\n",
       "</table>\n",
       "</div>"
      ],
      "text/plain": [
       "treatment              No        Yes\n",
       "family_history                      \n",
       "No              79.588015  42.043222\n",
       "Yes             20.411985  57.956778"
      ]
     },
     "execution_count": 115,
     "metadata": {},
     "output_type": "execute_result"
    }
   ],
   "source": [
    "### Does family history of mental illness affect the person? ###\n",
    "\n",
    "pd.crosstab(df.family_history, df.treatment, normalize='columns') * 100"
   ]
  },
  {
   "cell_type": "code",
   "execution_count": 116,
   "metadata": {},
   "outputs": [],
   "source": [
    "# If the family history shows mental illness, then there is a 57% chance that the person need treatment."
   ]
  },
  {
   "cell_type": "code",
   "execution_count": 117,
   "metadata": {},
   "outputs": [
    {
     "name": "stdout",
     "output_type": "stream",
     "text": [
      "Ho:  There is no significant assosiation between family_history and treatment (No predictability)\n",
      "Ha:  There is a significant assosiation between family_history and treatment (Good predictor)\n",
      "\n",
      "\n",
      "chi-square stats:  153.21822626181694\n",
      "p-value:  3.432259316054486e-35\n",
      "\n",
      "\n",
      "Reject null hypothesis,  There is a significant assosiation between family_history and treatment (Good predictor)\n"
     ]
    }
   ],
   "source": [
    "p_value['family_history'] = chi2('family_history', 'treatment', df)"
   ]
  },
  {
   "cell_type": "code",
   "execution_count": 118,
   "metadata": {},
   "outputs": [],
   "source": [
    "# family history is a good predictor"
   ]
  },
  {
   "cell_type": "markdown",
   "metadata": {},
   "source": [
    "#### work_interfere"
   ]
  },
  {
   "cell_type": "code",
   "execution_count": 119,
   "metadata": {},
   "outputs": [
    {
     "data": {
      "text/plain": [
       "Description    If you have a mental health condition, do you feel that it interferes with your work?\n",
       "Name: work_interfere, dtype: object"
      ]
     },
     "execution_count": 119,
     "metadata": {},
     "output_type": "execute_result"
    }
   ],
   "source": [
    "desc['work_interfere']"
   ]
  },
  {
   "cell_type": "code",
   "execution_count": 120,
   "metadata": {},
   "outputs": [
    {
     "data": {
      "text/plain": [
       "count           809\n",
       "unique            4\n",
       "top       Sometimes\n",
       "freq            385\n",
       "Name: work_interfere, dtype: object"
      ]
     },
     "execution_count": 120,
     "metadata": {},
     "output_type": "execute_result"
    }
   ],
   "source": [
    "df.work_interfere.describe()"
   ]
  },
  {
   "cell_type": "code",
   "execution_count": 121,
   "metadata": {},
   "outputs": [
    {
     "data": {
      "text/plain": [
       "Sometimes    385\n",
       "Never        178\n",
       "Rarely       144\n",
       "Often        102\n",
       "Name: work_interfere, dtype: int64"
      ]
     },
     "execution_count": 121,
     "metadata": {},
     "output_type": "execute_result"
    }
   ],
   "source": [
    "df.work_interfere.value_counts()"
   ]
  },
  {
   "cell_type": "code",
   "execution_count": 122,
   "metadata": {},
   "outputs": [
    {
     "data": {
      "text/plain": [
       "Sometimes    79\n",
       "Often        39\n",
       "Never        35\n",
       "Rarely       29\n",
       "Name: work_interfere, dtype: int64"
      ]
     },
     "execution_count": 122,
     "metadata": {},
     "output_type": "execute_result"
    }
   ],
   "source": [
    "test.work_interfere.value_counts()"
   ]
  },
  {
   "cell_type": "code",
   "execution_count": 123,
   "metadata": {},
   "outputs": [
    {
     "name": "stdout",
     "output_type": "stream",
     "text": [
      "Proportion of Sometimes: 37%\n",
      "Proportion of Never: 17%\n",
      "Proportion of Rarely: 14%\n",
      "Proportion of Often: 10%\n"
     ]
    }
   ],
   "source": [
    "find_proportion('work_interfere', df)"
   ]
  },
  {
   "cell_type": "code",
   "execution_count": 124,
   "metadata": {},
   "outputs": [
    {
     "data": {
      "text/plain": [
       "234"
      ]
     },
     "execution_count": 124,
     "metadata": {},
     "output_type": "execute_result"
    }
   ],
   "source": [
    "df.work_interfere.isnull().sum()"
   ]
  },
  {
   "cell_type": "code",
   "execution_count": 125,
   "metadata": {},
   "outputs": [
    {
     "data": {
      "text/html": [
       "<div>\n",
       "<style scoped>\n",
       "    .dataframe tbody tr th:only-of-type {\n",
       "        vertical-align: middle;\n",
       "    }\n",
       "\n",
       "    .dataframe tbody tr th {\n",
       "        vertical-align: top;\n",
       "    }\n",
       "\n",
       "    .dataframe thead th {\n",
       "        text-align: right;\n",
       "    }\n",
       "</style>\n",
       "<table border=\"1\" class=\"dataframe\">\n",
       "  <thead>\n",
       "    <tr style=\"text-align: right;\">\n",
       "      <th></th>\n",
       "      <th>S.No</th>\n",
       "      <th>Timestamp</th>\n",
       "      <th>Age</th>\n",
       "      <th>Gender</th>\n",
       "      <th>Country</th>\n",
       "      <th>state</th>\n",
       "      <th>self_employed</th>\n",
       "      <th>family_history</th>\n",
       "      <th>treatment</th>\n",
       "      <th>work_interfere</th>\n",
       "      <th>no_employees</th>\n",
       "      <th>remote_work</th>\n",
       "      <th>tech_company</th>\n",
       "      <th>benefits</th>\n",
       "      <th>care_options</th>\n",
       "      <th>wellness_program</th>\n",
       "      <th>seek_help</th>\n",
       "      <th>anonymity</th>\n",
       "      <th>leave</th>\n",
       "      <th>mental_health_consequence</th>\n",
       "      <th>phys_health_consequence</th>\n",
       "      <th>coworkers</th>\n",
       "      <th>supervisor</th>\n",
       "      <th>mental_health_interview</th>\n",
       "      <th>phys_health_interview</th>\n",
       "      <th>mental_vs_physical</th>\n",
       "      <th>obs_consequence</th>\n",
       "      <th>comments</th>\n",
       "    </tr>\n",
       "  </thead>\n",
       "  <tbody>\n",
       "    <tr>\n",
       "      <th>19</th>\n",
       "      <td>20</td>\n",
       "      <td>2014-08-27 11:35:08</td>\n",
       "      <td>36</td>\n",
       "      <td>Male</td>\n",
       "      <td>Other</td>\n",
       "      <td>NaN</td>\n",
       "      <td>Yes</td>\n",
       "      <td>Yes</td>\n",
       "      <td>No</td>\n",
       "      <td>NaN</td>\n",
       "      <td>6-25</td>\n",
       "      <td>Yes</td>\n",
       "      <td>Yes</td>\n",
       "      <td>No</td>\n",
       "      <td>No</td>\n",
       "      <td>Yes</td>\n",
       "      <td>No</td>\n",
       "      <td>Yes</td>\n",
       "      <td>Somewhat easy</td>\n",
       "      <td>No</td>\n",
       "      <td>No</td>\n",
       "      <td>Some of them</td>\n",
       "      <td>Some of them</td>\n",
       "      <td>Maybe</td>\n",
       "      <td>Maybe</td>\n",
       "      <td>Don't know</td>\n",
       "      <td>No</td>\n",
       "      <td>NaN</td>\n",
       "    </tr>\n",
       "    <tr>\n",
       "      <th>26</th>\n",
       "      <td>27</td>\n",
       "      <td>2014-08-27 11:37:23</td>\n",
       "      <td>33</td>\n",
       "      <td>Male</td>\n",
       "      <td>United States</td>\n",
       "      <td>TN</td>\n",
       "      <td>No</td>\n",
       "      <td>No</td>\n",
       "      <td>No</td>\n",
       "      <td>NaN</td>\n",
       "      <td>1-5</td>\n",
       "      <td>No</td>\n",
       "      <td>Yes</td>\n",
       "      <td>Don't know</td>\n",
       "      <td>Not sure</td>\n",
       "      <td>No</td>\n",
       "      <td>Don't know</td>\n",
       "      <td>Don't know</td>\n",
       "      <td>Don't know</td>\n",
       "      <td>Maybe</td>\n",
       "      <td>Maybe</td>\n",
       "      <td>Some of them</td>\n",
       "      <td>No</td>\n",
       "      <td>No</td>\n",
       "      <td>No</td>\n",
       "      <td>Don't know</td>\n",
       "      <td>No</td>\n",
       "      <td>NaN</td>\n",
       "    </tr>\n",
       "    <tr>\n",
       "      <th>37</th>\n",
       "      <td>38</td>\n",
       "      <td>2014-08-27 11:41:50</td>\n",
       "      <td>38</td>\n",
       "      <td>Male</td>\n",
       "      <td>Other</td>\n",
       "      <td>NaN</td>\n",
       "      <td>No</td>\n",
       "      <td>No</td>\n",
       "      <td>No</td>\n",
       "      <td>NaN</td>\n",
       "      <td>100-500</td>\n",
       "      <td>No</td>\n",
       "      <td>Yes</td>\n",
       "      <td>No</td>\n",
       "      <td>Yes</td>\n",
       "      <td>No</td>\n",
       "      <td>No</td>\n",
       "      <td>Don't know</td>\n",
       "      <td>Somewhat easy</td>\n",
       "      <td>Maybe</td>\n",
       "      <td>No</td>\n",
       "      <td>Some of them</td>\n",
       "      <td>Some of them</td>\n",
       "      <td>No</td>\n",
       "      <td>Maybe</td>\n",
       "      <td>No</td>\n",
       "      <td>No</td>\n",
       "      <td>NaN</td>\n",
       "    </tr>\n",
       "    <tr>\n",
       "      <th>38</th>\n",
       "      <td>39</td>\n",
       "      <td>2014-08-27 11:42:08</td>\n",
       "      <td>50</td>\n",
       "      <td>Male</td>\n",
       "      <td>United States</td>\n",
       "      <td>IN</td>\n",
       "      <td>No</td>\n",
       "      <td>No</td>\n",
       "      <td>No</td>\n",
       "      <td>NaN</td>\n",
       "      <td>100-500</td>\n",
       "      <td>No</td>\n",
       "      <td>Yes</td>\n",
       "      <td>Yes</td>\n",
       "      <td>Yes</td>\n",
       "      <td>No</td>\n",
       "      <td>Don't know</td>\n",
       "      <td>Don't know</td>\n",
       "      <td>Don't know</td>\n",
       "      <td>No</td>\n",
       "      <td>No</td>\n",
       "      <td>Some of them</td>\n",
       "      <td>Yes</td>\n",
       "      <td>No</td>\n",
       "      <td>Maybe</td>\n",
       "      <td>Don't know</td>\n",
       "      <td>No</td>\n",
       "      <td>NaN</td>\n",
       "    </tr>\n",
       "    <tr>\n",
       "      <th>41</th>\n",
       "      <td>42</td>\n",
       "      <td>2014-08-27 11:42:31</td>\n",
       "      <td>35</td>\n",
       "      <td>Male</td>\n",
       "      <td>United States</td>\n",
       "      <td>MI</td>\n",
       "      <td>No</td>\n",
       "      <td>No</td>\n",
       "      <td>No</td>\n",
       "      <td>NaN</td>\n",
       "      <td>More than 1000</td>\n",
       "      <td>Yes</td>\n",
       "      <td>Yes</td>\n",
       "      <td>Yes</td>\n",
       "      <td>Not sure</td>\n",
       "      <td>Don't know</td>\n",
       "      <td>Yes</td>\n",
       "      <td>Don't know</td>\n",
       "      <td>Somewhat difficult</td>\n",
       "      <td>Yes</td>\n",
       "      <td>Yes</td>\n",
       "      <td>Some of them</td>\n",
       "      <td>No</td>\n",
       "      <td>No</td>\n",
       "      <td>Maybe</td>\n",
       "      <td>Don't know</td>\n",
       "      <td>No</td>\n",
       "      <td>NaN</td>\n",
       "    </tr>\n",
       "    <tr>\n",
       "      <th>...</th>\n",
       "      <td>...</td>\n",
       "      <td>...</td>\n",
       "      <td>...</td>\n",
       "      <td>...</td>\n",
       "      <td>...</td>\n",
       "      <td>...</td>\n",
       "      <td>...</td>\n",
       "      <td>...</td>\n",
       "      <td>...</td>\n",
       "      <td>...</td>\n",
       "      <td>...</td>\n",
       "      <td>...</td>\n",
       "      <td>...</td>\n",
       "      <td>...</td>\n",
       "      <td>...</td>\n",
       "      <td>...</td>\n",
       "      <td>...</td>\n",
       "      <td>...</td>\n",
       "      <td>...</td>\n",
       "      <td>...</td>\n",
       "      <td>...</td>\n",
       "      <td>...</td>\n",
       "      <td>...</td>\n",
       "      <td>...</td>\n",
       "      <td>...</td>\n",
       "      <td>...</td>\n",
       "      <td>...</td>\n",
       "      <td>...</td>\n",
       "    </tr>\n",
       "    <tr>\n",
       "      <th>1029</th>\n",
       "      <td>1030</td>\n",
       "      <td>2014-08-29 10:33:45</td>\n",
       "      <td>34</td>\n",
       "      <td>Male</td>\n",
       "      <td>United States</td>\n",
       "      <td>IN</td>\n",
       "      <td>No</td>\n",
       "      <td>No</td>\n",
       "      <td>No</td>\n",
       "      <td>NaN</td>\n",
       "      <td>More than 1000</td>\n",
       "      <td>No</td>\n",
       "      <td>No</td>\n",
       "      <td>Yes</td>\n",
       "      <td>Not sure</td>\n",
       "      <td>Yes</td>\n",
       "      <td>Don't know</td>\n",
       "      <td>Don't know</td>\n",
       "      <td>Don't know</td>\n",
       "      <td>Maybe</td>\n",
       "      <td>Maybe</td>\n",
       "      <td>Some of them</td>\n",
       "      <td>Yes</td>\n",
       "      <td>No</td>\n",
       "      <td>No</td>\n",
       "      <td>Don't know</td>\n",
       "      <td>No</td>\n",
       "      <td>NaN</td>\n",
       "    </tr>\n",
       "    <tr>\n",
       "      <th>1030</th>\n",
       "      <td>1031</td>\n",
       "      <td>2014-08-29 10:38:23</td>\n",
       "      <td>26</td>\n",
       "      <td>Male</td>\n",
       "      <td>United States</td>\n",
       "      <td>MN</td>\n",
       "      <td>No</td>\n",
       "      <td>Yes</td>\n",
       "      <td>No</td>\n",
       "      <td>NaN</td>\n",
       "      <td>6-25</td>\n",
       "      <td>No</td>\n",
       "      <td>Yes</td>\n",
       "      <td>Don't know</td>\n",
       "      <td>Not sure</td>\n",
       "      <td>No</td>\n",
       "      <td>No</td>\n",
       "      <td>Don't know</td>\n",
       "      <td>Don't know</td>\n",
       "      <td>No</td>\n",
       "      <td>No</td>\n",
       "      <td>Some of them</td>\n",
       "      <td>Yes</td>\n",
       "      <td>No</td>\n",
       "      <td>No</td>\n",
       "      <td>Yes</td>\n",
       "      <td>No</td>\n",
       "      <td>NaN</td>\n",
       "    </tr>\n",
       "    <tr>\n",
       "      <th>1037</th>\n",
       "      <td>1038</td>\n",
       "      <td>2014-08-29 11:05:00</td>\n",
       "      <td>44</td>\n",
       "      <td>Male</td>\n",
       "      <td>United States</td>\n",
       "      <td>MO</td>\n",
       "      <td>No</td>\n",
       "      <td>No</td>\n",
       "      <td>No</td>\n",
       "      <td>NaN</td>\n",
       "      <td>More than 1000</td>\n",
       "      <td>Yes</td>\n",
       "      <td>No</td>\n",
       "      <td>Don't know</td>\n",
       "      <td>No</td>\n",
       "      <td>Don't know</td>\n",
       "      <td>Don't know</td>\n",
       "      <td>Yes</td>\n",
       "      <td>Don't know</td>\n",
       "      <td>Yes</td>\n",
       "      <td>No</td>\n",
       "      <td>Some of them</td>\n",
       "      <td>No</td>\n",
       "      <td>No</td>\n",
       "      <td>No</td>\n",
       "      <td>No</td>\n",
       "      <td>No</td>\n",
       "      <td>NaN</td>\n",
       "    </tr>\n",
       "    <tr>\n",
       "      <th>1039</th>\n",
       "      <td>1040</td>\n",
       "      <td>2014-08-29 11:12:22</td>\n",
       "      <td>35</td>\n",
       "      <td>Male</td>\n",
       "      <td>United States</td>\n",
       "      <td>OR</td>\n",
       "      <td>No</td>\n",
       "      <td>No</td>\n",
       "      <td>No</td>\n",
       "      <td>NaN</td>\n",
       "      <td>6-25</td>\n",
       "      <td>Yes</td>\n",
       "      <td>Yes</td>\n",
       "      <td>No</td>\n",
       "      <td>No</td>\n",
       "      <td>No</td>\n",
       "      <td>No</td>\n",
       "      <td>Don't know</td>\n",
       "      <td>Don't know</td>\n",
       "      <td>No</td>\n",
       "      <td>No</td>\n",
       "      <td>No</td>\n",
       "      <td>No</td>\n",
       "      <td>No</td>\n",
       "      <td>No</td>\n",
       "      <td>Don't know</td>\n",
       "      <td>No</td>\n",
       "      <td>NaN</td>\n",
       "    </tr>\n",
       "    <tr>\n",
       "      <th>1041</th>\n",
       "      <td>1042</td>\n",
       "      <td>2014-08-29 11:20:13</td>\n",
       "      <td>33</td>\n",
       "      <td>Male</td>\n",
       "      <td>United States</td>\n",
       "      <td>NY</td>\n",
       "      <td>No</td>\n",
       "      <td>No</td>\n",
       "      <td>No</td>\n",
       "      <td>NaN</td>\n",
       "      <td>6-25</td>\n",
       "      <td>Yes</td>\n",
       "      <td>Yes</td>\n",
       "      <td>Yes</td>\n",
       "      <td>No</td>\n",
       "      <td>Don't know</td>\n",
       "      <td>Yes</td>\n",
       "      <td>Yes</td>\n",
       "      <td>Don't know</td>\n",
       "      <td>No</td>\n",
       "      <td>No</td>\n",
       "      <td>Some of them</td>\n",
       "      <td>Yes</td>\n",
       "      <td>No</td>\n",
       "      <td>No</td>\n",
       "      <td>Yes</td>\n",
       "      <td>No</td>\n",
       "      <td>NaN</td>\n",
       "    </tr>\n",
       "  </tbody>\n",
       "</table>\n",
       "<p>234 rows × 28 columns</p>\n",
       "</div>"
      ],
      "text/plain": [
       "      S.No            Timestamp  Age Gender        Country state  \\\n",
       "19      20  2014-08-27 11:35:08   36   Male          Other   NaN   \n",
       "26      27  2014-08-27 11:37:23   33   Male  United States    TN   \n",
       "37      38  2014-08-27 11:41:50   38   Male          Other   NaN   \n",
       "38      39  2014-08-27 11:42:08   50   Male  United States    IN   \n",
       "41      42  2014-08-27 11:42:31   35   Male  United States    MI   \n",
       "...    ...                  ...  ...    ...            ...   ...   \n",
       "1029  1030  2014-08-29 10:33:45   34   Male  United States    IN   \n",
       "1030  1031  2014-08-29 10:38:23   26   Male  United States    MN   \n",
       "1037  1038  2014-08-29 11:05:00   44   Male  United States    MO   \n",
       "1039  1040  2014-08-29 11:12:22   35   Male  United States    OR   \n",
       "1041  1042  2014-08-29 11:20:13   33   Male  United States    NY   \n",
       "\n",
       "     self_employed family_history treatment work_interfere    no_employees  \\\n",
       "19             Yes            Yes        No            NaN            6-25   \n",
       "26              No             No        No            NaN             1-5   \n",
       "37              No             No        No            NaN         100-500   \n",
       "38              No             No        No            NaN         100-500   \n",
       "41              No             No        No            NaN  More than 1000   \n",
       "...            ...            ...       ...            ...             ...   \n",
       "1029            No             No        No            NaN  More than 1000   \n",
       "1030            No            Yes        No            NaN            6-25   \n",
       "1037            No             No        No            NaN  More than 1000   \n",
       "1039            No             No        No            NaN            6-25   \n",
       "1041            No             No        No            NaN            6-25   \n",
       "\n",
       "     remote_work tech_company    benefits care_options wellness_program  \\\n",
       "19           Yes          Yes          No           No              Yes   \n",
       "26            No          Yes  Don't know     Not sure               No   \n",
       "37            No          Yes          No          Yes               No   \n",
       "38            No          Yes         Yes          Yes               No   \n",
       "41           Yes          Yes         Yes     Not sure       Don't know   \n",
       "...          ...          ...         ...          ...              ...   \n",
       "1029          No           No         Yes     Not sure              Yes   \n",
       "1030          No          Yes  Don't know     Not sure               No   \n",
       "1037         Yes           No  Don't know           No       Don't know   \n",
       "1039         Yes          Yes          No           No               No   \n",
       "1041         Yes          Yes         Yes           No       Don't know   \n",
       "\n",
       "       seek_help   anonymity               leave mental_health_consequence  \\\n",
       "19            No         Yes       Somewhat easy                        No   \n",
       "26    Don't know  Don't know          Don't know                     Maybe   \n",
       "37            No  Don't know       Somewhat easy                     Maybe   \n",
       "38    Don't know  Don't know          Don't know                        No   \n",
       "41           Yes  Don't know  Somewhat difficult                       Yes   \n",
       "...          ...         ...                 ...                       ...   \n",
       "1029  Don't know  Don't know          Don't know                     Maybe   \n",
       "1030          No  Don't know          Don't know                        No   \n",
       "1037  Don't know         Yes          Don't know                       Yes   \n",
       "1039          No  Don't know          Don't know                        No   \n",
       "1041         Yes         Yes          Don't know                        No   \n",
       "\n",
       "     phys_health_consequence     coworkers    supervisor  \\\n",
       "19                        No  Some of them  Some of them   \n",
       "26                     Maybe  Some of them            No   \n",
       "37                        No  Some of them  Some of them   \n",
       "38                        No  Some of them           Yes   \n",
       "41                       Yes  Some of them            No   \n",
       "...                      ...           ...           ...   \n",
       "1029                   Maybe  Some of them           Yes   \n",
       "1030                      No  Some of them           Yes   \n",
       "1037                      No  Some of them            No   \n",
       "1039                      No            No            No   \n",
       "1041                      No  Some of them           Yes   \n",
       "\n",
       "     mental_health_interview phys_health_interview mental_vs_physical  \\\n",
       "19                     Maybe                 Maybe         Don't know   \n",
       "26                        No                    No         Don't know   \n",
       "37                        No                 Maybe                 No   \n",
       "38                        No                 Maybe         Don't know   \n",
       "41                        No                 Maybe         Don't know   \n",
       "...                      ...                   ...                ...   \n",
       "1029                      No                    No         Don't know   \n",
       "1030                      No                    No                Yes   \n",
       "1037                      No                    No                 No   \n",
       "1039                      No                    No         Don't know   \n",
       "1041                      No                    No                Yes   \n",
       "\n",
       "     obs_consequence comments  \n",
       "19                No      NaN  \n",
       "26                No      NaN  \n",
       "37                No      NaN  \n",
       "38                No      NaN  \n",
       "41                No      NaN  \n",
       "...              ...      ...  \n",
       "1029              No      NaN  \n",
       "1030              No      NaN  \n",
       "1037              No      NaN  \n",
       "1039              No      NaN  \n",
       "1041              No      NaN  \n",
       "\n",
       "[234 rows x 28 columns]"
      ]
     },
     "execution_count": 125,
     "metadata": {},
     "output_type": "execute_result"
    }
   ],
   "source": [
    "df[df.work_interfere.isnull()]"
   ]
  },
  {
   "cell_type": "code",
   "execution_count": 126,
   "metadata": {},
   "outputs": [],
   "source": [
    "df.work_interfere.fillna(\"Don't know\", inplace=True, axis=0)"
   ]
  },
  {
   "cell_type": "code",
   "execution_count": 127,
   "metadata": {},
   "outputs": [
    {
     "data": {
      "text/plain": [
       "0"
      ]
     },
     "execution_count": 127,
     "metadata": {},
     "output_type": "execute_result"
    }
   ],
   "source": [
    "df.work_interfere.isnull().sum()"
   ]
  },
  {
   "cell_type": "code",
   "execution_count": 128,
   "metadata": {},
   "outputs": [
    {
     "data": {
      "text/plain": [
       "<AxesSubplot:xlabel='work_interfere', ylabel='count'>"
      ]
     },
     "execution_count": 128,
     "metadata": {},
     "output_type": "execute_result"
    },
    {
     "data": {
      "image/png": "[encoded data removed]",
      "text/plain": [
       "<Figure size 432x288 with 1 Axes>"
      ]
     },
     "metadata": {
      "needs_background": "light"
     },
     "output_type": "display_data"
    }
   ],
   "source": [
    "sns.countplot(df.work_interfere)"
   ]
  },
  {
   "cell_type": "code",
   "execution_count": 129,
   "metadata": {},
   "outputs": [
    {
     "data": {
      "text/plain": [
       "28"
      ]
     },
     "execution_count": 129,
     "metadata": {},
     "output_type": "execute_result"
    }
   ],
   "source": [
    "test.work_interfere.isnull().sum()"
   ]
  },
  {
   "cell_type": "code",
   "execution_count": 130,
   "metadata": {},
   "outputs": [],
   "source": [
    "test.work_interfere.fillna(\"Don't know\", inplace=True, axis=0)"
   ]
  },
  {
   "cell_type": "code",
   "execution_count": 131,
   "metadata": {},
   "outputs": [
    {
     "data": {
      "text/plain": [
       "<AxesSubplot:xlabel='work_interfere', ylabel='count'>"
      ]
     },
     "execution_count": 131,
     "metadata": {},
     "output_type": "execute_result"
    },
    {
     "data": {
      "image/png": "[encoded data removed]",
      "text/plain": [
       "<Figure size 432x288 with 1 Axes>"
      ]
     },
     "metadata": {
      "needs_background": "light"
     },
     "output_type": "display_data"
    }
   ],
   "source": [
    "sns.countplot(test.work_interfere)"
   ]
  },
  {
   "cell_type": "code",
   "execution_count": 132,
   "metadata": {},
   "outputs": [
    {
     "data": {
      "text/plain": [
       "Index(['S.No', 'Timestamp', 'Age', 'Gender', 'Country', 'state',\n",
       "       'self_employed', 'family_history', 'treatment', 'work_interfere',\n",
       "       'no_employees', 'remote_work', 'tech_company', 'benefits',\n",
       "       'care_options', 'wellness_program', 'seek_help', 'anonymity', 'leave',\n",
       "       'mental_health_consequence', 'phys_health_consequence', 'coworkers',\n",
       "       'supervisor', 'mental_health_interview', 'phys_health_interview',\n",
       "       'mental_vs_physical', 'obs_consequence', 'comments'],\n",
       "      dtype='object')"
      ]
     },
     "execution_count": 132,
     "metadata": {},
     "output_type": "execute_result"
    }
   ],
   "source": [
    "df.columns"
   ]
  },
  {
   "cell_type": "code",
   "execution_count": 133,
   "metadata": {},
   "outputs": [
    {
     "data": {
      "text/html": [
       "<div>\n",
       "<style scoped>\n",
       "    .dataframe tbody tr th:only-of-type {\n",
       "        vertical-align: middle;\n",
       "    }\n",
       "\n",
       "    .dataframe tbody tr th {\n",
       "        vertical-align: top;\n",
       "    }\n",
       "\n",
       "    .dataframe thead th {\n",
       "        text-align: right;\n",
       "    }\n",
       "</style>\n",
       "<table border=\"1\" class=\"dataframe\">\n",
       "  <thead>\n",
       "    <tr style=\"text-align: right;\">\n",
       "      <th>treatment</th>\n",
       "      <th>No</th>\n",
       "      <th>Yes</th>\n",
       "    </tr>\n",
       "    <tr>\n",
       "      <th>work_interfere</th>\n",
       "      <th></th>\n",
       "      <th></th>\n",
       "    </tr>\n",
       "  </thead>\n",
       "  <tbody>\n",
       "    <tr>\n",
       "      <th>Don't know</th>\n",
       "      <td>43.445693</td>\n",
       "      <td>0.392927</td>\n",
       "    </tr>\n",
       "    <tr>\n",
       "      <th>Never</th>\n",
       "      <td>28.651685</td>\n",
       "      <td>4.911591</td>\n",
       "    </tr>\n",
       "    <tr>\n",
       "      <th>Often</th>\n",
       "      <td>3.183521</td>\n",
       "      <td>16.699411</td>\n",
       "    </tr>\n",
       "    <tr>\n",
       "      <th>Rarely</th>\n",
       "      <td>7.303371</td>\n",
       "      <td>20.628684</td>\n",
       "    </tr>\n",
       "    <tr>\n",
       "      <th>Sometimes</th>\n",
       "      <td>17.415730</td>\n",
       "      <td>57.367387</td>\n",
       "    </tr>\n",
       "  </tbody>\n",
       "</table>\n",
       "</div>"
      ],
      "text/plain": [
       "treatment              No        Yes\n",
       "work_interfere                      \n",
       "Don't know      43.445693   0.392927\n",
       "Never           28.651685   4.911591\n",
       "Often            3.183521  16.699411\n",
       "Rarely           7.303371  20.628684\n",
       "Sometimes       17.415730  57.367387"
      ]
     },
     "execution_count": 133,
     "metadata": {},
     "output_type": "execute_result"
    }
   ],
   "source": [
    "pd.crosstab(df.work_interfere, df.treatment, normalize='columns') * 100"
   ]
  },
  {
   "cell_type": "code",
   "execution_count": 134,
   "metadata": {},
   "outputs": [
    {
     "name": "stdout",
     "output_type": "stream",
     "text": [
      "Ho:  There is no significant assosiation between work_interfere and treatment (No predictability)\n",
      "Ha:  There is a significant assosiation between work_interfere and treatment (Good predictor)\n",
      "\n",
      "\n",
      "chi-square stats:  496.24226570848884\n",
      "p-value:  4.352830219132e-106\n",
      "\n",
      "\n",
      "Reject null hypothesis,  There is a significant assosiation between work_interfere and treatment (Good predictor)\n"
     ]
    }
   ],
   "source": [
    "### Does work_interference and treatment related? ###\n",
    "\n",
    "p_value['work_interfere'] = chi2('work_interfere', 'treatment', df)"
   ]
  },
  {
   "cell_type": "code",
   "execution_count": 135,
   "metadata": {},
   "outputs": [],
   "source": [
    "# work_interfere is a good predictor"
   ]
  },
  {
   "cell_type": "markdown",
   "metadata": {},
   "source": [
    "#### no_employees"
   ]
  },
  {
   "cell_type": "code",
   "execution_count": 136,
   "metadata": {},
   "outputs": [
    {
     "data": {
      "text/plain": [
       "Description    How many employees does your company or organization have?\n",
       "Name: no_employees, dtype: object"
      ]
     },
     "execution_count": 136,
     "metadata": {},
     "output_type": "execute_result"
    }
   ],
   "source": [
    "desc['no_employees']"
   ]
  },
  {
   "cell_type": "code",
   "execution_count": 137,
   "metadata": {},
   "outputs": [
    {
     "data": {
      "text/plain": [
       "count     1043\n",
       "unique       6\n",
       "top       6-25\n",
       "freq       244\n",
       "Name: no_employees, dtype: object"
      ]
     },
     "execution_count": 137,
     "metadata": {},
     "output_type": "execute_result"
    }
   ],
   "source": [
    "df.no_employees.describe()"
   ]
  },
  {
   "cell_type": "code",
   "execution_count": 138,
   "metadata": {},
   "outputs": [
    {
     "data": {
      "text/plain": [
       "6-25              244\n",
       "26-100            237\n",
       "More than 1000    226\n",
       "100-500           149\n",
       "1-5               132\n",
       "500-1000           55\n",
       "Name: no_employees, dtype: int64"
      ]
     },
     "execution_count": 138,
     "metadata": {},
     "output_type": "execute_result"
    }
   ],
   "source": [
    "df.no_employees.value_counts()"
   ]
  },
  {
   "cell_type": "code",
   "execution_count": 139,
   "metadata": {},
   "outputs": [
    {
     "data": {
      "text/plain": [
       "More than 1000    55\n",
       "26-100            51\n",
       "6-25              45\n",
       "1-5               28\n",
       "100-500           26\n",
       "500-1000           5\n",
       "Name: no_employees, dtype: int64"
      ]
     },
     "execution_count": 139,
     "metadata": {},
     "output_type": "execute_result"
    }
   ],
   "source": [
    "test.no_employees.value_counts()"
   ]
  },
  {
   "cell_type": "code",
   "execution_count": 140,
   "metadata": {},
   "outputs": [
    {
     "data": {
      "text/plain": [
       "<AxesSubplot:xlabel='no_employees', ylabel='count'>"
      ]
     },
     "execution_count": 140,
     "metadata": {},
     "output_type": "execute_result"
    },
    {
     "data": {
      "image/png": "[encoded data removed]",
      "text/plain": [
       "<Figure size 432x288 with 1 Axes>"
      ]
     },
     "metadata": {
      "needs_background": "light"
     },
     "output_type": "display_data"
    }
   ],
   "source": [
    "sns.countplot(df.no_employees)"
   ]
  },
  {
   "cell_type": "code",
   "execution_count": 141,
   "metadata": {},
   "outputs": [
    {
     "data": {
      "text/plain": [
       "Index(['S.No', 'Timestamp', 'Age', 'Gender', 'Country', 'state',\n",
       "       'self_employed', 'family_history', 'treatment', 'work_interfere',\n",
       "       'no_employees', 'remote_work', 'tech_company', 'benefits',\n",
       "       'care_options', 'wellness_program', 'seek_help', 'anonymity', 'leave',\n",
       "       'mental_health_consequence', 'phys_health_consequence', 'coworkers',\n",
       "       'supervisor', 'mental_health_interview', 'phys_health_interview',\n",
       "       'mental_vs_physical', 'obs_consequence', 'comments'],\n",
       "      dtype='object')"
      ]
     },
     "execution_count": 141,
     "metadata": {},
     "output_type": "execute_result"
    }
   ],
   "source": [
    "df.columns"
   ]
  },
  {
   "cell_type": "code",
   "execution_count": 142,
   "metadata": {},
   "outputs": [
    {
     "data": {
      "text/html": [
       "<div>\n",
       "<style scoped>\n",
       "    .dataframe tbody tr th:only-of-type {\n",
       "        vertical-align: middle;\n",
       "    }\n",
       "\n",
       "    .dataframe tbody tr th {\n",
       "        vertical-align: top;\n",
       "    }\n",
       "\n",
       "    .dataframe thead th {\n",
       "        text-align: right;\n",
       "    }\n",
       "</style>\n",
       "<table border=\"1\" class=\"dataframe\">\n",
       "  <thead>\n",
       "    <tr style=\"text-align: right;\">\n",
       "      <th>work_interfere</th>\n",
       "      <th>Don't know</th>\n",
       "      <th>Never</th>\n",
       "      <th>Often</th>\n",
       "      <th>Rarely</th>\n",
       "      <th>Sometimes</th>\n",
       "    </tr>\n",
       "    <tr>\n",
       "      <th>no_employees</th>\n",
       "      <th></th>\n",
       "      <th></th>\n",
       "      <th></th>\n",
       "      <th></th>\n",
       "      <th></th>\n",
       "    </tr>\n",
       "  </thead>\n",
       "  <tbody>\n",
       "    <tr>\n",
       "      <th>1-5</th>\n",
       "      <td>13.636364</td>\n",
       "      <td>12.878788</td>\n",
       "      <td>14.393939</td>\n",
       "      <td>13.636364</td>\n",
       "      <td>45.454545</td>\n",
       "    </tr>\n",
       "    <tr>\n",
       "      <th>100-500</th>\n",
       "      <td>21.476510</td>\n",
       "      <td>16.107383</td>\n",
       "      <td>6.040268</td>\n",
       "      <td>18.120805</td>\n",
       "      <td>38.255034</td>\n",
       "    </tr>\n",
       "    <tr>\n",
       "      <th>26-100</th>\n",
       "      <td>22.784810</td>\n",
       "      <td>19.831224</td>\n",
       "      <td>10.548523</td>\n",
       "      <td>8.860759</td>\n",
       "      <td>37.974684</td>\n",
       "    </tr>\n",
       "    <tr>\n",
       "      <th>500-1000</th>\n",
       "      <td>29.090909</td>\n",
       "      <td>25.454545</td>\n",
       "      <td>1.818182</td>\n",
       "      <td>16.363636</td>\n",
       "      <td>27.272727</td>\n",
       "    </tr>\n",
       "    <tr>\n",
       "      <th>6-25</th>\n",
       "      <td>25.409836</td>\n",
       "      <td>15.163934</td>\n",
       "      <td>12.295082</td>\n",
       "      <td>13.934426</td>\n",
       "      <td>33.196721</td>\n",
       "    </tr>\n",
       "    <tr>\n",
       "      <th>More than 1000</th>\n",
       "      <td>23.008850</td>\n",
       "      <td>17.256637</td>\n",
       "      <td>7.964602</td>\n",
       "      <td>15.486726</td>\n",
       "      <td>36.283186</td>\n",
       "    </tr>\n",
       "  </tbody>\n",
       "</table>\n",
       "</div>"
      ],
      "text/plain": [
       "work_interfere  Don't know      Never      Often     Rarely  Sometimes\n",
       "no_employees                                                          \n",
       "1-5              13.636364  12.878788  14.393939  13.636364  45.454545\n",
       "100-500          21.476510  16.107383   6.040268  18.120805  38.255034\n",
       "26-100           22.784810  19.831224  10.548523   8.860759  37.974684\n",
       "500-1000         29.090909  25.454545   1.818182  16.363636  27.272727\n",
       "6-25             25.409836  15.163934  12.295082  13.934426  33.196721\n",
       "More than 1000   23.008850  17.256637   7.964602  15.486726  36.283186"
      ]
     },
     "execution_count": 142,
     "metadata": {},
     "output_type": "execute_result"
    }
   ],
   "source": [
    "### Does size of the company changes the perspective of work interfere? ###\n",
    "\n",
    "pd.crosstab(df.no_employees, df.work_interfere, normalize='index') * 100"
   ]
  },
  {
   "cell_type": "code",
   "execution_count": 143,
   "metadata": {},
   "outputs": [
    {
     "data": {
      "text/html": [
       "<div>\n",
       "<style scoped>\n",
       "    .dataframe tbody tr th:only-of-type {\n",
       "        vertical-align: middle;\n",
       "    }\n",
       "\n",
       "    .dataframe tbody tr th {\n",
       "        vertical-align: top;\n",
       "    }\n",
       "\n",
       "    .dataframe thead th {\n",
       "        text-align: right;\n",
       "    }\n",
       "</style>\n",
       "<table border=\"1\" class=\"dataframe\">\n",
       "  <thead>\n",
       "    <tr style=\"text-align: right;\">\n",
       "      <th>treatment</th>\n",
       "      <th>No</th>\n",
       "      <th>Yes</th>\n",
       "    </tr>\n",
       "    <tr>\n",
       "      <th>no_employees</th>\n",
       "      <th></th>\n",
       "      <th></th>\n",
       "    </tr>\n",
       "  </thead>\n",
       "  <tbody>\n",
       "    <tr>\n",
       "      <th>1-5</th>\n",
       "      <td>11.610487</td>\n",
       "      <td>13.752456</td>\n",
       "    </tr>\n",
       "    <tr>\n",
       "      <th>100-500</th>\n",
       "      <td>13.295880</td>\n",
       "      <td>15.324165</td>\n",
       "    </tr>\n",
       "    <tr>\n",
       "      <th>26-100</th>\n",
       "      <td>22.284644</td>\n",
       "      <td>23.182711</td>\n",
       "    </tr>\n",
       "    <tr>\n",
       "      <th>500-1000</th>\n",
       "      <td>5.805243</td>\n",
       "      <td>4.715128</td>\n",
       "    </tr>\n",
       "    <tr>\n",
       "      <th>6-25</th>\n",
       "      <td>26.591760</td>\n",
       "      <td>20.039293</td>\n",
       "    </tr>\n",
       "    <tr>\n",
       "      <th>More than 1000</th>\n",
       "      <td>20.411985</td>\n",
       "      <td>22.986248</td>\n",
       "    </tr>\n",
       "  </tbody>\n",
       "</table>\n",
       "</div>"
      ],
      "text/plain": [
       "treatment              No        Yes\n",
       "no_employees                        \n",
       "1-5             11.610487  13.752456\n",
       "100-500         13.295880  15.324165\n",
       "26-100          22.284644  23.182711\n",
       "500-1000         5.805243   4.715128\n",
       "6-25            26.591760  20.039293\n",
       "More than 1000  20.411985  22.986248"
      ]
     },
     "execution_count": 143,
     "metadata": {},
     "output_type": "execute_result"
    }
   ],
   "source": [
    "pd.crosstab(df.no_employees, df.treatment, normalize='columns') * 100"
   ]
  },
  {
   "cell_type": "code",
   "execution_count": 144,
   "metadata": {},
   "outputs": [
    {
     "name": "stdout",
     "output_type": "stream",
     "text": [
      "Ho:  There is no significant assosiation between no_employees and treatment (No predictability)\n",
      "Ha:  There is a significant assosiation between no_employees and treatment (Good predictor)\n",
      "\n",
      "\n",
      "chi-square stats:  7.9547361743312965\n",
      "p-value:  0.158747911852401\n",
      "\n",
      "\n",
      "Fail to reject null hypothesis,  There is no significant assosiation between no_employees and treatment (No predictability)\n"
     ]
    }
   ],
   "source": [
    "# no_employees vs treatment\n",
    "\n",
    "p_value['no_employees'] = chi2('no_employees', 'treatment', df)"
   ]
  },
  {
   "cell_type": "code",
   "execution_count": 145,
   "metadata": {},
   "outputs": [],
   "source": [
    "# no_employees is not a good predictor\n",
    "\n",
    "action['drop'].append('no_employees')"
   ]
  },
  {
   "cell_type": "markdown",
   "metadata": {},
   "source": [
    "#### remote_work"
   ]
  },
  {
   "cell_type": "code",
   "execution_count": 146,
   "metadata": {},
   "outputs": [
    {
     "data": {
      "text/plain": [
       "Description    Do you work remotely (outside of an office) at least 50% of the time?\n",
       "Name: remote_work, dtype: object"
      ]
     },
     "execution_count": 146,
     "metadata": {},
     "output_type": "execute_result"
    }
   ],
   "source": [
    "desc['remote_work']"
   ]
  },
  {
   "cell_type": "code",
   "execution_count": 147,
   "metadata": {},
   "outputs": [
    {
     "data": {
      "text/plain": [
       "count     1043\n",
       "unique       2\n",
       "top         No\n",
       "freq       730\n",
       "Name: remote_work, dtype: object"
      ]
     },
     "execution_count": 147,
     "metadata": {},
     "output_type": "execute_result"
    }
   ],
   "source": [
    "df.remote_work.describe()"
   ]
  },
  {
   "cell_type": "code",
   "execution_count": 148,
   "metadata": {},
   "outputs": [
    {
     "data": {
      "text/plain": [
       "No     730\n",
       "Yes    313\n",
       "Name: remote_work, dtype: int64"
      ]
     },
     "execution_count": 148,
     "metadata": {},
     "output_type": "execute_result"
    }
   ],
   "source": [
    "df.remote_work.value_counts()"
   ]
  },
  {
   "cell_type": "code",
   "execution_count": 149,
   "metadata": {},
   "outputs": [
    {
     "data": {
      "text/plain": [
       "No     150\n",
       "Yes     60\n",
       "Name: remote_work, dtype: int64"
      ]
     },
     "execution_count": 149,
     "metadata": {},
     "output_type": "execute_result"
    }
   ],
   "source": [
    "test.remote_work.value_counts()"
   ]
  },
  {
   "cell_type": "code",
   "execution_count": 150,
   "metadata": {},
   "outputs": [
    {
     "data": {
      "text/plain": [
       "<AxesSubplot:xlabel='remote_work', ylabel='count'>"
      ]
     },
     "execution_count": 150,
     "metadata": {},
     "output_type": "execute_result"
    },
    {
     "data": {
      "image/png": "[encoded data removed]",
      "text/plain": [
       "<Figure size 432x288 with 1 Axes>"
      ]
     },
     "metadata": {
      "needs_background": "light"
     },
     "output_type": "display_data"
    }
   ],
   "source": [
    "sns.countplot(df.remote_work)"
   ]
  },
  {
   "cell_type": "code",
   "execution_count": 151,
   "metadata": {},
   "outputs": [
    {
     "data": {
      "text/plain": [
       "0"
      ]
     },
     "execution_count": 151,
     "metadata": {},
     "output_type": "execute_result"
    }
   ],
   "source": [
    "df.remote_work.isnull().sum()"
   ]
  },
  {
   "cell_type": "code",
   "execution_count": 152,
   "metadata": {},
   "outputs": [
    {
     "data": {
      "text/plain": [
       "0"
      ]
     },
     "execution_count": 152,
     "metadata": {},
     "output_type": "execute_result"
    }
   ],
   "source": [
    "test.remote_work.isnull().sum()"
   ]
  },
  {
   "cell_type": "code",
   "execution_count": 153,
   "metadata": {},
   "outputs": [
    {
     "data": {
      "text/plain": [
       "Index(['S.No', 'Timestamp', 'Age', 'Gender', 'Country', 'state',\n",
       "       'self_employed', 'family_history', 'treatment', 'work_interfere',\n",
       "       'no_employees', 'remote_work', 'tech_company', 'benefits',\n",
       "       'care_options', 'wellness_program', 'seek_help', 'anonymity', 'leave',\n",
       "       'mental_health_consequence', 'phys_health_consequence', 'coworkers',\n",
       "       'supervisor', 'mental_health_interview', 'phys_health_interview',\n",
       "       'mental_vs_physical', 'obs_consequence', 'comments'],\n",
       "      dtype='object')"
      ]
     },
     "execution_count": 153,
     "metadata": {},
     "output_type": "execute_result"
    }
   ],
   "source": [
    "df.columns"
   ]
  },
  {
   "cell_type": "code",
   "execution_count": 154,
   "metadata": {},
   "outputs": [
    {
     "name": "stdout",
     "output_type": "stream",
     "text": [
      "Ho:  There is no significant assosiation between remote_work and treatment (No predictability)\n",
      "Ha:  There is a significant assosiation between remote_work and treatment (Good predictor)\n",
      "\n",
      "\n",
      "chi-square stats:  1.0976513152921816\n",
      "p-value:  0.2947821207739679\n",
      "\n",
      "\n",
      "Fail to reject null hypothesis,  There is no significant assosiation between remote_work and treatment (No predictability)\n"
     ]
    }
   ],
   "source": [
    "p_value['remote_work'] = chi2('remote_work', 'treatment', df)"
   ]
  },
  {
   "cell_type": "markdown",
   "metadata": {},
   "source": [
    "#### tech_company"
   ]
  },
  {
   "cell_type": "code",
   "execution_count": 155,
   "metadata": {},
   "outputs": [
    {
     "data": {
      "text/plain": [
       "Description    Is your employer primarily a tech company/organization?\n",
       "Name: tech_company, dtype: object"
      ]
     },
     "execution_count": 155,
     "metadata": {},
     "output_type": "execute_result"
    }
   ],
   "source": [
    "desc['tech_company']"
   ]
  },
  {
   "cell_type": "code",
   "execution_count": 156,
   "metadata": {},
   "outputs": [
    {
     "data": {
      "text/plain": [
       "count     1043\n",
       "unique       2\n",
       "top        Yes\n",
       "freq       867\n",
       "Name: tech_company, dtype: object"
      ]
     },
     "execution_count": 156,
     "metadata": {},
     "output_type": "execute_result"
    }
   ],
   "source": [
    "df.tech_company.describe()"
   ]
  },
  {
   "cell_type": "code",
   "execution_count": 157,
   "metadata": {},
   "outputs": [
    {
     "data": {
      "text/plain": [
       "Yes    867\n",
       "No     176\n",
       "Name: tech_company, dtype: int64"
      ]
     },
     "execution_count": 157,
     "metadata": {},
     "output_type": "execute_result"
    }
   ],
   "source": [
    "df.tech_company.value_counts()"
   ]
  },
  {
   "cell_type": "code",
   "execution_count": 158,
   "metadata": {},
   "outputs": [
    {
     "data": {
      "text/plain": [
       "<AxesSubplot:xlabel='tech_company', ylabel='count'>"
      ]
     },
     "execution_count": 158,
     "metadata": {},
     "output_type": "execute_result"
    },
    {
     "data": {
      "image/png": "[encoded data removed]",
      "text/plain": [
       "<Figure size 432x288 with 1 Axes>"
      ]
     },
     "metadata": {
      "needs_background": "light"
     },
     "output_type": "display_data"
    }
   ],
   "source": [
    "sns.countplot(df.tech_company)"
   ]
  },
  {
   "cell_type": "code",
   "execution_count": 159,
   "metadata": {},
   "outputs": [
    {
     "name": "stdout",
     "output_type": "stream",
     "text": [
      "Proportion of Yes: 83%\n",
      "Proportion of No: 17%\n"
     ]
    }
   ],
   "source": [
    "find_proportion('tech_company', df)"
   ]
  },
  {
   "cell_type": "code",
   "execution_count": 160,
   "metadata": {},
   "outputs": [
    {
     "data": {
      "text/plain": [
       "Yes    161\n",
       "No      49\n",
       "Name: tech_company, dtype: int64"
      ]
     },
     "execution_count": 160,
     "metadata": {},
     "output_type": "execute_result"
    }
   ],
   "source": [
    "test.tech_company.value_counts()"
   ]
  },
  {
   "cell_type": "code",
   "execution_count": 161,
   "metadata": {},
   "outputs": [
    {
     "data": {
      "text/html": [
       "<div>\n",
       "<style scoped>\n",
       "    .dataframe tbody tr th:only-of-type {\n",
       "        vertical-align: middle;\n",
       "    }\n",
       "\n",
       "    .dataframe tbody tr th {\n",
       "        vertical-align: top;\n",
       "    }\n",
       "\n",
       "    .dataframe thead th {\n",
       "        text-align: right;\n",
       "    }\n",
       "</style>\n",
       "<table border=\"1\" class=\"dataframe\">\n",
       "  <thead>\n",
       "    <tr style=\"text-align: right;\">\n",
       "      <th>treatment</th>\n",
       "      <th>No</th>\n",
       "      <th>Yes</th>\n",
       "    </tr>\n",
       "    <tr>\n",
       "      <th>tech_company</th>\n",
       "      <th></th>\n",
       "      <th></th>\n",
       "    </tr>\n",
       "  </thead>\n",
       "  <tbody>\n",
       "    <tr>\n",
       "      <th>No</th>\n",
       "      <td>15.355805</td>\n",
       "      <td>18.467583</td>\n",
       "    </tr>\n",
       "    <tr>\n",
       "      <th>Yes</th>\n",
       "      <td>84.644195</td>\n",
       "      <td>81.532417</td>\n",
       "    </tr>\n",
       "  </tbody>\n",
       "</table>\n",
       "</div>"
      ],
      "text/plain": [
       "treatment            No        Yes\n",
       "tech_company                      \n",
       "No            15.355805  18.467583\n",
       "Yes           84.644195  81.532417"
      ]
     },
     "execution_count": 161,
     "metadata": {},
     "output_type": "execute_result"
    }
   ],
   "source": [
    "pd.crosstab(df.tech_company, df.treatment, normalize='columns') * 100"
   ]
  },
  {
   "cell_type": "code",
   "execution_count": 162,
   "metadata": {},
   "outputs": [
    {
     "name": "stdout",
     "output_type": "stream",
     "text": [
      "Ho:  There is no significant assosiation between tech_company and treatment (No predictability)\n",
      "Ha:  There is a significant assosiation between tech_company and treatment (Good predictor)\n",
      "\n",
      "\n",
      "chi-square stats:  1.583986751960493\n",
      "p-value:  0.2081873674069063\n",
      "\n",
      "\n",
      "Fail to reject null hypothesis,  There is no significant assosiation between tech_company and treatment (No predictability)\n"
     ]
    }
   ],
   "source": [
    "p_value['tech_company'] = chi2('tech_company', 'treatment', df)"
   ]
  },
  {
   "cell_type": "code",
   "execution_count": 163,
   "metadata": {},
   "outputs": [],
   "source": [
    "# tech company is a bad predictor\n",
    "\n",
    "action['drop'].append('tech_company')"
   ]
  },
  {
   "cell_type": "markdown",
   "metadata": {},
   "source": [
    "#### benefits"
   ]
  },
  {
   "cell_type": "code",
   "execution_count": 164,
   "metadata": {},
   "outputs": [
    {
     "data": {
      "text/plain": [
       "Description    Does your employer provide mental health benefits?\n",
       "Name: benefits, dtype: object"
      ]
     },
     "execution_count": 164,
     "metadata": {},
     "output_type": "execute_result"
    }
   ],
   "source": [
    "desc['benefits']"
   ]
  },
  {
   "cell_type": "code",
   "execution_count": 165,
   "metadata": {},
   "outputs": [
    {
     "data": {
      "text/plain": [
       "count     1043\n",
       "unique       3\n",
       "top        Yes\n",
       "freq       398\n",
       "Name: benefits, dtype: object"
      ]
     },
     "execution_count": 165,
     "metadata": {},
     "output_type": "execute_result"
    }
   ],
   "source": [
    "df.benefits.describe()"
   ]
  },
  {
   "cell_type": "code",
   "execution_count": 166,
   "metadata": {},
   "outputs": [
    {
     "data": {
      "text/plain": [
       "Yes           398\n",
       "Don't know    341\n",
       "No            304\n",
       "Name: benefits, dtype: int64"
      ]
     },
     "execution_count": 166,
     "metadata": {},
     "output_type": "execute_result"
    }
   ],
   "source": [
    "df.benefits.value_counts()"
   ]
  },
  {
   "cell_type": "code",
   "execution_count": 167,
   "metadata": {},
   "outputs": [
    {
     "data": {
      "text/plain": [
       "Yes           77\n",
       "No            67\n",
       "Don't know    66\n",
       "Name: benefits, dtype: int64"
      ]
     },
     "execution_count": 167,
     "metadata": {},
     "output_type": "execute_result"
    }
   ],
   "source": [
    "test.benefits.value_counts()"
   ]
  },
  {
   "cell_type": "code",
   "execution_count": 168,
   "metadata": {},
   "outputs": [
    {
     "data": {
      "text/plain": [
       "<AxesSubplot:xlabel='benefits', ylabel='count'>"
      ]
     },
     "execution_count": 168,
     "metadata": {},
     "output_type": "execute_result"
    },
    {
     "data": {
      "image/png": "[encoded data removed]",
      "text/plain": [
       "<Figure size 432x288 with 1 Axes>"
      ]
     },
     "metadata": {
      "needs_background": "light"
     },
     "output_type": "display_data"
    }
   ],
   "source": [
    "sns.countplot(df.benefits)"
   ]
  },
  {
   "cell_type": "code",
   "execution_count": 169,
   "metadata": {},
   "outputs": [
    {
     "data": {
      "text/html": [
       "<div>\n",
       "<style scoped>\n",
       "    .dataframe tbody tr th:only-of-type {\n",
       "        vertical-align: middle;\n",
       "    }\n",
       "\n",
       "    .dataframe tbody tr th {\n",
       "        vertical-align: top;\n",
       "    }\n",
       "\n",
       "    .dataframe thead th {\n",
       "        text-align: right;\n",
       "    }\n",
       "</style>\n",
       "<table border=\"1\" class=\"dataframe\">\n",
       "  <thead>\n",
       "    <tr style=\"text-align: right;\">\n",
       "      <th>treatment</th>\n",
       "      <th>No</th>\n",
       "      <th>Yes</th>\n",
       "    </tr>\n",
       "    <tr>\n",
       "      <th>benefits</th>\n",
       "      <th></th>\n",
       "      <th></th>\n",
       "    </tr>\n",
       "  </thead>\n",
       "  <tbody>\n",
       "    <tr>\n",
       "      <th>Don't know</th>\n",
       "      <td>41.011236</td>\n",
       "      <td>23.968566</td>\n",
       "    </tr>\n",
       "    <tr>\n",
       "      <th>No</th>\n",
       "      <td>30.898876</td>\n",
       "      <td>27.308448</td>\n",
       "    </tr>\n",
       "    <tr>\n",
       "      <th>Yes</th>\n",
       "      <td>28.089888</td>\n",
       "      <td>48.722986</td>\n",
       "    </tr>\n",
       "  </tbody>\n",
       "</table>\n",
       "</div>"
      ],
      "text/plain": [
       "treatment          No        Yes\n",
       "benefits                        \n",
       "Don't know  41.011236  23.968566\n",
       "No          30.898876  27.308448\n",
       "Yes         28.089888  48.722986"
      ]
     },
     "execution_count": 169,
     "metadata": {},
     "output_type": "execute_result"
    }
   ],
   "source": [
    "pd.crosstab(df.benefits, df.treatment, normalize='columns') * 100"
   ]
  },
  {
   "cell_type": "code",
   "execution_count": 170,
   "metadata": {},
   "outputs": [
    {
     "name": "stdout",
     "output_type": "stream",
     "text": [
      "Ho:  There is no significant assosiation between benefits and treatment (No predictability)\n",
      "Ha:  There is a significant assosiation between benefits and treatment (Good predictor)\n",
      "\n",
      "\n",
      "chi-square stats:  53.37814711596609\n",
      "p-value:  2.56497198861586e-12\n",
      "\n",
      "\n",
      "Reject null hypothesis,  There is a significant assosiation between benefits and treatment (Good predictor)\n"
     ]
    }
   ],
   "source": [
    "p_value['benefits'] = chi2('benefits', 'treatment', df)"
   ]
  },
  {
   "cell_type": "code",
   "execution_count": 171,
   "metadata": {},
   "outputs": [],
   "source": [
    "# benefits is a good predictor "
   ]
  },
  {
   "cell_type": "markdown",
   "metadata": {},
   "source": [
    "#### care_options"
   ]
  },
  {
   "cell_type": "code",
   "execution_count": 172,
   "metadata": {},
   "outputs": [
    {
     "data": {
      "text/plain": [
       "Description    Do you know the options for mental health care your employer provides?\n",
       "Name: care_options, dtype: object"
      ]
     },
     "execution_count": 172,
     "metadata": {},
     "output_type": "execute_result"
    }
   ],
   "source": [
    "desc['care_options']"
   ]
  },
  {
   "cell_type": "code",
   "execution_count": 173,
   "metadata": {},
   "outputs": [
    {
     "data": {
      "text/plain": [
       "count     1043\n",
       "unique       3\n",
       "top         No\n",
       "freq       420\n",
       "Name: care_options, dtype: object"
      ]
     },
     "execution_count": 173,
     "metadata": {},
     "output_type": "execute_result"
    }
   ],
   "source": [
    "df.care_options.describe()"
   ]
  },
  {
   "cell_type": "code",
   "execution_count": 174,
   "metadata": {},
   "outputs": [
    {
     "data": {
      "text/plain": [
       "No          420\n",
       "Yes         361\n",
       "Not sure    262\n",
       "Name: care_options, dtype: int64"
      ]
     },
     "execution_count": 174,
     "metadata": {},
     "output_type": "execute_result"
    }
   ],
   "source": [
    "df.care_options.value_counts()"
   ]
  },
  {
   "cell_type": "code",
   "execution_count": 175,
   "metadata": {},
   "outputs": [
    {
     "data": {
      "text/plain": [
       "Yes         80\n",
       "No          79\n",
       "Not sure    51\n",
       "Name: care_options, dtype: int64"
      ]
     },
     "execution_count": 175,
     "metadata": {},
     "output_type": "execute_result"
    }
   ],
   "source": [
    "test.care_options.value_counts()"
   ]
  },
  {
   "cell_type": "code",
   "execution_count": 176,
   "metadata": {},
   "outputs": [
    {
     "data": {
      "text/plain": [
       "<AxesSubplot:xlabel='care_options', ylabel='count'>"
      ]
     },
     "execution_count": 176,
     "metadata": {},
     "output_type": "execute_result"
    },
    {
     "data": {
      "image/png": "[encoded data removed]",
      "text/plain": [
       "<Figure size 432x288 with 1 Axes>"
      ]
     },
     "metadata": {
      "needs_background": "light"
     },
     "output_type": "display_data"
    }
   ],
   "source": [
    "sns.countplot(df.care_options)"
   ]
  },
  {
   "cell_type": "code",
   "execution_count": 177,
   "metadata": {},
   "outputs": [
    {
     "data": {
      "text/html": [
       "<div>\n",
       "<style scoped>\n",
       "    .dataframe tbody tr th:only-of-type {\n",
       "        vertical-align: middle;\n",
       "    }\n",
       "\n",
       "    .dataframe tbody tr th {\n",
       "        vertical-align: top;\n",
       "    }\n",
       "\n",
       "    .dataframe thead th {\n",
       "        text-align: right;\n",
       "    }\n",
       "</style>\n",
       "<table border=\"1\" class=\"dataframe\">\n",
       "  <thead>\n",
       "    <tr style=\"text-align: right;\">\n",
       "      <th>treatment</th>\n",
       "      <th>No</th>\n",
       "      <th>Yes</th>\n",
       "    </tr>\n",
       "    <tr>\n",
       "      <th>care_options</th>\n",
       "      <th></th>\n",
       "      <th></th>\n",
       "    </tr>\n",
       "  </thead>\n",
       "  <tbody>\n",
       "    <tr>\n",
       "      <th>No</th>\n",
       "      <td>48.127341</td>\n",
       "      <td>32.023576</td>\n",
       "    </tr>\n",
       "    <tr>\n",
       "      <th>Not sure</th>\n",
       "      <td>29.588015</td>\n",
       "      <td>20.432220</td>\n",
       "    </tr>\n",
       "    <tr>\n",
       "      <th>Yes</th>\n",
       "      <td>22.284644</td>\n",
       "      <td>47.544204</td>\n",
       "    </tr>\n",
       "  </tbody>\n",
       "</table>\n",
       "</div>"
      ],
      "text/plain": [
       "treatment            No        Yes\n",
       "care_options                      \n",
       "No            48.127341  32.023576\n",
       "Not sure      29.588015  20.432220\n",
       "Yes           22.284644  47.544204"
      ]
     },
     "execution_count": 177,
     "metadata": {},
     "output_type": "execute_result"
    }
   ],
   "source": [
    "pd.crosstab(df.care_options, df.treatment, normalize='columns') * 100"
   ]
  },
  {
   "cell_type": "code",
   "execution_count": 178,
   "metadata": {},
   "outputs": [
    {
     "name": "stdout",
     "output_type": "stream",
     "text": [
      "Ho:  There is no significant assosiation between care_options and treatment (No predictability)\n",
      "Ha:  There is a significant assosiation between care_options and treatment (Good predictor)\n",
      "\n",
      "\n",
      "chi-square stats:  73.5194595139122\n",
      "p-value:  1.0850561436450189e-16\n",
      "\n",
      "\n",
      "Reject null hypothesis,  There is a significant assosiation between care_options and treatment (Good predictor)\n"
     ]
    }
   ],
   "source": [
    "p_value['care_options'] = chi2('care_options', 'treatment', df)"
   ]
  },
  {
   "cell_type": "code",
   "execution_count": 179,
   "metadata": {},
   "outputs": [],
   "source": [
    "# care options is a good predictor"
   ]
  },
  {
   "cell_type": "markdown",
   "metadata": {},
   "source": [
    "#### wellness_program"
   ]
  },
  {
   "cell_type": "code",
   "execution_count": 180,
   "metadata": {},
   "outputs": [
    {
     "data": {
      "text/plain": [
       "Description    Has your employer ever discussed mental health as part of an employee wellness program?\n",
       "Name: wellness_program, dtype: object"
      ]
     },
     "execution_count": 180,
     "metadata": {},
     "output_type": "execute_result"
    }
   ],
   "source": [
    "desc['wellness_program']"
   ]
  },
  {
   "cell_type": "code",
   "execution_count": 181,
   "metadata": {},
   "outputs": [
    {
     "data": {
      "text/plain": [
       "count     1043\n",
       "unique       3\n",
       "top         No\n",
       "freq       688\n",
       "Name: wellness_program, dtype: object"
      ]
     },
     "execution_count": 181,
     "metadata": {},
     "output_type": "execute_result"
    }
   ],
   "source": [
    "df.wellness_program.describe()"
   ]
  },
  {
   "cell_type": "code",
   "execution_count": 182,
   "metadata": {},
   "outputs": [
    {
     "data": {
      "text/plain": [
       "No            688\n",
       "Yes           193\n",
       "Don't know    162\n",
       "Name: wellness_program, dtype: int64"
      ]
     },
     "execution_count": 182,
     "metadata": {},
     "output_type": "execute_result"
    }
   ],
   "source": [
    "df.wellness_program.value_counts()"
   ]
  },
  {
   "cell_type": "code",
   "execution_count": 183,
   "metadata": {},
   "outputs": [
    {
     "data": {
      "text/plain": [
       "No            150\n",
       "Yes            35\n",
       "Don't know     25\n",
       "Name: wellness_program, dtype: int64"
      ]
     },
     "execution_count": 183,
     "metadata": {},
     "output_type": "execute_result"
    }
   ],
   "source": [
    "test.wellness_program.value_counts()"
   ]
  },
  {
   "cell_type": "code",
   "execution_count": 184,
   "metadata": {},
   "outputs": [
    {
     "data": {
      "text/plain": [
       "<AxesSubplot:xlabel='wellness_program', ylabel='count'>"
      ]
     },
     "execution_count": 184,
     "metadata": {},
     "output_type": "execute_result"
    },
    {
     "data": {
      "image/png": "[encoded data removed]",
      "text/plain": [
       "<Figure size 432x288 with 1 Axes>"
      ]
     },
     "metadata": {
      "needs_background": "light"
     },
     "output_type": "display_data"
    }
   ],
   "source": [
    "sns.countplot(df.wellness_program)"
   ]
  },
  {
   "cell_type": "code",
   "execution_count": 185,
   "metadata": {},
   "outputs": [
    {
     "data": {
      "text/html": [
       "<div>\n",
       "<style scoped>\n",
       "    .dataframe tbody tr th:only-of-type {\n",
       "        vertical-align: middle;\n",
       "    }\n",
       "\n",
       "    .dataframe tbody tr th {\n",
       "        vertical-align: top;\n",
       "    }\n",
       "\n",
       "    .dataframe thead th {\n",
       "        text-align: right;\n",
       "    }\n",
       "</style>\n",
       "<table border=\"1\" class=\"dataframe\">\n",
       "  <thead>\n",
       "    <tr style=\"text-align: right;\">\n",
       "      <th>treatment</th>\n",
       "      <th>No</th>\n",
       "      <th>Yes</th>\n",
       "    </tr>\n",
       "    <tr>\n",
       "      <th>wellness_program</th>\n",
       "      <th></th>\n",
       "      <th></th>\n",
       "    </tr>\n",
       "  </thead>\n",
       "  <tbody>\n",
       "    <tr>\n",
       "      <th>Don't know</th>\n",
       "      <td>17.790262</td>\n",
       "      <td>13.163065</td>\n",
       "    </tr>\n",
       "    <tr>\n",
       "      <th>No</th>\n",
       "      <td>66.853933</td>\n",
       "      <td>65.029470</td>\n",
       "    </tr>\n",
       "    <tr>\n",
       "      <th>Yes</th>\n",
       "      <td>15.355805</td>\n",
       "      <td>21.807466</td>\n",
       "    </tr>\n",
       "  </tbody>\n",
       "</table>\n",
       "</div>"
      ],
      "text/plain": [
       "treatment                No        Yes\n",
       "wellness_program                      \n",
       "Don't know        17.790262  13.163065\n",
       "No                66.853933  65.029470\n",
       "Yes               15.355805  21.807466"
      ]
     },
     "execution_count": 185,
     "metadata": {},
     "output_type": "execute_result"
    }
   ],
   "source": [
    "pd.crosstab(df.wellness_program, df.treatment, normalize='columns') * 100"
   ]
  },
  {
   "cell_type": "code",
   "execution_count": 186,
   "metadata": {},
   "outputs": [
    {
     "name": "stdout",
     "output_type": "stream",
     "text": [
      "Ho:  There is no significant assosiation between wellness_program and treatment (No predictability)\n",
      "Ha:  There is a significant assosiation between wellness_program and treatment (Good predictor)\n",
      "\n",
      "\n",
      "chi-square stats:  9.585851626675328\n",
      "p-value:  0.008288172227484888\n",
      "\n",
      "\n",
      "Reject null hypothesis,  There is a significant assosiation between wellness_program and treatment (Good predictor)\n"
     ]
    }
   ],
   "source": [
    "p_value['wellness_program'] = chi2('wellness_program', 'treatment', df)"
   ]
  },
  {
   "cell_type": "code",
   "execution_count": 187,
   "metadata": {},
   "outputs": [],
   "source": [
    "# There is an assosiation but it is very less"
   ]
  },
  {
   "cell_type": "markdown",
   "metadata": {},
   "source": [
    "#### seek_help"
   ]
  },
  {
   "cell_type": "code",
   "execution_count": 188,
   "metadata": {},
   "outputs": [
    {
     "data": {
      "text/plain": [
       "Description    Does your employer provide resources to learn more about mental health issues and how to seek help?\n",
       "Name: seek_help, dtype: object"
      ]
     },
     "execution_count": 188,
     "metadata": {},
     "output_type": "execute_result"
    }
   ],
   "source": [
    "desc['seek_help']"
   ]
  },
  {
   "cell_type": "code",
   "execution_count": 189,
   "metadata": {},
   "outputs": [
    {
     "data": {
      "text/plain": [
       "count     1043\n",
       "unique       3\n",
       "top         No\n",
       "freq       530\n",
       "Name: seek_help, dtype: object"
      ]
     },
     "execution_count": 189,
     "metadata": {},
     "output_type": "execute_result"
    }
   ],
   "source": [
    "df.seek_help.describe()"
   ]
  },
  {
   "cell_type": "code",
   "execution_count": 190,
   "metadata": {},
   "outputs": [
    {
     "data": {
      "text/plain": [
       "No            530\n",
       "Don't know    309\n",
       "Yes           204\n",
       "Name: seek_help, dtype: int64"
      ]
     },
     "execution_count": 190,
     "metadata": {},
     "output_type": "execute_result"
    }
   ],
   "source": [
    "df.seek_help.value_counts()"
   ]
  },
  {
   "cell_type": "code",
   "execution_count": 191,
   "metadata": {},
   "outputs": [
    {
     "data": {
      "text/plain": [
       "No            112\n",
       "Don't know     54\n",
       "Yes            44\n",
       "Name: seek_help, dtype: int64"
      ]
     },
     "execution_count": 191,
     "metadata": {},
     "output_type": "execute_result"
    }
   ],
   "source": [
    "test.seek_help.value_counts()"
   ]
  },
  {
   "cell_type": "code",
   "execution_count": 192,
   "metadata": {},
   "outputs": [
    {
     "data": {
      "text/plain": [
       "<AxesSubplot:xlabel='seek_help', ylabel='count'>"
      ]
     },
     "execution_count": 192,
     "metadata": {},
     "output_type": "execute_result"
    },
    {
     "data": {
      "image/png": "[encoded data removed]",
      "text/plain": [
       "<Figure size 432x288 with 1 Axes>"
      ]
     },
     "metadata": {
      "needs_background": "light"
     },
     "output_type": "display_data"
    }
   ],
   "source": [
    "sns.countplot(df.seek_help)"
   ]
  },
  {
   "cell_type": "code",
   "execution_count": 193,
   "metadata": {},
   "outputs": [
    {
     "name": "stdout",
     "output_type": "stream",
     "text": [
      "Proportion of No: 51%\n",
      "Proportion of Don't know: 30%\n",
      "Proportion of Yes: 20%\n"
     ]
    }
   ],
   "source": [
    "find_proportion('seek_help', df)"
   ]
  },
  {
   "cell_type": "code",
   "execution_count": 194,
   "metadata": {},
   "outputs": [
    {
     "data": {
      "text/html": [
       "<div>\n",
       "<style scoped>\n",
       "    .dataframe tbody tr th:only-of-type {\n",
       "        vertical-align: middle;\n",
       "    }\n",
       "\n",
       "    .dataframe tbody tr th {\n",
       "        vertical-align: top;\n",
       "    }\n",
       "\n",
       "    .dataframe thead th {\n",
       "        text-align: right;\n",
       "    }\n",
       "</style>\n",
       "<table border=\"1\" class=\"dataframe\">\n",
       "  <thead>\n",
       "    <tr style=\"text-align: right;\">\n",
       "      <th>treatment</th>\n",
       "      <th>No</th>\n",
       "      <th>Yes</th>\n",
       "    </tr>\n",
       "    <tr>\n",
       "      <th>seek_help</th>\n",
       "      <th></th>\n",
       "      <th></th>\n",
       "    </tr>\n",
       "  </thead>\n",
       "  <tbody>\n",
       "    <tr>\n",
       "      <th>Don't know</th>\n",
       "      <td>32.771536</td>\n",
       "      <td>26.326130</td>\n",
       "    </tr>\n",
       "    <tr>\n",
       "      <th>No</th>\n",
       "      <td>51.310861</td>\n",
       "      <td>50.294695</td>\n",
       "    </tr>\n",
       "    <tr>\n",
       "      <th>Yes</th>\n",
       "      <td>15.917603</td>\n",
       "      <td>23.379175</td>\n",
       "    </tr>\n",
       "  </tbody>\n",
       "</table>\n",
       "</div>"
      ],
      "text/plain": [
       "treatment          No        Yes\n",
       "seek_help                       \n",
       "Don't know  32.771536  26.326130\n",
       "No          51.310861  50.294695\n",
       "Yes         15.917603  23.379175"
      ]
     },
     "execution_count": 194,
     "metadata": {},
     "output_type": "execute_result"
    }
   ],
   "source": [
    "pd.crosstab(df.seek_help, df.treatment, normalize='columns') * 100"
   ]
  },
  {
   "cell_type": "code",
   "execution_count": 195,
   "metadata": {},
   "outputs": [
    {
     "name": "stdout",
     "output_type": "stream",
     "text": [
      "Ho:  There is no significant assosiation between seek_help and treatment (No predictability)\n",
      "Ha:  There is a significant assosiation between seek_help and treatment (Good predictor)\n",
      "\n",
      "\n",
      "chi-square stats:  11.12527567478441\n",
      "p-value:  0.00383863732979991\n",
      "\n",
      "\n",
      "Reject null hypothesis,  There is a significant assosiation between seek_help and treatment (Good predictor)\n"
     ]
    }
   ],
   "source": [
    "p_value['seek_help'] = chi2('seek_help', 'treatment', df)"
   ]
  },
  {
   "cell_type": "code",
   "execution_count": 196,
   "metadata": {},
   "outputs": [],
   "source": [
    "# There is an assosiation, but it is only minimal."
   ]
  },
  {
   "cell_type": "markdown",
   "metadata": {},
   "source": [
    "#### anonymity"
   ]
  },
  {
   "cell_type": "code",
   "execution_count": 197,
   "metadata": {},
   "outputs": [
    {
     "data": {
      "text/plain": [
       "Description    Is your anonymity protected if you choose to take advantage of mental health or substance abuse treatment resources?\n",
       "Name: anonymity, dtype: object"
      ]
     },
     "execution_count": 197,
     "metadata": {},
     "output_type": "execute_result"
    }
   ],
   "source": [
    "desc['anonymity']"
   ]
  },
  {
   "cell_type": "code",
   "execution_count": 198,
   "metadata": {},
   "outputs": [
    {
     "data": {
      "text/plain": [
       "count           1043\n",
       "unique             3\n",
       "top       Don't know\n",
       "freq             681\n",
       "Name: anonymity, dtype: object"
      ]
     },
     "execution_count": 198,
     "metadata": {},
     "output_type": "execute_result"
    }
   ],
   "source": [
    "df.anonymity.describe()"
   ]
  },
  {
   "cell_type": "code",
   "execution_count": 199,
   "metadata": {},
   "outputs": [
    {
     "data": {
      "text/plain": [
       "Don't know    681\n",
       "Yes           311\n",
       "No             51\n",
       "Name: anonymity, dtype: int64"
      ]
     },
     "execution_count": 199,
     "metadata": {},
     "output_type": "execute_result"
    }
   ],
   "source": [
    "df.anonymity.value_counts()"
   ]
  },
  {
   "cell_type": "code",
   "execution_count": 200,
   "metadata": {},
   "outputs": [
    {
     "data": {
      "text/plain": [
       "Don't know    134\n",
       "Yes            63\n",
       "No             13\n",
       "Name: anonymity, dtype: int64"
      ]
     },
     "execution_count": 200,
     "metadata": {},
     "output_type": "execute_result"
    }
   ],
   "source": [
    "test.anonymity.value_counts()"
   ]
  },
  {
   "cell_type": "code",
   "execution_count": 201,
   "metadata": {},
   "outputs": [
    {
     "data": {
      "text/plain": [
       "<AxesSubplot:xlabel='anonymity', ylabel='count'>"
      ]
     },
     "execution_count": 201,
     "metadata": {},
     "output_type": "execute_result"
    },
    {
     "data": {
      "image/png": "[encoded data removed]",
      "text/plain": [
       "<Figure size 432x288 with 1 Axes>"
      ]
     },
     "metadata": {
      "needs_background": "light"
     },
     "output_type": "display_data"
    }
   ],
   "source": [
    "sns.countplot(df.anonymity)"
   ]
  },
  {
   "cell_type": "code",
   "execution_count": 202,
   "metadata": {},
   "outputs": [
    {
     "data": {
      "text/html": [
       "<div>\n",
       "<style scoped>\n",
       "    .dataframe tbody tr th:only-of-type {\n",
       "        vertical-align: middle;\n",
       "    }\n",
       "\n",
       "    .dataframe tbody tr th {\n",
       "        vertical-align: top;\n",
       "    }\n",
       "\n",
       "    .dataframe thead th {\n",
       "        text-align: right;\n",
       "    }\n",
       "</style>\n",
       "<table border=\"1\" class=\"dataframe\">\n",
       "  <thead>\n",
       "    <tr style=\"text-align: right;\">\n",
       "      <th>treatment</th>\n",
       "      <th>No</th>\n",
       "      <th>Yes</th>\n",
       "    </tr>\n",
       "    <tr>\n",
       "      <th>anonymity</th>\n",
       "      <th></th>\n",
       "      <th></th>\n",
       "    </tr>\n",
       "  </thead>\n",
       "  <tbody>\n",
       "    <tr>\n",
       "      <th>Don't know</th>\n",
       "      <td>72.097378</td>\n",
       "      <td>58.153242</td>\n",
       "    </tr>\n",
       "    <tr>\n",
       "      <th>No</th>\n",
       "      <td>3.745318</td>\n",
       "      <td>6.090373</td>\n",
       "    </tr>\n",
       "    <tr>\n",
       "      <th>Yes</th>\n",
       "      <td>24.157303</td>\n",
       "      <td>35.756385</td>\n",
       "    </tr>\n",
       "  </tbody>\n",
       "</table>\n",
       "</div>"
      ],
      "text/plain": [
       "treatment          No        Yes\n",
       "anonymity                       \n",
       "Don't know  72.097378  58.153242\n",
       "No           3.745318   6.090373\n",
       "Yes         24.157303  35.756385"
      ]
     },
     "execution_count": 202,
     "metadata": {},
     "output_type": "execute_result"
    }
   ],
   "source": [
    "pd.crosstab(df.anonymity, df.treatment, normalize='columns') * 100"
   ]
  },
  {
   "cell_type": "code",
   "execution_count": 203,
   "metadata": {},
   "outputs": [
    {
     "name": "stdout",
     "output_type": "stream",
     "text": [
      "Ho:  There is no significant assosiation between anonymity and treatment (No predictability)\n",
      "Ha:  There is a significant assosiation between anonymity and treatment (Good predictor)\n",
      "\n",
      "\n",
      "chi-square stats:  22.44979279511238\n",
      "p-value:  1.3337960735626316e-05\n",
      "\n",
      "\n",
      "Reject null hypothesis,  There is a significant assosiation between anonymity and treatment (Good predictor)\n"
     ]
    }
   ],
   "source": [
    "p_value['anonymity'] = chi2('anonymity', 'treatment', df)"
   ]
  },
  {
   "cell_type": "code",
   "execution_count": 204,
   "metadata": {},
   "outputs": [],
   "source": [
    "# anonymity is a good predictor"
   ]
  },
  {
   "cell_type": "markdown",
   "metadata": {},
   "source": [
    "#### leave"
   ]
  },
  {
   "cell_type": "code",
   "execution_count": 205,
   "metadata": {},
   "outputs": [
    {
     "data": {
      "text/plain": [
       "Description    How easy is it for you to take medical leave for a mental health condition?\n",
       "Name: leave, dtype: object"
      ]
     },
     "execution_count": 205,
     "metadata": {},
     "output_type": "execute_result"
    }
   ],
   "source": [
    "desc['leave']"
   ]
  },
  {
   "cell_type": "code",
   "execution_count": 206,
   "metadata": {},
   "outputs": [
    {
     "data": {
      "text/plain": [
       "count           1043\n",
       "unique             5\n",
       "top       Don't know\n",
       "freq             464\n",
       "Name: leave, dtype: object"
      ]
     },
     "execution_count": 206,
     "metadata": {},
     "output_type": "execute_result"
    }
   ],
   "source": [
    "df.leave.describe()"
   ]
  },
  {
   "cell_type": "code",
   "execution_count": 207,
   "metadata": {},
   "outputs": [
    {
     "data": {
      "text/plain": [
       "Don't know            464\n",
       "Somewhat easy         217\n",
       "Very easy             176\n",
       "Somewhat difficult    106\n",
       "Very difficult         80\n",
       "Name: leave, dtype: int64"
      ]
     },
     "execution_count": 207,
     "metadata": {},
     "output_type": "execute_result"
    }
   ],
   "source": [
    "df.leave.value_counts()"
   ]
  },
  {
   "cell_type": "code",
   "execution_count": 208,
   "metadata": {},
   "outputs": [
    {
     "data": {
      "text/plain": [
       "Don't know            97\n",
       "Somewhat easy         48\n",
       "Very easy             30\n",
       "Somewhat difficult    19\n",
       "Very difficult        16\n",
       "Name: leave, dtype: int64"
      ]
     },
     "execution_count": 208,
     "metadata": {},
     "output_type": "execute_result"
    }
   ],
   "source": [
    "test.leave.value_counts()"
   ]
  },
  {
   "cell_type": "code",
   "execution_count": 209,
   "metadata": {},
   "outputs": [
    {
     "data": {
      "text/plain": [
       "<AxesSubplot:xlabel='leave', ylabel='count'>"
      ]
     },
     "execution_count": 209,
     "metadata": {},
     "output_type": "execute_result"
    },
    {
     "data": {
      "image/png": "[encoded data removed]",
      "text/plain": [
       "<Figure size 432x288 with 1 Axes>"
      ]
     },
     "metadata": {
      "needs_background": "light"
     },
     "output_type": "display_data"
    }
   ],
   "source": [
    "sns.countplot(df.leave)"
   ]
  },
  {
   "cell_type": "code",
   "execution_count": 210,
   "metadata": {},
   "outputs": [
    {
     "data": {
      "text/html": [
       "<div>\n",
       "<style scoped>\n",
       "    .dataframe tbody tr th:only-of-type {\n",
       "        vertical-align: middle;\n",
       "    }\n",
       "\n",
       "    .dataframe tbody tr th {\n",
       "        vertical-align: top;\n",
       "    }\n",
       "\n",
       "    .dataframe thead th {\n",
       "        text-align: right;\n",
       "    }\n",
       "</style>\n",
       "<table border=\"1\" class=\"dataframe\">\n",
       "  <thead>\n",
       "    <tr style=\"text-align: right;\">\n",
       "      <th>treatment</th>\n",
       "      <th>No</th>\n",
       "      <th>Yes</th>\n",
       "    </tr>\n",
       "    <tr>\n",
       "      <th>leave</th>\n",
       "      <th></th>\n",
       "      <th></th>\n",
       "    </tr>\n",
       "  </thead>\n",
       "  <tbody>\n",
       "    <tr>\n",
       "      <th>Don't know</th>\n",
       "      <td>49.250936</td>\n",
       "      <td>39.489194</td>\n",
       "    </tr>\n",
       "    <tr>\n",
       "      <th>Somewhat difficult</th>\n",
       "      <td>6.554307</td>\n",
       "      <td>13.948919</td>\n",
       "    </tr>\n",
       "    <tr>\n",
       "      <th>Somewhat easy</th>\n",
       "      <td>21.535581</td>\n",
       "      <td>20.039293</td>\n",
       "    </tr>\n",
       "    <tr>\n",
       "      <th>Very difficult</th>\n",
       "      <td>5.056180</td>\n",
       "      <td>10.412574</td>\n",
       "    </tr>\n",
       "    <tr>\n",
       "      <th>Very easy</th>\n",
       "      <td>17.602996</td>\n",
       "      <td>16.110020</td>\n",
       "    </tr>\n",
       "  </tbody>\n",
       "</table>\n",
       "</div>"
      ],
      "text/plain": [
       "treatment                  No        Yes\n",
       "leave                                   \n",
       "Don't know          49.250936  39.489194\n",
       "Somewhat difficult   6.554307  13.948919\n",
       "Somewhat easy       21.535581  20.039293\n",
       "Very difficult       5.056180  10.412574\n",
       "Very easy           17.602996  16.110020"
      ]
     },
     "execution_count": 210,
     "metadata": {},
     "output_type": "execute_result"
    }
   ],
   "source": [
    "pd.crosstab(df.leave, df.treatment, normalize='columns') * 100"
   ]
  },
  {
   "cell_type": "code",
   "execution_count": 211,
   "metadata": {},
   "outputs": [
    {
     "name": "stdout",
     "output_type": "stream",
     "text": [
      "Ho:  There is no significant assosiation between leave and treatment (No predictability)\n",
      "Ha:  There is a significant assosiation between leave and treatment (Good predictor)\n",
      "\n",
      "\n",
      "chi-square stats:  29.97587051759702\n",
      "p-value:  4.950109465826812e-06\n",
      "\n",
      "\n",
      "Reject null hypothesis,  There is a significant assosiation between leave and treatment (Good predictor)\n"
     ]
    }
   ],
   "source": [
    "p_value['leave'] = chi2('leave', 'treatment', df)"
   ]
  },
  {
   "cell_type": "code",
   "execution_count": 212,
   "metadata": {},
   "outputs": [],
   "source": [
    "# leave is a good predictor"
   ]
  },
  {
   "cell_type": "markdown",
   "metadata": {},
   "source": [
    "#### mental_health_consequence"
   ]
  },
  {
   "cell_type": "code",
   "execution_count": 213,
   "metadata": {},
   "outputs": [
    {
     "data": {
      "text/plain": [
       "Description    Do you think that discussing a mental health issue with your employer would have negative consequences?\n",
       "Name: mental_health_consequence, dtype: object"
      ]
     },
     "execution_count": 213,
     "metadata": {},
     "output_type": "execute_result"
    }
   ],
   "source": [
    "desc['mental_health_consequence']"
   ]
  },
  {
   "cell_type": "code",
   "execution_count": 214,
   "metadata": {},
   "outputs": [
    {
     "data": {
      "text/plain": [
       "count     1043\n",
       "unique       3\n",
       "top         No\n",
       "freq       422\n",
       "Name: mental_health_consequence, dtype: object"
      ]
     },
     "execution_count": 214,
     "metadata": {},
     "output_type": "execute_result"
    }
   ],
   "source": [
    "df.mental_health_consequence.describe()"
   ]
  },
  {
   "cell_type": "code",
   "execution_count": 215,
   "metadata": {},
   "outputs": [
    {
     "data": {
      "text/plain": [
       "No       422\n",
       "Maybe    379\n",
       "Yes      242\n",
       "Name: mental_health_consequence, dtype: int64"
      ]
     },
     "execution_count": 215,
     "metadata": {},
     "output_type": "execute_result"
    }
   ],
   "source": [
    "df.mental_health_consequence.value_counts()"
   ]
  },
  {
   "cell_type": "code",
   "execution_count": 216,
   "metadata": {},
   "outputs": [
    {
     "data": {
      "text/plain": [
       "Maybe    97\n",
       "No       65\n",
       "Yes      48\n",
       "Name: mental_health_consequence, dtype: int64"
      ]
     },
     "execution_count": 216,
     "metadata": {},
     "output_type": "execute_result"
    }
   ],
   "source": [
    "test.mental_health_consequence.value_counts()"
   ]
  },
  {
   "cell_type": "code",
   "execution_count": 217,
   "metadata": {},
   "outputs": [
    {
     "data": {
      "text/plain": [
       "<AxesSubplot:xlabel='mental_health_consequence', ylabel='count'>"
      ]
     },
     "execution_count": 217,
     "metadata": {},
     "output_type": "execute_result"
    },
    {
     "data": {
      "image/png": "[encoded data removed]",
      "text/plain": [
       "<Figure size 432x288 with 1 Axes>"
      ]
     },
     "metadata": {
      "needs_background": "light"
     },
     "output_type": "display_data"
    }
   ],
   "source": [
    "sns.countplot(df.mental_health_consequence)"
   ]
  },
  {
   "cell_type": "code",
   "execution_count": 218,
   "metadata": {},
   "outputs": [
    {
     "data": {
      "text/html": [
       "<div>\n",
       "<style scoped>\n",
       "    .dataframe tbody tr th:only-of-type {\n",
       "        vertical-align: middle;\n",
       "    }\n",
       "\n",
       "    .dataframe tbody tr th {\n",
       "        vertical-align: top;\n",
       "    }\n",
       "\n",
       "    .dataframe thead th {\n",
       "        text-align: right;\n",
       "    }\n",
       "</style>\n",
       "<table border=\"1\" class=\"dataframe\">\n",
       "  <thead>\n",
       "    <tr style=\"text-align: right;\">\n",
       "      <th>treatment</th>\n",
       "      <th>No</th>\n",
       "      <th>Yes</th>\n",
       "    </tr>\n",
       "    <tr>\n",
       "      <th>mental_health_consequence</th>\n",
       "      <th></th>\n",
       "      <th></th>\n",
       "    </tr>\n",
       "  </thead>\n",
       "  <tbody>\n",
       "    <tr>\n",
       "      <th>Maybe</th>\n",
       "      <td>33.895131</td>\n",
       "      <td>38.899804</td>\n",
       "    </tr>\n",
       "    <tr>\n",
       "      <th>No</th>\n",
       "      <td>47.940075</td>\n",
       "      <td>32.612967</td>\n",
       "    </tr>\n",
       "    <tr>\n",
       "      <th>Yes</th>\n",
       "      <td>18.164794</td>\n",
       "      <td>28.487230</td>\n",
       "    </tr>\n",
       "  </tbody>\n",
       "</table>\n",
       "</div>"
      ],
      "text/plain": [
       "treatment                         No        Yes\n",
       "mental_health_consequence                      \n",
       "Maybe                      33.895131  38.899804\n",
       "No                         47.940075  32.612967\n",
       "Yes                        18.164794  28.487230"
      ]
     },
     "execution_count": 218,
     "metadata": {},
     "output_type": "execute_result"
    }
   ],
   "source": [
    "pd.crosstab(df.mental_health_consequence, df.treatment, normalize='columns') * 100"
   ]
  },
  {
   "cell_type": "code",
   "execution_count": 220,
   "metadata": {},
   "outputs": [
    {
     "name": "stdout",
     "output_type": "stream",
     "text": [
      "Ho:  There is no significant assosiation between mental_health_consequence and treatment (No predictability)\n",
      "Ha:  There is a significant assosiation between mental_health_consequence and treatment (Good predictor)\n",
      "\n",
      "\n",
      "chi-square stats:  28.894874875348336\n",
      "p-value:  5.315665487579778e-07\n",
      "\n",
      "\n",
      "Reject null hypothesis,  There is a significant assosiation between mental_health_consequence and treatment (Good predictor)\n"
     ]
    }
   ],
   "source": [
    "p_value['mental_health_consequence'] = chi2('mental_health_consequence', 'treatment', df)"
   ]
  },
  {
   "cell_type": "code",
   "execution_count": 221,
   "metadata": {},
   "outputs": [],
   "source": [
    "# mental health consequence is a good predictor"
   ]
  },
  {
   "cell_type": "markdown",
   "metadata": {},
   "source": [
    "#### phys_health_consequence"
   ]
  },
  {
   "cell_type": "code",
   "execution_count": null,
   "metadata": {},
   "outputs": [],
   "source": []
  },
  {
   "cell_type": "code",
   "execution_count": 223,
   "metadata": {},
   "outputs": [
    {
     "data": {
      "text/plain": [
       "Description    Do you think that discussing a physical health issue with your employer would have negative consequences?\n",
       "Name: phys_health_consequence, dtype: object"
      ]
     },
     "execution_count": 223,
     "metadata": {},
     "output_type": "execute_result"
    }
   ],
   "source": [
    "desc['phys_health_consequence']"
   ]
  },
  {
   "cell_type": "code",
   "execution_count": 224,
   "metadata": {},
   "outputs": [
    {
     "data": {
      "text/plain": [
       "count     1043\n",
       "unique       3\n",
       "top         No\n",
       "freq       769\n",
       "Name: phys_health_consequence, dtype: object"
      ]
     },
     "execution_count": 224,
     "metadata": {},
     "output_type": "execute_result"
    }
   ],
   "source": [
    "df.phys_health_consequence.describe()"
   ]
  },
  {
   "cell_type": "code",
   "execution_count": 225,
   "metadata": {},
   "outputs": [
    {
     "data": {
      "text/plain": [
       "No       769\n",
       "Maybe    227\n",
       "Yes       47\n",
       "Name: phys_health_consequence, dtype: int64"
      ]
     },
     "execution_count": 225,
     "metadata": {},
     "output_type": "execute_result"
    }
   ],
   "source": [
    "df.phys_health_consequence.value_counts()"
   ]
  },
  {
   "cell_type": "code",
   "execution_count": 226,
   "metadata": {},
   "outputs": [
    {
     "data": {
      "text/plain": [
       "No       151\n",
       "Maybe     46\n",
       "Yes       13\n",
       "Name: phys_health_consequence, dtype: int64"
      ]
     },
     "execution_count": 226,
     "metadata": {},
     "output_type": "execute_result"
    }
   ],
   "source": [
    "test.phys_health_consequence.value_counts()"
   ]
  },
  {
   "cell_type": "code",
   "execution_count": 227,
   "metadata": {},
   "outputs": [
    {
     "data": {
      "text/plain": [
       "<AxesSubplot:xlabel='phys_health_consequence', ylabel='count'>"
      ]
     },
     "execution_count": 227,
     "metadata": {},
     "output_type": "execute_result"
    },
    {
     "data": {
      "image/png": "[encoded data removed]",
      "text/plain": [
       "<Figure size 432x288 with 1 Axes>"
      ]
     },
     "metadata": {
      "needs_background": "light"
     },
     "output_type": "display_data"
    }
   ],
   "source": [
    "sns.countplot(df.phys_health_consequence)"
   ]
  },
  {
   "cell_type": "code",
   "execution_count": 228,
   "metadata": {},
   "outputs": [
    {
     "name": "stdout",
     "output_type": "stream",
     "text": [
      "Proportion of No: 74%\n",
      "Proportion of Maybe: 22%\n",
      "Proportion of Yes: 5%\n"
     ]
    }
   ],
   "source": [
    "find_proportion('phys_health_consequence', df)"
   ]
  },
  {
   "cell_type": "code",
   "execution_count": 229,
   "metadata": {},
   "outputs": [
    {
     "data": {
      "text/html": [
       "<div>\n",
       "<style scoped>\n",
       "    .dataframe tbody tr th:only-of-type {\n",
       "        vertical-align: middle;\n",
       "    }\n",
       "\n",
       "    .dataframe tbody tr th {\n",
       "        vertical-align: top;\n",
       "    }\n",
       "\n",
       "    .dataframe thead th {\n",
       "        text-align: right;\n",
       "    }\n",
       "</style>\n",
       "<table border=\"1\" class=\"dataframe\">\n",
       "  <thead>\n",
       "    <tr style=\"text-align: right;\">\n",
       "      <th>treatment</th>\n",
       "      <th>No</th>\n",
       "      <th>Yes</th>\n",
       "    </tr>\n",
       "    <tr>\n",
       "      <th>phys_health_consequence</th>\n",
       "      <th></th>\n",
       "      <th></th>\n",
       "    </tr>\n",
       "  </thead>\n",
       "  <tbody>\n",
       "    <tr>\n",
       "      <th>Maybe</th>\n",
       "      <td>20.224719</td>\n",
       "      <td>23.379175</td>\n",
       "    </tr>\n",
       "    <tr>\n",
       "      <th>No</th>\n",
       "      <td>76.404494</td>\n",
       "      <td>70.923379</td>\n",
       "    </tr>\n",
       "    <tr>\n",
       "      <th>Yes</th>\n",
       "      <td>3.370787</td>\n",
       "      <td>5.697446</td>\n",
       "    </tr>\n",
       "  </tbody>\n",
       "</table>\n",
       "</div>"
      ],
      "text/plain": [
       "treatment                       No        Yes\n",
       "phys_health_consequence                      \n",
       "Maybe                    20.224719  23.379175\n",
       "No                       76.404494  70.923379\n",
       "Yes                       3.370787   5.697446"
      ]
     },
     "execution_count": 229,
     "metadata": {},
     "output_type": "execute_result"
    }
   ],
   "source": [
    "pd.crosstab(df.phys_health_consequence, df.treatment, normalize='columns') * 100"
   ]
  },
  {
   "cell_type": "code",
   "execution_count": 230,
   "metadata": {},
   "outputs": [
    {
     "name": "stdout",
     "output_type": "stream",
     "text": [
      "Ho:  There is no significant assosiation between phys_health_consequence and treatment (No predictability)\n",
      "Ha:  There is a significant assosiation between phys_health_consequence and treatment (Good predictor)\n",
      "\n",
      "\n",
      "chi-square stats:  5.383929739249858\n",
      "p-value:  0.06774769312449894\n",
      "\n",
      "\n",
      "Fail to reject null hypothesis,  There is no significant assosiation between phys_health_consequence and treatment (No predictability)\n"
     ]
    }
   ],
   "source": [
    "p_value['phys_health_consequence'] = chi2('phys_health_consequence', 'treatment', df)"
   ]
  },
  {
   "cell_type": "code",
   "execution_count": 231,
   "metadata": {},
   "outputs": [],
   "source": [
    "# phys_health_consequence is not a good predictor\n",
    "\n",
    "action['drop'].append('phys_health_consequence')"
   ]
  },
  {
   "cell_type": "markdown",
   "metadata": {},
   "source": [
    "#### coworkers"
   ]
  },
  {
   "cell_type": "code",
   "execution_count": null,
   "metadata": {},
   "outputs": [],
   "source": []
  },
  {
   "cell_type": "code",
   "execution_count": 232,
   "metadata": {},
   "outputs": [
    {
     "data": {
      "text/plain": [
       "Description    Would you be willing to discuss a mental health issue with your coworkers?\n",
       "Name: coworkers, dtype: object"
      ]
     },
     "execution_count": 232,
     "metadata": {},
     "output_type": "execute_result"
    }
   ],
   "source": [
    "desc['coworkers']"
   ]
  },
  {
   "cell_type": "code",
   "execution_count": 233,
   "metadata": {},
   "outputs": [
    {
     "data": {
      "text/plain": [
       "count             1043\n",
       "unique               3\n",
       "top       Some of them\n",
       "freq               649\n",
       "Name: coworkers, dtype: object"
      ]
     },
     "execution_count": 233,
     "metadata": {},
     "output_type": "execute_result"
    }
   ],
   "source": [
    "df.coworkers.describe()"
   ]
  },
  {
   "cell_type": "code",
   "execution_count": 234,
   "metadata": {},
   "outputs": [
    {
     "data": {
      "text/plain": [
       "Some of them    649\n",
       "No              207\n",
       "Yes             187\n",
       "Name: coworkers, dtype: int64"
      ]
     },
     "execution_count": 234,
     "metadata": {},
     "output_type": "execute_result"
    }
   ],
   "source": [
    "df.coworkers.value_counts()"
   ]
  },
  {
   "cell_type": "code",
   "execution_count": 235,
   "metadata": {},
   "outputs": [
    {
     "data": {
      "text/plain": [
       "Some of them    122\n",
       "No               51\n",
       "Yes              37\n",
       "Name: coworkers, dtype: int64"
      ]
     },
     "execution_count": 235,
     "metadata": {},
     "output_type": "execute_result"
    }
   ],
   "source": [
    "test.coworkers.value_counts()"
   ]
  },
  {
   "cell_type": "code",
   "execution_count": 236,
   "metadata": {},
   "outputs": [
    {
     "data": {
      "text/plain": [
       "<AxesSubplot:xlabel='coworkers', ylabel='count'>"
      ]
     },
     "execution_count": 236,
     "metadata": {},
     "output_type": "execute_result"
    },
    {
     "data": {
      "image/png": "[encoded data removed]",
      "text/plain": [
       "<Figure size 432x288 with 1 Axes>"
      ]
     },
     "metadata": {
      "needs_background": "light"
     },
     "output_type": "display_data"
    }
   ],
   "source": [
    "sns.countplot(df.coworkers)"
   ]
  },
  {
   "cell_type": "code",
   "execution_count": 237,
   "metadata": {},
   "outputs": [
    {
     "data": {
      "text/html": [
       "<div>\n",
       "<style scoped>\n",
       "    .dataframe tbody tr th:only-of-type {\n",
       "        vertical-align: middle;\n",
       "    }\n",
       "\n",
       "    .dataframe tbody tr th {\n",
       "        vertical-align: top;\n",
       "    }\n",
       "\n",
       "    .dataframe thead th {\n",
       "        text-align: right;\n",
       "    }\n",
       "</style>\n",
       "<table border=\"1\" class=\"dataframe\">\n",
       "  <thead>\n",
       "    <tr style=\"text-align: right;\">\n",
       "      <th>treatment</th>\n",
       "      <th>No</th>\n",
       "      <th>Yes</th>\n",
       "    </tr>\n",
       "    <tr>\n",
       "      <th>coworkers</th>\n",
       "      <th></th>\n",
       "      <th></th>\n",
       "    </tr>\n",
       "  </thead>\n",
       "  <tbody>\n",
       "    <tr>\n",
       "      <th>No</th>\n",
       "      <td>20.973783</td>\n",
       "      <td>18.664047</td>\n",
       "    </tr>\n",
       "    <tr>\n",
       "      <th>Some of them</th>\n",
       "      <td>62.546816</td>\n",
       "      <td>61.886051</td>\n",
       "    </tr>\n",
       "    <tr>\n",
       "      <th>Yes</th>\n",
       "      <td>16.479401</td>\n",
       "      <td>19.449902</td>\n",
       "    </tr>\n",
       "  </tbody>\n",
       "</table>\n",
       "</div>"
      ],
      "text/plain": [
       "treatment            No        Yes\n",
       "coworkers                         \n",
       "No            20.973783  18.664047\n",
       "Some of them  62.546816  61.886051\n",
       "Yes           16.479401  19.449902"
      ]
     },
     "execution_count": 237,
     "metadata": {},
     "output_type": "execute_result"
    }
   ],
   "source": [
    "pd.crosstab(df.coworkers, df.treatment, normalize='columns') * 100"
   ]
  },
  {
   "cell_type": "code",
   "execution_count": 238,
   "metadata": {},
   "outputs": [
    {
     "name": "stdout",
     "output_type": "stream",
     "text": [
      "Ho:  There is no significant assosiation between coworkers and treatment (No predictability)\n",
      "Ha:  There is a significant assosiation between coworkers and treatment (Good predictor)\n",
      "\n",
      "\n",
      "chi-square stats:  2.0013513101448086\n",
      "p-value:  0.36763096551235397\n",
      "\n",
      "\n",
      "Fail to reject null hypothesis,  There is no significant assosiation between coworkers and treatment (No predictability)\n"
     ]
    }
   ],
   "source": [
    "p_value['coworkers'] = chi2('coworkers', 'treatment', df)"
   ]
  },
  {
   "cell_type": "code",
   "execution_count": 239,
   "metadata": {},
   "outputs": [],
   "source": [
    "# coworkers is not a good predictor\n",
    "\n",
    "action['drop'].append('coworkers')"
   ]
  },
  {
   "cell_type": "markdown",
   "metadata": {},
   "source": [
    "#### supervisor"
   ]
  },
  {
   "cell_type": "code",
   "execution_count": 240,
   "metadata": {},
   "outputs": [
    {
     "data": {
      "text/plain": [
       "Description    Would you be willing to discuss a mental health issue with your direct supervisor(s)?\n",
       "Name: supervisor, dtype: object"
      ]
     },
     "execution_count": 240,
     "metadata": {},
     "output_type": "execute_result"
    }
   ],
   "source": [
    "desc['supervisor']"
   ]
  },
  {
   "cell_type": "code",
   "execution_count": 241,
   "metadata": {},
   "outputs": [
    {
     "data": {
      "text/plain": [
       "count     1043\n",
       "unique       3\n",
       "top        Yes\n",
       "freq       437\n",
       "Name: supervisor, dtype: object"
      ]
     },
     "execution_count": 241,
     "metadata": {},
     "output_type": "execute_result"
    }
   ],
   "source": [
    "df.supervisor.describe()"
   ]
  },
  {
   "cell_type": "code",
   "execution_count": 242,
   "metadata": {},
   "outputs": [
    {
     "data": {
      "text/plain": [
       "Yes             437\n",
       "No              317\n",
       "Some of them    289\n",
       "Name: supervisor, dtype: int64"
      ]
     },
     "execution_count": 242,
     "metadata": {},
     "output_type": "execute_result"
    }
   ],
   "source": [
    "df.supervisor.value_counts()"
   ]
  },
  {
   "cell_type": "code",
   "execution_count": 243,
   "metadata": {},
   "outputs": [
    {
     "data": {
      "text/plain": [
       "Yes             77\n",
       "No              73\n",
       "Some of them    60\n",
       "Name: supervisor, dtype: int64"
      ]
     },
     "execution_count": 243,
     "metadata": {},
     "output_type": "execute_result"
    }
   ],
   "source": [
    "test.supervisor.value_counts()"
   ]
  },
  {
   "cell_type": "code",
   "execution_count": 244,
   "metadata": {},
   "outputs": [
    {
     "data": {
      "text/plain": [
       "<AxesSubplot:xlabel='supervisor', ylabel='count'>"
      ]
     },
     "execution_count": 244,
     "metadata": {},
     "output_type": "execute_result"
    },
    {
     "data": {
      "image/png": "[encoded data removed]",
      "text/plain": [
       "<Figure size 432x288 with 1 Axes>"
      ]
     },
     "metadata": {
      "needs_background": "light"
     },
     "output_type": "display_data"
    }
   ],
   "source": [
    "sns.countplot(df.supervisor)"
   ]
  },
  {
   "cell_type": "code",
   "execution_count": 245,
   "metadata": {},
   "outputs": [
    {
     "data": {
      "text/html": [
       "<div>\n",
       "<style scoped>\n",
       "    .dataframe tbody tr th:only-of-type {\n",
       "        vertical-align: middle;\n",
       "    }\n",
       "\n",
       "    .dataframe tbody tr th {\n",
       "        vertical-align: top;\n",
       "    }\n",
       "\n",
       "    .dataframe thead th {\n",
       "        text-align: right;\n",
       "    }\n",
       "</style>\n",
       "<table border=\"1\" class=\"dataframe\">\n",
       "  <thead>\n",
       "    <tr style=\"text-align: right;\">\n",
       "      <th>treatment</th>\n",
       "      <th>No</th>\n",
       "      <th>Yes</th>\n",
       "    </tr>\n",
       "    <tr>\n",
       "      <th>supervisor</th>\n",
       "      <th></th>\n",
       "      <th></th>\n",
       "    </tr>\n",
       "  </thead>\n",
       "  <tbody>\n",
       "    <tr>\n",
       "      <th>No</th>\n",
       "      <td>28.277154</td>\n",
       "      <td>32.612967</td>\n",
       "    </tr>\n",
       "    <tr>\n",
       "      <th>Some of them</th>\n",
       "      <td>27.340824</td>\n",
       "      <td>28.094303</td>\n",
       "    </tr>\n",
       "    <tr>\n",
       "      <th>Yes</th>\n",
       "      <td>44.382022</td>\n",
       "      <td>39.292731</td>\n",
       "    </tr>\n",
       "  </tbody>\n",
       "</table>\n",
       "</div>"
      ],
      "text/plain": [
       "treatment            No        Yes\n",
       "supervisor                        \n",
       "No            28.277154  32.612967\n",
       "Some of them  27.340824  28.094303\n",
       "Yes           44.382022  39.292731"
      ]
     },
     "execution_count": 245,
     "metadata": {},
     "output_type": "execute_result"
    }
   ],
   "source": [
    "pd.crosstab(df.supervisor, df.treatment, normalize='columns') * 100"
   ]
  },
  {
   "cell_type": "code",
   "execution_count": 246,
   "metadata": {},
   "outputs": [
    {
     "name": "stdout",
     "output_type": "stream",
     "text": [
      "Ho:  There is no significant assosiation between supervisor and treatment (No predictability)\n",
      "Ha:  There is a significant assosiation between supervisor and treatment (Good predictor)\n",
      "\n",
      "\n",
      "chi-square stats:  3.276293501893299\n",
      "p-value:  0.19433986894185018\n",
      "\n",
      "\n",
      "Fail to reject null hypothesis,  There is no significant assosiation between supervisor and treatment (No predictability)\n"
     ]
    }
   ],
   "source": [
    "p_value['supervisor'] = chi2('supervisor', 'treatment', df)"
   ]
  },
  {
   "cell_type": "code",
   "execution_count": 247,
   "metadata": {},
   "outputs": [],
   "source": [
    "# supervisor is not a good predictor\n",
    "\n",
    "action['drop'].append('supervisor')"
   ]
  },
  {
   "cell_type": "markdown",
   "metadata": {},
   "source": [
    "#### mental_health_interview"
   ]
  },
  {
   "cell_type": "code",
   "execution_count": 248,
   "metadata": {},
   "outputs": [
    {
     "data": {
      "text/plain": [
       "Description    Would you bring up a mental health issue with a potential employer in an interview?\n",
       "Name: mental_health_interview, dtype: object"
      ]
     },
     "execution_count": 248,
     "metadata": {},
     "output_type": "execute_result"
    }
   ],
   "source": [
    "desc['mental_health_interview']"
   ]
  },
  {
   "cell_type": "code",
   "execution_count": 249,
   "metadata": {},
   "outputs": [
    {
     "data": {
      "text/plain": [
       "count     1043\n",
       "unique       3\n",
       "top         No\n",
       "freq       831\n",
       "Name: mental_health_interview, dtype: object"
      ]
     },
     "execution_count": 249,
     "metadata": {},
     "output_type": "execute_result"
    }
   ],
   "source": [
    "df.mental_health_interview.describe()"
   ]
  },
  {
   "cell_type": "code",
   "execution_count": 250,
   "metadata": {},
   "outputs": [
    {
     "data": {
      "text/plain": [
       "No       831\n",
       "Maybe    177\n",
       "Yes       35\n",
       "Name: mental_health_interview, dtype: int64"
      ]
     },
     "execution_count": 250,
     "metadata": {},
     "output_type": "execute_result"
    }
   ],
   "source": [
    "df.mental_health_interview.value_counts()"
   ]
  },
  {
   "cell_type": "code",
   "execution_count": 251,
   "metadata": {},
   "outputs": [
    {
     "data": {
      "text/plain": [
       "No       172\n",
       "Maybe     30\n",
       "Yes        8\n",
       "Name: mental_health_interview, dtype: int64"
      ]
     },
     "execution_count": 251,
     "metadata": {},
     "output_type": "execute_result"
    }
   ],
   "source": [
    "test.mental_health_interview.value_counts()"
   ]
  },
  {
   "cell_type": "code",
   "execution_count": 252,
   "metadata": {},
   "outputs": [
    {
     "data": {
      "text/plain": [
       "<AxesSubplot:xlabel='mental_health_interview', ylabel='count'>"
      ]
     },
     "execution_count": 252,
     "metadata": {},
     "output_type": "execute_result"
    },
    {
     "data": {
      "image/png": "[encoded data removed]",
      "text/plain": [
       "<Figure size 432x288 with 1 Axes>"
      ]
     },
     "metadata": {
      "needs_background": "light"
     },
     "output_type": "display_data"
    }
   ],
   "source": [
    "sns.countplot(df.mental_health_interview)"
   ]
  },
  {
   "cell_type": "code",
   "execution_count": 253,
   "metadata": {},
   "outputs": [
    {
     "name": "stdout",
     "output_type": "stream",
     "text": [
      "Proportion of No: 80%\n",
      "Proportion of Maybe: 17%\n",
      "Proportion of Yes: 3%\n"
     ]
    }
   ],
   "source": [
    "find_proportion('mental_health_interview', df)"
   ]
  },
  {
   "cell_type": "code",
   "execution_count": 254,
   "metadata": {},
   "outputs": [
    {
     "data": {
      "text/html": [
       "<div>\n",
       "<style scoped>\n",
       "    .dataframe tbody tr th:only-of-type {\n",
       "        vertical-align: middle;\n",
       "    }\n",
       "\n",
       "    .dataframe tbody tr th {\n",
       "        vertical-align: top;\n",
       "    }\n",
       "\n",
       "    .dataframe thead th {\n",
       "        text-align: right;\n",
       "    }\n",
       "</style>\n",
       "<table border=\"1\" class=\"dataframe\">\n",
       "  <thead>\n",
       "    <tr style=\"text-align: right;\">\n",
       "      <th>treatment</th>\n",
       "      <th>No</th>\n",
       "      <th>Yes</th>\n",
       "    </tr>\n",
       "    <tr>\n",
       "      <th>mental_health_interview</th>\n",
       "      <th></th>\n",
       "      <th></th>\n",
       "    </tr>\n",
       "  </thead>\n",
       "  <tbody>\n",
       "    <tr>\n",
       "      <th>Maybe</th>\n",
       "      <td>20.786517</td>\n",
       "      <td>12.966601</td>\n",
       "    </tr>\n",
       "    <tr>\n",
       "      <th>No</th>\n",
       "      <td>76.217228</td>\n",
       "      <td>83.300589</td>\n",
       "    </tr>\n",
       "    <tr>\n",
       "      <th>Yes</th>\n",
       "      <td>2.996255</td>\n",
       "      <td>3.732809</td>\n",
       "    </tr>\n",
       "  </tbody>\n",
       "</table>\n",
       "</div>"
      ],
      "text/plain": [
       "treatment                       No        Yes\n",
       "mental_health_interview                      \n",
       "Maybe                    20.786517  12.966601\n",
       "No                       76.217228  83.300589\n",
       "Yes                       2.996255   3.732809"
      ]
     },
     "execution_count": 254,
     "metadata": {},
     "output_type": "execute_result"
    }
   ],
   "source": [
    "pd.crosstab(df.mental_health_interview, df.treatment, normalize='columns') * 100"
   ]
  },
  {
   "cell_type": "code",
   "execution_count": 255,
   "metadata": {},
   "outputs": [
    {
     "name": "stdout",
     "output_type": "stream",
     "text": [
      "Ho:  There is no significant assosiation between mental_health_interview and treatment (No predictability)\n",
      "Ha:  There is a significant assosiation between mental_health_interview and treatment (Good predictor)\n",
      "\n",
      "\n",
      "chi-square stats:  11.452941646716239\n",
      "p-value:  0.003258556987863\n",
      "\n",
      "\n",
      "Reject null hypothesis,  There is a significant assosiation between mental_health_interview and treatment (Good predictor)\n"
     ]
    }
   ],
   "source": [
    "p_value['mental_health_interview'] = chi2('mental_health_interview', 'treatment', df)"
   ]
  },
  {
   "cell_type": "code",
   "execution_count": 256,
   "metadata": {},
   "outputs": [],
   "source": [
    "# There is an association, but p-value is close to 0.05"
   ]
  },
  {
   "cell_type": "markdown",
   "metadata": {},
   "source": [
    "#### phys_health_interview"
   ]
  },
  {
   "cell_type": "code",
   "execution_count": 257,
   "metadata": {},
   "outputs": [
    {
     "data": {
      "text/plain": [
       "Description    Would you bring up a physical health issue with a potential employer in an interview?\n",
       "Name: phys_health_interview, dtype: object"
      ]
     },
     "execution_count": 257,
     "metadata": {},
     "output_type": "execute_result"
    }
   ],
   "source": [
    "desc['phys_health_interview']"
   ]
  },
  {
   "cell_type": "code",
   "execution_count": 258,
   "metadata": {},
   "outputs": [
    {
     "data": {
      "text/plain": [
       "count      1043\n",
       "unique        3\n",
       "top       Maybe\n",
       "freq        460\n",
       "Name: phys_health_interview, dtype: object"
      ]
     },
     "execution_count": 258,
     "metadata": {},
     "output_type": "execute_result"
    }
   ],
   "source": [
    "df.phys_health_interview.describe()"
   ]
  },
  {
   "cell_type": "code",
   "execution_count": 259,
   "metadata": {},
   "outputs": [
    {
     "data": {
      "text/plain": [
       "Maybe    460\n",
       "No       415\n",
       "Yes      168\n",
       "Name: phys_health_interview, dtype: int64"
      ]
     },
     "execution_count": 259,
     "metadata": {},
     "output_type": "execute_result"
    }
   ],
   "source": [
    "df.phys_health_interview.value_counts()"
   ]
  },
  {
   "cell_type": "code",
   "execution_count": 260,
   "metadata": {},
   "outputs": [
    {
     "data": {
      "text/plain": [
       "Maybe    96\n",
       "No       80\n",
       "Yes      34\n",
       "Name: phys_health_interview, dtype: int64"
      ]
     },
     "execution_count": 260,
     "metadata": {},
     "output_type": "execute_result"
    }
   ],
   "source": [
    "test.phys_health_interview.value_counts()"
   ]
  },
  {
   "cell_type": "code",
   "execution_count": 261,
   "metadata": {},
   "outputs": [
    {
     "data": {
      "text/plain": [
       "<AxesSubplot:xlabel='phys_health_interview', ylabel='count'>"
      ]
     },
     "execution_count": 261,
     "metadata": {},
     "output_type": "execute_result"
    },
    {
     "data": {
      "image/png": "[encoded data removed]",
      "text/plain": [
       "<Figure size 432x288 with 1 Axes>"
      ]
     },
     "metadata": {
      "needs_background": "light"
     },
     "output_type": "display_data"
    }
   ],
   "source": [
    "sns.countplot(df.phys_health_interview)"
   ]
  },
  {
   "cell_type": "code",
   "execution_count": 262,
   "metadata": {},
   "outputs": [
    {
     "data": {
      "text/html": [
       "<div>\n",
       "<style scoped>\n",
       "    .dataframe tbody tr th:only-of-type {\n",
       "        vertical-align: middle;\n",
       "    }\n",
       "\n",
       "    .dataframe tbody tr th {\n",
       "        vertical-align: top;\n",
       "    }\n",
       "\n",
       "    .dataframe thead th {\n",
       "        text-align: right;\n",
       "    }\n",
       "</style>\n",
       "<table border=\"1\" class=\"dataframe\">\n",
       "  <thead>\n",
       "    <tr style=\"text-align: right;\">\n",
       "      <th>treatment</th>\n",
       "      <th>No</th>\n",
       "      <th>Yes</th>\n",
       "    </tr>\n",
       "    <tr>\n",
       "      <th>phys_health_interview</th>\n",
       "      <th></th>\n",
       "      <th></th>\n",
       "    </tr>\n",
       "  </thead>\n",
       "  <tbody>\n",
       "    <tr>\n",
       "      <th>Maybe</th>\n",
       "      <td>47.940075</td>\n",
       "      <td>40.078585</td>\n",
       "    </tr>\n",
       "    <tr>\n",
       "      <th>No</th>\n",
       "      <td>37.827715</td>\n",
       "      <td>41.846758</td>\n",
       "    </tr>\n",
       "    <tr>\n",
       "      <th>Yes</th>\n",
       "      <td>14.232210</td>\n",
       "      <td>18.074656</td>\n",
       "    </tr>\n",
       "  </tbody>\n",
       "</table>\n",
       "</div>"
      ],
      "text/plain": [
       "treatment                     No        Yes\n",
       "phys_health_interview                      \n",
       "Maybe                  47.940075  40.078585\n",
       "No                     37.827715  41.846758\n",
       "Yes                    14.232210  18.074656"
      ]
     },
     "execution_count": 262,
     "metadata": {},
     "output_type": "execute_result"
    }
   ],
   "source": [
    "pd.crosstab(df.phys_health_interview, df.treatment, normalize='columns') * 100"
   ]
  },
  {
   "cell_type": "code",
   "execution_count": 263,
   "metadata": {},
   "outputs": [
    {
     "name": "stdout",
     "output_type": "stream",
     "text": [
      "Ho:  There is no significant assosiation between phys_health_interview and treatment (No predictability)\n",
      "Ha:  There is a significant assosiation between phys_health_interview and treatment (Good predictor)\n",
      "\n",
      "\n",
      "chi-square stats:  7.098481955182959\n",
      "p-value:  0.02874645057585566\n",
      "\n",
      "\n",
      "Reject null hypothesis,  There is a significant assosiation between phys_health_interview and treatment (Good predictor)\n"
     ]
    }
   ],
   "source": [
    "p_value['phys_health_interview'] = chi2('phys_health_interview', 'treatment', df)"
   ]
  },
  {
   "cell_type": "code",
   "execution_count": 264,
   "metadata": {},
   "outputs": [],
   "source": [
    "# There is a significant assosiation, but the p-value is close to 0.05"
   ]
  },
  {
   "cell_type": "markdown",
   "metadata": {},
   "source": [
    "#### mental_vs_physical"
   ]
  },
  {
   "cell_type": "code",
   "execution_count": 265,
   "metadata": {},
   "outputs": [
    {
     "data": {
      "text/plain": [
       "Description    Do you feel that your employer takes mental health as seriously as physical health?\n",
       "Name: mental_vs_physical, dtype: object"
      ]
     },
     "execution_count": 265,
     "metadata": {},
     "output_type": "execute_result"
    }
   ],
   "source": [
    "desc['mental_vs_physical']"
   ]
  },
  {
   "cell_type": "code",
   "execution_count": 266,
   "metadata": {},
   "outputs": [
    {
     "data": {
      "text/plain": [
       "count           1043\n",
       "unique             3\n",
       "top       Don't know\n",
       "freq             469\n",
       "Name: mental_vs_physical, dtype: object"
      ]
     },
     "execution_count": 266,
     "metadata": {},
     "output_type": "execute_result"
    }
   ],
   "source": [
    "df.mental_vs_physical.describe()"
   ]
  },
  {
   "cell_type": "code",
   "execution_count": 267,
   "metadata": {},
   "outputs": [
    {
     "data": {
      "text/plain": [
       "Don't know    469\n",
       "Yes           296\n",
       "No            278\n",
       "Name: mental_vs_physical, dtype: int64"
      ]
     },
     "execution_count": 267,
     "metadata": {},
     "output_type": "execute_result"
    }
   ],
   "source": [
    "df.mental_vs_physical.value_counts()"
   ]
  },
  {
   "cell_type": "code",
   "execution_count": 268,
   "metadata": {},
   "outputs": [
    {
     "data": {
      "text/plain": [
       "Don't know    105\n",
       "No             60\n",
       "Yes            45\n",
       "Name: mental_vs_physical, dtype: int64"
      ]
     },
     "execution_count": 268,
     "metadata": {},
     "output_type": "execute_result"
    }
   ],
   "source": [
    "test.mental_vs_physical.value_counts()"
   ]
  },
  {
   "cell_type": "code",
   "execution_count": 269,
   "metadata": {},
   "outputs": [
    {
     "data": {
      "text/plain": [
       "<AxesSubplot:xlabel='mental_vs_physical', ylabel='count'>"
      ]
     },
     "execution_count": 269,
     "metadata": {},
     "output_type": "execute_result"
    },
    {
     "data": {
      "image/png": "[encoded data removed]",
      "text/plain": [
       "<Figure size 432x288 with 1 Axes>"
      ]
     },
     "metadata": {
      "needs_background": "light"
     },
     "output_type": "display_data"
    }
   ],
   "source": [
    "sns.countplot(df.mental_vs_physical)"
   ]
  },
  {
   "cell_type": "code",
   "execution_count": 270,
   "metadata": {},
   "outputs": [
    {
     "data": {
      "text/html": [
       "<div>\n",
       "<style scoped>\n",
       "    .dataframe tbody tr th:only-of-type {\n",
       "        vertical-align: middle;\n",
       "    }\n",
       "\n",
       "    .dataframe tbody tr th {\n",
       "        vertical-align: top;\n",
       "    }\n",
       "\n",
       "    .dataframe thead th {\n",
       "        text-align: right;\n",
       "    }\n",
       "</style>\n",
       "<table border=\"1\" class=\"dataframe\">\n",
       "  <thead>\n",
       "    <tr style=\"text-align: right;\">\n",
       "      <th>treatment</th>\n",
       "      <th>No</th>\n",
       "      <th>Yes</th>\n",
       "    </tr>\n",
       "    <tr>\n",
       "      <th>mental_vs_physical</th>\n",
       "      <th></th>\n",
       "      <th></th>\n",
       "    </tr>\n",
       "  </thead>\n",
       "  <tbody>\n",
       "    <tr>\n",
       "      <th>Don't know</th>\n",
       "      <td>50.187266</td>\n",
       "      <td>39.489194</td>\n",
       "    </tr>\n",
       "    <tr>\n",
       "      <th>No</th>\n",
       "      <td>22.097378</td>\n",
       "      <td>31.434185</td>\n",
       "    </tr>\n",
       "    <tr>\n",
       "      <th>Yes</th>\n",
       "      <td>27.715356</td>\n",
       "      <td>29.076621</td>\n",
       "    </tr>\n",
       "  </tbody>\n",
       "</table>\n",
       "</div>"
      ],
      "text/plain": [
       "treatment                  No        Yes\n",
       "mental_vs_physical                      \n",
       "Don't know          50.187266  39.489194\n",
       "No                  22.097378  31.434185\n",
       "Yes                 27.715356  29.076621"
      ]
     },
     "execution_count": 270,
     "metadata": {},
     "output_type": "execute_result"
    }
   ],
   "source": [
    "pd.crosstab(df.mental_vs_physical, df.treatment, normalize='columns') * 100"
   ]
  },
  {
   "cell_type": "code",
   "execution_count": 271,
   "metadata": {},
   "outputs": [
    {
     "name": "stdout",
     "output_type": "stream",
     "text": [
      "Ho:  There is no significant assosiation between mental_vs_physical and treatment (No predictability)\n",
      "Ha:  There is a significant assosiation between mental_vs_physical and treatment (Good predictor)\n",
      "\n",
      "\n",
      "chi-square stats:  15.32632473743308\n",
      "p-value:  0.00046981931717449805\n",
      "\n",
      "\n",
      "Reject null hypothesis,  There is a significant assosiation between mental_vs_physical and treatment (Good predictor)\n"
     ]
    }
   ],
   "source": [
    "p_value['mental_vs_physical'] = chi2('mental_vs_physical', 'treatment', df)"
   ]
  },
  {
   "cell_type": "code",
   "execution_count": 272,
   "metadata": {},
   "outputs": [],
   "source": [
    "# mental_vs_physical is a good predictor"
   ]
  },
  {
   "cell_type": "markdown",
   "metadata": {},
   "source": [
    "#### obs_consequence"
   ]
  },
  {
   "cell_type": "code",
   "execution_count": 273,
   "metadata": {},
   "outputs": [
    {
     "data": {
      "text/plain": [
       "Description    Have you heard of or observed negative consequences for coworkers with mental health conditions in your workplace?\n",
       "Name: obs_consequence, dtype: object"
      ]
     },
     "execution_count": 273,
     "metadata": {},
     "output_type": "execute_result"
    }
   ],
   "source": [
    "desc['obs_consequence']"
   ]
  },
  {
   "cell_type": "code",
   "execution_count": 274,
   "metadata": {},
   "outputs": [
    {
     "data": {
      "text/plain": [
       "count     1043\n",
       "unique       2\n",
       "top         No\n",
       "freq       898\n",
       "Name: obs_consequence, dtype: object"
      ]
     },
     "execution_count": 274,
     "metadata": {},
     "output_type": "execute_result"
    }
   ],
   "source": [
    "df.obs_consequence.describe()"
   ]
  },
  {
   "cell_type": "code",
   "execution_count": 275,
   "metadata": {},
   "outputs": [
    {
     "data": {
      "text/plain": [
       "No     898\n",
       "Yes    145\n",
       "Name: obs_consequence, dtype: int64"
      ]
     },
     "execution_count": 275,
     "metadata": {},
     "output_type": "execute_result"
    }
   ],
   "source": [
    "df.obs_consequence.value_counts()"
   ]
  },
  {
   "cell_type": "code",
   "execution_count": 276,
   "metadata": {},
   "outputs": [
    {
     "data": {
      "text/plain": [
       "No     173\n",
       "Yes     37\n",
       "Name: obs_consequence, dtype: int64"
      ]
     },
     "execution_count": 276,
     "metadata": {},
     "output_type": "execute_result"
    }
   ],
   "source": [
    "test.obs_consequence.value_counts()"
   ]
  },
  {
   "cell_type": "code",
   "execution_count": 277,
   "metadata": {},
   "outputs": [
    {
     "data": {
      "text/plain": [
       "<AxesSubplot:xlabel='obs_consequence', ylabel='count'>"
      ]
     },
     "execution_count": 277,
     "metadata": {},
     "output_type": "execute_result"
    },
    {
     "data": {
      "image/png": "[encoded data removed]",
      "text/plain": [
       "<Figure size 432x288 with 1 Axes>"
      ]
     },
     "metadata": {
      "needs_background": "light"
     },
     "output_type": "display_data"
    }
   ],
   "source": [
    "sns.countplot(df.obs_consequence)"
   ]
  },
  {
   "cell_type": "code",
   "execution_count": 278,
   "metadata": {},
   "outputs": [
    {
     "data": {
      "text/html": [
       "<div>\n",
       "<style scoped>\n",
       "    .dataframe tbody tr th:only-of-type {\n",
       "        vertical-align: middle;\n",
       "    }\n",
       "\n",
       "    .dataframe tbody tr th {\n",
       "        vertical-align: top;\n",
       "    }\n",
       "\n",
       "    .dataframe thead th {\n",
       "        text-align: right;\n",
       "    }\n",
       "</style>\n",
       "<table border=\"1\" class=\"dataframe\">\n",
       "  <thead>\n",
       "    <tr style=\"text-align: right;\">\n",
       "      <th>treatment</th>\n",
       "      <th>No</th>\n",
       "      <th>Yes</th>\n",
       "    </tr>\n",
       "    <tr>\n",
       "      <th>obs_consequence</th>\n",
       "      <th></th>\n",
       "      <th></th>\n",
       "    </tr>\n",
       "  </thead>\n",
       "  <tbody>\n",
       "    <tr>\n",
       "      <th>No</th>\n",
       "      <td>92.134831</td>\n",
       "      <td>79.764244</td>\n",
       "    </tr>\n",
       "    <tr>\n",
       "      <th>Yes</th>\n",
       "      <td>7.865169</td>\n",
       "      <td>20.235756</td>\n",
       "    </tr>\n",
       "  </tbody>\n",
       "</table>\n",
       "</div>"
      ],
      "text/plain": [
       "treatment               No        Yes\n",
       "obs_consequence                      \n",
       "No               92.134831  79.764244\n",
       "Yes               7.865169  20.235756"
      ]
     },
     "execution_count": 278,
     "metadata": {},
     "output_type": "execute_result"
    }
   ],
   "source": [
    "pd.crosstab(df.obs_consequence, df.treatment, normalize='columns') * 100"
   ]
  },
  {
   "cell_type": "code",
   "execution_count": 279,
   "metadata": {},
   "outputs": [
    {
     "name": "stdout",
     "output_type": "stream",
     "text": [
      "Ho:  There is no significant assosiation between obs_consequence and treatment (No predictability)\n",
      "Ha:  There is a significant assosiation between obs_consequence and treatment (Good predictor)\n",
      "\n",
      "\n",
      "chi-square stats:  32.29256323107197\n",
      "p-value:  1.3261994121163306e-08\n",
      "\n",
      "\n",
      "Reject null hypothesis,  There is a significant assosiation between obs_consequence and treatment (Good predictor)\n"
     ]
    }
   ],
   "source": [
    "p_value['obs_consequence'] = chi2('obs_consequence', 'treatment', df)"
   ]
  },
  {
   "cell_type": "code",
   "execution_count": 280,
   "metadata": {},
   "outputs": [],
   "source": [
    "# obs_consequence is a good predictor"
   ]
  },
  {
   "cell_type": "markdown",
   "metadata": {},
   "source": [
    "#### comments"
   ]
  },
  {
   "cell_type": "code",
   "execution_count": 281,
   "metadata": {},
   "outputs": [
    {
     "data": {
      "text/plain": [
       "Description    Any additional notes or comments.\n",
       "Name: comments, dtype: object"
      ]
     },
     "execution_count": 281,
     "metadata": {},
     "output_type": "execute_result"
    }
   ],
   "source": [
    "desc['comments']"
   ]
  },
  {
   "cell_type": "code",
   "execution_count": 282,
   "metadata": {},
   "outputs": [
    {
     "data": {
      "text/plain": [
       "912"
      ]
     },
     "execution_count": 282,
     "metadata": {},
     "output_type": "execute_result"
    }
   ],
   "source": [
    "df.comments.isnull().sum()"
   ]
  },
  {
   "cell_type": "code",
   "execution_count": 283,
   "metadata": {},
   "outputs": [],
   "source": [
    "action['drop'].append('comments')"
   ]
  },
  {
   "cell_type": "markdown",
   "metadata": {},
   "source": [
    "# Preprocessing"
   ]
  },
  {
   "cell_type": "code",
   "execution_count": 284,
   "metadata": {},
   "outputs": [
    {
     "data": {
      "text/plain": [
       "{'drop': ['S.No',\n",
       "  'state',\n",
       "  'self_employed',\n",
       "  'no_employees',\n",
       "  'tech_company',\n",
       "  'phys_health_consequence',\n",
       "  'coworkers',\n",
       "  'supervisor',\n",
       "  'comments']}"
      ]
     },
     "execution_count": 284,
     "metadata": {},
     "output_type": "execute_result"
    }
   ],
   "source": [
    "action"
   ]
  },
  {
   "cell_type": "code",
   "execution_count": 325,
   "metadata": {},
   "outputs": [],
   "source": [
    "action['drop'].append('treatment')"
   ]
  },
  {
   "cell_type": "code",
   "execution_count": 290,
   "metadata": {},
   "outputs": [
    {
     "data": {
      "text/plain": [
       "{'work_interfere': 4.352830219132e-106,\n",
       " 'Gender': 2.3788616385396698e-83,\n",
       " 'family_history': 3.432259316054486e-35,\n",
       " 'care_options': 1.0850561436450189e-16,\n",
       " 'benefits': 2.56497198861586e-12,\n",
       " 'obs_consequence': 1.3261994121163306e-08,\n",
       " 'mental_health_consequence': 5.315665487579778e-07,\n",
       " 'leave': 4.950109465826812e-06,\n",
       " 'anonymity': 1.3337960735626316e-05,\n",
       " 'mental_vs_physical': 0.00046981931717449805,\n",
       " 'Country': 0.0005205517192911775,\n",
       " 'mental_health_interview': 0.003258556987863,\n",
       " 'seek_help': 0.00383863732979991,\n",
       " 'Age': 0.004189746365937874,\n",
       " 'wellness_program': 0.008288172227484888,\n",
       " 'phys_health_interview': 0.02874645057585566,\n",
       " 'phys_health_consequence': 0.06774769312449894,\n",
       " 'state': 0.08416808868755185,\n",
       " 'no_employees': 0.158747911852401,\n",
       " 'supervisor': 0.19433986894185018,\n",
       " 'tech_company': 0.2081873674069063,\n",
       " 'remote_work': 0.2947821207739679,\n",
       " 'coworkers': 0.36763096551235397,\n",
       " 'self_employed': 0.7770794838173412}"
      ]
     },
     "execution_count": 290,
     "metadata": {},
     "output_type": "execute_result"
    }
   ],
   "source": [
    "dict1 = p_value\n",
    "sorted_dict = {}\n",
    "sorted_keys = sorted(dict1, key=dict1.get)\n",
    "\n",
    "for w in sorted_keys:\n",
    "    sorted_dict[w] = dict1[w]\n",
    "\n",
    "sorted_dict"
   ]
  },
  {
   "cell_type": "code",
   "execution_count": 295,
   "metadata": {
    "scrolled": false
   },
   "outputs": [
    {
     "data": {
      "text/plain": [
       "(210, 27)"
      ]
     },
     "execution_count": 295,
     "metadata": {},
     "output_type": "execute_result"
    }
   ],
   "source": [
    "test.shape"
   ]
  },
  {
   "cell_type": "code",
   "execution_count": 330,
   "metadata": {},
   "outputs": [
    {
     "data": {
      "text/plain": [
       "['S.No',\n",
       " 'state',\n",
       " 'self_employed',\n",
       " 'no_employees',\n",
       " 'tech_company',\n",
       " 'phys_health_consequence',\n",
       " 'coworkers',\n",
       " 'supervisor',\n",
       " 'comments',\n",
       " 'Timestamp']"
      ]
     },
     "execution_count": 330,
     "metadata": {},
     "output_type": "execute_result"
    }
   ],
   "source": [
    "action['drop'].remove('treatment')\n",
    "action['drop']"
   ]
  },
  {
   "cell_type": "code",
   "execution_count": 332,
   "metadata": {},
   "outputs": [],
   "source": [
    "test = test.drop(action['drop'], axis=1)"
   ]
  },
  {
   "cell_type": "code",
   "execution_count": 333,
   "metadata": {},
   "outputs": [],
   "source": [
    "action['drop'].append('treatment')"
   ]
  },
  {
   "cell_type": "code",
   "execution_count": 334,
   "metadata": {},
   "outputs": [
    {
     "data": {
      "text/plain": [
       "(1043, 28)"
      ]
     },
     "execution_count": 334,
     "metadata": {},
     "output_type": "execute_result"
    }
   ],
   "source": [
    "df.shape"
   ]
  },
  {
   "cell_type": "markdown",
   "metadata": {},
   "source": [
    "## train test split"
   ]
  },
  {
   "cell_type": "code",
   "execution_count": 335,
   "metadata": {},
   "outputs": [],
   "source": [
    "X = df.drop(action['drop'], axis=1)\n",
    "y = df['treatment']"
   ]
  },
  {
   "cell_type": "code",
   "execution_count": 336,
   "metadata": {},
   "outputs": [
    {
     "data": {
      "text/plain": [
       "(1043, 17)"
      ]
     },
     "execution_count": 336,
     "metadata": {},
     "output_type": "execute_result"
    }
   ],
   "source": [
    "X.shape"
   ]
  },
  {
   "cell_type": "code",
   "execution_count": 337,
   "metadata": {},
   "outputs": [
    {
     "data": {
      "text/plain": [
       "(1043,)"
      ]
     },
     "execution_count": 337,
     "metadata": {},
     "output_type": "execute_result"
    }
   ],
   "source": [
    "y.shape"
   ]
  },
  {
   "cell_type": "code",
   "execution_count": 338,
   "metadata": {},
   "outputs": [
    {
     "data": {
      "text/html": [
       "<div>\n",
       "<style scoped>\n",
       "    .dataframe tbody tr th:only-of-type {\n",
       "        vertical-align: middle;\n",
       "    }\n",
       "\n",
       "    .dataframe tbody tr th {\n",
       "        vertical-align: top;\n",
       "    }\n",
       "\n",
       "    .dataframe thead th {\n",
       "        text-align: right;\n",
       "    }\n",
       "</style>\n",
       "<table border=\"1\" class=\"dataframe\">\n",
       "  <thead>\n",
       "    <tr style=\"text-align: right;\">\n",
       "      <th></th>\n",
       "      <th>Age</th>\n",
       "      <th>Gender</th>\n",
       "      <th>Country</th>\n",
       "      <th>family_history</th>\n",
       "      <th>work_interfere</th>\n",
       "      <th>remote_work</th>\n",
       "      <th>benefits</th>\n",
       "      <th>care_options</th>\n",
       "      <th>wellness_program</th>\n",
       "      <th>seek_help</th>\n",
       "      <th>anonymity</th>\n",
       "      <th>leave</th>\n",
       "      <th>mental_health_consequence</th>\n",
       "      <th>mental_health_interview</th>\n",
       "      <th>phys_health_interview</th>\n",
       "      <th>mental_vs_physical</th>\n",
       "      <th>obs_consequence</th>\n",
       "    </tr>\n",
       "  </thead>\n",
       "  <tbody>\n",
       "    <tr>\n",
       "      <th>0</th>\n",
       "      <td>37</td>\n",
       "      <td>Female</td>\n",
       "      <td>United States</td>\n",
       "      <td>No</td>\n",
       "      <td>Often</td>\n",
       "      <td>No</td>\n",
       "      <td>Yes</td>\n",
       "      <td>Not sure</td>\n",
       "      <td>No</td>\n",
       "      <td>Yes</td>\n",
       "      <td>Yes</td>\n",
       "      <td>Somewhat easy</td>\n",
       "      <td>No</td>\n",
       "      <td>No</td>\n",
       "      <td>Maybe</td>\n",
       "      <td>Yes</td>\n",
       "      <td>No</td>\n",
       "    </tr>\n",
       "    <tr>\n",
       "      <th>1</th>\n",
       "      <td>44</td>\n",
       "      <td>Male</td>\n",
       "      <td>United States</td>\n",
       "      <td>No</td>\n",
       "      <td>Rarely</td>\n",
       "      <td>No</td>\n",
       "      <td>Don't know</td>\n",
       "      <td>No</td>\n",
       "      <td>Don't know</td>\n",
       "      <td>Don't know</td>\n",
       "      <td>Don't know</td>\n",
       "      <td>Don't know</td>\n",
       "      <td>Maybe</td>\n",
       "      <td>No</td>\n",
       "      <td>No</td>\n",
       "      <td>Don't know</td>\n",
       "      <td>No</td>\n",
       "    </tr>\n",
       "    <tr>\n",
       "      <th>2</th>\n",
       "      <td>32</td>\n",
       "      <td>Male</td>\n",
       "      <td>Canada</td>\n",
       "      <td>No</td>\n",
       "      <td>Rarely</td>\n",
       "      <td>No</td>\n",
       "      <td>No</td>\n",
       "      <td>No</td>\n",
       "      <td>No</td>\n",
       "      <td>No</td>\n",
       "      <td>Don't know</td>\n",
       "      <td>Somewhat difficult</td>\n",
       "      <td>No</td>\n",
       "      <td>Yes</td>\n",
       "      <td>Yes</td>\n",
       "      <td>No</td>\n",
       "      <td>No</td>\n",
       "    </tr>\n",
       "    <tr>\n",
       "      <th>3</th>\n",
       "      <td>31</td>\n",
       "      <td>Male</td>\n",
       "      <td>United Kingdom</td>\n",
       "      <td>Yes</td>\n",
       "      <td>Often</td>\n",
       "      <td>No</td>\n",
       "      <td>No</td>\n",
       "      <td>Yes</td>\n",
       "      <td>No</td>\n",
       "      <td>No</td>\n",
       "      <td>No</td>\n",
       "      <td>Somewhat difficult</td>\n",
       "      <td>Yes</td>\n",
       "      <td>Maybe</td>\n",
       "      <td>Maybe</td>\n",
       "      <td>No</td>\n",
       "      <td>Yes</td>\n",
       "    </tr>\n",
       "    <tr>\n",
       "      <th>4</th>\n",
       "      <td>31</td>\n",
       "      <td>Male</td>\n",
       "      <td>United States</td>\n",
       "      <td>No</td>\n",
       "      <td>Never</td>\n",
       "      <td>Yes</td>\n",
       "      <td>Yes</td>\n",
       "      <td>No</td>\n",
       "      <td>Don't know</td>\n",
       "      <td>Don't know</td>\n",
       "      <td>Don't know</td>\n",
       "      <td>Don't know</td>\n",
       "      <td>No</td>\n",
       "      <td>Yes</td>\n",
       "      <td>Yes</td>\n",
       "      <td>Don't know</td>\n",
       "      <td>No</td>\n",
       "    </tr>\n",
       "  </tbody>\n",
       "</table>\n",
       "</div>"
      ],
      "text/plain": [
       "   Age  Gender         Country family_history work_interfere remote_work  \\\n",
       "0   37  Female   United States             No          Often          No   \n",
       "1   44    Male   United States             No         Rarely          No   \n",
       "2   32    Male          Canada             No         Rarely          No   \n",
       "3   31    Male  United Kingdom            Yes          Often          No   \n",
       "4   31    Male   United States             No          Never         Yes   \n",
       "\n",
       "     benefits care_options wellness_program   seek_help   anonymity  \\\n",
       "0         Yes     Not sure               No         Yes         Yes   \n",
       "1  Don't know           No       Don't know  Don't know  Don't know   \n",
       "2          No           No               No          No  Don't know   \n",
       "3          No          Yes               No          No          No   \n",
       "4         Yes           No       Don't know  Don't know  Don't know   \n",
       "\n",
       "                leave mental_health_consequence mental_health_interview  \\\n",
       "0       Somewhat easy                        No                      No   \n",
       "1          Don't know                     Maybe                      No   \n",
       "2  Somewhat difficult                        No                     Yes   \n",
       "3  Somewhat difficult                       Yes                   Maybe   \n",
       "4          Don't know                        No                     Yes   \n",
       "\n",
       "  phys_health_interview mental_vs_physical obs_consequence  \n",
       "0                 Maybe                Yes              No  \n",
       "1                    No         Don't know              No  \n",
       "2                   Yes                 No              No  \n",
       "3                 Maybe                 No             Yes  \n",
       "4                   Yes         Don't know              No  "
      ]
     },
     "execution_count": 338,
     "metadata": {},
     "output_type": "execute_result"
    }
   ],
   "source": [
    "X.head()"
   ]
  },
  {
   "cell_type": "code",
   "execution_count": 339,
   "metadata": {},
   "outputs": [],
   "source": [
    "from sklearn.model_selection import train_test_split\n",
    "\n",
    "X_train, X_test, y_train, y_test = train_test_split(X, y, test_size=0.30, random_state=42)"
   ]
  },
  {
   "cell_type": "code",
   "execution_count": 340,
   "metadata": {},
   "outputs": [
    {
     "data": {
      "text/plain": [
       "(730, 17)"
      ]
     },
     "execution_count": 340,
     "metadata": {},
     "output_type": "execute_result"
    }
   ],
   "source": [
    "X_train.shape"
   ]
  },
  {
   "cell_type": "code",
   "execution_count": 341,
   "metadata": {},
   "outputs": [
    {
     "data": {
      "text/plain": [
       "(730,)"
      ]
     },
     "execution_count": 341,
     "metadata": {},
     "output_type": "execute_result"
    }
   ],
   "source": [
    "y_train.shape"
   ]
  },
  {
   "cell_type": "code",
   "execution_count": 342,
   "metadata": {},
   "outputs": [
    {
     "data": {
      "text/plain": [
       "(313, 17)"
      ]
     },
     "execution_count": 342,
     "metadata": {},
     "output_type": "execute_result"
    }
   ],
   "source": [
    "X_test.shape"
   ]
  },
  {
   "cell_type": "code",
   "execution_count": 343,
   "metadata": {},
   "outputs": [
    {
     "data": {
      "text/plain": [
       "(313,)"
      ]
     },
     "execution_count": 343,
     "metadata": {},
     "output_type": "execute_result"
    }
   ],
   "source": [
    "y_test.shape"
   ]
  },
  {
   "cell_type": "markdown",
   "metadata": {},
   "source": [
    "## Scaling and Encoding"
   ]
  },
  {
   "cell_type": "code",
   "execution_count": 345,
   "metadata": {},
   "outputs": [
    {
     "data": {
      "text/plain": [
       "['Age']"
      ]
     },
     "execution_count": 345,
     "metadata": {},
     "output_type": "execute_result"
    }
   ],
   "source": [
    "num_cols = [col for col in X_train.columns if X_train[col].dtypes != 'O']\n",
    "num_cols"
   ]
  },
  {
   "cell_type": "code",
   "execution_count": 346,
   "metadata": {},
   "outputs": [
    {
     "data": {
      "text/plain": [
       "['Gender',\n",
       " 'Country',\n",
       " 'family_history',\n",
       " 'work_interfere',\n",
       " 'remote_work',\n",
       " 'benefits',\n",
       " 'care_options',\n",
       " 'wellness_program',\n",
       " 'seek_help',\n",
       " 'anonymity',\n",
       " 'leave',\n",
       " 'mental_health_consequence',\n",
       " 'mental_health_interview',\n",
       " 'phys_health_interview',\n",
       " 'mental_vs_physical',\n",
       " 'obs_consequence']"
      ]
     },
     "execution_count": 346,
     "metadata": {},
     "output_type": "execute_result"
    }
   ],
   "source": [
    "cat_cols = [col for col in X_train.columns if X_train[col].dtypes == 'O']\n",
    "cat_cols"
   ]
  },
  {
   "cell_type": "code",
   "execution_count": 347,
   "metadata": {},
   "outputs": [
    {
     "data": {
      "text/plain": [
       "True"
      ]
     },
     "execution_count": 347,
     "metadata": {},
     "output_type": "execute_result"
    }
   ],
   "source": [
    "len(cat_cols) + len(num_cols) == len(X_train.columns)"
   ]
  },
  {
   "cell_type": "code",
   "execution_count": 344,
   "metadata": {},
   "outputs": [],
   "source": [
    "from sklearn.compose import ColumnTransformer\n",
    "from sklearn.preprocessing import OneHotEncoder\n",
    "from sklearn.preprocessing import StandardScaler"
   ]
  },
  {
   "cell_type": "code",
   "execution_count": 348,
   "metadata": {},
   "outputs": [],
   "source": [
    "ct = ColumnTransformer([\n",
    "    ('scaling', StandardScaler(), num_cols),\n",
    "    ('encoding', OneHotEncoder(drop='first', sparse=False), cat_cols)\n",
    "])"
   ]
  },
  {
   "cell_type": "code",
   "execution_count": 351,
   "metadata": {},
   "outputs": [],
   "source": [
    "X_train_new = ct.fit_transform(X_train)"
   ]
  },
  {
   "cell_type": "code",
   "execution_count": 352,
   "metadata": {},
   "outputs": [],
   "source": [
    "X_test_new = ct.transform(X_test)"
   ]
  },
  {
   "cell_type": "code",
   "execution_count": 353,
   "metadata": {},
   "outputs": [],
   "source": [
    "test_new = ct.transform(test)"
   ]
  },
  {
   "cell_type": "code",
   "execution_count": 359,
   "metadata": {},
   "outputs": [
    {
     "data": {
      "text/plain": [
       "(730, 35)"
      ]
     },
     "execution_count": 359,
     "metadata": {},
     "output_type": "execute_result"
    }
   ],
   "source": [
    "X_train_new.shape"
   ]
  },
  {
   "cell_type": "code",
   "execution_count": 360,
   "metadata": {},
   "outputs": [
    {
     "data": {
      "text/plain": [
       "(313, 35)"
      ]
     },
     "execution_count": 360,
     "metadata": {},
     "output_type": "execute_result"
    }
   ],
   "source": [
    "X_test_new.shape"
   ]
  },
  {
   "cell_type": "code",
   "execution_count": 361,
   "metadata": {},
   "outputs": [
    {
     "data": {
      "text/plain": [
       "(210, 35)"
      ]
     },
     "execution_count": 361,
     "metadata": {},
     "output_type": "execute_result"
    }
   ],
   "source": [
    "test_new.shape"
   ]
  },
  {
   "cell_type": "code",
   "execution_count": 363,
   "metadata": {},
   "outputs": [
    {
     "data": {
      "text/plain": [
       "(730,)"
      ]
     },
     "execution_count": 363,
     "metadata": {},
     "output_type": "execute_result"
    }
   ],
   "source": [
    "y_train.shape"
   ]
  },
  {
   "cell_type": "code",
   "execution_count": 364,
   "metadata": {},
   "outputs": [
    {
     "data": {
      "text/plain": [
       "(313,)"
      ]
     },
     "execution_count": 364,
     "metadata": {},
     "output_type": "execute_result"
    }
   ],
   "source": [
    "y_test.shape"
   ]
  },
  {
   "cell_type": "markdown",
   "metadata": {},
   "source": [
    "# Model 1: Logistic Regression"
   ]
  },
  {
   "cell_type": "code",
   "execution_count": 365,
   "metadata": {},
   "outputs": [],
   "source": [
    "from sklearn.linear_model import LogisticRegression"
   ]
  },
  {
   "cell_type": "code",
   "execution_count": 366,
   "metadata": {},
   "outputs": [],
   "source": [
    "model1 = LogisticRegression()"
   ]
  },
  {
   "cell_type": "code",
   "execution_count": 367,
   "metadata": {},
   "outputs": [
    {
     "data": {
      "text/plain": [
       "LogisticRegression()"
      ]
     },
     "execution_count": 367,
     "metadata": {},
     "output_type": "execute_result"
    }
   ],
   "source": [
    "model1.fit(X_train_new, y_train)"
   ]
  },
  {
   "cell_type": "code",
   "execution_count": 369,
   "metadata": {},
   "outputs": [],
   "source": [
    "y_pred = model1.predict(X_test_new)"
   ]
  },
  {
   "cell_type": "code",
   "execution_count": 370,
   "metadata": {},
   "outputs": [],
   "source": [
    "y_pred_proba = model1.predict_proba(X_test_new)"
   ]
  },
  {
   "cell_type": "markdown",
   "metadata": {},
   "source": [
    "### Model evaluation"
   ]
  },
  {
   "cell_type": "code",
   "execution_count": 375,
   "metadata": {},
   "outputs": [],
   "source": [
    "from sklearn.metrics import accuracy_score, classification_report, f1_score"
   ]
  },
  {
   "cell_type": "code",
   "execution_count": 372,
   "metadata": {},
   "outputs": [
    {
     "data": {
      "text/plain": [
       "0.8306709265175719"
      ]
     },
     "execution_count": 372,
     "metadata": {},
     "output_type": "execute_result"
    }
   ],
   "source": [
    "accuracy_score(y_test, y_pred)"
   ]
  },
  {
   "cell_type": "code",
   "execution_count": 374,
   "metadata": {},
   "outputs": [
    {
     "name": "stdout",
     "output_type": "stream",
     "text": [
      "              precision    recall  f1-score   support\n",
      "\n",
      "          No       0.86      0.79      0.82       156\n",
      "         Yes       0.81      0.87      0.84       157\n",
      "\n",
      "    accuracy                           0.83       313\n",
      "   macro avg       0.83      0.83      0.83       313\n",
      "weighted avg       0.83      0.83      0.83       313\n",
      "\n"
     ]
    }
   ],
   "source": [
    "print(classification_report(y_test, y_pred))"
   ]
  },
  {
   "cell_type": "code",
   "execution_count": 381,
   "metadata": {},
   "outputs": [
    {
     "data": {
      "text/plain": [
       "0.836923076923077"
      ]
     },
     "execution_count": 381,
     "metadata": {},
     "output_type": "execute_result"
    }
   ],
   "source": [
    "f1_score(y_test, y_pred, pos_label='Yes')"
   ]
  },
  {
   "cell_type": "markdown",
   "metadata": {},
   "source": [
    "# Model 2: Random Forest Classifier"
   ]
  },
  {
   "cell_type": "code",
   "execution_count": 382,
   "metadata": {},
   "outputs": [],
   "source": [
    "from sklearn.ensemble import RandomForestClassifier"
   ]
  },
  {
   "cell_type": "code",
   "execution_count": 383,
   "metadata": {},
   "outputs": [],
   "source": [
    "model2 = RandomForestClassifier(n_estimators=500)"
   ]
  },
  {
   "cell_type": "code",
   "execution_count": 384,
   "metadata": {},
   "outputs": [
    {
     "data": {
      "text/plain": [
       "RandomForestClassifier(n_estimators=500)"
      ]
     },
     "execution_count": 384,
     "metadata": {},
     "output_type": "execute_result"
    }
   ],
   "source": [
    "model2.fit(X_train_new, y_train)"
   ]
  },
  {
   "cell_type": "code",
   "execution_count": 386,
   "metadata": {},
   "outputs": [],
   "source": [
    "y_pred = model2.predict(X_test_new)"
   ]
  },
  {
   "cell_type": "markdown",
   "metadata": {},
   "source": [
    "### Model evaluation"
   ]
  },
  {
   "cell_type": "code",
   "execution_count": 390,
   "metadata": {},
   "outputs": [
    {
     "data": {
      "text/plain": [
       "0.8338658146964856"
      ]
     },
     "execution_count": 390,
     "metadata": {},
     "output_type": "execute_result"
    }
   ],
   "source": [
    "accuracy_score(y_test, y_pred)"
   ]
  },
  {
   "cell_type": "code",
   "execution_count": 391,
   "metadata": {},
   "outputs": [
    {
     "name": "stdout",
     "output_type": "stream",
     "text": [
      "              precision    recall  f1-score   support\n",
      "\n",
      "          No       0.87      0.79      0.83       156\n",
      "         Yes       0.81      0.88      0.84       157\n",
      "\n",
      "    accuracy                           0.83       313\n",
      "   macro avg       0.84      0.83      0.83       313\n",
      "weighted avg       0.84      0.83      0.83       313\n",
      "\n"
     ]
    }
   ],
   "source": [
    "print(classification_report(y_test, y_pred))"
   ]
  },
  {
   "cell_type": "code",
   "execution_count": 394,
   "metadata": {},
   "outputs": [
    {
     "data": {
      "text/plain": [
       "0.8414634146341463"
      ]
     },
     "execution_count": 394,
     "metadata": {},
     "output_type": "execute_result"
    }
   ],
   "source": [
    "f1_score(y_test, y_pred, pos_label='Yes')"
   ]
  },
  {
   "cell_type": "markdown",
   "metadata": {},
   "source": [
    "# Model3: Support Vector Machines"
   ]
  },
  {
   "cell_type": "code",
   "execution_count": 395,
   "metadata": {},
   "outputs": [],
   "source": [
    "from sklearn.svm import SVC"
   ]
  },
  {
   "cell_type": "code",
   "execution_count": 396,
   "metadata": {},
   "outputs": [],
   "source": [
    "model3 = SVC()"
   ]
  },
  {
   "cell_type": "code",
   "execution_count": 397,
   "metadata": {},
   "outputs": [
    {
     "data": {
      "text/plain": [
       "SVC()"
      ]
     },
     "execution_count": 397,
     "metadata": {},
     "output_type": "execute_result"
    }
   ],
   "source": [
    "model3.fit(X_train_new, y_train)"
   ]
  },
  {
   "cell_type": "code",
   "execution_count": 398,
   "metadata": {},
   "outputs": [],
   "source": [
    "y_pred = model3.predict(X_test_new)"
   ]
  },
  {
   "cell_type": "code",
   "execution_count": 399,
   "metadata": {},
   "outputs": [
    {
     "data": {
      "text/plain": [
       "array(['Yes', 'No', 'No', 'No', 'Yes', 'Yes', 'No', 'Yes', 'Yes', 'No',\n",
       "       'No', 'No', 'Yes', 'Yes', 'Yes', 'Yes', 'Yes', 'No', 'Yes', 'Yes',\n",
       "       'Yes', 'Yes', 'No', 'Yes', 'Yes', 'No', 'Yes', 'No', 'Yes', 'Yes',\n",
       "       'No', 'Yes', 'Yes', 'No', 'Yes', 'No', 'Yes', 'No', 'No', 'No',\n",
       "       'No', 'No', 'No', 'Yes', 'No', 'Yes', 'No', 'Yes', 'No', 'No',\n",
       "       'No', 'Yes', 'No', 'Yes', 'Yes', 'Yes', 'Yes', 'Yes', 'No', 'Yes',\n",
       "       'No', 'No', 'Yes', 'Yes', 'Yes', 'Yes', 'Yes', 'Yes', 'No', 'Yes',\n",
       "       'Yes', 'No', 'Yes', 'Yes', 'Yes', 'Yes', 'No', 'No', 'Yes', 'No',\n",
       "       'Yes', 'Yes', 'Yes', 'No', 'No', 'Yes', 'Yes', 'No', 'Yes', 'No',\n",
       "       'Yes', 'No', 'No', 'No', 'Yes', 'Yes', 'Yes', 'No', 'Yes', 'No',\n",
       "       'Yes', 'No', 'No', 'No', 'Yes', 'Yes', 'Yes', 'No', 'Yes', 'Yes',\n",
       "       'Yes', 'No', 'No', 'Yes', 'No', 'Yes', 'No', 'Yes', 'Yes', 'No',\n",
       "       'No', 'Yes', 'Yes', 'No', 'No', 'No', 'No', 'No', 'Yes', 'Yes',\n",
       "       'No', 'Yes', 'Yes', 'Yes', 'No', 'Yes', 'Yes', 'Yes', 'No', 'Yes',\n",
       "       'Yes', 'Yes', 'Yes', 'No', 'Yes', 'Yes', 'Yes', 'No', 'No', 'Yes',\n",
       "       'No', 'No', 'Yes', 'No', 'No', 'No', 'No', 'No', 'Yes', 'No',\n",
       "       'Yes', 'No', 'Yes', 'No', 'No', 'Yes', 'No', 'Yes', 'No', 'No',\n",
       "       'Yes', 'Yes', 'Yes', 'No', 'Yes', 'Yes', 'Yes', 'Yes', 'Yes', 'No',\n",
       "       'Yes', 'No', 'Yes', 'No', 'No', 'No', 'Yes', 'No', 'Yes', 'Yes',\n",
       "       'Yes', 'Yes', 'Yes', 'No', 'No', 'Yes', 'No', 'Yes', 'No', 'Yes',\n",
       "       'Yes', 'Yes', 'No', 'Yes', 'No', 'No', 'Yes', 'No', 'Yes', 'Yes',\n",
       "       'No', 'Yes', 'Yes', 'Yes', 'Yes', 'No', 'Yes', 'No', 'Yes', 'No',\n",
       "       'No', 'Yes', 'No', 'Yes', 'Yes', 'No', 'Yes', 'No', 'No', 'No',\n",
       "       'Yes', 'Yes', 'No', 'Yes', 'Yes', 'Yes', 'Yes', 'Yes', 'Yes', 'No',\n",
       "       'Yes', 'No', 'Yes', 'No', 'No', 'Yes', 'No', 'No', 'No', 'No',\n",
       "       'No', 'No', 'Yes', 'Yes', 'Yes', 'No', 'No', 'Yes', 'No', 'Yes',\n",
       "       'No', 'Yes', 'No', 'Yes', 'Yes', 'No', 'Yes', 'Yes', 'Yes', 'Yes',\n",
       "       'No', 'Yes', 'Yes', 'No', 'No', 'Yes', 'No', 'No', 'No', 'No',\n",
       "       'No', 'Yes', 'No', 'No', 'No', 'Yes', 'Yes', 'Yes', 'Yes', 'Yes',\n",
       "       'Yes', 'Yes', 'Yes', 'No', 'No', 'No', 'Yes', 'Yes', 'Yes', 'Yes',\n",
       "       'No', 'No', 'No', 'Yes', 'Yes', 'No', 'Yes', 'Yes', 'No', 'Yes',\n",
       "       'No', 'Yes', 'Yes'], dtype=object)"
      ]
     },
     "execution_count": 399,
     "metadata": {},
     "output_type": "execute_result"
    }
   ],
   "source": [
    "y_pred"
   ]
  },
  {
   "cell_type": "markdown",
   "metadata": {},
   "source": [
    "### Model evaluation"
   ]
  },
  {
   "cell_type": "code",
   "execution_count": 400,
   "metadata": {},
   "outputs": [
    {
     "data": {
      "text/plain": [
       "0.8338658146964856"
      ]
     },
     "execution_count": 400,
     "metadata": {},
     "output_type": "execute_result"
    }
   ],
   "source": [
    "accuracy_score(y_test, y_pred)"
   ]
  },
  {
   "cell_type": "code",
   "execution_count": 401,
   "metadata": {},
   "outputs": [
    {
     "name": "stdout",
     "output_type": "stream",
     "text": [
      "              precision    recall  f1-score   support\n",
      "\n",
      "          No       0.87      0.78      0.82       156\n",
      "         Yes       0.80      0.89      0.84       157\n",
      "\n",
      "    accuracy                           0.83       313\n",
      "   macro avg       0.84      0.83      0.83       313\n",
      "weighted avg       0.84      0.83      0.83       313\n",
      "\n"
     ]
    }
   ],
   "source": [
    "print(classification_report(y_test, y_pred))"
   ]
  },
  {
   "cell_type": "code",
   "execution_count": 403,
   "metadata": {},
   "outputs": [
    {
     "data": {
      "text/plain": [
       "0.8424242424242425"
      ]
     },
     "execution_count": 403,
     "metadata": {},
     "output_type": "execute_result"
    }
   ],
   "source": [
    "f1_score(y_test, y_pred, pos_label='Yes')"
   ]
  },
  {
   "cell_type": "markdown",
   "metadata": {},
   "source": [
    "#### predicting final test"
   ]
  },
  {
   "cell_type": "code",
   "execution_count": 404,
   "metadata": {},
   "outputs": [],
   "source": [
    "y_pred_fin1 = model3.predict(test_new)"
   ]
  },
  {
   "cell_type": "code",
   "execution_count": 405,
   "metadata": {},
   "outputs": [
    {
     "data": {
      "text/plain": [
       "array(['Yes', 'Yes', 'Yes', 'No', 'No', 'No', 'Yes', 'No', 'No', 'Yes',\n",
       "       'Yes', 'Yes', 'Yes', 'No', 'No', 'No', 'Yes', 'No', 'No', 'No',\n",
       "       'No', 'Yes', 'Yes', 'Yes', 'No', 'Yes', 'Yes', 'Yes', 'Yes', 'Yes',\n",
       "       'No', 'Yes', 'Yes', 'Yes', 'Yes', 'Yes', 'No', 'Yes', 'No', 'Yes',\n",
       "       'Yes', 'No', 'No', 'Yes', 'Yes', 'Yes', 'Yes', 'Yes', 'Yes', 'No',\n",
       "       'No', 'No', 'Yes', 'Yes', 'Yes', 'No', 'Yes', 'Yes', 'Yes', 'Yes',\n",
       "       'No', 'Yes', 'No', 'No', 'Yes', 'No', 'Yes', 'No', 'Yes', 'Yes',\n",
       "       'No', 'Yes', 'Yes', 'No', 'No', 'No', 'Yes', 'Yes', 'Yes', 'Yes',\n",
       "       'No', 'Yes', 'No', 'Yes', 'Yes', 'Yes', 'Yes', 'Yes', 'No', 'No',\n",
       "       'Yes', 'Yes', 'No', 'No', 'Yes', 'No', 'Yes', 'Yes', 'Yes', 'Yes',\n",
       "       'Yes', 'Yes', 'No', 'Yes', 'Yes', 'Yes', 'No', 'No', 'No', 'Yes',\n",
       "       'No', 'Yes', 'No', 'No', 'Yes', 'Yes', 'Yes', 'Yes', 'No', 'No',\n",
       "       'Yes', 'No', 'No', 'Yes', 'Yes', 'No', 'No', 'Yes', 'No', 'No',\n",
       "       'No', 'Yes', 'Yes', 'Yes', 'Yes', 'Yes', 'No', 'Yes', 'Yes', 'No',\n",
       "       'Yes', 'Yes', 'Yes', 'No', 'No', 'No', 'Yes', 'No', 'No', 'Yes',\n",
       "       'No', 'No', 'Yes', 'No', 'No', 'No', 'No', 'Yes', 'Yes', 'Yes',\n",
       "       'Yes', 'No', 'No', 'Yes', 'No', 'Yes', 'No', 'No', 'No', 'No',\n",
       "       'Yes', 'Yes', 'Yes', 'Yes', 'No', 'Yes', 'No', 'No', 'No', 'Yes',\n",
       "       'No', 'Yes', 'Yes', 'Yes', 'Yes', 'Yes', 'Yes', 'Yes', 'Yes',\n",
       "       'Yes', 'No', 'No', 'No', 'No', 'Yes', 'No', 'Yes', 'No', 'Yes',\n",
       "       'Yes', 'Yes', 'Yes', 'Yes', 'Yes', 'Yes', 'No', 'Yes', 'Yes', 'No',\n",
       "       'Yes'], dtype=object)"
      ]
     },
     "execution_count": 405,
     "metadata": {},
     "output_type": "execute_result"
    }
   ],
   "source": [
    "y_pred_fin1"
   ]
  },
  {
   "cell_type": "code",
   "execution_count": 406,
   "metadata": {},
   "outputs": [
    {
     "data": {
      "text/html": [
       "<div>\n",
       "<style scoped>\n",
       "    .dataframe tbody tr th:only-of-type {\n",
       "        vertical-align: middle;\n",
       "    }\n",
       "\n",
       "    .dataframe tbody tr th {\n",
       "        vertical-align: top;\n",
       "    }\n",
       "\n",
       "    .dataframe thead th {\n",
       "        text-align: right;\n",
       "    }\n",
       "</style>\n",
       "<table border=\"1\" class=\"dataframe\">\n",
       "  <thead>\n",
       "    <tr style=\"text-align: right;\">\n",
       "      <th></th>\n",
       "      <th>S.No</th>\n",
       "      <th>treatment</th>\n",
       "    </tr>\n",
       "  </thead>\n",
       "  <tbody>\n",
       "    <tr>\n",
       "      <th>0</th>\n",
       "      <td>1</td>\n",
       "      <td>Yes</td>\n",
       "    </tr>\n",
       "    <tr>\n",
       "      <th>1</th>\n",
       "      <td>2</td>\n",
       "      <td>No</td>\n",
       "    </tr>\n",
       "    <tr>\n",
       "      <th>2</th>\n",
       "      <td>3</td>\n",
       "      <td>Yes</td>\n",
       "    </tr>\n",
       "    <tr>\n",
       "      <th>3</th>\n",
       "      <td>4</td>\n",
       "      <td>No</td>\n",
       "    </tr>\n",
       "    <tr>\n",
       "      <th>4</th>\n",
       "      <td>5</td>\n",
       "      <td>No</td>\n",
       "    </tr>\n",
       "  </tbody>\n",
       "</table>\n",
       "</div>"
      ],
      "text/plain": [
       "   S.No treatment \n",
       "0     1        Yes\n",
       "1     2         No\n",
       "2     3        Yes\n",
       "3     4         No\n",
       "4     5         No"
      ]
     },
     "execution_count": 406,
     "metadata": {},
     "output_type": "execute_result"
    }
   ],
   "source": [
    "sample1 = pd.read_csv('sample.csv')\n",
    "sample1.head()"
   ]
  },
  {
   "cell_type": "code",
   "execution_count": 407,
   "metadata": {},
   "outputs": [],
   "source": [
    "sample1['treatment '] = y_pred_fin1"
   ]
  },
  {
   "cell_type": "code",
   "execution_count": 408,
   "metadata": {},
   "outputs": [
    {
     "data": {
      "text/html": [
       "<div>\n",
       "<style scoped>\n",
       "    .dataframe tbody tr th:only-of-type {\n",
       "        vertical-align: middle;\n",
       "    }\n",
       "\n",
       "    .dataframe tbody tr th {\n",
       "        vertical-align: top;\n",
       "    }\n",
       "\n",
       "    .dataframe thead th {\n",
       "        text-align: right;\n",
       "    }\n",
       "</style>\n",
       "<table border=\"1\" class=\"dataframe\">\n",
       "  <thead>\n",
       "    <tr style=\"text-align: right;\">\n",
       "      <th></th>\n",
       "      <th>S.No</th>\n",
       "      <th>treatment</th>\n",
       "    </tr>\n",
       "  </thead>\n",
       "  <tbody>\n",
       "    <tr>\n",
       "      <th>0</th>\n",
       "      <td>1</td>\n",
       "      <td>Yes</td>\n",
       "    </tr>\n",
       "    <tr>\n",
       "      <th>1</th>\n",
       "      <td>2</td>\n",
       "      <td>Yes</td>\n",
       "    </tr>\n",
       "    <tr>\n",
       "      <th>2</th>\n",
       "      <td>3</td>\n",
       "      <td>Yes</td>\n",
       "    </tr>\n",
       "    <tr>\n",
       "      <th>3</th>\n",
       "      <td>4</td>\n",
       "      <td>No</td>\n",
       "    </tr>\n",
       "    <tr>\n",
       "      <th>4</th>\n",
       "      <td>5</td>\n",
       "      <td>No</td>\n",
       "    </tr>\n",
       "  </tbody>\n",
       "</table>\n",
       "</div>"
      ],
      "text/plain": [
       "   S.No treatment \n",
       "0     1        Yes\n",
       "1     2        Yes\n",
       "2     3        Yes\n",
       "3     4         No\n",
       "4     5         No"
      ]
     },
     "execution_count": 408,
     "metadata": {},
     "output_type": "execute_result"
    }
   ],
   "source": [
    "sample1.head()"
   ]
  },
  {
   "cell_type": "code",
   "execution_count": 411,
   "metadata": {},
   "outputs": [],
   "source": [
    "sample1.to_csv('files/sample.csv', index=False)"
   ]
  },
  {
   "cell_type": "markdown",
   "metadata": {},
   "source": [
    "# Second attempt"
   ]
  },
  {
   "cell_type": "markdown",
   "metadata": {},
   "source": [
    "## Model4 : SVM with grid search"
   ]
  },
  {
   "cell_type": "code",
   "execution_count": 415,
   "metadata": {},
   "outputs": [],
   "source": [
    "from sklearn.model_selection import GridSearchCV\n",
    "from sklearn.svm import SVC"
   ]
  },
  {
   "cell_type": "code",
   "execution_count": 424,
   "metadata": {},
   "outputs": [],
   "source": [
    "param_grid = {'C': [0.1,1, 10, 100], \n",
    "              'gamma': [1,0.1,0.01,0.001],\n",
    "              'kernel': ['rbf', 'poly', 'sigmoid']}"
   ]
  },
  {
   "cell_type": "code",
   "execution_count": 425,
   "metadata": {},
   "outputs": [],
   "source": [
    "grid_svc = GridSearchCV(SVC(), param_grid, refit = True, verbose = 2)"
   ]
  },
  {
   "cell_type": "code",
   "execution_count": 426,
   "metadata": {},
   "outputs": [
    {
     "name": "stdout",
     "output_type": "stream",
     "text": [
      "Fitting 5 folds for each of 48 candidates, totalling 240 fits\n",
      "[CV] END .........................C=0.1, gamma=1, kernel=rbf; total time=   0.0s\n",
      "[CV] END .........................C=0.1, gamma=1, kernel=rbf; total time=   0.0s\n",
      "[CV] END .........................C=0.1, gamma=1, kernel=rbf; total time=   0.0s\n",
      "[CV] END .........................C=0.1, gamma=1, kernel=rbf; total time=   0.0s\n",
      "[CV] END .........................C=0.1, gamma=1, kernel=rbf; total time=   0.0s\n",
      "[CV] END ........................C=0.1, gamma=1, kernel=poly; total time=   0.0s\n",
      "[CV] END ........................C=0.1, gamma=1, kernel=poly; total time=   0.0s\n",
      "[CV] END ........................C=0.1, gamma=1, kernel=poly; total time=   0.0s\n",
      "[CV] END ........................C=0.1, gamma=1, kernel=poly; total time=   0.0s\n",
      "[CV] END ........................C=0.1, gamma=1, kernel=poly; total time=   0.0s\n",
      "[CV] END .....................C=0.1, gamma=1, kernel=sigmoid; total time=   0.0s\n",
      "[CV] END .....................C=0.1, gamma=1, kernel=sigmoid; total time=   0.0s\n",
      "[CV] END .....................C=0.1, gamma=1, kernel=sigmoid; total time=   0.0s\n",
      "[CV] END .....................C=0.1, gamma=1, kernel=sigmoid; total time=   0.0s\n",
      "[CV] END .....................C=0.1, gamma=1, kernel=sigmoid; total time=   0.0s\n",
      "[CV] END .......................C=0.1, gamma=0.1, kernel=rbf; total time=   0.0s\n",
      "[CV] END .......................C=0.1, gamma=0.1, kernel=rbf; total time=   0.0s\n",
      "[CV] END .......................C=0.1, gamma=0.1, kernel=rbf; total time=   0.0s\n",
      "[CV] END .......................C=0.1, gamma=0.1, kernel=rbf; total time=   0.0s\n",
      "[CV] END .......................C=0.1, gamma=0.1, kernel=rbf; total time=   0.0s\n",
      "[CV] END ......................C=0.1, gamma=0.1, kernel=poly; total time=   0.0s\n",
      "[CV] END ......................C=0.1, gamma=0.1, kernel=poly; total time=   0.0s\n",
      "[CV] END ......................C=0.1, gamma=0.1, kernel=poly; total time=   0.0s\n",
      "[CV] END ......................C=0.1, gamma=0.1, kernel=poly; total time=   0.0s\n",
      "[CV] END ......................C=0.1, gamma=0.1, kernel=poly; total time=   0.0s\n",
      "[CV] END ...................C=0.1, gamma=0.1, kernel=sigmoid; total time=   0.0s\n",
      "[CV] END ...................C=0.1, gamma=0.1, kernel=sigmoid; total time=   0.0s\n",
      "[CV] END ...................C=0.1, gamma=0.1, kernel=sigmoid; total time=   0.0s\n",
      "[CV] END ...................C=0.1, gamma=0.1, kernel=sigmoid; total time=   0.0s\n",
      "[CV] END ...................C=0.1, gamma=0.1, kernel=sigmoid; total time=   0.0s\n",
      "[CV] END ......................C=0.1, gamma=0.01, kernel=rbf; total time=   0.0s\n",
      "[CV] END ......................C=0.1, gamma=0.01, kernel=rbf; total time=   0.0s\n",
      "[CV] END ......................C=0.1, gamma=0.01, kernel=rbf; total time=   0.0s\n",
      "[CV] END ......................C=0.1, gamma=0.01, kernel=rbf; total time=   0.0s\n",
      "[CV] END ......................C=0.1, gamma=0.01, kernel=rbf; total time=   0.0s\n",
      "[CV] END .....................C=0.1, gamma=0.01, kernel=poly; total time=   0.0s\n",
      "[CV] END .....................C=0.1, gamma=0.01, kernel=poly; total time=   0.0s\n",
      "[CV] END .....................C=0.1, gamma=0.01, kernel=poly; total time=   0.0s\n",
      "[CV] END .....................C=0.1, gamma=0.01, kernel=poly; total time=   0.0s\n",
      "[CV] END .....................C=0.1, gamma=0.01, kernel=poly; total time=   0.0s\n",
      "[CV] END ..................C=0.1, gamma=0.01, kernel=sigmoid; total time=   0.0s\n",
      "[CV] END ..................C=0.1, gamma=0.01, kernel=sigmoid; total time=   0.0s\n",
      "[CV] END ..................C=0.1, gamma=0.01, kernel=sigmoid; total time=   0.0s\n",
      "[CV] END ..................C=0.1, gamma=0.01, kernel=sigmoid; total time=   0.0s\n",
      "[CV] END ..................C=0.1, gamma=0.01, kernel=sigmoid; total time=   0.0s\n",
      "[CV] END .....................C=0.1, gamma=0.001, kernel=rbf; total time=   0.0s\n",
      "[CV] END .....................C=0.1, gamma=0.001, kernel=rbf; total time=   0.0s\n",
      "[CV] END .....................C=0.1, gamma=0.001, kernel=rbf; total time=   0.0s\n",
      "[CV] END .....................C=0.1, gamma=0.001, kernel=rbf; total time=   0.0s\n",
      "[CV] END .....................C=0.1, gamma=0.001, kernel=rbf; total time=   0.0s\n",
      "[CV] END ....................C=0.1, gamma=0.001, kernel=poly; total time=   0.0s\n",
      "[CV] END ....................C=0.1, gamma=0.001, kernel=poly; total time=   0.0s\n",
      "[CV] END ....................C=0.1, gamma=0.001, kernel=poly; total time=   0.0s\n",
      "[CV] END ....................C=0.1, gamma=0.001, kernel=poly; total time=   0.0s\n",
      "[CV] END ....................C=0.1, gamma=0.001, kernel=poly; total time=   0.0s\n",
      "[CV] END .................C=0.1, gamma=0.001, kernel=sigmoid; total time=   0.0s\n",
      "[CV] END .................C=0.1, gamma=0.001, kernel=sigmoid; total time=   0.0s\n",
      "[CV] END .................C=0.1, gamma=0.001, kernel=sigmoid; total time=   0.0s\n",
      "[CV] END .................C=0.1, gamma=0.001, kernel=sigmoid; total time=   0.0s\n",
      "[CV] END .................C=0.1, gamma=0.001, kernel=sigmoid; total time=   0.0s\n",
      "[CV] END ...........................C=1, gamma=1, kernel=rbf; total time=   0.0s\n",
      "[CV] END ...........................C=1, gamma=1, kernel=rbf; total time=   0.0s\n",
      "[CV] END ...........................C=1, gamma=1, kernel=rbf; total time=   0.0s\n",
      "[CV] END ...........................C=1, gamma=1, kernel=rbf; total time=   0.0s\n",
      "[CV] END ...........................C=1, gamma=1, kernel=rbf; total time=   0.0s\n",
      "[CV] END ..........................C=1, gamma=1, kernel=poly; total time=   0.0s\n",
      "[CV] END ..........................C=1, gamma=1, kernel=poly; total time=   0.0s\n",
      "[CV] END ..........................C=1, gamma=1, kernel=poly; total time=   0.0s\n",
      "[CV] END ..........................C=1, gamma=1, kernel=poly; total time=   0.0s\n",
      "[CV] END ..........................C=1, gamma=1, kernel=poly; total time=   0.0s\n",
      "[CV] END .......................C=1, gamma=1, kernel=sigmoid; total time=   0.0s\n",
      "[CV] END .......................C=1, gamma=1, kernel=sigmoid; total time=   0.0s\n",
      "[CV] END .......................C=1, gamma=1, kernel=sigmoid; total time=   0.0s\n",
      "[CV] END .......................C=1, gamma=1, kernel=sigmoid; total time=   0.0s\n",
      "[CV] END .......................C=1, gamma=1, kernel=sigmoid; total time=   0.0s\n",
      "[CV] END .........................C=1, gamma=0.1, kernel=rbf; total time=   0.0s\n",
      "[CV] END .........................C=1, gamma=0.1, kernel=rbf; total time=   0.0s\n",
      "[CV] END .........................C=1, gamma=0.1, kernel=rbf; total time=   0.0s\n",
      "[CV] END .........................C=1, gamma=0.1, kernel=rbf; total time=   0.0s\n",
      "[CV] END .........................C=1, gamma=0.1, kernel=rbf; total time=   0.0s\n",
      "[CV] END ........................C=1, gamma=0.1, kernel=poly; total time=   0.0s\n",
      "[CV] END ........................C=1, gamma=0.1, kernel=poly; total time=   0.0s\n",
      "[CV] END ........................C=1, gamma=0.1, kernel=poly; total time=   0.0s\n",
      "[CV] END ........................C=1, gamma=0.1, kernel=poly; total time=   0.0s\n",
      "[CV] END ........................C=1, gamma=0.1, kernel=poly; total time=   0.0s\n",
      "[CV] END .....................C=1, gamma=0.1, kernel=sigmoid; total time=   0.0s\n",
      "[CV] END .....................C=1, gamma=0.1, kernel=sigmoid; total time=   0.0s\n",
      "[CV] END .....................C=1, gamma=0.1, kernel=sigmoid; total time=   0.0s\n",
      "[CV] END .....................C=1, gamma=0.1, kernel=sigmoid; total time=   0.0s\n",
      "[CV] END .....................C=1, gamma=0.1, kernel=sigmoid; total time=   0.0s\n",
      "[CV] END ........................C=1, gamma=0.01, kernel=rbf; total time=   0.0s\n",
      "[CV] END ........................C=1, gamma=0.01, kernel=rbf; total time=   0.0s\n",
      "[CV] END ........................C=1, gamma=0.01, kernel=rbf; total time=   0.0s\n",
      "[CV] END ........................C=1, gamma=0.01, kernel=rbf; total time=   0.0s\n",
      "[CV] END ........................C=1, gamma=0.01, kernel=rbf; total time=   0.0s\n",
      "[CV] END .......................C=1, gamma=0.01, kernel=poly; total time=   0.0s\n",
      "[CV] END .......................C=1, gamma=0.01, kernel=poly; total time=   0.0s\n",
      "[CV] END .......................C=1, gamma=0.01, kernel=poly; total time=   0.0s\n",
      "[CV] END .......................C=1, gamma=0.01, kernel=poly; total time=   0.0s\n",
      "[CV] END .......................C=1, gamma=0.01, kernel=poly; total time=   0.0s\n",
      "[CV] END ....................C=1, gamma=0.01, kernel=sigmoid; total time=   0.0s\n"
     ]
    },
    {
     "name": "stdout",
     "output_type": "stream",
     "text": [
      "[CV] END ....................C=1, gamma=0.01, kernel=sigmoid; total time=   0.0s\n",
      "[CV] END ....................C=1, gamma=0.01, kernel=sigmoid; total time=   0.0s\n",
      "[CV] END ....................C=1, gamma=0.01, kernel=sigmoid; total time=   0.0s\n",
      "[CV] END ....................C=1, gamma=0.01, kernel=sigmoid; total time=   0.0s\n",
      "[CV] END .......................C=1, gamma=0.001, kernel=rbf; total time=   0.0s\n",
      "[CV] END .......................C=1, gamma=0.001, kernel=rbf; total time=   0.0s\n",
      "[CV] END .......................C=1, gamma=0.001, kernel=rbf; total time=   0.0s\n",
      "[CV] END .......................C=1, gamma=0.001, kernel=rbf; total time=   0.0s\n",
      "[CV] END .......................C=1, gamma=0.001, kernel=rbf; total time=   0.0s\n",
      "[CV] END ......................C=1, gamma=0.001, kernel=poly; total time=   0.0s\n",
      "[CV] END ......................C=1, gamma=0.001, kernel=poly; total time=   0.0s\n",
      "[CV] END ......................C=1, gamma=0.001, kernel=poly; total time=   0.0s\n",
      "[CV] END ......................C=1, gamma=0.001, kernel=poly; total time=   0.0s\n",
      "[CV] END ......................C=1, gamma=0.001, kernel=poly; total time=   0.0s\n",
      "[CV] END ...................C=1, gamma=0.001, kernel=sigmoid; total time=   0.0s\n",
      "[CV] END ...................C=1, gamma=0.001, kernel=sigmoid; total time=   0.0s\n",
      "[CV] END ...................C=1, gamma=0.001, kernel=sigmoid; total time=   0.0s\n",
      "[CV] END ...................C=1, gamma=0.001, kernel=sigmoid; total time=   0.0s\n",
      "[CV] END ...................C=1, gamma=0.001, kernel=sigmoid; total time=   0.0s\n",
      "[CV] END ..........................C=10, gamma=1, kernel=rbf; total time=   0.0s\n",
      "[CV] END ..........................C=10, gamma=1, kernel=rbf; total time=   0.0s\n",
      "[CV] END ..........................C=10, gamma=1, kernel=rbf; total time=   0.0s\n",
      "[CV] END ..........................C=10, gamma=1, kernel=rbf; total time=   0.0s\n",
      "[CV] END ..........................C=10, gamma=1, kernel=rbf; total time=   0.0s\n",
      "[CV] END .........................C=10, gamma=1, kernel=poly; total time=   0.0s\n",
      "[CV] END .........................C=10, gamma=1, kernel=poly; total time=   0.0s\n",
      "[CV] END .........................C=10, gamma=1, kernel=poly; total time=   0.0s\n",
      "[CV] END .........................C=10, gamma=1, kernel=poly; total time=   0.0s\n",
      "[CV] END .........................C=10, gamma=1, kernel=poly; total time=   0.0s\n",
      "[CV] END ......................C=10, gamma=1, kernel=sigmoid; total time=   0.0s\n",
      "[CV] END ......................C=10, gamma=1, kernel=sigmoid; total time=   0.0s\n",
      "[CV] END ......................C=10, gamma=1, kernel=sigmoid; total time=   0.0s\n",
      "[CV] END ......................C=10, gamma=1, kernel=sigmoid; total time=   0.0s\n",
      "[CV] END ......................C=10, gamma=1, kernel=sigmoid; total time=   0.0s\n",
      "[CV] END ........................C=10, gamma=0.1, kernel=rbf; total time=   0.0s\n",
      "[CV] END ........................C=10, gamma=0.1, kernel=rbf; total time=   0.0s\n",
      "[CV] END ........................C=10, gamma=0.1, kernel=rbf; total time=   0.0s\n",
      "[CV] END ........................C=10, gamma=0.1, kernel=rbf; total time=   0.0s\n",
      "[CV] END ........................C=10, gamma=0.1, kernel=rbf; total time=   0.0s\n",
      "[CV] END .......................C=10, gamma=0.1, kernel=poly; total time=   0.0s\n",
      "[CV] END .......................C=10, gamma=0.1, kernel=poly; total time=   0.0s\n",
      "[CV] END .......................C=10, gamma=0.1, kernel=poly; total time=   0.0s\n",
      "[CV] END .......................C=10, gamma=0.1, kernel=poly; total time=   0.0s\n",
      "[CV] END .......................C=10, gamma=0.1, kernel=poly; total time=   0.0s\n",
      "[CV] END ....................C=10, gamma=0.1, kernel=sigmoid; total time=   0.0s\n",
      "[CV] END ....................C=10, gamma=0.1, kernel=sigmoid; total time=   0.0s\n",
      "[CV] END ....................C=10, gamma=0.1, kernel=sigmoid; total time=   0.0s\n",
      "[CV] END ....................C=10, gamma=0.1, kernel=sigmoid; total time=   0.0s\n",
      "[CV] END ....................C=10, gamma=0.1, kernel=sigmoid; total time=   0.0s\n",
      "[CV] END .......................C=10, gamma=0.01, kernel=rbf; total time=   0.0s\n",
      "[CV] END .......................C=10, gamma=0.01, kernel=rbf; total time=   0.0s\n",
      "[CV] END .......................C=10, gamma=0.01, kernel=rbf; total time=   0.0s\n",
      "[CV] END .......................C=10, gamma=0.01, kernel=rbf; total time=   0.0s\n",
      "[CV] END .......................C=10, gamma=0.01, kernel=rbf; total time=   0.0s\n",
      "[CV] END ......................C=10, gamma=0.01, kernel=poly; total time=   0.0s\n",
      "[CV] END ......................C=10, gamma=0.01, kernel=poly; total time=   0.0s\n",
      "[CV] END ......................C=10, gamma=0.01, kernel=poly; total time=   0.0s\n",
      "[CV] END ......................C=10, gamma=0.01, kernel=poly; total time=   0.0s\n",
      "[CV] END ......................C=10, gamma=0.01, kernel=poly; total time=   0.0s\n",
      "[CV] END ...................C=10, gamma=0.01, kernel=sigmoid; total time=   0.0s\n",
      "[CV] END ...................C=10, gamma=0.01, kernel=sigmoid; total time=   0.0s\n",
      "[CV] END ...................C=10, gamma=0.01, kernel=sigmoid; total time=   0.0s\n",
      "[CV] END ...................C=10, gamma=0.01, kernel=sigmoid; total time=   0.0s\n",
      "[CV] END ...................C=10, gamma=0.01, kernel=sigmoid; total time=   0.0s\n",
      "[CV] END ......................C=10, gamma=0.001, kernel=rbf; total time=   0.0s\n",
      "[CV] END ......................C=10, gamma=0.001, kernel=rbf; total time=   0.0s\n",
      "[CV] END ......................C=10, gamma=0.001, kernel=rbf; total time=   0.0s\n",
      "[CV] END ......................C=10, gamma=0.001, kernel=rbf; total time=   0.0s\n",
      "[CV] END ......................C=10, gamma=0.001, kernel=rbf; total time=   0.0s\n",
      "[CV] END .....................C=10, gamma=0.001, kernel=poly; total time=   0.0s\n",
      "[CV] END .....................C=10, gamma=0.001, kernel=poly; total time=   0.0s\n",
      "[CV] END .....................C=10, gamma=0.001, kernel=poly; total time=   0.0s\n",
      "[CV] END .....................C=10, gamma=0.001, kernel=poly; total time=   0.0s\n",
      "[CV] END .....................C=10, gamma=0.001, kernel=poly; total time=   0.0s\n",
      "[CV] END ..................C=10, gamma=0.001, kernel=sigmoid; total time=   0.0s\n",
      "[CV] END ..................C=10, gamma=0.001, kernel=sigmoid; total time=   0.0s\n",
      "[CV] END ..................C=10, gamma=0.001, kernel=sigmoid; total time=   0.0s\n",
      "[CV] END ..................C=10, gamma=0.001, kernel=sigmoid; total time=   0.0s\n",
      "[CV] END ..................C=10, gamma=0.001, kernel=sigmoid; total time=   0.0s\n",
      "[CV] END .........................C=100, gamma=1, kernel=rbf; total time=   0.0s\n",
      "[CV] END .........................C=100, gamma=1, kernel=rbf; total time=   0.0s\n",
      "[CV] END .........................C=100, gamma=1, kernel=rbf; total time=   0.0s\n",
      "[CV] END .........................C=100, gamma=1, kernel=rbf; total time=   0.0s\n",
      "[CV] END .........................C=100, gamma=1, kernel=rbf; total time=   0.0s\n",
      "[CV] END ........................C=100, gamma=1, kernel=poly; total time=   0.0s\n",
      "[CV] END ........................C=100, gamma=1, kernel=poly; total time=   0.0s\n",
      "[CV] END ........................C=100, gamma=1, kernel=poly; total time=   0.0s\n",
      "[CV] END ........................C=100, gamma=1, kernel=poly; total time=   0.0s\n",
      "[CV] END ........................C=100, gamma=1, kernel=poly; total time=   0.0s\n",
      "[CV] END .....................C=100, gamma=1, kernel=sigmoid; total time=   0.0s\n",
      "[CV] END .....................C=100, gamma=1, kernel=sigmoid; total time=   0.0s\n",
      "[CV] END .....................C=100, gamma=1, kernel=sigmoid; total time=   0.0s\n",
      "[CV] END .....................C=100, gamma=1, kernel=sigmoid; total time=   0.0s\n",
      "[CV] END .....................C=100, gamma=1, kernel=sigmoid; total time=   0.0s\n",
      "[CV] END .......................C=100, gamma=0.1, kernel=rbf; total time=   0.0s\n",
      "[CV] END .......................C=100, gamma=0.1, kernel=rbf; total time=   0.0s\n",
      "[CV] END .......................C=100, gamma=0.1, kernel=rbf; total time=   0.0s\n",
      "[CV] END .......................C=100, gamma=0.1, kernel=rbf; total time=   0.0s\n",
      "[CV] END .......................C=100, gamma=0.1, kernel=rbf; total time=   0.0s\n",
      "[CV] END ......................C=100, gamma=0.1, kernel=poly; total time=   0.0s\n",
      "[CV] END ......................C=100, gamma=0.1, kernel=poly; total time=   0.0s\n",
      "[CV] END ......................C=100, gamma=0.1, kernel=poly; total time=   0.0s\n",
      "[CV] END ......................C=100, gamma=0.1, kernel=poly; total time=   0.0s\n",
      "[CV] END ......................C=100, gamma=0.1, kernel=poly; total time=   0.0s\n",
      "[CV] END ...................C=100, gamma=0.1, kernel=sigmoid; total time=   0.0s\n"
     ]
    },
    {
     "name": "stdout",
     "output_type": "stream",
     "text": [
      "[CV] END ...................C=100, gamma=0.1, kernel=sigmoid; total time=   0.0s\n",
      "[CV] END ...................C=100, gamma=0.1, kernel=sigmoid; total time=   0.0s\n",
      "[CV] END ...................C=100, gamma=0.1, kernel=sigmoid; total time=   0.0s\n",
      "[CV] END ...................C=100, gamma=0.1, kernel=sigmoid; total time=   0.0s\n",
      "[CV] END ......................C=100, gamma=0.01, kernel=rbf; total time=   0.0s\n",
      "[CV] END ......................C=100, gamma=0.01, kernel=rbf; total time=   0.0s\n",
      "[CV] END ......................C=100, gamma=0.01, kernel=rbf; total time=   0.0s\n",
      "[CV] END ......................C=100, gamma=0.01, kernel=rbf; total time=   0.0s\n",
      "[CV] END ......................C=100, gamma=0.01, kernel=rbf; total time=   0.0s\n",
      "[CV] END .....................C=100, gamma=0.01, kernel=poly; total time=   0.0s\n",
      "[CV] END .....................C=100, gamma=0.01, kernel=poly; total time=   0.0s\n",
      "[CV] END .....................C=100, gamma=0.01, kernel=poly; total time=   0.0s\n",
      "[CV] END .....................C=100, gamma=0.01, kernel=poly; total time=   0.0s\n",
      "[CV] END .....................C=100, gamma=0.01, kernel=poly; total time=   0.0s\n",
      "[CV] END ..................C=100, gamma=0.01, kernel=sigmoid; total time=   0.0s\n",
      "[CV] END ..................C=100, gamma=0.01, kernel=sigmoid; total time=   0.0s\n",
      "[CV] END ..................C=100, gamma=0.01, kernel=sigmoid; total time=   0.0s\n",
      "[CV] END ..................C=100, gamma=0.01, kernel=sigmoid; total time=   0.0s\n",
      "[CV] END ..................C=100, gamma=0.01, kernel=sigmoid; total time=   0.0s\n",
      "[CV] END .....................C=100, gamma=0.001, kernel=rbf; total time=   0.0s\n",
      "[CV] END .....................C=100, gamma=0.001, kernel=rbf; total time=   0.0s\n",
      "[CV] END .....................C=100, gamma=0.001, kernel=rbf; total time=   0.0s\n",
      "[CV] END .....................C=100, gamma=0.001, kernel=rbf; total time=   0.0s\n",
      "[CV] END .....................C=100, gamma=0.001, kernel=rbf; total time=   0.0s\n",
      "[CV] END ....................C=100, gamma=0.001, kernel=poly; total time=   0.0s\n",
      "[CV] END ....................C=100, gamma=0.001, kernel=poly; total time=   0.0s\n",
      "[CV] END ....................C=100, gamma=0.001, kernel=poly; total time=   0.0s\n",
      "[CV] END ....................C=100, gamma=0.001, kernel=poly; total time=   0.0s\n",
      "[CV] END ....................C=100, gamma=0.001, kernel=poly; total time=   0.0s\n",
      "[CV] END .................C=100, gamma=0.001, kernel=sigmoid; total time=   0.0s\n",
      "[CV] END .................C=100, gamma=0.001, kernel=sigmoid; total time=   0.0s\n",
      "[CV] END .................C=100, gamma=0.001, kernel=sigmoid; total time=   0.0s\n",
      "[CV] END .................C=100, gamma=0.001, kernel=sigmoid; total time=   0.0s\n",
      "[CV] END .................C=100, gamma=0.001, kernel=sigmoid; total time=   0.0s\n"
     ]
    },
    {
     "data": {
      "text/plain": [
       "GridSearchCV(estimator=SVC(),\n",
       "             param_grid={'C': [0.1, 1, 10, 100], 'gamma': [1, 0.1, 0.01, 0.001],\n",
       "                         'kernel': ['rbf', 'poly', 'sigmoid']},\n",
       "             verbose=2)"
      ]
     },
     "execution_count": 426,
     "metadata": {},
     "output_type": "execute_result"
    }
   ],
   "source": [
    "grid_svc.fit(X_train_new, y_train)"
   ]
  },
  {
   "cell_type": "code",
   "execution_count": 432,
   "metadata": {},
   "outputs": [
    {
     "data": {
      "text/plain": [
       "SVC(C=1, gamma=0.1)"
      ]
     },
     "execution_count": 432,
     "metadata": {},
     "output_type": "execute_result"
    }
   ],
   "source": [
    "grid_svc.best_estimator_"
   ]
  },
  {
   "cell_type": "code",
   "execution_count": 428,
   "metadata": {},
   "outputs": [],
   "source": [
    "y_pred = grid_svc.predict(X_test_new)"
   ]
  },
  {
   "cell_type": "markdown",
   "metadata": {},
   "source": [
    "### Model evaluation"
   ]
  },
  {
   "cell_type": "code",
   "execution_count": 429,
   "metadata": {},
   "outputs": [
    {
     "data": {
      "text/plain": [
       "0.8306709265175719"
      ]
     },
     "execution_count": 429,
     "metadata": {},
     "output_type": "execute_result"
    }
   ],
   "source": [
    "accuracy_score(y_test, y_pred)"
   ]
  },
  {
   "cell_type": "code",
   "execution_count": 430,
   "metadata": {},
   "outputs": [
    {
     "name": "stdout",
     "output_type": "stream",
     "text": [
      "              precision    recall  f1-score   support\n",
      "\n",
      "          No       0.88      0.76      0.82       156\n",
      "         Yes       0.79      0.90      0.84       157\n",
      "\n",
      "    accuracy                           0.83       313\n",
      "   macro avg       0.84      0.83      0.83       313\n",
      "weighted avg       0.84      0.83      0.83       313\n",
      "\n"
     ]
    }
   ],
   "source": [
    "print(classification_report(y_test, y_pred))"
   ]
  },
  {
   "cell_type": "code",
   "execution_count": 431,
   "metadata": {},
   "outputs": [
    {
     "data": {
      "text/plain": [
       "0.8417910447761194"
      ]
     },
     "execution_count": 431,
     "metadata": {},
     "output_type": "execute_result"
    }
   ],
   "source": [
    "f1_score(y_test, y_pred, pos_label='Yes')"
   ]
  },
  {
   "cell_type": "markdown",
   "metadata": {},
   "source": [
    "## Model 5: KNN"
   ]
  },
  {
   "cell_type": "code",
   "execution_count": 433,
   "metadata": {},
   "outputs": [],
   "source": [
    "from sklearn.neighbors import KNeighborsClassifier"
   ]
  },
  {
   "cell_type": "code",
   "execution_count": 434,
   "metadata": {},
   "outputs": [],
   "source": [
    "model5 = KNeighborsClassifier()"
   ]
  },
  {
   "cell_type": "code",
   "execution_count": 435,
   "metadata": {},
   "outputs": [
    {
     "data": {
      "text/plain": [
       "KNeighborsClassifier()"
      ]
     },
     "execution_count": 435,
     "metadata": {},
     "output_type": "execute_result"
    }
   ],
   "source": [
    "model5.fit(X_train_new, y_train)"
   ]
  },
  {
   "cell_type": "code",
   "execution_count": 436,
   "metadata": {},
   "outputs": [],
   "source": [
    "y_pred = model5.predict(X_test_new)"
   ]
  },
  {
   "cell_type": "markdown",
   "metadata": {},
   "source": [
    "#### Model evaluation"
   ]
  },
  {
   "cell_type": "code",
   "execution_count": 437,
   "metadata": {},
   "outputs": [
    {
     "data": {
      "text/plain": [
       "0.7507987220447284"
      ]
     },
     "execution_count": 437,
     "metadata": {},
     "output_type": "execute_result"
    }
   ],
   "source": [
    "accuracy_score(y_test, y_pred)"
   ]
  },
  {
   "cell_type": "code",
   "execution_count": 438,
   "metadata": {},
   "outputs": [
    {
     "name": "stdout",
     "output_type": "stream",
     "text": [
      "              precision    recall  f1-score   support\n",
      "\n",
      "          No       0.71      0.85      0.77       156\n",
      "         Yes       0.82      0.65      0.72       157\n",
      "\n",
      "    accuracy                           0.75       313\n",
      "   macro avg       0.76      0.75      0.75       313\n",
      "weighted avg       0.76      0.75      0.75       313\n",
      "\n"
     ]
    }
   ],
   "source": [
    "print(classification_report(y_test, y_pred))"
   ]
  },
  {
   "cell_type": "markdown",
   "metadata": {},
   "source": [
    "# Other models"
   ]
  },
  {
   "cell_type": "code",
   "execution_count": 440,
   "metadata": {},
   "outputs": [],
   "source": [
    "from xgboost import XGBClassifier\n",
    "from catboost import CatBoostClassifier\n",
    "from lightgbm import LGBMClassifier"
   ]
  },
  {
   "cell_type": "markdown",
   "metadata": {},
   "source": [
    "## XGB Classifier"
   ]
  },
  {
   "cell_type": "code",
   "execution_count": 441,
   "metadata": {},
   "outputs": [],
   "source": [
    "xgb = XGBClassifier()"
   ]
  },
  {
   "cell_type": "code",
   "execution_count": 442,
   "metadata": {},
   "outputs": [
    {
     "name": "stdout",
     "output_type": "stream",
     "text": [
      "[14:40:58] WARNING: C:/Users/Administrator/workspace/xgboost-win64_release_1.4.0/src/learner.cc:1095: Starting in XGBoost 1.3.0, the default evaluation metric used with the objective 'binary:logistic' was changed from 'error' to 'logloss'. Explicitly set eval_metric if you'd like to restore the old behavior.\n"
     ]
    },
    {
     "data": {
      "text/plain": [
       "XGBClassifier(base_score=0.5, booster='gbtree', colsample_bylevel=1,\n",
       "              colsample_bynode=1, colsample_bytree=1, gamma=0, gpu_id=-1,\n",
       "              importance_type='gain', interaction_constraints='',\n",
       "              learning_rate=0.300000012, max_delta_step=0, max_depth=6,\n",
       "              min_child_weight=1, missing=nan, monotone_constraints='()',\n",
       "              n_estimators=100, n_jobs=4, num_parallel_tree=1, random_state=0,\n",
       "              reg_alpha=0, reg_lambda=1, scale_pos_weight=1, subsample=1,\n",
       "              tree_method='exact', validate_parameters=1, verbosity=None)"
      ]
     },
     "execution_count": 442,
     "metadata": {},
     "output_type": "execute_result"
    }
   ],
   "source": [
    "xgb.fit(X_train_new, y_train)"
   ]
  },
  {
   "cell_type": "code",
   "execution_count": 443,
   "metadata": {},
   "outputs": [],
   "source": [
    "y_pred = xgb.predict(X_test_new)"
   ]
  },
  {
   "cell_type": "markdown",
   "metadata": {},
   "source": [
    "#### Model Evaluation"
   ]
  },
  {
   "cell_type": "code",
   "execution_count": 444,
   "metadata": {},
   "outputs": [
    {
     "data": {
      "text/plain": [
       "0.8019169329073482"
      ]
     },
     "execution_count": 444,
     "metadata": {},
     "output_type": "execute_result"
    }
   ],
   "source": [
    "accuracy_score(y_test, y_pred)"
   ]
  },
  {
   "cell_type": "code",
   "execution_count": 445,
   "metadata": {},
   "outputs": [
    {
     "name": "stdout",
     "output_type": "stream",
     "text": [
      "              precision    recall  f1-score   support\n",
      "\n",
      "          No       0.81      0.79      0.80       156\n",
      "         Yes       0.80      0.82      0.81       157\n",
      "\n",
      "    accuracy                           0.80       313\n",
      "   macro avg       0.80      0.80      0.80       313\n",
      "weighted avg       0.80      0.80      0.80       313\n",
      "\n"
     ]
    }
   ],
   "source": [
    "print(classification_report(y_test, y_pred))"
   ]
  },
  {
   "cell_type": "markdown",
   "metadata": {},
   "source": [
    "## Cat Boost Classifier"
   ]
  },
  {
   "cell_type": "code",
   "execution_count": 446,
   "metadata": {},
   "outputs": [],
   "source": [
    "cat = CatBoostClassifier()"
   ]
  },
  {
   "cell_type": "code",
   "execution_count": 447,
   "metadata": {},
   "outputs": [
    {
     "name": "stdout",
     "output_type": "stream",
     "text": [
      "Learning rate set to 0.009007\n",
      "0:\tlearn: 0.6882757\ttotal: 149ms\tremaining: 2m 28s\n",
      "1:\tlearn: 0.6821656\ttotal: 157ms\tremaining: 1m 18s\n",
      "2:\tlearn: 0.6760130\ttotal: 160ms\tremaining: 53.2s\n",
      "3:\tlearn: 0.6701138\ttotal: 164ms\tremaining: 40.8s\n",
      "4:\tlearn: 0.6642856\ttotal: 168ms\tremaining: 33.3s\n",
      "5:\tlearn: 0.6574465\ttotal: 172ms\tremaining: 28.4s\n",
      "6:\tlearn: 0.6499041\ttotal: 175ms\tremaining: 24.8s\n",
      "7:\tlearn: 0.6442556\ttotal: 195ms\tremaining: 24.1s\n",
      "8:\tlearn: 0.6388259\ttotal: 199ms\tremaining: 21.9s\n",
      "9:\tlearn: 0.6339222\ttotal: 202ms\tremaining: 20s\n",
      "10:\tlearn: 0.6296009\ttotal: 204ms\tremaining: 18.4s\n",
      "11:\tlearn: 0.6240413\ttotal: 208ms\tremaining: 17.2s\n",
      "12:\tlearn: 0.6190162\ttotal: 222ms\tremaining: 16.8s\n",
      "13:\tlearn: 0.6145533\ttotal: 224ms\tremaining: 15.8s\n",
      "14:\tlearn: 0.6110952\ttotal: 227ms\tremaining: 14.9s\n",
      "15:\tlearn: 0.6069924\ttotal: 231ms\tremaining: 14.2s\n",
      "16:\tlearn: 0.6009189\ttotal: 234ms\tremaining: 13.5s\n",
      "17:\tlearn: 0.5948948\ttotal: 241ms\tremaining: 13.2s\n",
      "18:\tlearn: 0.5910019\ttotal: 245ms\tremaining: 12.6s\n",
      "19:\tlearn: 0.5872892\ttotal: 248ms\tremaining: 12.2s\n",
      "20:\tlearn: 0.5851758\ttotal: 270ms\tremaining: 12.6s\n",
      "21:\tlearn: 0.5813640\ttotal: 276ms\tremaining: 12.3s\n",
      "22:\tlearn: 0.5787830\ttotal: 280ms\tremaining: 11.9s\n",
      "23:\tlearn: 0.5746011\ttotal: 284ms\tremaining: 11.5s\n",
      "24:\tlearn: 0.5717107\ttotal: 287ms\tremaining: 11.2s\n",
      "25:\tlearn: 0.5687110\ttotal: 290ms\tremaining: 10.9s\n",
      "26:\tlearn: 0.5659837\ttotal: 294ms\tremaining: 10.6s\n",
      "27:\tlearn: 0.5626923\ttotal: 297ms\tremaining: 10.3s\n",
      "28:\tlearn: 0.5587060\ttotal: 314ms\tremaining: 10.5s\n",
      "29:\tlearn: 0.5553770\ttotal: 329ms\tremaining: 10.6s\n",
      "30:\tlearn: 0.5511843\ttotal: 338ms\tremaining: 10.6s\n",
      "31:\tlearn: 0.5486838\ttotal: 358ms\tremaining: 10.8s\n",
      "32:\tlearn: 0.5465802\ttotal: 363ms\tremaining: 10.6s\n",
      "33:\tlearn: 0.5438003\ttotal: 368ms\tremaining: 10.5s\n",
      "34:\tlearn: 0.5412631\ttotal: 372ms\tremaining: 10.3s\n",
      "35:\tlearn: 0.5378192\ttotal: 384ms\tremaining: 10.3s\n",
      "36:\tlearn: 0.5344532\ttotal: 387ms\tremaining: 10.1s\n",
      "37:\tlearn: 0.5315603\ttotal: 399ms\tremaining: 10.1s\n",
      "38:\tlearn: 0.5282783\ttotal: 404ms\tremaining: 9.95s\n",
      "39:\tlearn: 0.5251143\ttotal: 417ms\tremaining: 10s\n",
      "40:\tlearn: 0.5235107\ttotal: 433ms\tremaining: 10.1s\n",
      "41:\tlearn: 0.5207271\ttotal: 448ms\tremaining: 10.2s\n",
      "42:\tlearn: 0.5177630\ttotal: 455ms\tremaining: 10.1s\n",
      "43:\tlearn: 0.5157469\ttotal: 479ms\tremaining: 10.4s\n",
      "44:\tlearn: 0.5128379\ttotal: 490ms\tremaining: 10.4s\n",
      "45:\tlearn: 0.5100971\ttotal: 497ms\tremaining: 10.3s\n",
      "46:\tlearn: 0.5087131\ttotal: 502ms\tremaining: 10.2s\n",
      "47:\tlearn: 0.5068408\ttotal: 507ms\tremaining: 10.1s\n",
      "48:\tlearn: 0.5045927\ttotal: 511ms\tremaining: 9.91s\n",
      "49:\tlearn: 0.5012726\ttotal: 515ms\tremaining: 9.79s\n",
      "50:\tlearn: 0.4992409\ttotal: 519ms\tremaining: 9.66s\n",
      "51:\tlearn: 0.4973318\ttotal: 523ms\tremaining: 9.53s\n",
      "52:\tlearn: 0.4956279\ttotal: 527ms\tremaining: 9.42s\n",
      "53:\tlearn: 0.4932189\ttotal: 530ms\tremaining: 9.29s\n",
      "54:\tlearn: 0.4924975\ttotal: 533ms\tremaining: 9.16s\n",
      "55:\tlearn: 0.4903501\ttotal: 538ms\tremaining: 9.08s\n",
      "56:\tlearn: 0.4881864\ttotal: 542ms\tremaining: 8.97s\n",
      "57:\tlearn: 0.4856756\ttotal: 546ms\tremaining: 8.88s\n",
      "58:\tlearn: 0.4835133\ttotal: 551ms\tremaining: 8.79s\n",
      "59:\tlearn: 0.4818404\ttotal: 554ms\tremaining: 8.69s\n",
      "60:\tlearn: 0.4796283\ttotal: 574ms\tremaining: 8.84s\n",
      "61:\tlearn: 0.4775340\ttotal: 580ms\tremaining: 8.77s\n",
      "62:\tlearn: 0.4758761\ttotal: 583ms\tremaining: 8.68s\n",
      "63:\tlearn: 0.4746149\ttotal: 588ms\tremaining: 8.6s\n",
      "64:\tlearn: 0.4736694\ttotal: 591ms\tremaining: 8.5s\n",
      "65:\tlearn: 0.4713086\ttotal: 595ms\tremaining: 8.42s\n",
      "66:\tlearn: 0.4686633\ttotal: 598ms\tremaining: 8.33s\n",
      "67:\tlearn: 0.4672473\ttotal: 602ms\tremaining: 8.26s\n",
      "68:\tlearn: 0.4645897\ttotal: 606ms\tremaining: 8.18s\n",
      "69:\tlearn: 0.4626752\ttotal: 616ms\tremaining: 8.18s\n",
      "70:\tlearn: 0.4614507\ttotal: 636ms\tremaining: 8.32s\n",
      "71:\tlearn: 0.4603010\ttotal: 640ms\tremaining: 8.25s\n",
      "72:\tlearn: 0.4585385\ttotal: 643ms\tremaining: 8.17s\n",
      "73:\tlearn: 0.4573090\ttotal: 647ms\tremaining: 8.09s\n",
      "74:\tlearn: 0.4551028\ttotal: 651ms\tremaining: 8.03s\n",
      "75:\tlearn: 0.4540238\ttotal: 659ms\tremaining: 8.01s\n",
      "76:\tlearn: 0.4526302\ttotal: 664ms\tremaining: 7.95s\n",
      "77:\tlearn: 0.4509817\ttotal: 668ms\tremaining: 7.9s\n",
      "78:\tlearn: 0.4502831\ttotal: 671ms\tremaining: 7.82s\n",
      "79:\tlearn: 0.4493000\ttotal: 693ms\tremaining: 7.97s\n",
      "80:\tlearn: 0.4475768\ttotal: 699ms\tremaining: 7.93s\n",
      "81:\tlearn: 0.4466570\ttotal: 704ms\tremaining: 7.88s\n",
      "82:\tlearn: 0.4455306\ttotal: 708ms\tremaining: 7.82s\n",
      "83:\tlearn: 0.4445206\ttotal: 715ms\tremaining: 7.8s\n",
      "84:\tlearn: 0.4430557\ttotal: 719ms\tremaining: 7.74s\n",
      "85:\tlearn: 0.4415825\ttotal: 733ms\tremaining: 7.79s\n",
      "86:\tlearn: 0.4405203\ttotal: 738ms\tremaining: 7.75s\n",
      "87:\tlearn: 0.4389125\ttotal: 743ms\tremaining: 7.7s\n",
      "88:\tlearn: 0.4376699\ttotal: 748ms\tremaining: 7.66s\n",
      "89:\tlearn: 0.4369253\ttotal: 753ms\tremaining: 7.61s\n",
      "90:\tlearn: 0.4355429\ttotal: 764ms\tremaining: 7.63s\n",
      "91:\tlearn: 0.4345990\ttotal: 769ms\tremaining: 7.59s\n",
      "92:\tlearn: 0.4326144\ttotal: 774ms\tremaining: 7.55s\n",
      "93:\tlearn: 0.4307401\ttotal: 780ms\tremaining: 7.51s\n",
      "94:\tlearn: 0.4293632\ttotal: 784ms\tremaining: 7.47s\n",
      "95:\tlearn: 0.4283346\ttotal: 788ms\tremaining: 7.42s\n",
      "96:\tlearn: 0.4275681\ttotal: 792ms\tremaining: 7.37s\n",
      "97:\tlearn: 0.4256884\ttotal: 797ms\tremaining: 7.33s\n",
      "98:\tlearn: 0.4250317\ttotal: 801ms\tremaining: 7.29s\n",
      "99:\tlearn: 0.4241001\ttotal: 804ms\tremaining: 7.24s\n",
      "100:\tlearn: 0.4233794\ttotal: 808ms\tremaining: 7.19s\n",
      "101:\tlearn: 0.4225695\ttotal: 812ms\tremaining: 7.15s\n",
      "102:\tlearn: 0.4214676\ttotal: 817ms\tremaining: 7.12s\n",
      "103:\tlearn: 0.4212453\ttotal: 820ms\tremaining: 7.07s\n",
      "104:\tlearn: 0.4203170\ttotal: 824ms\tremaining: 7.03s\n",
      "105:\tlearn: 0.4190801\ttotal: 828ms\tremaining: 6.99s\n",
      "106:\tlearn: 0.4178850\ttotal: 832ms\tremaining: 6.95s\n",
      "107:\tlearn: 0.4170359\ttotal: 843ms\tremaining: 6.96s\n",
      "108:\tlearn: 0.4154027\ttotal: 850ms\tremaining: 6.95s\n",
      "109:\tlearn: 0.4148521\ttotal: 865ms\tremaining: 6.99s\n",
      "110:\tlearn: 0.4137259\ttotal: 889ms\tremaining: 7.12s\n",
      "111:\tlearn: 0.4131493\ttotal: 901ms\tremaining: 7.14s\n",
      "112:\tlearn: 0.4122795\ttotal: 915ms\tremaining: 7.18s\n",
      "113:\tlearn: 0.4114036\ttotal: 932ms\tremaining: 7.24s\n",
      "114:\tlearn: 0.4107270\ttotal: 940ms\tremaining: 7.23s\n",
      "115:\tlearn: 0.4098375\ttotal: 961ms\tremaining: 7.32s\n",
      "116:\tlearn: 0.4087238\ttotal: 970ms\tremaining: 7.32s\n",
      "117:\tlearn: 0.4080436\ttotal: 976ms\tremaining: 7.29s\n",
      "118:\tlearn: 0.4071428\ttotal: 981ms\tremaining: 7.26s\n",
      "119:\tlearn: 0.4062172\ttotal: 987ms\tremaining: 7.24s\n",
      "120:\tlearn: 0.4053408\ttotal: 993ms\tremaining: 7.21s\n",
      "121:\tlearn: 0.4042671\ttotal: 1.01s\tremaining: 7.29s\n",
      "122:\tlearn: 0.4036493\ttotal: 1.03s\tremaining: 7.33s\n",
      "123:\tlearn: 0.4030511\ttotal: 1.05s\tremaining: 7.43s\n",
      "124:\tlearn: 0.4025243\ttotal: 1.06s\tremaining: 7.42s\n",
      "125:\tlearn: 0.4019034\ttotal: 1.07s\tremaining: 7.4s\n",
      "126:\tlearn: 0.4012362\ttotal: 1.07s\tremaining: 7.38s\n",
      "127:\tlearn: 0.4007175\ttotal: 1.08s\tremaining: 7.34s\n",
      "128:\tlearn: 0.4006221\ttotal: 1.08s\tremaining: 7.29s\n",
      "129:\tlearn: 0.3999953\ttotal: 1.08s\tremaining: 7.26s\n",
      "130:\tlearn: 0.3995045\ttotal: 1.09s\tremaining: 7.22s\n",
      "131:\tlearn: 0.3989592\ttotal: 1.09s\tremaining: 7.18s\n",
      "132:\tlearn: 0.3983591\ttotal: 1.09s\tremaining: 7.14s\n",
      "133:\tlearn: 0.3978707\ttotal: 1.11s\tremaining: 7.16s\n",
      "134:\tlearn: 0.3971072\ttotal: 1.12s\tremaining: 7.2s\n",
      "135:\tlearn: 0.3963025\ttotal: 1.14s\tremaining: 7.21s\n",
      "136:\tlearn: 0.3953118\ttotal: 1.14s\tremaining: 7.19s\n",
      "137:\tlearn: 0.3948485\ttotal: 1.17s\tremaining: 7.3s\n",
      "138:\tlearn: 0.3939771\ttotal: 1.18s\tremaining: 7.3s\n",
      "139:\tlearn: 0.3933639\ttotal: 1.2s\tremaining: 7.35s\n",
      "140:\tlearn: 0.3926718\ttotal: 1.2s\tremaining: 7.33s\n",
      "141:\tlearn: 0.3923908\ttotal: 1.21s\tremaining: 7.29s\n",
      "142:\tlearn: 0.3918059\ttotal: 1.21s\tremaining: 7.28s\n",
      "143:\tlearn: 0.3912346\ttotal: 1.22s\tremaining: 7.25s\n",
      "144:\tlearn: 0.3906990\ttotal: 1.23s\tremaining: 7.22s\n",
      "145:\tlearn: 0.3897453\ttotal: 1.23s\tremaining: 7.2s\n",
      "146:\tlearn: 0.3893046\ttotal: 1.24s\tremaining: 7.17s\n",
      "147:\tlearn: 0.3886094\ttotal: 1.25s\tremaining: 7.21s\n",
      "148:\tlearn: 0.3885450\ttotal: 1.26s\tremaining: 7.18s\n",
      "149:\tlearn: 0.3879496\ttotal: 1.26s\tremaining: 7.17s\n",
      "150:\tlearn: 0.3871446\ttotal: 1.28s\tremaining: 7.21s\n",
      "151:\tlearn: 0.3865544\ttotal: 1.29s\tremaining: 7.18s\n",
      "152:\tlearn: 0.3862759\ttotal: 1.3s\tremaining: 7.18s\n",
      "153:\tlearn: 0.3856568\ttotal: 1.3s\tremaining: 7.15s\n",
      "154:\tlearn: 0.3846948\ttotal: 1.31s\tremaining: 7.14s\n",
      "155:\tlearn: 0.3837532\ttotal: 1.31s\tremaining: 7.11s\n",
      "156:\tlearn: 0.3831128\ttotal: 1.32s\tremaining: 7.07s\n",
      "157:\tlearn: 0.3824977\ttotal: 1.32s\tremaining: 7.04s\n",
      "158:\tlearn: 0.3821940\ttotal: 1.32s\tremaining: 7s\n",
      "159:\tlearn: 0.3814972\ttotal: 1.33s\tremaining: 6.98s\n",
      "160:\tlearn: 0.3812733\ttotal: 1.33s\tremaining: 6.95s\n",
      "161:\tlearn: 0.3803493\ttotal: 1.34s\tremaining: 6.92s\n",
      "162:\tlearn: 0.3798277\ttotal: 1.34s\tremaining: 6.89s\n",
      "163:\tlearn: 0.3795344\ttotal: 1.35s\tremaining: 6.87s\n",
      "164:\tlearn: 0.3790650\ttotal: 1.36s\tremaining: 6.86s\n",
      "165:\tlearn: 0.3784808\ttotal: 1.37s\tremaining: 6.86s\n",
      "166:\tlearn: 0.3777742\ttotal: 1.37s\tremaining: 6.84s\n",
      "167:\tlearn: 0.3772097\ttotal: 1.38s\tremaining: 6.82s\n",
      "168:\tlearn: 0.3766653\ttotal: 1.38s\tremaining: 6.79s\n",
      "169:\tlearn: 0.3761103\ttotal: 1.39s\tremaining: 6.77s\n",
      "170:\tlearn: 0.3756464\ttotal: 1.4s\tremaining: 6.79s\n",
      "171:\tlearn: 0.3751340\ttotal: 1.42s\tremaining: 6.82s\n",
      "172:\tlearn: 0.3747528\ttotal: 1.42s\tremaining: 6.8s\n",
      "173:\tlearn: 0.3740717\ttotal: 1.43s\tremaining: 6.78s\n",
      "174:\tlearn: 0.3736566\ttotal: 1.43s\tremaining: 6.75s\n",
      "175:\tlearn: 0.3730980\ttotal: 1.44s\tremaining: 6.76s\n"
     ]
    },
    {
     "name": "stdout",
     "output_type": "stream",
     "text": [
      "176:\tlearn: 0.3728788\ttotal: 1.45s\tremaining: 6.74s\n",
      "177:\tlearn: 0.3725689\ttotal: 1.47s\tremaining: 6.81s\n",
      "178:\tlearn: 0.3721186\ttotal: 1.49s\tremaining: 6.83s\n",
      "179:\tlearn: 0.3708838\ttotal: 1.5s\tremaining: 6.83s\n",
      "180:\tlearn: 0.3703457\ttotal: 1.51s\tremaining: 6.82s\n",
      "181:\tlearn: 0.3700923\ttotal: 1.51s\tremaining: 6.8s\n",
      "182:\tlearn: 0.3694884\ttotal: 1.53s\tremaining: 6.82s\n",
      "183:\tlearn: 0.3691457\ttotal: 1.54s\tremaining: 6.84s\n",
      "184:\tlearn: 0.3686486\ttotal: 1.55s\tremaining: 6.82s\n",
      "185:\tlearn: 0.3679917\ttotal: 1.55s\tremaining: 6.79s\n",
      "186:\tlearn: 0.3672240\ttotal: 1.56s\tremaining: 6.77s\n",
      "187:\tlearn: 0.3669486\ttotal: 1.56s\tremaining: 6.74s\n",
      "188:\tlearn: 0.3665689\ttotal: 1.56s\tremaining: 6.71s\n",
      "189:\tlearn: 0.3659800\ttotal: 1.57s\tremaining: 6.69s\n",
      "190:\tlearn: 0.3655142\ttotal: 1.57s\tremaining: 6.66s\n",
      "191:\tlearn: 0.3649565\ttotal: 1.57s\tremaining: 6.63s\n",
      "192:\tlearn: 0.3641216\ttotal: 1.59s\tremaining: 6.65s\n",
      "193:\tlearn: 0.3635764\ttotal: 1.59s\tremaining: 6.63s\n",
      "194:\tlearn: 0.3631680\ttotal: 1.61s\tremaining: 6.67s\n",
      "195:\tlearn: 0.3629114\ttotal: 1.62s\tremaining: 6.64s\n",
      "196:\tlearn: 0.3625314\ttotal: 1.63s\tremaining: 6.63s\n",
      "197:\tlearn: 0.3619206\ttotal: 1.63s\tremaining: 6.61s\n",
      "198:\tlearn: 0.3615480\ttotal: 1.64s\tremaining: 6.6s\n",
      "199:\tlearn: 0.3611888\ttotal: 1.64s\tremaining: 6.58s\n",
      "200:\tlearn: 0.3606307\ttotal: 1.65s\tremaining: 6.55s\n",
      "201:\tlearn: 0.3603521\ttotal: 1.65s\tremaining: 6.53s\n",
      "202:\tlearn: 0.3600681\ttotal: 1.66s\tremaining: 6.5s\n",
      "203:\tlearn: 0.3596675\ttotal: 1.66s\tremaining: 6.47s\n",
      "204:\tlearn: 0.3591222\ttotal: 1.66s\tremaining: 6.45s\n",
      "205:\tlearn: 0.3584471\ttotal: 1.67s\tremaining: 6.42s\n",
      "206:\tlearn: 0.3580549\ttotal: 1.69s\tremaining: 6.46s\n",
      "207:\tlearn: 0.3575987\ttotal: 1.69s\tremaining: 6.43s\n",
      "208:\tlearn: 0.3567756\ttotal: 1.7s\tremaining: 6.43s\n",
      "209:\tlearn: 0.3561509\ttotal: 1.72s\tremaining: 6.47s\n",
      "210:\tlearn: 0.3556621\ttotal: 1.73s\tremaining: 6.48s\n",
      "211:\tlearn: 0.3551722\ttotal: 1.75s\tremaining: 6.49s\n",
      "212:\tlearn: 0.3545989\ttotal: 1.75s\tremaining: 6.47s\n",
      "213:\tlearn: 0.3543031\ttotal: 1.76s\tremaining: 6.45s\n",
      "214:\tlearn: 0.3538655\ttotal: 1.76s\tremaining: 6.43s\n",
      "215:\tlearn: 0.3532413\ttotal: 1.77s\tremaining: 6.44s\n",
      "216:\tlearn: 0.3528740\ttotal: 1.78s\tremaining: 6.42s\n",
      "217:\tlearn: 0.3517327\ttotal: 1.78s\tremaining: 6.39s\n",
      "218:\tlearn: 0.3513953\ttotal: 1.78s\tremaining: 6.37s\n",
      "219:\tlearn: 0.3509635\ttotal: 1.81s\tremaining: 6.41s\n",
      "220:\tlearn: 0.3504587\ttotal: 1.82s\tremaining: 6.41s\n",
      "221:\tlearn: 0.3500987\ttotal: 1.83s\tremaining: 6.41s\n",
      "222:\tlearn: 0.3496590\ttotal: 1.84s\tremaining: 6.4s\n",
      "223:\tlearn: 0.3492792\ttotal: 1.84s\tremaining: 6.38s\n",
      "224:\tlearn: 0.3487990\ttotal: 1.84s\tremaining: 6.36s\n",
      "225:\tlearn: 0.3484429\ttotal: 1.86s\tremaining: 6.37s\n",
      "226:\tlearn: 0.3478939\ttotal: 1.87s\tremaining: 6.35s\n",
      "227:\tlearn: 0.3473523\ttotal: 1.87s\tremaining: 6.33s\n",
      "228:\tlearn: 0.3464623\ttotal: 1.87s\tremaining: 6.31s\n",
      "229:\tlearn: 0.3462043\ttotal: 1.9s\tremaining: 6.35s\n",
      "230:\tlearn: 0.3457502\ttotal: 1.91s\tremaining: 6.35s\n",
      "231:\tlearn: 0.3453000\ttotal: 1.91s\tremaining: 6.34s\n",
      "232:\tlearn: 0.3448936\ttotal: 1.92s\tremaining: 6.32s\n",
      "233:\tlearn: 0.3444868\ttotal: 1.92s\tremaining: 6.29s\n",
      "234:\tlearn: 0.3440235\ttotal: 1.93s\tremaining: 6.28s\n",
      "235:\tlearn: 0.3437844\ttotal: 1.93s\tremaining: 6.25s\n",
      "236:\tlearn: 0.3432689\ttotal: 1.93s\tremaining: 6.23s\n",
      "237:\tlearn: 0.3427601\ttotal: 1.95s\tremaining: 6.25s\n",
      "238:\tlearn: 0.3424893\ttotal: 1.96s\tremaining: 6.24s\n",
      "239:\tlearn: 0.3420391\ttotal: 1.97s\tremaining: 6.22s\n",
      "240:\tlearn: 0.3416475\ttotal: 1.97s\tremaining: 6.21s\n",
      "241:\tlearn: 0.3411458\ttotal: 1.98s\tremaining: 6.19s\n",
      "242:\tlearn: 0.3409425\ttotal: 1.98s\tremaining: 6.16s\n",
      "243:\tlearn: 0.3404999\ttotal: 1.98s\tremaining: 6.14s\n",
      "244:\tlearn: 0.3401523\ttotal: 1.99s\tremaining: 6.12s\n",
      "245:\tlearn: 0.3398360\ttotal: 1.99s\tremaining: 6.1s\n",
      "246:\tlearn: 0.3393161\ttotal: 1.99s\tremaining: 6.08s\n",
      "247:\tlearn: 0.3389186\ttotal: 2s\tremaining: 6.05s\n",
      "248:\tlearn: 0.3387457\ttotal: 2s\tremaining: 6.03s\n",
      "249:\tlearn: 0.3384213\ttotal: 2s\tremaining: 6.01s\n",
      "250:\tlearn: 0.3379699\ttotal: 2.01s\tremaining: 5.99s\n",
      "251:\tlearn: 0.3375982\ttotal: 2.01s\tremaining: 5.97s\n",
      "252:\tlearn: 0.3372409\ttotal: 2.01s\tremaining: 5.95s\n",
      "253:\tlearn: 0.3368105\ttotal: 2.02s\tremaining: 5.93s\n",
      "254:\tlearn: 0.3365129\ttotal: 2.02s\tremaining: 5.91s\n",
      "255:\tlearn: 0.3361231\ttotal: 2.03s\tremaining: 5.89s\n",
      "256:\tlearn: 0.3357794\ttotal: 2.03s\tremaining: 5.88s\n",
      "257:\tlearn: 0.3354024\ttotal: 2.04s\tremaining: 5.86s\n",
      "258:\tlearn: 0.3348944\ttotal: 2.04s\tremaining: 5.84s\n",
      "259:\tlearn: 0.3346895\ttotal: 2.04s\tremaining: 5.82s\n",
      "260:\tlearn: 0.3342827\ttotal: 2.05s\tremaining: 5.8s\n",
      "261:\tlearn: 0.3341244\ttotal: 2.06s\tremaining: 5.8s\n",
      "262:\tlearn: 0.3337698\ttotal: 2.06s\tremaining: 5.78s\n",
      "263:\tlearn: 0.3334043\ttotal: 2.06s\tremaining: 5.76s\n",
      "264:\tlearn: 0.3328644\ttotal: 2.07s\tremaining: 5.74s\n",
      "265:\tlearn: 0.3325264\ttotal: 2.07s\tremaining: 5.72s\n",
      "266:\tlearn: 0.3320993\ttotal: 2.08s\tremaining: 5.7s\n",
      "267:\tlearn: 0.3316457\ttotal: 2.08s\tremaining: 5.68s\n",
      "268:\tlearn: 0.3314105\ttotal: 2.08s\tremaining: 5.66s\n",
      "269:\tlearn: 0.3310650\ttotal: 2.09s\tremaining: 5.65s\n",
      "270:\tlearn: 0.3307995\ttotal: 2.09s\tremaining: 5.63s\n",
      "271:\tlearn: 0.3304296\ttotal: 2.1s\tremaining: 5.61s\n",
      "272:\tlearn: 0.3300610\ttotal: 2.1s\tremaining: 5.59s\n",
      "273:\tlearn: 0.3298236\ttotal: 2.12s\tremaining: 5.62s\n",
      "274:\tlearn: 0.3295074\ttotal: 2.13s\tremaining: 5.61s\n",
      "275:\tlearn: 0.3292533\ttotal: 2.15s\tremaining: 5.64s\n",
      "276:\tlearn: 0.3290272\ttotal: 2.17s\tremaining: 5.66s\n",
      "277:\tlearn: 0.3288867\ttotal: 2.17s\tremaining: 5.65s\n",
      "278:\tlearn: 0.3285914\ttotal: 2.18s\tremaining: 5.63s\n",
      "279:\tlearn: 0.3283305\ttotal: 2.18s\tremaining: 5.61s\n",
      "280:\tlearn: 0.3279947\ttotal: 2.19s\tremaining: 5.6s\n",
      "281:\tlearn: 0.3275379\ttotal: 2.19s\tremaining: 5.58s\n",
      "282:\tlearn: 0.3271273\ttotal: 2.2s\tremaining: 5.57s\n",
      "283:\tlearn: 0.3270126\ttotal: 2.2s\tremaining: 5.55s\n",
      "284:\tlearn: 0.3266168\ttotal: 2.21s\tremaining: 5.53s\n",
      "285:\tlearn: 0.3257337\ttotal: 2.21s\tremaining: 5.52s\n",
      "286:\tlearn: 0.3253085\ttotal: 2.22s\tremaining: 5.52s\n",
      "287:\tlearn: 0.3249987\ttotal: 2.23s\tremaining: 5.51s\n",
      "288:\tlearn: 0.3247534\ttotal: 2.23s\tremaining: 5.5s\n",
      "289:\tlearn: 0.3246604\ttotal: 2.24s\tremaining: 5.47s\n",
      "290:\tlearn: 0.3243795\ttotal: 2.25s\tremaining: 5.49s\n",
      "291:\tlearn: 0.3239756\ttotal: 2.26s\tremaining: 5.49s\n",
      "292:\tlearn: 0.3236901\ttotal: 2.27s\tremaining: 5.48s\n",
      "293:\tlearn: 0.3234153\ttotal: 2.27s\tremaining: 5.46s\n",
      "294:\tlearn: 0.3229597\ttotal: 2.28s\tremaining: 5.45s\n",
      "295:\tlearn: 0.3225611\ttotal: 2.28s\tremaining: 5.43s\n",
      "296:\tlearn: 0.3222744\ttotal: 2.29s\tremaining: 5.41s\n",
      "297:\tlearn: 0.3219909\ttotal: 2.29s\tremaining: 5.4s\n",
      "298:\tlearn: 0.3217744\ttotal: 2.29s\tremaining: 5.38s\n",
      "299:\tlearn: 0.3213328\ttotal: 2.3s\tremaining: 5.36s\n",
      "300:\tlearn: 0.3209387\ttotal: 2.3s\tremaining: 5.34s\n",
      "301:\tlearn: 0.3204641\ttotal: 2.31s\tremaining: 5.33s\n",
      "302:\tlearn: 0.3202317\ttotal: 2.31s\tremaining: 5.31s\n",
      "303:\tlearn: 0.3199723\ttotal: 2.31s\tremaining: 5.29s\n",
      "304:\tlearn: 0.3196682\ttotal: 2.33s\tremaining: 5.3s\n",
      "305:\tlearn: 0.3192852\ttotal: 2.33s\tremaining: 5.29s\n",
      "306:\tlearn: 0.3192221\ttotal: 2.33s\tremaining: 5.27s\n",
      "307:\tlearn: 0.3189823\ttotal: 2.36s\tremaining: 5.29s\n",
      "308:\tlearn: 0.3187456\ttotal: 2.37s\tremaining: 5.3s\n",
      "309:\tlearn: 0.3183780\ttotal: 2.38s\tremaining: 5.29s\n",
      "310:\tlearn: 0.3182627\ttotal: 2.4s\tremaining: 5.31s\n",
      "311:\tlearn: 0.3177935\ttotal: 2.41s\tremaining: 5.31s\n",
      "312:\tlearn: 0.3174818\ttotal: 2.43s\tremaining: 5.34s\n",
      "313:\tlearn: 0.3171240\ttotal: 2.44s\tremaining: 5.34s\n",
      "314:\tlearn: 0.3168724\ttotal: 2.45s\tremaining: 5.33s\n",
      "315:\tlearn: 0.3164850\ttotal: 2.46s\tremaining: 5.32s\n",
      "316:\tlearn: 0.3161685\ttotal: 2.46s\tremaining: 5.3s\n",
      "317:\tlearn: 0.3158152\ttotal: 2.46s\tremaining: 5.29s\n",
      "318:\tlearn: 0.3155726\ttotal: 2.47s\tremaining: 5.27s\n",
      "319:\tlearn: 0.3153367\ttotal: 2.48s\tremaining: 5.28s\n",
      "320:\tlearn: 0.3149543\ttotal: 2.49s\tremaining: 5.26s\n",
      "321:\tlearn: 0.3144485\ttotal: 2.49s\tremaining: 5.24s\n",
      "322:\tlearn: 0.3141880\ttotal: 2.49s\tremaining: 5.23s\n",
      "323:\tlearn: 0.3141521\ttotal: 2.5s\tremaining: 5.21s\n",
      "324:\tlearn: 0.3138747\ttotal: 2.52s\tremaining: 5.23s\n",
      "325:\tlearn: 0.3135667\ttotal: 2.53s\tremaining: 5.24s\n",
      "326:\tlearn: 0.3131738\ttotal: 2.54s\tremaining: 5.24s\n",
      "327:\tlearn: 0.3129043\ttotal: 2.55s\tremaining: 5.23s\n",
      "328:\tlearn: 0.3123549\ttotal: 2.56s\tremaining: 5.23s\n",
      "329:\tlearn: 0.3118539\ttotal: 2.58s\tremaining: 5.23s\n",
      "330:\tlearn: 0.3115672\ttotal: 2.59s\tremaining: 5.24s\n",
      "331:\tlearn: 0.3113119\ttotal: 2.6s\tremaining: 5.24s\n",
      "332:\tlearn: 0.3106634\ttotal: 2.61s\tremaining: 5.23s\n",
      "333:\tlearn: 0.3104870\ttotal: 2.62s\tremaining: 5.22s\n",
      "334:\tlearn: 0.3101422\ttotal: 2.62s\tremaining: 5.2s\n",
      "335:\tlearn: 0.3100212\ttotal: 2.62s\tremaining: 5.18s\n",
      "336:\tlearn: 0.3096687\ttotal: 2.63s\tremaining: 5.17s\n",
      "337:\tlearn: 0.3094167\ttotal: 2.63s\tremaining: 5.15s\n",
      "338:\tlearn: 0.3091537\ttotal: 2.63s\tremaining: 5.14s\n",
      "339:\tlearn: 0.3089042\ttotal: 2.64s\tremaining: 5.12s\n",
      "340:\tlearn: 0.3086526\ttotal: 2.64s\tremaining: 5.1s\n",
      "341:\tlearn: 0.3083274\ttotal: 2.65s\tremaining: 5.09s\n",
      "342:\tlearn: 0.3081941\ttotal: 2.67s\tremaining: 5.11s\n",
      "343:\tlearn: 0.3078365\ttotal: 2.68s\tremaining: 5.11s\n",
      "344:\tlearn: 0.3074423\ttotal: 2.69s\tremaining: 5.12s\n",
      "345:\tlearn: 0.3072018\ttotal: 2.7s\tremaining: 5.11s\n",
      "346:\tlearn: 0.3069248\ttotal: 2.71s\tremaining: 5.1s\n"
     ]
    },
    {
     "name": "stdout",
     "output_type": "stream",
     "text": [
      "347:\tlearn: 0.3066983\ttotal: 2.72s\tremaining: 5.09s\n",
      "348:\tlearn: 0.3063811\ttotal: 2.72s\tremaining: 5.08s\n",
      "349:\tlearn: 0.3061235\ttotal: 2.73s\tremaining: 5.06s\n",
      "350:\tlearn: 0.3059189\ttotal: 2.73s\tremaining: 5.05s\n",
      "351:\tlearn: 0.3055338\ttotal: 2.73s\tremaining: 5.04s\n",
      "352:\tlearn: 0.3053456\ttotal: 2.75s\tremaining: 5.05s\n",
      "353:\tlearn: 0.3048574\ttotal: 2.77s\tremaining: 5.05s\n",
      "354:\tlearn: 0.3045531\ttotal: 2.78s\tremaining: 5.06s\n",
      "355:\tlearn: 0.3044016\ttotal: 2.79s\tremaining: 5.05s\n",
      "356:\tlearn: 0.3041013\ttotal: 2.81s\tremaining: 5.05s\n",
      "357:\tlearn: 0.3038181\ttotal: 2.81s\tremaining: 5.04s\n",
      "358:\tlearn: 0.3037081\ttotal: 2.82s\tremaining: 5.03s\n",
      "359:\tlearn: 0.3034779\ttotal: 2.82s\tremaining: 5.01s\n",
      "360:\tlearn: 0.3032857\ttotal: 2.83s\tremaining: 5s\n",
      "361:\tlearn: 0.3030214\ttotal: 2.83s\tremaining: 4.99s\n",
      "362:\tlearn: 0.3027743\ttotal: 2.83s\tremaining: 4.97s\n",
      "363:\tlearn: 0.3023572\ttotal: 2.84s\tremaining: 4.96s\n",
      "364:\tlearn: 0.3021659\ttotal: 2.84s\tremaining: 4.94s\n",
      "365:\tlearn: 0.3018516\ttotal: 2.86s\tremaining: 4.95s\n",
      "366:\tlearn: 0.3015098\ttotal: 2.87s\tremaining: 4.95s\n",
      "367:\tlearn: 0.3012981\ttotal: 2.87s\tremaining: 4.94s\n",
      "368:\tlearn: 0.3009237\ttotal: 2.88s\tremaining: 4.93s\n",
      "369:\tlearn: 0.3006862\ttotal: 2.89s\tremaining: 4.92s\n",
      "370:\tlearn: 0.3003427\ttotal: 2.9s\tremaining: 4.91s\n",
      "371:\tlearn: 0.2999898\ttotal: 2.9s\tremaining: 4.89s\n",
      "372:\tlearn: 0.2998476\ttotal: 2.9s\tremaining: 4.88s\n",
      "373:\tlearn: 0.2995135\ttotal: 2.91s\tremaining: 4.87s\n",
      "374:\tlearn: 0.2992478\ttotal: 2.91s\tremaining: 4.85s\n",
      "375:\tlearn: 0.2990163\ttotal: 2.91s\tremaining: 4.84s\n",
      "376:\tlearn: 0.2987975\ttotal: 2.92s\tremaining: 4.82s\n",
      "377:\tlearn: 0.2986335\ttotal: 2.92s\tremaining: 4.81s\n",
      "378:\tlearn: 0.2983357\ttotal: 2.92s\tremaining: 4.79s\n",
      "379:\tlearn: 0.2980893\ttotal: 2.94s\tremaining: 4.8s\n",
      "380:\tlearn: 0.2977518\ttotal: 2.95s\tremaining: 4.79s\n",
      "381:\tlearn: 0.2975104\ttotal: 2.96s\tremaining: 4.78s\n",
      "382:\tlearn: 0.2971993\ttotal: 2.96s\tremaining: 4.77s\n",
      "383:\tlearn: 0.2967366\ttotal: 2.96s\tremaining: 4.75s\n",
      "384:\tlearn: 0.2965518\ttotal: 2.97s\tremaining: 4.74s\n",
      "385:\tlearn: 0.2961657\ttotal: 2.97s\tremaining: 4.72s\n",
      "386:\tlearn: 0.2959112\ttotal: 2.97s\tremaining: 4.71s\n",
      "387:\tlearn: 0.2955291\ttotal: 2.99s\tremaining: 4.71s\n",
      "388:\tlearn: 0.2950858\ttotal: 3s\tremaining: 4.72s\n",
      "389:\tlearn: 0.2946859\ttotal: 3.01s\tremaining: 4.71s\n",
      "390:\tlearn: 0.2944373\ttotal: 3.02s\tremaining: 4.7s\n",
      "391:\tlearn: 0.2942516\ttotal: 3.03s\tremaining: 4.7s\n",
      "392:\tlearn: 0.2940298\ttotal: 3.05s\tremaining: 4.71s\n",
      "393:\tlearn: 0.2938101\ttotal: 3.06s\tremaining: 4.71s\n",
      "394:\tlearn: 0.2934242\ttotal: 3.07s\tremaining: 4.71s\n",
      "395:\tlearn: 0.2931335\ttotal: 3.08s\tremaining: 4.7s\n",
      "396:\tlearn: 0.2928866\ttotal: 3.09s\tremaining: 4.69s\n",
      "397:\tlearn: 0.2926288\ttotal: 3.09s\tremaining: 4.68s\n",
      "398:\tlearn: 0.2923248\ttotal: 3.1s\tremaining: 4.67s\n",
      "399:\tlearn: 0.2918835\ttotal: 3.1s\tremaining: 4.65s\n",
      "400:\tlearn: 0.2918279\ttotal: 3.1s\tremaining: 4.64s\n",
      "401:\tlearn: 0.2914092\ttotal: 3.11s\tremaining: 4.62s\n",
      "402:\tlearn: 0.2912427\ttotal: 3.11s\tremaining: 4.61s\n",
      "403:\tlearn: 0.2908604\ttotal: 3.15s\tremaining: 4.66s\n",
      "404:\tlearn: 0.2907112\ttotal: 3.17s\tremaining: 4.65s\n",
      "405:\tlearn: 0.2901468\ttotal: 3.18s\tremaining: 4.65s\n",
      "406:\tlearn: 0.2899342\ttotal: 3.19s\tremaining: 4.65s\n",
      "407:\tlearn: 0.2897429\ttotal: 3.21s\tremaining: 4.66s\n",
      "408:\tlearn: 0.2896893\ttotal: 3.22s\tremaining: 4.65s\n",
      "409:\tlearn: 0.2894777\ttotal: 3.24s\tremaining: 4.66s\n",
      "410:\tlearn: 0.2890371\ttotal: 3.25s\tremaining: 4.66s\n",
      "411:\tlearn: 0.2887156\ttotal: 3.26s\tremaining: 4.66s\n",
      "412:\tlearn: 0.2887017\ttotal: 3.27s\tremaining: 4.64s\n",
      "413:\tlearn: 0.2885096\ttotal: 3.27s\tremaining: 4.63s\n",
      "414:\tlearn: 0.2881854\ttotal: 3.28s\tremaining: 4.62s\n",
      "415:\tlearn: 0.2879062\ttotal: 3.29s\tremaining: 4.62s\n",
      "416:\tlearn: 0.2875822\ttotal: 3.31s\tremaining: 4.62s\n",
      "417:\tlearn: 0.2872923\ttotal: 3.33s\tremaining: 4.63s\n",
      "418:\tlearn: 0.2870760\ttotal: 3.34s\tremaining: 4.63s\n",
      "419:\tlearn: 0.2869157\ttotal: 3.35s\tremaining: 4.62s\n",
      "420:\tlearn: 0.2866220\ttotal: 3.35s\tremaining: 4.61s\n",
      "421:\tlearn: 0.2864225\ttotal: 3.37s\tremaining: 4.61s\n",
      "422:\tlearn: 0.2860477\ttotal: 3.38s\tremaining: 4.62s\n",
      "423:\tlearn: 0.2859210\ttotal: 3.4s\tremaining: 4.62s\n",
      "424:\tlearn: 0.2858034\ttotal: 3.41s\tremaining: 4.62s\n",
      "425:\tlearn: 0.2855040\ttotal: 3.42s\tremaining: 4.61s\n",
      "426:\tlearn: 0.2851671\ttotal: 3.43s\tremaining: 4.61s\n",
      "427:\tlearn: 0.2849882\ttotal: 3.44s\tremaining: 4.6s\n",
      "428:\tlearn: 0.2846640\ttotal: 3.45s\tremaining: 4.59s\n",
      "429:\tlearn: 0.2843324\ttotal: 3.45s\tremaining: 4.57s\n",
      "430:\tlearn: 0.2841313\ttotal: 3.46s\tremaining: 4.56s\n",
      "431:\tlearn: 0.2837822\ttotal: 3.46s\tremaining: 4.55s\n",
      "432:\tlearn: 0.2834900\ttotal: 3.46s\tremaining: 4.53s\n",
      "433:\tlearn: 0.2833264\ttotal: 3.47s\tremaining: 4.52s\n",
      "434:\tlearn: 0.2830166\ttotal: 3.47s\tremaining: 4.51s\n",
      "435:\tlearn: 0.2827202\ttotal: 3.47s\tremaining: 4.49s\n",
      "436:\tlearn: 0.2826355\ttotal: 3.48s\tremaining: 4.48s\n",
      "437:\tlearn: 0.2824728\ttotal: 3.48s\tremaining: 4.47s\n",
      "438:\tlearn: 0.2822954\ttotal: 3.5s\tremaining: 4.47s\n",
      "439:\tlearn: 0.2819738\ttotal: 3.51s\tremaining: 4.47s\n",
      "440:\tlearn: 0.2816098\ttotal: 3.52s\tremaining: 4.46s\n",
      "441:\tlearn: 0.2814553\ttotal: 3.54s\tremaining: 4.47s\n",
      "442:\tlearn: 0.2811664\ttotal: 3.55s\tremaining: 4.47s\n",
      "443:\tlearn: 0.2810234\ttotal: 3.56s\tremaining: 4.46s\n",
      "444:\tlearn: 0.2807557\ttotal: 3.57s\tremaining: 4.45s\n",
      "445:\tlearn: 0.2805257\ttotal: 3.6s\tremaining: 4.48s\n",
      "446:\tlearn: 0.2802317\ttotal: 3.62s\tremaining: 4.47s\n",
      "447:\tlearn: 0.2799194\ttotal: 3.63s\tremaining: 4.47s\n",
      "448:\tlearn: 0.2797680\ttotal: 3.63s\tremaining: 4.46s\n",
      "449:\tlearn: 0.2793827\ttotal: 3.65s\tremaining: 4.46s\n",
      "450:\tlearn: 0.2791590\ttotal: 3.65s\tremaining: 4.44s\n",
      "451:\tlearn: 0.2787482\ttotal: 3.65s\tremaining: 4.43s\n",
      "452:\tlearn: 0.2781835\ttotal: 3.66s\tremaining: 4.42s\n",
      "453:\tlearn: 0.2778197\ttotal: 3.66s\tremaining: 4.41s\n",
      "454:\tlearn: 0.2775738\ttotal: 3.67s\tremaining: 4.39s\n",
      "455:\tlearn: 0.2773800\ttotal: 3.67s\tremaining: 4.38s\n",
      "456:\tlearn: 0.2772215\ttotal: 3.67s\tremaining: 4.36s\n",
      "457:\tlearn: 0.2770028\ttotal: 3.68s\tremaining: 4.35s\n",
      "458:\tlearn: 0.2766655\ttotal: 3.68s\tremaining: 4.34s\n",
      "459:\tlearn: 0.2764485\ttotal: 3.68s\tremaining: 4.32s\n",
      "460:\tlearn: 0.2763021\ttotal: 3.69s\tremaining: 4.31s\n",
      "461:\tlearn: 0.2760528\ttotal: 3.71s\tremaining: 4.32s\n",
      "462:\tlearn: 0.2757850\ttotal: 3.72s\tremaining: 4.32s\n",
      "463:\tlearn: 0.2754479\ttotal: 3.73s\tremaining: 4.31s\n",
      "464:\tlearn: 0.2750839\ttotal: 3.75s\tremaining: 4.31s\n",
      "465:\tlearn: 0.2748681\ttotal: 3.76s\tremaining: 4.31s\n",
      "466:\tlearn: 0.2745371\ttotal: 3.78s\tremaining: 4.31s\n",
      "467:\tlearn: 0.2743693\ttotal: 3.79s\tremaining: 4.31s\n",
      "468:\tlearn: 0.2741694\ttotal: 3.8s\tremaining: 4.31s\n",
      "469:\tlearn: 0.2739934\ttotal: 3.81s\tremaining: 4.3s\n",
      "470:\tlearn: 0.2738573\ttotal: 3.82s\tremaining: 4.29s\n",
      "471:\tlearn: 0.2736089\ttotal: 3.82s\tremaining: 4.28s\n",
      "472:\tlearn: 0.2733477\ttotal: 3.83s\tremaining: 4.26s\n",
      "473:\tlearn: 0.2732961\ttotal: 3.83s\tremaining: 4.25s\n",
      "474:\tlearn: 0.2729768\ttotal: 3.83s\tremaining: 4.24s\n",
      "475:\tlearn: 0.2726886\ttotal: 3.84s\tremaining: 4.23s\n",
      "476:\tlearn: 0.2723863\ttotal: 3.88s\tremaining: 4.25s\n",
      "477:\tlearn: 0.2721841\ttotal: 3.89s\tremaining: 4.25s\n",
      "478:\tlearn: 0.2720668\ttotal: 3.91s\tremaining: 4.25s\n",
      "479:\tlearn: 0.2717459\ttotal: 3.92s\tremaining: 4.25s\n",
      "480:\tlearn: 0.2715985\ttotal: 3.94s\tremaining: 4.25s\n",
      "481:\tlearn: 0.2713032\ttotal: 3.95s\tremaining: 4.25s\n",
      "482:\tlearn: 0.2712383\ttotal: 3.96s\tremaining: 4.24s\n",
      "483:\tlearn: 0.2711295\ttotal: 3.97s\tremaining: 4.23s\n",
      "484:\tlearn: 0.2708815\ttotal: 3.97s\tremaining: 4.22s\n",
      "485:\tlearn: 0.2707914\ttotal: 3.98s\tremaining: 4.2s\n",
      "486:\tlearn: 0.2705582\ttotal: 3.98s\tremaining: 4.19s\n",
      "487:\tlearn: 0.2703897\ttotal: 3.98s\tremaining: 4.18s\n",
      "488:\tlearn: 0.2702389\ttotal: 3.99s\tremaining: 4.17s\n",
      "489:\tlearn: 0.2700126\ttotal: 4s\tremaining: 4.17s\n",
      "490:\tlearn: 0.2697076\ttotal: 4.02s\tremaining: 4.17s\n",
      "491:\tlearn: 0.2695378\ttotal: 4.03s\tremaining: 4.16s\n",
      "492:\tlearn: 0.2693313\ttotal: 4.05s\tremaining: 4.17s\n",
      "493:\tlearn: 0.2690404\ttotal: 4.06s\tremaining: 4.16s\n",
      "494:\tlearn: 0.2688139\ttotal: 4.07s\tremaining: 4.15s\n",
      "495:\tlearn: 0.2686412\ttotal: 4.07s\tremaining: 4.14s\n",
      "496:\tlearn: 0.2683125\ttotal: 4.08s\tremaining: 4.13s\n",
      "497:\tlearn: 0.2680682\ttotal: 4.09s\tremaining: 4.12s\n",
      "498:\tlearn: 0.2677558\ttotal: 4.09s\tremaining: 4.11s\n",
      "499:\tlearn: 0.2674683\ttotal: 4.09s\tremaining: 4.09s\n",
      "500:\tlearn: 0.2671965\ttotal: 4.1s\tremaining: 4.08s\n",
      "501:\tlearn: 0.2669027\ttotal: 4.11s\tremaining: 4.07s\n",
      "502:\tlearn: 0.2664498\ttotal: 4.11s\tremaining: 4.06s\n",
      "503:\tlearn: 0.2663391\ttotal: 4.11s\tremaining: 4.05s\n",
      "504:\tlearn: 0.2660298\ttotal: 4.12s\tremaining: 4.04s\n",
      "505:\tlearn: 0.2656604\ttotal: 4.12s\tremaining: 4.02s\n",
      "506:\tlearn: 0.2654299\ttotal: 4.13s\tremaining: 4.01s\n"
     ]
    },
    {
     "name": "stdout",
     "output_type": "stream",
     "text": [
      "507:\tlearn: 0.2651765\ttotal: 4.13s\tremaining: 4s\n",
      "508:\tlearn: 0.2647517\ttotal: 4.13s\tremaining: 3.99s\n",
      "509:\tlearn: 0.2644694\ttotal: 4.14s\tremaining: 3.98s\n",
      "510:\tlearn: 0.2643467\ttotal: 4.14s\tremaining: 3.96s\n",
      "511:\tlearn: 0.2641686\ttotal: 4.15s\tremaining: 3.95s\n",
      "512:\tlearn: 0.2638485\ttotal: 4.15s\tremaining: 3.94s\n",
      "513:\tlearn: 0.2636081\ttotal: 4.15s\tremaining: 3.93s\n",
      "514:\tlearn: 0.2635529\ttotal: 4.16s\tremaining: 3.92s\n",
      "515:\tlearn: 0.2634390\ttotal: 4.16s\tremaining: 3.9s\n",
      "516:\tlearn: 0.2630988\ttotal: 4.17s\tremaining: 3.89s\n",
      "517:\tlearn: 0.2626428\ttotal: 4.17s\tremaining: 3.88s\n",
      "518:\tlearn: 0.2623222\ttotal: 4.18s\tremaining: 3.87s\n",
      "519:\tlearn: 0.2618948\ttotal: 4.18s\tremaining: 3.86s\n",
      "520:\tlearn: 0.2616283\ttotal: 4.19s\tremaining: 3.85s\n",
      "521:\tlearn: 0.2613440\ttotal: 4.19s\tremaining: 3.84s\n",
      "522:\tlearn: 0.2611530\ttotal: 4.2s\tremaining: 3.83s\n",
      "523:\tlearn: 0.2609024\ttotal: 4.2s\tremaining: 3.81s\n",
      "524:\tlearn: 0.2607841\ttotal: 4.2s\tremaining: 3.8s\n",
      "525:\tlearn: 0.2606978\ttotal: 4.21s\tremaining: 3.79s\n",
      "526:\tlearn: 0.2606193\ttotal: 4.21s\tremaining: 3.78s\n",
      "527:\tlearn: 0.2605913\ttotal: 4.22s\tremaining: 3.77s\n",
      "528:\tlearn: 0.2602745\ttotal: 4.22s\tremaining: 3.76s\n",
      "529:\tlearn: 0.2601663\ttotal: 4.23s\tremaining: 3.75s\n",
      "530:\tlearn: 0.2598143\ttotal: 4.24s\tremaining: 3.74s\n",
      "531:\tlearn: 0.2595538\ttotal: 4.24s\tremaining: 3.73s\n",
      "532:\tlearn: 0.2593742\ttotal: 4.24s\tremaining: 3.72s\n",
      "533:\tlearn: 0.2592335\ttotal: 4.25s\tremaining: 3.71s\n",
      "534:\tlearn: 0.2587603\ttotal: 4.25s\tremaining: 3.7s\n",
      "535:\tlearn: 0.2585343\ttotal: 4.27s\tremaining: 3.7s\n",
      "536:\tlearn: 0.2582296\ttotal: 4.28s\tremaining: 3.69s\n",
      "537:\tlearn: 0.2581102\ttotal: 4.28s\tremaining: 3.68s\n",
      "538:\tlearn: 0.2577676\ttotal: 4.29s\tremaining: 3.67s\n",
      "539:\tlearn: 0.2575034\ttotal: 4.29s\tremaining: 3.66s\n",
      "540:\tlearn: 0.2573446\ttotal: 4.3s\tremaining: 3.65s\n",
      "541:\tlearn: 0.2571250\ttotal: 4.33s\tremaining: 3.66s\n",
      "542:\tlearn: 0.2569313\ttotal: 4.33s\tremaining: 3.65s\n",
      "543:\tlearn: 0.2566643\ttotal: 4.34s\tremaining: 3.64s\n",
      "544:\tlearn: 0.2563985\ttotal: 4.34s\tremaining: 3.63s\n",
      "545:\tlearn: 0.2561663\ttotal: 4.35s\tremaining: 3.62s\n",
      "546:\tlearn: 0.2559073\ttotal: 4.35s\tremaining: 3.6s\n",
      "547:\tlearn: 0.2556501\ttotal: 4.36s\tremaining: 3.59s\n",
      "548:\tlearn: 0.2553909\ttotal: 4.36s\tremaining: 3.58s\n",
      "549:\tlearn: 0.2552035\ttotal: 4.37s\tremaining: 3.57s\n",
      "550:\tlearn: 0.2550468\ttotal: 4.37s\tremaining: 3.56s\n",
      "551:\tlearn: 0.2547661\ttotal: 4.38s\tremaining: 3.55s\n",
      "552:\tlearn: 0.2544778\ttotal: 4.38s\tremaining: 3.54s\n",
      "553:\tlearn: 0.2540909\ttotal: 4.38s\tremaining: 3.53s\n",
      "554:\tlearn: 0.2537927\ttotal: 4.39s\tremaining: 3.52s\n",
      "555:\tlearn: 0.2535675\ttotal: 4.39s\tremaining: 3.51s\n",
      "556:\tlearn: 0.2533693\ttotal: 4.4s\tremaining: 3.5s\n",
      "557:\tlearn: 0.2532123\ttotal: 4.4s\tremaining: 3.49s\n",
      "558:\tlearn: 0.2530760\ttotal: 4.41s\tremaining: 3.48s\n",
      "559:\tlearn: 0.2530159\ttotal: 4.41s\tremaining: 3.46s\n",
      "560:\tlearn: 0.2529022\ttotal: 4.41s\tremaining: 3.45s\n",
      "561:\tlearn: 0.2528395\ttotal: 4.42s\tremaining: 3.44s\n",
      "562:\tlearn: 0.2526422\ttotal: 4.42s\tremaining: 3.43s\n",
      "563:\tlearn: 0.2523702\ttotal: 4.43s\tremaining: 3.42s\n",
      "564:\tlearn: 0.2520107\ttotal: 4.43s\tremaining: 3.41s\n",
      "565:\tlearn: 0.2516288\ttotal: 4.44s\tremaining: 3.4s\n",
      "566:\tlearn: 0.2514514\ttotal: 4.44s\tremaining: 3.39s\n",
      "567:\tlearn: 0.2512538\ttotal: 4.45s\tremaining: 3.38s\n",
      "568:\tlearn: 0.2509084\ttotal: 4.45s\tremaining: 3.37s\n",
      "569:\tlearn: 0.2507190\ttotal: 4.45s\tremaining: 3.36s\n",
      "570:\tlearn: 0.2504835\ttotal: 4.46s\tremaining: 3.35s\n",
      "571:\tlearn: 0.2503703\ttotal: 4.46s\tremaining: 3.34s\n",
      "572:\tlearn: 0.2501139\ttotal: 4.47s\tremaining: 3.33s\n",
      "573:\tlearn: 0.2499475\ttotal: 4.47s\tremaining: 3.32s\n",
      "574:\tlearn: 0.2496782\ttotal: 4.48s\tremaining: 3.31s\n",
      "575:\tlearn: 0.2494782\ttotal: 4.48s\tremaining: 3.3s\n",
      "576:\tlearn: 0.2493194\ttotal: 4.49s\tremaining: 3.29s\n",
      "577:\tlearn: 0.2490332\ttotal: 4.49s\tremaining: 3.28s\n",
      "578:\tlearn: 0.2489145\ttotal: 4.49s\tremaining: 3.27s\n",
      "579:\tlearn: 0.2486565\ttotal: 4.5s\tremaining: 3.25s\n",
      "580:\tlearn: 0.2485146\ttotal: 4.5s\tremaining: 3.24s\n",
      "581:\tlearn: 0.2483230\ttotal: 4.5s\tremaining: 3.23s\n",
      "582:\tlearn: 0.2480959\ttotal: 4.51s\tremaining: 3.22s\n",
      "583:\tlearn: 0.2479025\ttotal: 4.51s\tremaining: 3.21s\n",
      "584:\tlearn: 0.2477663\ttotal: 4.51s\tremaining: 3.2s\n",
      "585:\tlearn: 0.2472747\ttotal: 4.52s\tremaining: 3.19s\n",
      "586:\tlearn: 0.2469472\ttotal: 4.52s\tremaining: 3.18s\n",
      "587:\tlearn: 0.2468211\ttotal: 4.53s\tremaining: 3.17s\n",
      "588:\tlearn: 0.2465111\ttotal: 4.53s\tremaining: 3.16s\n",
      "589:\tlearn: 0.2463714\ttotal: 4.54s\tremaining: 3.15s\n",
      "590:\tlearn: 0.2461677\ttotal: 4.54s\tremaining: 3.14s\n",
      "591:\tlearn: 0.2459285\ttotal: 4.55s\tremaining: 3.13s\n",
      "592:\tlearn: 0.2457385\ttotal: 4.55s\tremaining: 3.12s\n",
      "593:\tlearn: 0.2454636\ttotal: 4.55s\tremaining: 3.11s\n",
      "594:\tlearn: 0.2450689\ttotal: 4.56s\tremaining: 3.1s\n",
      "595:\tlearn: 0.2449117\ttotal: 4.56s\tremaining: 3.09s\n",
      "596:\tlearn: 0.2445933\ttotal: 4.56s\tremaining: 3.08s\n",
      "597:\tlearn: 0.2444245\ttotal: 4.58s\tremaining: 3.08s\n",
      "598:\tlearn: 0.2442207\ttotal: 4.58s\tremaining: 3.06s\n",
      "599:\tlearn: 0.2439942\ttotal: 4.58s\tremaining: 3.06s\n",
      "600:\tlearn: 0.2437836\ttotal: 4.59s\tremaining: 3.04s\n",
      "601:\tlearn: 0.2434090\ttotal: 4.61s\tremaining: 3.04s\n",
      "602:\tlearn: 0.2432328\ttotal: 4.61s\tremaining: 3.04s\n",
      "603:\tlearn: 0.2430104\ttotal: 4.62s\tremaining: 3.03s\n",
      "604:\tlearn: 0.2428077\ttotal: 4.62s\tremaining: 3.02s\n",
      "605:\tlearn: 0.2426904\ttotal: 4.62s\tremaining: 3.01s\n",
      "606:\tlearn: 0.2424413\ttotal: 4.63s\tremaining: 3s\n",
      "607:\tlearn: 0.2422873\ttotal: 4.63s\tremaining: 2.99s\n",
      "608:\tlearn: 0.2420330\ttotal: 4.63s\tremaining: 2.98s\n",
      "609:\tlearn: 0.2418627\ttotal: 4.64s\tremaining: 2.97s\n",
      "610:\tlearn: 0.2417201\ttotal: 4.64s\tremaining: 2.96s\n",
      "611:\tlearn: 0.2414498\ttotal: 4.65s\tremaining: 2.95s\n",
      "612:\tlearn: 0.2410669\ttotal: 4.65s\tremaining: 2.94s\n",
      "613:\tlearn: 0.2410336\ttotal: 4.66s\tremaining: 2.93s\n",
      "614:\tlearn: 0.2407480\ttotal: 4.66s\tremaining: 2.92s\n",
      "615:\tlearn: 0.2404682\ttotal: 4.66s\tremaining: 2.91s\n",
      "616:\tlearn: 0.2402137\ttotal: 4.68s\tremaining: 2.9s\n",
      "617:\tlearn: 0.2399402\ttotal: 4.68s\tremaining: 2.89s\n",
      "618:\tlearn: 0.2396155\ttotal: 4.68s\tremaining: 2.88s\n",
      "619:\tlearn: 0.2394046\ttotal: 4.71s\tremaining: 2.88s\n",
      "620:\tlearn: 0.2391798\ttotal: 4.71s\tremaining: 2.88s\n",
      "621:\tlearn: 0.2390189\ttotal: 4.72s\tremaining: 2.87s\n",
      "622:\tlearn: 0.2387518\ttotal: 4.73s\tremaining: 2.86s\n",
      "623:\tlearn: 0.2385815\ttotal: 4.74s\tremaining: 2.85s\n",
      "624:\tlearn: 0.2383341\ttotal: 4.74s\tremaining: 2.85s\n",
      "625:\tlearn: 0.2382177\ttotal: 4.75s\tremaining: 2.84s\n",
      "626:\tlearn: 0.2380976\ttotal: 4.75s\tremaining: 2.83s\n",
      "627:\tlearn: 0.2379865\ttotal: 4.76s\tremaining: 2.82s\n",
      "628:\tlearn: 0.2378005\ttotal: 4.76s\tremaining: 2.81s\n",
      "629:\tlearn: 0.2375909\ttotal: 4.78s\tremaining: 2.81s\n",
      "630:\tlearn: 0.2374352\ttotal: 4.78s\tremaining: 2.8s\n",
      "631:\tlearn: 0.2372507\ttotal: 4.79s\tremaining: 2.79s\n",
      "632:\tlearn: 0.2370265\ttotal: 4.79s\tremaining: 2.78s\n",
      "633:\tlearn: 0.2367710\ttotal: 4.8s\tremaining: 2.77s\n",
      "634:\tlearn: 0.2365422\ttotal: 4.8s\tremaining: 2.76s\n",
      "635:\tlearn: 0.2363533\ttotal: 4.8s\tremaining: 2.75s\n",
      "636:\tlearn: 0.2362500\ttotal: 4.81s\tremaining: 2.74s\n",
      "637:\tlearn: 0.2360474\ttotal: 4.81s\tremaining: 2.73s\n",
      "638:\tlearn: 0.2359415\ttotal: 4.81s\tremaining: 2.72s\n",
      "639:\tlearn: 0.2358395\ttotal: 4.82s\tremaining: 2.71s\n",
      "640:\tlearn: 0.2358131\ttotal: 4.82s\tremaining: 2.7s\n",
      "641:\tlearn: 0.2356562\ttotal: 4.82s\tremaining: 2.69s\n",
      "642:\tlearn: 0.2354709\ttotal: 4.83s\tremaining: 2.68s\n",
      "643:\tlearn: 0.2351517\ttotal: 4.83s\tremaining: 2.67s\n",
      "644:\tlearn: 0.2349884\ttotal: 4.83s\tremaining: 2.66s\n",
      "645:\tlearn: 0.2347484\ttotal: 4.85s\tremaining: 2.66s\n",
      "646:\tlearn: 0.2345942\ttotal: 4.86s\tremaining: 2.65s\n",
      "647:\tlearn: 0.2343765\ttotal: 4.86s\tremaining: 2.64s\n",
      "648:\tlearn: 0.2339986\ttotal: 4.87s\tremaining: 2.63s\n",
      "649:\tlearn: 0.2338804\ttotal: 4.87s\tremaining: 2.62s\n",
      "650:\tlearn: 0.2337954\ttotal: 4.87s\tremaining: 2.61s\n",
      "651:\tlearn: 0.2335632\ttotal: 4.88s\tremaining: 2.6s\n",
      "652:\tlearn: 0.2333272\ttotal: 4.88s\tremaining: 2.59s\n",
      "653:\tlearn: 0.2331898\ttotal: 4.88s\tremaining: 2.58s\n",
      "654:\tlearn: 0.2328227\ttotal: 4.89s\tremaining: 2.58s\n",
      "655:\tlearn: 0.2325810\ttotal: 4.89s\tremaining: 2.56s\n",
      "656:\tlearn: 0.2324375\ttotal: 4.9s\tremaining: 2.56s\n",
      "657:\tlearn: 0.2322953\ttotal: 4.9s\tremaining: 2.55s\n",
      "658:\tlearn: 0.2321506\ttotal: 4.9s\tremaining: 2.54s\n",
      "659:\tlearn: 0.2319124\ttotal: 4.91s\tremaining: 2.53s\n",
      "660:\tlearn: 0.2316963\ttotal: 4.91s\tremaining: 2.52s\n",
      "661:\tlearn: 0.2314513\ttotal: 4.91s\tremaining: 2.51s\n",
      "662:\tlearn: 0.2313681\ttotal: 4.92s\tremaining: 2.5s\n",
      "663:\tlearn: 0.2311235\ttotal: 4.92s\tremaining: 2.49s\n",
      "664:\tlearn: 0.2309488\ttotal: 4.93s\tremaining: 2.48s\n",
      "665:\tlearn: 0.2308322\ttotal: 4.93s\tremaining: 2.47s\n",
      "666:\tlearn: 0.2307357\ttotal: 4.93s\tremaining: 2.46s\n",
      "667:\tlearn: 0.2303768\ttotal: 4.94s\tremaining: 2.45s\n",
      "668:\tlearn: 0.2302374\ttotal: 4.94s\tremaining: 2.44s\n",
      "669:\tlearn: 0.2300556\ttotal: 4.95s\tremaining: 2.44s\n",
      "670:\tlearn: 0.2298657\ttotal: 4.95s\tremaining: 2.43s\n",
      "671:\tlearn: 0.2295967\ttotal: 4.96s\tremaining: 2.42s\n",
      "672:\tlearn: 0.2294373\ttotal: 4.96s\tremaining: 2.41s\n",
      "673:\tlearn: 0.2293146\ttotal: 4.97s\tremaining: 2.4s\n",
      "674:\tlearn: 0.2292339\ttotal: 4.97s\tremaining: 2.39s\n",
      "675:\tlearn: 0.2291701\ttotal: 4.99s\tremaining: 2.39s\n"
     ]
    },
    {
     "name": "stdout",
     "output_type": "stream",
     "text": [
      "676:\tlearn: 0.2290486\ttotal: 5s\tremaining: 2.39s\n",
      "677:\tlearn: 0.2288954\ttotal: 5.02s\tremaining: 2.38s\n",
      "678:\tlearn: 0.2286340\ttotal: 5.04s\tremaining: 2.38s\n",
      "679:\tlearn: 0.2284340\ttotal: 5.05s\tremaining: 2.38s\n",
      "680:\tlearn: 0.2284021\ttotal: 5.05s\tremaining: 2.37s\n",
      "681:\tlearn: 0.2282875\ttotal: 5.06s\tremaining: 2.36s\n",
      "682:\tlearn: 0.2281405\ttotal: 5.06s\tremaining: 2.35s\n",
      "683:\tlearn: 0.2279710\ttotal: 5.07s\tremaining: 2.34s\n",
      "684:\tlearn: 0.2277757\ttotal: 5.07s\tremaining: 2.33s\n",
      "685:\tlearn: 0.2275646\ttotal: 5.07s\tremaining: 2.32s\n",
      "686:\tlearn: 0.2274130\ttotal: 5.08s\tremaining: 2.31s\n",
      "687:\tlearn: 0.2271539\ttotal: 5.08s\tremaining: 2.3s\n",
      "688:\tlearn: 0.2269393\ttotal: 5.08s\tremaining: 2.29s\n",
      "689:\tlearn: 0.2268409\ttotal: 5.09s\tremaining: 2.29s\n",
      "690:\tlearn: 0.2264958\ttotal: 5.11s\tremaining: 2.28s\n",
      "691:\tlearn: 0.2262064\ttotal: 5.12s\tremaining: 2.28s\n",
      "692:\tlearn: 0.2260272\ttotal: 5.14s\tremaining: 2.28s\n",
      "693:\tlearn: 0.2259179\ttotal: 5.15s\tremaining: 2.27s\n",
      "694:\tlearn: 0.2257607\ttotal: 5.17s\tremaining: 2.27s\n",
      "695:\tlearn: 0.2255024\ttotal: 5.18s\tremaining: 2.26s\n",
      "696:\tlearn: 0.2253624\ttotal: 5.19s\tremaining: 2.25s\n",
      "697:\tlearn: 0.2252217\ttotal: 5.2s\tremaining: 2.25s\n",
      "698:\tlearn: 0.2250530\ttotal: 5.2s\tremaining: 2.24s\n",
      "699:\tlearn: 0.2249520\ttotal: 5.21s\tremaining: 2.23s\n",
      "700:\tlearn: 0.2247043\ttotal: 5.21s\tremaining: 2.22s\n",
      "701:\tlearn: 0.2245408\ttotal: 5.21s\tremaining: 2.21s\n",
      "702:\tlearn: 0.2243898\ttotal: 5.22s\tremaining: 2.2s\n",
      "703:\tlearn: 0.2242350\ttotal: 5.22s\tremaining: 2.19s\n",
      "704:\tlearn: 0.2239825\ttotal: 5.22s\tremaining: 2.19s\n",
      "705:\tlearn: 0.2238258\ttotal: 5.23s\tremaining: 2.18s\n",
      "706:\tlearn: 0.2236639\ttotal: 5.23s\tremaining: 2.17s\n",
      "707:\tlearn: 0.2234677\ttotal: 5.24s\tremaining: 2.16s\n",
      "708:\tlearn: 0.2233858\ttotal: 5.24s\tremaining: 2.15s\n",
      "709:\tlearn: 0.2230460\ttotal: 5.25s\tremaining: 2.14s\n",
      "710:\tlearn: 0.2228914\ttotal: 5.26s\tremaining: 2.14s\n",
      "711:\tlearn: 0.2225849\ttotal: 5.27s\tremaining: 2.13s\n",
      "712:\tlearn: 0.2224094\ttotal: 5.27s\tremaining: 2.12s\n",
      "713:\tlearn: 0.2222110\ttotal: 5.28s\tremaining: 2.11s\n",
      "714:\tlearn: 0.2220963\ttotal: 5.28s\tremaining: 2.1s\n",
      "715:\tlearn: 0.2219993\ttotal: 5.29s\tremaining: 2.1s\n",
      "716:\tlearn: 0.2215882\ttotal: 5.29s\tremaining: 2.09s\n",
      "717:\tlearn: 0.2213785\ttotal: 5.29s\tremaining: 2.08s\n",
      "718:\tlearn: 0.2212113\ttotal: 5.3s\tremaining: 2.07s\n",
      "719:\tlearn: 0.2209892\ttotal: 5.31s\tremaining: 2.06s\n",
      "720:\tlearn: 0.2209676\ttotal: 5.33s\tremaining: 2.06s\n",
      "721:\tlearn: 0.2205129\ttotal: 5.33s\tremaining: 2.05s\n",
      "722:\tlearn: 0.2202871\ttotal: 5.34s\tremaining: 2.05s\n",
      "723:\tlearn: 0.2199621\ttotal: 5.36s\tremaining: 2.04s\n",
      "724:\tlearn: 0.2197972\ttotal: 5.36s\tremaining: 2.03s\n",
      "725:\tlearn: 0.2197107\ttotal: 5.36s\tremaining: 2.02s\n",
      "726:\tlearn: 0.2195938\ttotal: 5.37s\tremaining: 2.02s\n",
      "727:\tlearn: 0.2193174\ttotal: 5.37s\tremaining: 2.01s\n",
      "728:\tlearn: 0.2191570\ttotal: 5.37s\tremaining: 2s\n",
      "729:\tlearn: 0.2188178\ttotal: 5.38s\tremaining: 1.99s\n",
      "730:\tlearn: 0.2187899\ttotal: 5.51s\tremaining: 2.03s\n",
      "731:\tlearn: 0.2186019\ttotal: 5.53s\tremaining: 2.02s\n",
      "732:\tlearn: 0.2184366\ttotal: 5.54s\tremaining: 2.02s\n",
      "733:\tlearn: 0.2181573\ttotal: 5.55s\tremaining: 2.01s\n",
      "734:\tlearn: 0.2179352\ttotal: 5.57s\tremaining: 2.01s\n",
      "735:\tlearn: 0.2177189\ttotal: 5.58s\tremaining: 2s\n",
      "736:\tlearn: 0.2174667\ttotal: 5.58s\tremaining: 1.99s\n",
      "737:\tlearn: 0.2172494\ttotal: 5.59s\tremaining: 1.98s\n",
      "738:\tlearn: 0.2169305\ttotal: 5.59s\tremaining: 1.98s\n",
      "739:\tlearn: 0.2167291\ttotal: 5.6s\tremaining: 1.97s\n",
      "740:\tlearn: 0.2165273\ttotal: 5.6s\tremaining: 1.96s\n",
      "741:\tlearn: 0.2163693\ttotal: 5.61s\tremaining: 1.95s\n",
      "742:\tlearn: 0.2162132\ttotal: 5.63s\tremaining: 1.95s\n",
      "743:\tlearn: 0.2161296\ttotal: 5.64s\tremaining: 1.94s\n",
      "744:\tlearn: 0.2160261\ttotal: 5.65s\tremaining: 1.93s\n",
      "745:\tlearn: 0.2158941\ttotal: 5.66s\tremaining: 1.93s\n",
      "746:\tlearn: 0.2155779\ttotal: 5.66s\tremaining: 1.92s\n",
      "747:\tlearn: 0.2154514\ttotal: 5.66s\tremaining: 1.91s\n",
      "748:\tlearn: 0.2153181\ttotal: 5.67s\tremaining: 1.9s\n",
      "749:\tlearn: 0.2150799\ttotal: 5.69s\tremaining: 1.9s\n",
      "750:\tlearn: 0.2147942\ttotal: 5.7s\tremaining: 1.89s\n",
      "751:\tlearn: 0.2147140\ttotal: 5.71s\tremaining: 1.88s\n",
      "752:\tlearn: 0.2145423\ttotal: 5.72s\tremaining: 1.87s\n",
      "753:\tlearn: 0.2142745\ttotal: 5.72s\tremaining: 1.87s\n",
      "754:\tlearn: 0.2139977\ttotal: 5.72s\tremaining: 1.86s\n",
      "755:\tlearn: 0.2138145\ttotal: 5.73s\tremaining: 1.85s\n",
      "756:\tlearn: 0.2136473\ttotal: 5.73s\tremaining: 1.84s\n",
      "757:\tlearn: 0.2135394\ttotal: 5.74s\tremaining: 1.83s\n",
      "758:\tlearn: 0.2133982\ttotal: 5.74s\tremaining: 1.82s\n",
      "759:\tlearn: 0.2131915\ttotal: 5.74s\tremaining: 1.81s\n",
      "760:\tlearn: 0.2130912\ttotal: 5.75s\tremaining: 1.8s\n",
      "761:\tlearn: 0.2129834\ttotal: 5.75s\tremaining: 1.79s\n",
      "762:\tlearn: 0.2127711\ttotal: 5.75s\tremaining: 1.79s\n",
      "763:\tlearn: 0.2126057\ttotal: 5.76s\tremaining: 1.78s\n",
      "764:\tlearn: 0.2125027\ttotal: 5.79s\tremaining: 1.78s\n",
      "765:\tlearn: 0.2121240\ttotal: 5.81s\tremaining: 1.77s\n",
      "766:\tlearn: 0.2120195\ttotal: 5.82s\tremaining: 1.77s\n",
      "767:\tlearn: 0.2118031\ttotal: 5.82s\tremaining: 1.76s\n",
      "768:\tlearn: 0.2115763\ttotal: 5.83s\tremaining: 1.75s\n",
      "769:\tlearn: 0.2114020\ttotal: 5.83s\tremaining: 1.74s\n",
      "770:\tlearn: 0.2111551\ttotal: 5.85s\tremaining: 1.74s\n",
      "771:\tlearn: 0.2109913\ttotal: 5.86s\tremaining: 1.73s\n",
      "772:\tlearn: 0.2107881\ttotal: 5.86s\tremaining: 1.72s\n",
      "773:\tlearn: 0.2105994\ttotal: 5.87s\tremaining: 1.71s\n",
      "774:\tlearn: 0.2104853\ttotal: 5.87s\tremaining: 1.71s\n",
      "775:\tlearn: 0.2101425\ttotal: 5.89s\tremaining: 1.7s\n",
      "776:\tlearn: 0.2098609\ttotal: 5.89s\tremaining: 1.69s\n",
      "777:\tlearn: 0.2097249\ttotal: 5.9s\tremaining: 1.68s\n",
      "778:\tlearn: 0.2095931\ttotal: 5.91s\tremaining: 1.68s\n",
      "779:\tlearn: 0.2094123\ttotal: 5.91s\tremaining: 1.67s\n",
      "780:\tlearn: 0.2091490\ttotal: 5.92s\tremaining: 1.66s\n",
      "781:\tlearn: 0.2088980\ttotal: 5.92s\tremaining: 1.65s\n",
      "782:\tlearn: 0.2087256\ttotal: 5.93s\tremaining: 1.64s\n",
      "783:\tlearn: 0.2085184\ttotal: 5.93s\tremaining: 1.63s\n",
      "784:\tlearn: 0.2083111\ttotal: 5.93s\tremaining: 1.63s\n",
      "785:\tlearn: 0.2080433\ttotal: 5.94s\tremaining: 1.62s\n",
      "786:\tlearn: 0.2078534\ttotal: 5.94s\tremaining: 1.61s\n",
      "787:\tlearn: 0.2076765\ttotal: 5.95s\tremaining: 1.6s\n",
      "788:\tlearn: 0.2074268\ttotal: 5.95s\tremaining: 1.59s\n",
      "789:\tlearn: 0.2072907\ttotal: 5.96s\tremaining: 1.58s\n",
      "790:\tlearn: 0.2069862\ttotal: 5.96s\tremaining: 1.57s\n",
      "791:\tlearn: 0.2068255\ttotal: 5.96s\tremaining: 1.57s\n",
      "792:\tlearn: 0.2066515\ttotal: 5.97s\tremaining: 1.56s\n",
      "793:\tlearn: 0.2065229\ttotal: 5.97s\tremaining: 1.55s\n",
      "794:\tlearn: 0.2062489\ttotal: 5.97s\tremaining: 1.54s\n",
      "795:\tlearn: 0.2060377\ttotal: 5.98s\tremaining: 1.53s\n",
      "796:\tlearn: 0.2058179\ttotal: 5.98s\tremaining: 1.52s\n",
      "797:\tlearn: 0.2056775\ttotal: 5.99s\tremaining: 1.51s\n",
      "798:\tlearn: 0.2055228\ttotal: 5.99s\tremaining: 1.51s\n",
      "799:\tlearn: 0.2053480\ttotal: 5.99s\tremaining: 1.5s\n",
      "800:\tlearn: 0.2050056\ttotal: 6s\tremaining: 1.49s\n",
      "801:\tlearn: 0.2048304\ttotal: 6s\tremaining: 1.48s\n",
      "802:\tlearn: 0.2046352\ttotal: 6.01s\tremaining: 1.47s\n",
      "803:\tlearn: 0.2043945\ttotal: 6.01s\tremaining: 1.47s\n",
      "804:\tlearn: 0.2042611\ttotal: 6.01s\tremaining: 1.46s\n",
      "805:\tlearn: 0.2041713\ttotal: 6.02s\tremaining: 1.45s\n",
      "806:\tlearn: 0.2039390\ttotal: 6.02s\tremaining: 1.44s\n",
      "807:\tlearn: 0.2037201\ttotal: 6.03s\tremaining: 1.43s\n",
      "808:\tlearn: 0.2034720\ttotal: 6.03s\tremaining: 1.42s\n",
      "809:\tlearn: 0.2032983\ttotal: 6.04s\tremaining: 1.42s\n",
      "810:\tlearn: 0.2030439\ttotal: 6.04s\tremaining: 1.41s\n",
      "811:\tlearn: 0.2028176\ttotal: 6.04s\tremaining: 1.4s\n",
      "812:\tlearn: 0.2026145\ttotal: 6.05s\tremaining: 1.39s\n",
      "813:\tlearn: 0.2024487\ttotal: 6.05s\tremaining: 1.38s\n",
      "814:\tlearn: 0.2022775\ttotal: 6.06s\tremaining: 1.38s\n",
      "815:\tlearn: 0.2021117\ttotal: 6.06s\tremaining: 1.37s\n",
      "816:\tlearn: 0.2019707\ttotal: 6.07s\tremaining: 1.36s\n",
      "817:\tlearn: 0.2017349\ttotal: 6.07s\tremaining: 1.35s\n",
      "818:\tlearn: 0.2015845\ttotal: 6.08s\tremaining: 1.34s\n",
      "819:\tlearn: 0.2013703\ttotal: 6.08s\tremaining: 1.33s\n",
      "820:\tlearn: 0.2011748\ttotal: 6.08s\tremaining: 1.33s\n",
      "821:\tlearn: 0.2010268\ttotal: 6.09s\tremaining: 1.32s\n",
      "822:\tlearn: 0.2008510\ttotal: 6.09s\tremaining: 1.31s\n",
      "823:\tlearn: 0.2005754\ttotal: 6.1s\tremaining: 1.3s\n",
      "824:\tlearn: 0.2004173\ttotal: 6.1s\tremaining: 1.29s\n",
      "825:\tlearn: 0.2002814\ttotal: 6.1s\tremaining: 1.28s\n",
      "826:\tlearn: 0.1999804\ttotal: 6.11s\tremaining: 1.28s\n",
      "827:\tlearn: 0.1996751\ttotal: 6.11s\tremaining: 1.27s\n",
      "828:\tlearn: 0.1994796\ttotal: 6.12s\tremaining: 1.26s\n",
      "829:\tlearn: 0.1992272\ttotal: 6.12s\tremaining: 1.25s\n",
      "830:\tlearn: 0.1990571\ttotal: 6.12s\tremaining: 1.25s\n",
      "831:\tlearn: 0.1989669\ttotal: 6.13s\tremaining: 1.24s\n",
      "832:\tlearn: 0.1987593\ttotal: 6.13s\tremaining: 1.23s\n",
      "833:\tlearn: 0.1985617\ttotal: 6.14s\tremaining: 1.22s\n",
      "834:\tlearn: 0.1982950\ttotal: 6.16s\tremaining: 1.22s\n",
      "835:\tlearn: 0.1980151\ttotal: 6.17s\tremaining: 1.21s\n",
      "836:\tlearn: 0.1978337\ttotal: 6.18s\tremaining: 1.2s\n",
      "837:\tlearn: 0.1976776\ttotal: 6.2s\tremaining: 1.2s\n",
      "838:\tlearn: 0.1975220\ttotal: 6.22s\tremaining: 1.19s\n",
      "839:\tlearn: 0.1972717\ttotal: 6.23s\tremaining: 1.19s\n"
     ]
    },
    {
     "name": "stdout",
     "output_type": "stream",
     "text": [
      "840:\tlearn: 0.1970128\ttotal: 6.24s\tremaining: 1.18s\n",
      "841:\tlearn: 0.1968456\ttotal: 6.25s\tremaining: 1.17s\n",
      "842:\tlearn: 0.1967217\ttotal: 6.26s\tremaining: 1.17s\n",
      "843:\tlearn: 0.1964957\ttotal: 6.26s\tremaining: 1.16s\n",
      "844:\tlearn: 0.1961509\ttotal: 6.26s\tremaining: 1.15s\n",
      "845:\tlearn: 0.1959456\ttotal: 6.27s\tremaining: 1.14s\n",
      "846:\tlearn: 0.1957986\ttotal: 6.27s\tremaining: 1.13s\n",
      "847:\tlearn: 0.1955862\ttotal: 6.28s\tremaining: 1.13s\n",
      "848:\tlearn: 0.1953909\ttotal: 6.28s\tremaining: 1.12s\n",
      "849:\tlearn: 0.1951052\ttotal: 6.28s\tremaining: 1.11s\n",
      "850:\tlearn: 0.1948497\ttotal: 6.29s\tremaining: 1.1s\n",
      "851:\tlearn: 0.1947081\ttotal: 6.29s\tremaining: 1.09s\n",
      "852:\tlearn: 0.1945478\ttotal: 6.29s\tremaining: 1.08s\n",
      "853:\tlearn: 0.1942904\ttotal: 6.3s\tremaining: 1.08s\n",
      "854:\tlearn: 0.1940921\ttotal: 6.3s\tremaining: 1.07s\n",
      "855:\tlearn: 0.1939195\ttotal: 6.31s\tremaining: 1.06s\n",
      "856:\tlearn: 0.1937020\ttotal: 6.32s\tremaining: 1.05s\n",
      "857:\tlearn: 0.1934300\ttotal: 6.32s\tremaining: 1.05s\n",
      "858:\tlearn: 0.1932630\ttotal: 6.32s\tremaining: 1.04s\n",
      "859:\tlearn: 0.1931942\ttotal: 6.33s\tremaining: 1.03s\n",
      "860:\tlearn: 0.1931045\ttotal: 6.34s\tremaining: 1.02s\n",
      "861:\tlearn: 0.1929361\ttotal: 6.35s\tremaining: 1.02s\n",
      "862:\tlearn: 0.1927681\ttotal: 6.36s\tremaining: 1.01s\n",
      "863:\tlearn: 0.1925106\ttotal: 6.38s\tremaining: 1s\n",
      "864:\tlearn: 0.1922934\ttotal: 6.39s\tremaining: 998ms\n",
      "865:\tlearn: 0.1921068\ttotal: 6.4s\tremaining: 990ms\n",
      "866:\tlearn: 0.1919697\ttotal: 6.4s\tremaining: 982ms\n",
      "867:\tlearn: 0.1918288\ttotal: 6.41s\tremaining: 974ms\n",
      "868:\tlearn: 0.1915841\ttotal: 6.41s\tremaining: 967ms\n",
      "869:\tlearn: 0.1913886\ttotal: 6.42s\tremaining: 959ms\n",
      "870:\tlearn: 0.1912621\ttotal: 6.42s\tremaining: 951ms\n",
      "871:\tlearn: 0.1910590\ttotal: 6.42s\tremaining: 943ms\n",
      "872:\tlearn: 0.1907921\ttotal: 6.43s\tremaining: 935ms\n",
      "873:\tlearn: 0.1906180\ttotal: 6.43s\tremaining: 928ms\n",
      "874:\tlearn: 0.1904851\ttotal: 6.44s\tremaining: 920ms\n",
      "875:\tlearn: 0.1902254\ttotal: 6.44s\tremaining: 912ms\n",
      "876:\tlearn: 0.1899944\ttotal: 6.45s\tremaining: 904ms\n",
      "877:\tlearn: 0.1897230\ttotal: 6.45s\tremaining: 896ms\n",
      "878:\tlearn: 0.1895163\ttotal: 6.45s\tremaining: 888ms\n",
      "879:\tlearn: 0.1893106\ttotal: 6.47s\tremaining: 883ms\n",
      "880:\tlearn: 0.1890225\ttotal: 6.49s\tremaining: 877ms\n",
      "881:\tlearn: 0.1889220\ttotal: 6.49s\tremaining: 869ms\n",
      "882:\tlearn: 0.1886982\ttotal: 6.5s\tremaining: 861ms\n",
      "883:\tlearn: 0.1885549\ttotal: 6.5s\tremaining: 853ms\n",
      "884:\tlearn: 0.1884351\ttotal: 6.5s\tremaining: 845ms\n",
      "885:\tlearn: 0.1881954\ttotal: 6.52s\tremaining: 839ms\n",
      "886:\tlearn: 0.1879209\ttotal: 6.54s\tremaining: 833ms\n",
      "887:\tlearn: 0.1877444\ttotal: 6.55s\tremaining: 826ms\n",
      "888:\tlearn: 0.1874952\ttotal: 6.57s\tremaining: 820ms\n",
      "889:\tlearn: 0.1872246\ttotal: 6.58s\tremaining: 813ms\n",
      "890:\tlearn: 0.1870394\ttotal: 6.59s\tremaining: 806ms\n",
      "891:\tlearn: 0.1868135\ttotal: 6.6s\tremaining: 799ms\n",
      "892:\tlearn: 0.1867572\ttotal: 6.61s\tremaining: 792ms\n",
      "893:\tlearn: 0.1865358\ttotal: 6.62s\tremaining: 784ms\n",
      "894:\tlearn: 0.1863252\ttotal: 6.62s\tremaining: 777ms\n",
      "895:\tlearn: 0.1861307\ttotal: 6.62s\tremaining: 769ms\n",
      "896:\tlearn: 0.1859025\ttotal: 6.63s\tremaining: 761ms\n",
      "897:\tlearn: 0.1858495\ttotal: 6.63s\tremaining: 753ms\n",
      "898:\tlearn: 0.1855888\ttotal: 6.63s\tremaining: 745ms\n",
      "899:\tlearn: 0.1853117\ttotal: 6.64s\tremaining: 737ms\n",
      "900:\tlearn: 0.1852032\ttotal: 6.64s\tremaining: 730ms\n",
      "901:\tlearn: 0.1850433\ttotal: 6.65s\tremaining: 722ms\n",
      "902:\tlearn: 0.1848454\ttotal: 6.65s\tremaining: 714ms\n",
      "903:\tlearn: 0.1846494\ttotal: 6.65s\tremaining: 707ms\n",
      "904:\tlearn: 0.1845217\ttotal: 6.66s\tremaining: 699ms\n",
      "905:\tlearn: 0.1842557\ttotal: 6.68s\tremaining: 693ms\n",
      "906:\tlearn: 0.1840696\ttotal: 6.7s\tremaining: 687ms\n",
      "907:\tlearn: 0.1839186\ttotal: 6.71s\tremaining: 680ms\n",
      "908:\tlearn: 0.1837180\ttotal: 6.73s\tremaining: 673ms\n",
      "909:\tlearn: 0.1836201\ttotal: 6.74s\tremaining: 667ms\n",
      "910:\tlearn: 0.1833611\ttotal: 6.75s\tremaining: 660ms\n",
      "911:\tlearn: 0.1831894\ttotal: 6.76s\tremaining: 652ms\n",
      "912:\tlearn: 0.1829897\ttotal: 6.76s\tremaining: 645ms\n",
      "913:\tlearn: 0.1827968\ttotal: 6.77s\tremaining: 637ms\n",
      "914:\tlearn: 0.1825486\ttotal: 6.77s\tremaining: 629ms\n",
      "915:\tlearn: 0.1823588\ttotal: 6.78s\tremaining: 622ms\n",
      "916:\tlearn: 0.1822283\ttotal: 6.78s\tremaining: 614ms\n",
      "917:\tlearn: 0.1820219\ttotal: 6.78s\tremaining: 606ms\n",
      "918:\tlearn: 0.1818283\ttotal: 6.79s\tremaining: 598ms\n",
      "919:\tlearn: 0.1817440\ttotal: 6.79s\tremaining: 591ms\n",
      "920:\tlearn: 0.1816542\ttotal: 6.79s\tremaining: 583ms\n",
      "921:\tlearn: 0.1814627\ttotal: 6.8s\tremaining: 575ms\n",
      "922:\tlearn: 0.1812008\ttotal: 6.8s\tremaining: 567ms\n",
      "923:\tlearn: 0.1809512\ttotal: 6.81s\tremaining: 560ms\n",
      "924:\tlearn: 0.1806765\ttotal: 6.83s\tremaining: 554ms\n",
      "925:\tlearn: 0.1805102\ttotal: 6.84s\tremaining: 547ms\n",
      "926:\tlearn: 0.1803309\ttotal: 6.86s\tremaining: 540ms\n",
      "927:\tlearn: 0.1801560\ttotal: 6.87s\tremaining: 533ms\n",
      "928:\tlearn: 0.1799863\ttotal: 6.88s\tremaining: 526ms\n",
      "929:\tlearn: 0.1797036\ttotal: 6.88s\tremaining: 518ms\n",
      "930:\tlearn: 0.1795493\ttotal: 6.89s\tremaining: 511ms\n",
      "931:\tlearn: 0.1794098\ttotal: 6.89s\tremaining: 503ms\n",
      "932:\tlearn: 0.1791411\ttotal: 6.9s\tremaining: 495ms\n",
      "933:\tlearn: 0.1789138\ttotal: 6.9s\tremaining: 488ms\n",
      "934:\tlearn: 0.1787592\ttotal: 6.91s\tremaining: 480ms\n",
      "935:\tlearn: 0.1785762\ttotal: 6.93s\tremaining: 474ms\n",
      "936:\tlearn: 0.1783510\ttotal: 6.94s\tremaining: 467ms\n",
      "937:\tlearn: 0.1781457\ttotal: 6.95s\tremaining: 459ms\n",
      "938:\tlearn: 0.1780335\ttotal: 6.96s\tremaining: 452ms\n",
      "939:\tlearn: 0.1779669\ttotal: 6.96s\tremaining: 444ms\n",
      "940:\tlearn: 0.1776762\ttotal: 6.96s\tremaining: 437ms\n",
      "941:\tlearn: 0.1774815\ttotal: 6.97s\tremaining: 429ms\n",
      "942:\tlearn: 0.1772928\ttotal: 6.97s\tremaining: 421ms\n",
      "943:\tlearn: 0.1770839\ttotal: 6.97s\tremaining: 414ms\n",
      "944:\tlearn: 0.1768424\ttotal: 6.98s\tremaining: 406ms\n",
      "945:\tlearn: 0.1766862\ttotal: 6.98s\tremaining: 398ms\n",
      "946:\tlearn: 0.1764975\ttotal: 6.98s\tremaining: 391ms\n",
      "947:\tlearn: 0.1763480\ttotal: 6.99s\tremaining: 383ms\n",
      "948:\tlearn: 0.1761628\ttotal: 6.99s\tremaining: 376ms\n",
      "949:\tlearn: 0.1759342\ttotal: 6.99s\tremaining: 368ms\n",
      "950:\tlearn: 0.1757613\ttotal: 7.02s\tremaining: 362ms\n",
      "951:\tlearn: 0.1755788\ttotal: 7.03s\tremaining: 354ms\n",
      "952:\tlearn: 0.1754312\ttotal: 7.04s\tremaining: 347ms\n",
      "953:\tlearn: 0.1752570\ttotal: 7.04s\tremaining: 339ms\n",
      "954:\tlearn: 0.1750681\ttotal: 7.04s\tremaining: 332ms\n",
      "955:\tlearn: 0.1748722\ttotal: 7.05s\tremaining: 324ms\n",
      "956:\tlearn: 0.1746523\ttotal: 7.05s\tremaining: 317ms\n",
      "957:\tlearn: 0.1745065\ttotal: 7.08s\tremaining: 310ms\n",
      "958:\tlearn: 0.1742961\ttotal: 7.08s\tremaining: 303ms\n",
      "959:\tlearn: 0.1741896\ttotal: 7.1s\tremaining: 296ms\n",
      "960:\tlearn: 0.1739817\ttotal: 7.12s\tremaining: 289ms\n",
      "961:\tlearn: 0.1737254\ttotal: 7.13s\tremaining: 281ms\n",
      "962:\tlearn: 0.1736651\ttotal: 7.13s\tremaining: 274ms\n",
      "963:\tlearn: 0.1734447\ttotal: 7.14s\tremaining: 267ms\n",
      "964:\tlearn: 0.1733774\ttotal: 7.14s\tremaining: 259ms\n",
      "965:\tlearn: 0.1731653\ttotal: 7.14s\tremaining: 251ms\n",
      "966:\tlearn: 0.1729473\ttotal: 7.15s\tremaining: 244ms\n",
      "967:\tlearn: 0.1727046\ttotal: 7.15s\tremaining: 236ms\n",
      "968:\tlearn: 0.1725811\ttotal: 7.16s\tremaining: 229ms\n",
      "969:\tlearn: 0.1724143\ttotal: 7.16s\tremaining: 221ms\n",
      "970:\tlearn: 0.1723560\ttotal: 7.16s\tremaining: 214ms\n",
      "971:\tlearn: 0.1721644\ttotal: 7.17s\tremaining: 207ms\n",
      "972:\tlearn: 0.1720009\ttotal: 7.17s\tremaining: 199ms\n",
      "973:\tlearn: 0.1718976\ttotal: 7.18s\tremaining: 192ms\n",
      "974:\tlearn: 0.1717674\ttotal: 7.18s\tremaining: 184ms\n",
      "975:\tlearn: 0.1715625\ttotal: 7.18s\tremaining: 177ms\n",
      "976:\tlearn: 0.1714466\ttotal: 7.19s\tremaining: 169ms\n",
      "977:\tlearn: 0.1713362\ttotal: 7.19s\tremaining: 162ms\n",
      "978:\tlearn: 0.1712634\ttotal: 7.2s\tremaining: 154ms\n",
      "979:\tlearn: 0.1711864\ttotal: 7.21s\tremaining: 147ms\n",
      "980:\tlearn: 0.1710359\ttotal: 7.22s\tremaining: 140ms\n",
      "981:\tlearn: 0.1708437\ttotal: 7.22s\tremaining: 132ms\n",
      "982:\tlearn: 0.1706831\ttotal: 7.22s\tremaining: 125ms\n",
      "983:\tlearn: 0.1705508\ttotal: 7.23s\tremaining: 118ms\n",
      "984:\tlearn: 0.1703829\ttotal: 7.23s\tremaining: 110ms\n",
      "985:\tlearn: 0.1703022\ttotal: 7.25s\tremaining: 103ms\n",
      "986:\tlearn: 0.1702356\ttotal: 7.26s\tremaining: 95.6ms\n",
      "987:\tlearn: 0.1701664\ttotal: 7.28s\tremaining: 88.4ms\n",
      "988:\tlearn: 0.1699568\ttotal: 7.29s\tremaining: 81.1ms\n",
      "989:\tlearn: 0.1698721\ttotal: 7.3s\tremaining: 73.7ms\n",
      "990:\tlearn: 0.1697878\ttotal: 7.3s\tremaining: 66.3ms\n",
      "991:\tlearn: 0.1697058\ttotal: 7.31s\tremaining: 58.9ms\n",
      "992:\tlearn: 0.1696272\ttotal: 7.31s\tremaining: 51.5ms\n",
      "993:\tlearn: 0.1695265\ttotal: 7.33s\tremaining: 44.2ms\n",
      "994:\tlearn: 0.1694417\ttotal: 7.34s\tremaining: 36.9ms\n",
      "995:\tlearn: 0.1692486\ttotal: 7.34s\tremaining: 29.5ms\n",
      "996:\tlearn: 0.1691708\ttotal: 7.35s\tremaining: 22.1ms\n",
      "997:\tlearn: 0.1689287\ttotal: 7.35s\tremaining: 14.7ms\n",
      "998:\tlearn: 0.1687473\ttotal: 7.38s\tremaining: 7.38ms\n",
      "999:\tlearn: 0.1684984\ttotal: 7.39s\tremaining: 0us\n"
     ]
    },
    {
     "data": {
      "text/plain": [
       "<catboost.core.CatBoostClassifier at 0x1275bf02a30>"
      ]
     },
     "execution_count": 447,
     "metadata": {},
     "output_type": "execute_result"
    }
   ],
   "source": [
    "cat.fit(X_train_new, y_train)"
   ]
  },
  {
   "cell_type": "code",
   "execution_count": 448,
   "metadata": {},
   "outputs": [],
   "source": [
    "y_pred = cat.predict(X_test_new)"
   ]
  },
  {
   "cell_type": "markdown",
   "metadata": {},
   "source": [
    "#### Model Evaluation"
   ]
  },
  {
   "cell_type": "code",
   "execution_count": 449,
   "metadata": {},
   "outputs": [
    {
     "data": {
      "text/plain": [
       "0.8274760383386581"
      ]
     },
     "execution_count": 449,
     "metadata": {},
     "output_type": "execute_result"
    }
   ],
   "source": [
    "accuracy_score(y_test, y_pred)"
   ]
  },
  {
   "cell_type": "code",
   "execution_count": 450,
   "metadata": {},
   "outputs": [
    {
     "name": "stdout",
     "output_type": "stream",
     "text": [
      "              precision    recall  f1-score   support\n",
      "\n",
      "          No       0.85      0.79      0.82       156\n",
      "         Yes       0.80      0.87      0.83       157\n",
      "\n",
      "    accuracy                           0.83       313\n",
      "   macro avg       0.83      0.83      0.83       313\n",
      "weighted avg       0.83      0.83      0.83       313\n",
      "\n"
     ]
    }
   ],
   "source": [
    "print(classification_report(y_test, y_pred))"
   ]
  },
  {
   "cell_type": "code",
   "execution_count": 452,
   "metadata": {},
   "outputs": [
    {
     "data": {
      "text/plain": [
       "0.834355828220859"
      ]
     },
     "execution_count": 452,
     "metadata": {},
     "output_type": "execute_result"
    }
   ],
   "source": [
    "f1_score(y_test, y_pred, pos_label='Yes')"
   ]
  },
  {
   "cell_type": "markdown",
   "metadata": {},
   "source": [
    "## LGBM Classifier"
   ]
  },
  {
   "cell_type": "code",
   "execution_count": 453,
   "metadata": {},
   "outputs": [],
   "source": [
    "lgbm = LGBMClassifier()"
   ]
  },
  {
   "cell_type": "code",
   "execution_count": 454,
   "metadata": {},
   "outputs": [
    {
     "data": {
      "text/plain": [
       "LGBMClassifier()"
      ]
     },
     "execution_count": 454,
     "metadata": {},
     "output_type": "execute_result"
    }
   ],
   "source": [
    "lgbm.fit(X_train_new, y_train)"
   ]
  },
  {
   "cell_type": "code",
   "execution_count": 455,
   "metadata": {},
   "outputs": [],
   "source": [
    "y_pred = lgbm.predict(X_test_new)"
   ]
  },
  {
   "cell_type": "markdown",
   "metadata": {},
   "source": [
    "#### Model Evaluation"
   ]
  },
  {
   "cell_type": "code",
   "execution_count": 456,
   "metadata": {},
   "outputs": [
    {
     "data": {
      "text/plain": [
       "0.8178913738019169"
      ]
     },
     "execution_count": 456,
     "metadata": {},
     "output_type": "execute_result"
    }
   ],
   "source": [
    "accuracy_score(y_test, y_pred)"
   ]
  },
  {
   "cell_type": "code",
   "execution_count": 457,
   "metadata": {},
   "outputs": [
    {
     "name": "stdout",
     "output_type": "stream",
     "text": [
      "              precision    recall  f1-score   support\n",
      "\n",
      "          No       0.84      0.78      0.81       156\n",
      "         Yes       0.80      0.85      0.82       157\n",
      "\n",
      "    accuracy                           0.82       313\n",
      "   macro avg       0.82      0.82      0.82       313\n",
      "weighted avg       0.82      0.82      0.82       313\n",
      "\n"
     ]
    }
   ],
   "source": [
    "print(classification_report(y_test, y_pred))"
   ]
  },
  {
   "cell_type": "code",
   "execution_count": 459,
   "metadata": {},
   "outputs": [
    {
     "data": {
      "text/plain": [
       "0.8246153846153846"
      ]
     },
     "execution_count": 459,
     "metadata": {},
     "output_type": "execute_result"
    }
   ],
   "source": [
    "f1_score(y_test, y_pred, pos_label='Yes')"
   ]
  },
  {
   "cell_type": "markdown",
   "metadata": {},
   "source": [
    "## XGB Classifier with hyperparameters"
   ]
  },
  {
   "cell_type": "code",
   "execution_count": 460,
   "metadata": {},
   "outputs": [],
   "source": [
    "xgb_hp = XGBClassifier(learning_rate =0.1,\n",
    "                       n_estimators=494,\n",
    "                       max_depth=5,\n",
    "                       subsample = 0.70,\n",
    "                       verbosity = 0,\n",
    "                       scale_pos_weight = 2.5,\n",
    "                       updater =\"grow_histmaker\",\n",
    "                       base_score  = 0.2)"
   ]
  },
  {
   "cell_type": "code",
   "execution_count": 461,
   "metadata": {},
   "outputs": [
    {
     "data": {
      "text/plain": [
       "XGBClassifier(base_score=0.2, booster='gbtree', colsample_bylevel=1,\n",
       "              colsample_bynode=1, colsample_bytree=1, gamma=0, gpu_id=-1,\n",
       "              importance_type='gain', interaction_constraints='',\n",
       "              learning_rate=0.1, max_delta_step=0, max_depth=5,\n",
       "              min_child_weight=1, missing=nan, monotone_constraints='()',\n",
       "              n_estimators=494, n_jobs=4, num_parallel_tree=1, random_state=0,\n",
       "              reg_alpha=0, reg_lambda=1, scale_pos_weight=2.5, subsample=0.7,\n",
       "              tree_method='auto', updater='grow_histmaker',\n",
       "              validate_parameters=1, verbosity=0)"
      ]
     },
     "execution_count": 461,
     "metadata": {},
     "output_type": "execute_result"
    }
   ],
   "source": [
    "xgb_hp.fit(X_train_new, y_train)"
   ]
  },
  {
   "cell_type": "code",
   "execution_count": 462,
   "metadata": {},
   "outputs": [],
   "source": [
    "y_pred = xgb_hp.predict(X_test_new)"
   ]
  },
  {
   "cell_type": "markdown",
   "metadata": {},
   "source": [
    "#### Model Evaluation"
   ]
  },
  {
   "cell_type": "code",
   "execution_count": 463,
   "metadata": {},
   "outputs": [
    {
     "data": {
      "text/plain": [
       "0.8019169329073482"
      ]
     },
     "execution_count": 463,
     "metadata": {},
     "output_type": "execute_result"
    }
   ],
   "source": [
    "accuracy_score(y_test, y_pred)"
   ]
  },
  {
   "cell_type": "code",
   "execution_count": 464,
   "metadata": {},
   "outputs": [
    {
     "name": "stdout",
     "output_type": "stream",
     "text": [
      "              precision    recall  f1-score   support\n",
      "\n",
      "          No       0.83      0.76      0.79       156\n",
      "         Yes       0.78      0.84      0.81       157\n",
      "\n",
      "    accuracy                           0.80       313\n",
      "   macro avg       0.80      0.80      0.80       313\n",
      "weighted avg       0.80      0.80      0.80       313\n",
      "\n"
     ]
    }
   ],
   "source": [
    "print(classification_report(y_test, y_pred))"
   ]
  },
  {
   "cell_type": "markdown",
   "metadata": {},
   "source": [
    "## Cat Boost Classifier with hyperparameters"
   ]
  },
  {
   "cell_type": "code",
   "execution_count": 466,
   "metadata": {},
   "outputs": [],
   "source": [
    "cat_hp = CatBoostClassifier(learning_rate=0.15,\n",
    "                             n_estimators=494,\n",
    "                             subsample=0.085,\n",
    "                             max_depth=5,\n",
    "                             scale_pos_weight=2.5)"
   ]
  },
  {
   "cell_type": "code",
   "execution_count": 467,
   "metadata": {},
   "outputs": [
    {
     "name": "stdout",
     "output_type": "stream",
     "text": [
      "0:\tlearn: 0.6399814\ttotal: 3.99ms\tremaining: 1.97s\n",
      "1:\tlearn: 0.5996106\ttotal: 7.62ms\tremaining: 1.88s\n",
      "2:\tlearn: 0.5735770\ttotal: 10.9ms\tremaining: 1.79s\n",
      "3:\tlearn: 0.5072049\ttotal: 13.5ms\tremaining: 1.65s\n",
      "4:\tlearn: 0.4791199\ttotal: 16.4ms\tremaining: 1.61s\n",
      "5:\tlearn: 0.4652061\ttotal: 19.6ms\tremaining: 1.59s\n",
      "6:\tlearn: 0.4502005\ttotal: 22.1ms\tremaining: 1.54s\n",
      "7:\tlearn: 0.4404317\ttotal: 24.8ms\tremaining: 1.51s\n",
      "8:\tlearn: 0.4289634\ttotal: 28.1ms\tremaining: 1.51s\n",
      "9:\tlearn: 0.4194048\ttotal: 30.5ms\tremaining: 1.48s\n",
      "10:\tlearn: 0.4052204\ttotal: 44.4ms\tremaining: 1.95s\n",
      "11:\tlearn: 0.3980528\ttotal: 47.8ms\tremaining: 1.92s\n",
      "12:\tlearn: 0.3870081\ttotal: 50.4ms\tremaining: 1.86s\n",
      "13:\tlearn: 0.3778319\ttotal: 52.7ms\tremaining: 1.81s\n",
      "14:\tlearn: 0.3733792\ttotal: 54.9ms\tremaining: 1.75s\n",
      "15:\tlearn: 0.3713428\ttotal: 57.5ms\tremaining: 1.72s\n",
      "16:\tlearn: 0.3684541\ttotal: 59.8ms\tremaining: 1.68s\n",
      "17:\tlearn: 0.3660077\ttotal: 62.3ms\tremaining: 1.65s\n",
      "18:\tlearn: 0.3602491\ttotal: 64.6ms\tremaining: 1.61s\n",
      "19:\tlearn: 0.3550110\ttotal: 67.1ms\tremaining: 1.59s\n",
      "20:\tlearn: 0.3471820\ttotal: 69.6ms\tremaining: 1.57s\n",
      "21:\tlearn: 0.3447802\ttotal: 71.9ms\tremaining: 1.54s\n",
      "22:\tlearn: 0.3397542\ttotal: 74.4ms\tremaining: 1.52s\n",
      "23:\tlearn: 0.3378068\ttotal: 76.9ms\tremaining: 1.5s\n",
      "24:\tlearn: 0.3347089\ttotal: 79.2ms\tremaining: 1.49s\n",
      "25:\tlearn: 0.3318925\ttotal: 81.6ms\tremaining: 1.47s\n",
      "26:\tlearn: 0.3300846\ttotal: 84ms\tremaining: 1.45s\n",
      "27:\tlearn: 0.3284589\ttotal: 86.4ms\tremaining: 1.44s\n",
      "28:\tlearn: 0.3266323\ttotal: 88.7ms\tremaining: 1.42s\n",
      "29:\tlearn: 0.3212378\ttotal: 91.2ms\tremaining: 1.41s\n",
      "30:\tlearn: 0.3186161\ttotal: 93.5ms\tremaining: 1.4s\n",
      "31:\tlearn: 0.3111045\ttotal: 95.7ms\tremaining: 1.38s\n",
      "32:\tlearn: 0.3091623\ttotal: 98.1ms\tremaining: 1.37s\n",
      "33:\tlearn: 0.3041274\ttotal: 100ms\tremaining: 1.36s\n",
      "34:\tlearn: 0.3022713\ttotal: 103ms\tremaining: 1.35s\n",
      "35:\tlearn: 0.2997902\ttotal: 105ms\tremaining: 1.34s\n",
      "36:\tlearn: 0.2973386\ttotal: 108ms\tremaining: 1.33s\n",
      "37:\tlearn: 0.2958952\ttotal: 110ms\tremaining: 1.32s\n",
      "38:\tlearn: 0.2928273\ttotal: 112ms\tremaining: 1.31s\n",
      "39:\tlearn: 0.2897068\ttotal: 114ms\tremaining: 1.3s\n",
      "40:\tlearn: 0.2877260\ttotal: 117ms\tremaining: 1.29s\n",
      "41:\tlearn: 0.2853488\ttotal: 119ms\tremaining: 1.28s\n",
      "42:\tlearn: 0.2832792\ttotal: 122ms\tremaining: 1.27s\n",
      "43:\tlearn: 0.2809269\ttotal: 124ms\tremaining: 1.27s\n",
      "44:\tlearn: 0.2787722\ttotal: 126ms\tremaining: 1.26s\n",
      "45:\tlearn: 0.2759724\ttotal: 129ms\tremaining: 1.25s\n",
      "46:\tlearn: 0.2745900\ttotal: 131ms\tremaining: 1.24s\n",
      "47:\tlearn: 0.2726615\ttotal: 133ms\tremaining: 1.24s\n",
      "48:\tlearn: 0.2679545\ttotal: 135ms\tremaining: 1.23s\n",
      "49:\tlearn: 0.2659981\ttotal: 138ms\tremaining: 1.22s\n",
      "50:\tlearn: 0.2626086\ttotal: 140ms\tremaining: 1.22s\n",
      "51:\tlearn: 0.2593278\ttotal: 142ms\tremaining: 1.21s\n",
      "52:\tlearn: 0.2575359\ttotal: 145ms\tremaining: 1.2s\n",
      "53:\tlearn: 0.2561935\ttotal: 147ms\tremaining: 1.2s\n",
      "54:\tlearn: 0.2539990\ttotal: 149ms\tremaining: 1.19s\n",
      "55:\tlearn: 0.2524117\ttotal: 151ms\tremaining: 1.18s\n",
      "56:\tlearn: 0.2510989\ttotal: 154ms\tremaining: 1.18s\n",
      "57:\tlearn: 0.2487384\ttotal: 156ms\tremaining: 1.17s\n",
      "58:\tlearn: 0.2471578\ttotal: 158ms\tremaining: 1.17s\n",
      "59:\tlearn: 0.2424181\ttotal: 161ms\tremaining: 1.16s\n",
      "60:\tlearn: 0.2409252\ttotal: 163ms\tremaining: 1.16s\n",
      "61:\tlearn: 0.2385118\ttotal: 165ms\tremaining: 1.15s\n",
      "62:\tlearn: 0.2352164\ttotal: 167ms\tremaining: 1.15s\n",
      "63:\tlearn: 0.2327069\ttotal: 170ms\tremaining: 1.14s\n",
      "64:\tlearn: 0.2317909\ttotal: 172ms\tremaining: 1.14s\n",
      "65:\tlearn: 0.2306376\ttotal: 174ms\tremaining: 1.13s\n",
      "66:\tlearn: 0.2293780\ttotal: 177ms\tremaining: 1.13s\n",
      "67:\tlearn: 0.2269092\ttotal: 180ms\tremaining: 1.13s\n",
      "68:\tlearn: 0.2255050\ttotal: 182ms\tremaining: 1.12s\n",
      "69:\tlearn: 0.2227884\ttotal: 184ms\tremaining: 1.11s\n",
      "70:\tlearn: 0.2214662\ttotal: 187ms\tremaining: 1.11s\n",
      "71:\tlearn: 0.2203128\ttotal: 194ms\tremaining: 1.13s\n",
      "72:\tlearn: 0.2189157\ttotal: 196ms\tremaining: 1.13s\n",
      "73:\tlearn: 0.2175339\ttotal: 199ms\tremaining: 1.13s\n",
      "74:\tlearn: 0.2163780\ttotal: 201ms\tremaining: 1.12s\n",
      "75:\tlearn: 0.2150652\ttotal: 204ms\tremaining: 1.12s\n",
      "76:\tlearn: 0.2140810\ttotal: 206ms\tremaining: 1.12s\n",
      "77:\tlearn: 0.2132180\ttotal: 209ms\tremaining: 1.11s\n",
      "78:\tlearn: 0.2121027\ttotal: 212ms\tremaining: 1.11s\n",
      "79:\tlearn: 0.2109771\ttotal: 214ms\tremaining: 1.11s\n",
      "80:\tlearn: 0.2100642\ttotal: 216ms\tremaining: 1.1s\n",
      "81:\tlearn: 0.2087436\ttotal: 219ms\tremaining: 1.1s\n",
      "82:\tlearn: 0.2073536\ttotal: 221ms\tremaining: 1.09s\n",
      "83:\tlearn: 0.2067786\ttotal: 224ms\tremaining: 1.09s\n",
      "84:\tlearn: 0.2057079\ttotal: 227ms\tremaining: 1.09s\n",
      "85:\tlearn: 0.2044451\ttotal: 229ms\tremaining: 1.09s\n",
      "86:\tlearn: 0.2031193\ttotal: 232ms\tremaining: 1.08s\n",
      "87:\tlearn: 0.2024188\ttotal: 234ms\tremaining: 1.08s\n",
      "88:\tlearn: 0.1999882\ttotal: 236ms\tremaining: 1.07s\n",
      "89:\tlearn: 0.1988121\ttotal: 239ms\tremaining: 1.07s\n",
      "90:\tlearn: 0.1980363\ttotal: 241ms\tremaining: 1.07s\n",
      "91:\tlearn: 0.1968097\ttotal: 245ms\tremaining: 1.07s\n",
      "92:\tlearn: 0.1962009\ttotal: 249ms\tremaining: 1.07s\n",
      "93:\tlearn: 0.1951770\ttotal: 251ms\tremaining: 1.07s\n",
      "94:\tlearn: 0.1938189\ttotal: 253ms\tremaining: 1.06s\n",
      "95:\tlearn: 0.1925848\ttotal: 257ms\tremaining: 1.06s\n",
      "96:\tlearn: 0.1914380\ttotal: 259ms\tremaining: 1.06s\n",
      "97:\tlearn: 0.1905386\ttotal: 261ms\tremaining: 1.05s\n",
      "98:\tlearn: 0.1891857\ttotal: 264ms\tremaining: 1.05s\n",
      "99:\tlearn: 0.1881495\ttotal: 266ms\tremaining: 1.05s\n",
      "100:\tlearn: 0.1874295\ttotal: 268ms\tremaining: 1.04s\n",
      "101:\tlearn: 0.1857267\ttotal: 279ms\tremaining: 1.07s\n",
      "102:\tlearn: 0.1850270\ttotal: 282ms\tremaining: 1.07s\n",
      "103:\tlearn: 0.1836994\ttotal: 286ms\tremaining: 1.07s\n",
      "104:\tlearn: 0.1827172\ttotal: 289ms\tremaining: 1.07s\n",
      "105:\tlearn: 0.1817706\ttotal: 292ms\tremaining: 1.07s\n",
      "106:\tlearn: 0.1810366\ttotal: 295ms\tremaining: 1.07s\n",
      "107:\tlearn: 0.1799213\ttotal: 297ms\tremaining: 1.06s\n",
      "108:\tlearn: 0.1790343\ttotal: 300ms\tremaining: 1.06s\n",
      "109:\tlearn: 0.1779818\ttotal: 319ms\tremaining: 1.11s\n",
      "110:\tlearn: 0.1770580\ttotal: 324ms\tremaining: 1.12s\n",
      "111:\tlearn: 0.1767086\ttotal: 329ms\tremaining: 1.12s\n",
      "112:\tlearn: 0.1756854\ttotal: 335ms\tremaining: 1.13s\n",
      "113:\tlearn: 0.1752441\ttotal: 341ms\tremaining: 1.14s\n",
      "114:\tlearn: 0.1748244\ttotal: 346ms\tremaining: 1.14s\n",
      "115:\tlearn: 0.1731336\ttotal: 353ms\tremaining: 1.15s\n",
      "116:\tlearn: 0.1717100\ttotal: 359ms\tremaining: 1.16s\n",
      "117:\tlearn: 0.1710411\ttotal: 364ms\tremaining: 1.16s\n",
      "118:\tlearn: 0.1702000\ttotal: 367ms\tremaining: 1.16s\n",
      "119:\tlearn: 0.1688160\ttotal: 370ms\tremaining: 1.15s\n",
      "120:\tlearn: 0.1676128\ttotal: 373ms\tremaining: 1.15s\n",
      "121:\tlearn: 0.1661034\ttotal: 376ms\tremaining: 1.15s\n",
      "122:\tlearn: 0.1652003\ttotal: 378ms\tremaining: 1.14s\n",
      "123:\tlearn: 0.1636777\ttotal: 381ms\tremaining: 1.14s\n",
      "124:\tlearn: 0.1630729\ttotal: 383ms\tremaining: 1.13s\n",
      "125:\tlearn: 0.1621888\ttotal: 386ms\tremaining: 1.13s\n",
      "126:\tlearn: 0.1614503\ttotal: 388ms\tremaining: 1.12s\n",
      "127:\tlearn: 0.1599131\ttotal: 391ms\tremaining: 1.12s\n",
      "128:\tlearn: 0.1591927\ttotal: 393ms\tremaining: 1.11s\n",
      "129:\tlearn: 0.1577074\ttotal: 396ms\tremaining: 1.11s\n",
      "130:\tlearn: 0.1567637\ttotal: 398ms\tremaining: 1.1s\n",
      "131:\tlearn: 0.1559901\ttotal: 400ms\tremaining: 1.1s\n",
      "132:\tlearn: 0.1556191\ttotal: 403ms\tremaining: 1.09s\n",
      "133:\tlearn: 0.1548115\ttotal: 405ms\tremaining: 1.09s\n",
      "134:\tlearn: 0.1539381\ttotal: 408ms\tremaining: 1.08s\n",
      "135:\tlearn: 0.1534169\ttotal: 410ms\tremaining: 1.08s\n",
      "136:\tlearn: 0.1522903\ttotal: 413ms\tremaining: 1.07s\n",
      "137:\tlearn: 0.1509621\ttotal: 415ms\tremaining: 1.07s\n",
      "138:\tlearn: 0.1502808\ttotal: 417ms\tremaining: 1.07s\n",
      "139:\tlearn: 0.1494688\ttotal: 420ms\tremaining: 1.06s\n",
      "140:\tlearn: 0.1480280\ttotal: 423ms\tremaining: 1.06s\n",
      "141:\tlearn: 0.1471618\ttotal: 427ms\tremaining: 1.06s\n",
      "142:\tlearn: 0.1464490\ttotal: 430ms\tremaining: 1.05s\n",
      "143:\tlearn: 0.1457657\ttotal: 433ms\tremaining: 1.05s\n",
      "144:\tlearn: 0.1451528\ttotal: 436ms\tremaining: 1.05s\n",
      "145:\tlearn: 0.1445934\ttotal: 438ms\tremaining: 1.04s\n",
      "146:\tlearn: 0.1441503\ttotal: 441ms\tremaining: 1.04s\n",
      "147:\tlearn: 0.1431599\ttotal: 444ms\tremaining: 1.04s\n",
      "148:\tlearn: 0.1425965\ttotal: 446ms\tremaining: 1.03s\n",
      "149:\tlearn: 0.1415839\ttotal: 449ms\tremaining: 1.03s\n",
      "150:\tlearn: 0.1410119\ttotal: 451ms\tremaining: 1.02s\n",
      "151:\tlearn: 0.1405912\ttotal: 453ms\tremaining: 1.02s\n",
      "152:\tlearn: 0.1403869\ttotal: 456ms\tremaining: 1.01s\n",
      "153:\tlearn: 0.1396128\ttotal: 458ms\tremaining: 1.01s\n",
      "154:\tlearn: 0.1389232\ttotal: 461ms\tremaining: 1.01s\n",
      "155:\tlearn: 0.1384988\ttotal: 463ms\tremaining: 1s\n",
      "156:\tlearn: 0.1370665\ttotal: 466ms\tremaining: 999ms\n",
      "157:\tlearn: 0.1365651\ttotal: 468ms\tremaining: 996ms\n",
      "158:\tlearn: 0.1359784\ttotal: 470ms\tremaining: 991ms\n",
      "159:\tlearn: 0.1355956\ttotal: 473ms\tremaining: 987ms\n",
      "160:\tlearn: 0.1347952\ttotal: 475ms\tremaining: 983ms\n",
      "161:\tlearn: 0.1338061\ttotal: 478ms\tremaining: 979ms\n",
      "162:\tlearn: 0.1333090\ttotal: 480ms\tremaining: 975ms\n",
      "163:\tlearn: 0.1324231\ttotal: 483ms\tremaining: 972ms\n",
      "164:\tlearn: 0.1313868\ttotal: 485ms\tremaining: 968ms\n",
      "165:\tlearn: 0.1308934\ttotal: 488ms\tremaining: 964ms\n",
      "166:\tlearn: 0.1302873\ttotal: 491ms\tremaining: 961ms\n",
      "167:\tlearn: 0.1292189\ttotal: 493ms\tremaining: 957ms\n",
      "168:\tlearn: 0.1289549\ttotal: 496ms\tremaining: 953ms\n",
      "169:\tlearn: 0.1280489\ttotal: 499ms\tremaining: 950ms\n",
      "170:\tlearn: 0.1270768\ttotal: 501ms\tremaining: 946ms\n",
      "171:\tlearn: 0.1266662\ttotal: 503ms\tremaining: 942ms\n",
      "172:\tlearn: 0.1264489\ttotal: 505ms\tremaining: 938ms\n"
     ]
    },
    {
     "name": "stdout",
     "output_type": "stream",
     "text": [
      "173:\tlearn: 0.1259968\ttotal: 509ms\tremaining: 935ms\n",
      "174:\tlearn: 0.1255792\ttotal: 511ms\tremaining: 932ms\n",
      "175:\tlearn: 0.1245631\ttotal: 514ms\tremaining: 928ms\n",
      "176:\tlearn: 0.1239084\ttotal: 516ms\tremaining: 924ms\n",
      "177:\tlearn: 0.1233426\ttotal: 518ms\tremaining: 920ms\n",
      "178:\tlearn: 0.1224959\ttotal: 520ms\tremaining: 915ms\n",
      "179:\tlearn: 0.1222381\ttotal: 523ms\tremaining: 912ms\n",
      "180:\tlearn: 0.1218213\ttotal: 525ms\tremaining: 908ms\n",
      "181:\tlearn: 0.1209049\ttotal: 527ms\tremaining: 904ms\n",
      "182:\tlearn: 0.1203975\ttotal: 530ms\tremaining: 901ms\n",
      "183:\tlearn: 0.1200634\ttotal: 533ms\tremaining: 898ms\n",
      "184:\tlearn: 0.1195212\ttotal: 536ms\tremaining: 895ms\n",
      "185:\tlearn: 0.1181316\ttotal: 538ms\tremaining: 891ms\n",
      "186:\tlearn: 0.1173987\ttotal: 540ms\tremaining: 887ms\n",
      "187:\tlearn: 0.1158655\ttotal: 543ms\tremaining: 884ms\n",
      "188:\tlearn: 0.1155772\ttotal: 545ms\tremaining: 880ms\n",
      "189:\tlearn: 0.1147808\ttotal: 548ms\tremaining: 876ms\n",
      "190:\tlearn: 0.1146364\ttotal: 551ms\tremaining: 873ms\n",
      "191:\tlearn: 0.1141909\ttotal: 553ms\tremaining: 870ms\n",
      "192:\tlearn: 0.1139753\ttotal: 555ms\tremaining: 866ms\n",
      "193:\tlearn: 0.1131469\ttotal: 558ms\tremaining: 863ms\n",
      "194:\tlearn: 0.1125224\ttotal: 561ms\tremaining: 860ms\n",
      "195:\tlearn: 0.1116582\ttotal: 564ms\tremaining: 857ms\n",
      "196:\tlearn: 0.1107614\ttotal: 566ms\tremaining: 854ms\n",
      "197:\tlearn: 0.1104444\ttotal: 569ms\tremaining: 850ms\n",
      "198:\tlearn: 0.1100548\ttotal: 571ms\tremaining: 846ms\n",
      "199:\tlearn: 0.1091792\ttotal: 573ms\tremaining: 842ms\n",
      "200:\tlearn: 0.1083923\ttotal: 575ms\tremaining: 838ms\n",
      "201:\tlearn: 0.1080695\ttotal: 577ms\tremaining: 834ms\n",
      "202:\tlearn: 0.1074578\ttotal: 580ms\tremaining: 832ms\n",
      "203:\tlearn: 0.1069268\ttotal: 583ms\tremaining: 828ms\n",
      "204:\tlearn: 0.1066088\ttotal: 585ms\tremaining: 824ms\n",
      "205:\tlearn: 0.1059546\ttotal: 587ms\tremaining: 821ms\n",
      "206:\tlearn: 0.1053410\ttotal: 589ms\tremaining: 817ms\n",
      "207:\tlearn: 0.1050939\ttotal: 591ms\tremaining: 813ms\n",
      "208:\tlearn: 0.1044959\ttotal: 594ms\tremaining: 810ms\n",
      "209:\tlearn: 0.1040741\ttotal: 612ms\tremaining: 828ms\n",
      "210:\tlearn: 0.1032022\ttotal: 618ms\tremaining: 828ms\n",
      "211:\tlearn: 0.1025978\ttotal: 623ms\tremaining: 829ms\n",
      "212:\tlearn: 0.1021040\ttotal: 629ms\tremaining: 830ms\n",
      "213:\tlearn: 0.1013825\ttotal: 635ms\tremaining: 831ms\n",
      "214:\tlearn: 0.1010154\ttotal: 641ms\tremaining: 832ms\n",
      "215:\tlearn: 0.1004011\ttotal: 647ms\tremaining: 832ms\n",
      "216:\tlearn: 0.0999319\ttotal: 653ms\tremaining: 833ms\n",
      "217:\tlearn: 0.0994677\ttotal: 657ms\tremaining: 831ms\n",
      "218:\tlearn: 0.0989671\ttotal: 660ms\tremaining: 829ms\n",
      "219:\tlearn: 0.0982484\ttotal: 663ms\tremaining: 826ms\n",
      "220:\tlearn: 0.0979052\ttotal: 666ms\tremaining: 822ms\n",
      "221:\tlearn: 0.0970854\ttotal: 668ms\tremaining: 819ms\n",
      "222:\tlearn: 0.0968492\ttotal: 671ms\tremaining: 815ms\n",
      "223:\tlearn: 0.0959359\ttotal: 673ms\tremaining: 811ms\n",
      "224:\tlearn: 0.0954848\ttotal: 675ms\tremaining: 807ms\n",
      "225:\tlearn: 0.0952585\ttotal: 678ms\tremaining: 804ms\n",
      "226:\tlearn: 0.0949144\ttotal: 681ms\tremaining: 800ms\n",
      "227:\tlearn: 0.0945696\ttotal: 684ms\tremaining: 797ms\n",
      "228:\tlearn: 0.0943999\ttotal: 686ms\tremaining: 794ms\n",
      "229:\tlearn: 0.0939916\ttotal: 689ms\tremaining: 790ms\n",
      "230:\tlearn: 0.0935779\ttotal: 691ms\tremaining: 787ms\n",
      "231:\tlearn: 0.0930971\ttotal: 694ms\tremaining: 783ms\n",
      "232:\tlearn: 0.0923420\ttotal: 696ms\tremaining: 780ms\n",
      "233:\tlearn: 0.0917811\ttotal: 698ms\tremaining: 776ms\n",
      "234:\tlearn: 0.0913040\ttotal: 701ms\tremaining: 772ms\n",
      "235:\tlearn: 0.0909241\ttotal: 703ms\tremaining: 769ms\n",
      "236:\tlearn: 0.0904876\ttotal: 706ms\tremaining: 765ms\n",
      "237:\tlearn: 0.0899053\ttotal: 708ms\tremaining: 762ms\n",
      "238:\tlearn: 0.0892934\ttotal: 711ms\tremaining: 759ms\n",
      "239:\tlearn: 0.0887576\ttotal: 713ms\tremaining: 755ms\n",
      "240:\tlearn: 0.0881499\ttotal: 716ms\tremaining: 752ms\n",
      "241:\tlearn: 0.0875398\ttotal: 719ms\tremaining: 748ms\n",
      "242:\tlearn: 0.0868386\ttotal: 722ms\tremaining: 746ms\n",
      "243:\tlearn: 0.0866240\ttotal: 726ms\tremaining: 744ms\n",
      "244:\tlearn: 0.0860897\ttotal: 729ms\tremaining: 741ms\n",
      "245:\tlearn: 0.0855484\ttotal: 732ms\tremaining: 738ms\n",
      "246:\tlearn: 0.0849119\ttotal: 734ms\tremaining: 734ms\n",
      "247:\tlearn: 0.0846531\ttotal: 737ms\tremaining: 731ms\n",
      "248:\tlearn: 0.0840432\ttotal: 740ms\tremaining: 728ms\n",
      "249:\tlearn: 0.0836994\ttotal: 744ms\tremaining: 726ms\n",
      "250:\tlearn: 0.0834114\ttotal: 746ms\tremaining: 722ms\n",
      "251:\tlearn: 0.0831586\ttotal: 749ms\tremaining: 719ms\n",
      "252:\tlearn: 0.0826203\ttotal: 752ms\tremaining: 716ms\n",
      "253:\tlearn: 0.0822942\ttotal: 759ms\tremaining: 717ms\n",
      "254:\tlearn: 0.0821284\ttotal: 766ms\tremaining: 718ms\n",
      "255:\tlearn: 0.0817343\ttotal: 773ms\tremaining: 718ms\n",
      "256:\tlearn: 0.0813539\ttotal: 781ms\tremaining: 720ms\n",
      "257:\tlearn: 0.0809224\ttotal: 789ms\tremaining: 721ms\n",
      "258:\tlearn: 0.0806536\ttotal: 793ms\tremaining: 720ms\n",
      "259:\tlearn: 0.0800462\ttotal: 797ms\tremaining: 717ms\n",
      "260:\tlearn: 0.0796834\ttotal: 800ms\tremaining: 714ms\n",
      "261:\tlearn: 0.0793944\ttotal: 802ms\tremaining: 711ms\n",
      "262:\tlearn: 0.0791278\ttotal: 805ms\tremaining: 707ms\n",
      "263:\tlearn: 0.0789596\ttotal: 808ms\tremaining: 704ms\n",
      "264:\tlearn: 0.0786830\ttotal: 811ms\tremaining: 700ms\n",
      "265:\tlearn: 0.0783690\ttotal: 813ms\tremaining: 697ms\n",
      "266:\tlearn: 0.0781646\ttotal: 815ms\tremaining: 693ms\n",
      "267:\tlearn: 0.0773493\ttotal: 818ms\tremaining: 690ms\n",
      "268:\tlearn: 0.0769359\ttotal: 820ms\tremaining: 686ms\n",
      "269:\tlearn: 0.0764911\ttotal: 824ms\tremaining: 683ms\n",
      "270:\tlearn: 0.0762621\ttotal: 828ms\tremaining: 681ms\n",
      "271:\tlearn: 0.0761083\ttotal: 831ms\tremaining: 679ms\n",
      "272:\tlearn: 0.0756034\ttotal: 838ms\tremaining: 678ms\n",
      "273:\tlearn: 0.0751642\ttotal: 840ms\tremaining: 674ms\n",
      "274:\tlearn: 0.0747586\ttotal: 842ms\tremaining: 671ms\n",
      "275:\tlearn: 0.0745868\ttotal: 844ms\tremaining: 667ms\n",
      "276:\tlearn: 0.0743984\ttotal: 847ms\tremaining: 663ms\n",
      "277:\tlearn: 0.0739750\ttotal: 849ms\tremaining: 659ms\n",
      "278:\tlearn: 0.0737282\ttotal: 851ms\tremaining: 656ms\n",
      "279:\tlearn: 0.0733404\ttotal: 853ms\tremaining: 652ms\n",
      "280:\tlearn: 0.0730874\ttotal: 856ms\tremaining: 649ms\n",
      "281:\tlearn: 0.0728651\ttotal: 858ms\tremaining: 645ms\n",
      "282:\tlearn: 0.0723931\ttotal: 860ms\tremaining: 641ms\n",
      "283:\tlearn: 0.0720675\ttotal: 862ms\tremaining: 638ms\n",
      "284:\tlearn: 0.0719180\ttotal: 865ms\tremaining: 634ms\n",
      "285:\tlearn: 0.0716094\ttotal: 867ms\tremaining: 630ms\n",
      "286:\tlearn: 0.0714250\ttotal: 869ms\tremaining: 627ms\n",
      "287:\tlearn: 0.0710075\ttotal: 871ms\tremaining: 623ms\n",
      "288:\tlearn: 0.0705789\ttotal: 873ms\tremaining: 619ms\n",
      "289:\tlearn: 0.0704423\ttotal: 875ms\tremaining: 616ms\n",
      "290:\tlearn: 0.0701723\ttotal: 878ms\tremaining: 612ms\n",
      "291:\tlearn: 0.0698206\ttotal: 880ms\tremaining: 609ms\n",
      "292:\tlearn: 0.0695698\ttotal: 895ms\tremaining: 614ms\n",
      "293:\tlearn: 0.0691327\ttotal: 901ms\tremaining: 613ms\n",
      "294:\tlearn: 0.0688794\ttotal: 906ms\tremaining: 611ms\n",
      "295:\tlearn: 0.0686693\ttotal: 912ms\tremaining: 610ms\n",
      "296:\tlearn: 0.0682347\ttotal: 918ms\tremaining: 609ms\n",
      "297:\tlearn: 0.0679647\ttotal: 924ms\tremaining: 607ms\n",
      "298:\tlearn: 0.0678322\ttotal: 928ms\tremaining: 605ms\n",
      "299:\tlearn: 0.0673223\ttotal: 931ms\tremaining: 602ms\n",
      "300:\tlearn: 0.0671321\ttotal: 935ms\tremaining: 599ms\n",
      "301:\tlearn: 0.0668747\ttotal: 938ms\tremaining: 596ms\n",
      "302:\tlearn: 0.0663935\ttotal: 941ms\tremaining: 593ms\n",
      "303:\tlearn: 0.0661986\ttotal: 943ms\tremaining: 590ms\n",
      "304:\tlearn: 0.0659529\ttotal: 946ms\tremaining: 586ms\n",
      "305:\tlearn: 0.0658709\ttotal: 948ms\tremaining: 583ms\n",
      "306:\tlearn: 0.0654501\ttotal: 951ms\tremaining: 579ms\n",
      "307:\tlearn: 0.0650384\ttotal: 954ms\tremaining: 576ms\n",
      "308:\tlearn: 0.0648385\ttotal: 956ms\tremaining: 573ms\n",
      "309:\tlearn: 0.0646302\ttotal: 959ms\tremaining: 569ms\n",
      "310:\tlearn: 0.0641909\ttotal: 961ms\tremaining: 566ms\n",
      "311:\tlearn: 0.0639758\ttotal: 964ms\tremaining: 562ms\n",
      "312:\tlearn: 0.0638095\ttotal: 966ms\tremaining: 559ms\n",
      "313:\tlearn: 0.0634423\ttotal: 968ms\tremaining: 555ms\n",
      "314:\tlearn: 0.0631327\ttotal: 971ms\tremaining: 552ms\n",
      "315:\tlearn: 0.0627234\ttotal: 974ms\tremaining: 549ms\n",
      "316:\tlearn: 0.0624851\ttotal: 977ms\tremaining: 546ms\n",
      "317:\tlearn: 0.0622266\ttotal: 980ms\tremaining: 542ms\n",
      "318:\tlearn: 0.0618658\ttotal: 982ms\tremaining: 539ms\n",
      "319:\tlearn: 0.0616870\ttotal: 984ms\tremaining: 535ms\n",
      "320:\tlearn: 0.0613093\ttotal: 987ms\tremaining: 532ms\n",
      "321:\tlearn: 0.0610360\ttotal: 989ms\tremaining: 528ms\n",
      "322:\tlearn: 0.0609252\ttotal: 991ms\tremaining: 525ms\n",
      "323:\tlearn: 0.0605599\ttotal: 994ms\tremaining: 521ms\n",
      "324:\tlearn: 0.0603082\ttotal: 996ms\tremaining: 518ms\n",
      "325:\tlearn: 0.0602459\ttotal: 998ms\tremaining: 514ms\n",
      "326:\tlearn: 0.0600670\ttotal: 1s\tremaining: 511ms\n",
      "327:\tlearn: 0.0596194\ttotal: 1s\tremaining: 508ms\n",
      "328:\tlearn: 0.0593634\ttotal: 1s\tremaining: 504ms\n",
      "329:\tlearn: 0.0591094\ttotal: 1.01s\tremaining: 501ms\n",
      "330:\tlearn: 0.0589808\ttotal: 1.01s\tremaining: 497ms\n",
      "331:\tlearn: 0.0587897\ttotal: 1.01s\tremaining: 494ms\n",
      "332:\tlearn: 0.0585052\ttotal: 1.01s\tremaining: 490ms\n",
      "333:\tlearn: 0.0583973\ttotal: 1.02s\tremaining: 487ms\n",
      "334:\tlearn: 0.0580757\ttotal: 1.02s\tremaining: 483ms\n",
      "335:\tlearn: 0.0577905\ttotal: 1.02s\tremaining: 480ms\n",
      "336:\tlearn: 0.0576519\ttotal: 1.02s\tremaining: 477ms\n",
      "337:\tlearn: 0.0575110\ttotal: 1.03s\tremaining: 474ms\n",
      "338:\tlearn: 0.0573383\ttotal: 1.03s\tremaining: 471ms\n",
      "339:\tlearn: 0.0572039\ttotal: 1.03s\tremaining: 467ms\n",
      "340:\tlearn: 0.0571486\ttotal: 1.03s\tremaining: 464ms\n",
      "341:\tlearn: 0.0566452\ttotal: 1.04s\tremaining: 461ms\n",
      "342:\tlearn: 0.0564471\ttotal: 1.04s\tremaining: 457ms\n",
      "343:\tlearn: 0.0563131\ttotal: 1.04s\tremaining: 454ms\n",
      "344:\tlearn: 0.0560020\ttotal: 1.04s\tremaining: 451ms\n",
      "345:\tlearn: 0.0558886\ttotal: 1.04s\tremaining: 447ms\n",
      "346:\tlearn: 0.0556948\ttotal: 1.05s\tremaining: 444ms\n",
      "347:\tlearn: 0.0555156\ttotal: 1.05s\tremaining: 441ms\n",
      "348:\tlearn: 0.0554038\ttotal: 1.05s\tremaining: 437ms\n",
      "349:\tlearn: 0.0551423\ttotal: 1.05s\tremaining: 434ms\n",
      "350:\tlearn: 0.0550354\ttotal: 1.06s\tremaining: 431ms\n",
      "351:\tlearn: 0.0549331\ttotal: 1.06s\tremaining: 427ms\n",
      "352:\tlearn: 0.0545930\ttotal: 1.06s\tremaining: 424ms\n",
      "353:\tlearn: 0.0543287\ttotal: 1.06s\tremaining: 421ms\n",
      "354:\tlearn: 0.0540303\ttotal: 1.07s\tremaining: 417ms\n",
      "355:\tlearn: 0.0536832\ttotal: 1.07s\tremaining: 414ms\n",
      "356:\tlearn: 0.0536072\ttotal: 1.07s\tremaining: 411ms\n",
      "357:\tlearn: 0.0533382\ttotal: 1.07s\tremaining: 408ms\n",
      "358:\tlearn: 0.0529765\ttotal: 1.07s\tremaining: 404ms\n",
      "359:\tlearn: 0.0528577\ttotal: 1.08s\tremaining: 401ms\n",
      "360:\tlearn: 0.0527224\ttotal: 1.08s\tremaining: 398ms\n",
      "361:\tlearn: 0.0526880\ttotal: 1.08s\tremaining: 394ms\n",
      "362:\tlearn: 0.0525309\ttotal: 1.08s\tremaining: 391ms\n",
      "363:\tlearn: 0.0522846\ttotal: 1.09s\tremaining: 388ms\n",
      "364:\tlearn: 0.0518888\ttotal: 1.09s\tremaining: 385ms\n",
      "365:\tlearn: 0.0516278\ttotal: 1.09s\tremaining: 381ms\n",
      "366:\tlearn: 0.0515646\ttotal: 1.09s\tremaining: 378ms\n"
     ]
    },
    {
     "name": "stdout",
     "output_type": "stream",
     "text": [
      "367:\tlearn: 0.0513423\ttotal: 1.1s\tremaining: 375ms\n",
      "368:\tlearn: 0.0509068\ttotal: 1.1s\tremaining: 372ms\n",
      "369:\tlearn: 0.0507591\ttotal: 1.1s\tremaining: 369ms\n",
      "370:\tlearn: 0.0502952\ttotal: 1.1s\tremaining: 366ms\n",
      "371:\tlearn: 0.0500830\ttotal: 1.11s\tremaining: 363ms\n",
      "372:\tlearn: 0.0499711\ttotal: 1.11s\tremaining: 360ms\n",
      "373:\tlearn: 0.0498426\ttotal: 1.11s\tremaining: 357ms\n",
      "374:\tlearn: 0.0497803\ttotal: 1.11s\tremaining: 354ms\n",
      "375:\tlearn: 0.0495990\ttotal: 1.12s\tremaining: 350ms\n",
      "376:\tlearn: 0.0494549\ttotal: 1.12s\tremaining: 347ms\n",
      "377:\tlearn: 0.0491757\ttotal: 1.12s\tremaining: 344ms\n",
      "378:\tlearn: 0.0490717\ttotal: 1.12s\tremaining: 341ms\n",
      "379:\tlearn: 0.0489072\ttotal: 1.13s\tremaining: 338ms\n",
      "380:\tlearn: 0.0486932\ttotal: 1.13s\tremaining: 335ms\n",
      "381:\tlearn: 0.0486004\ttotal: 1.13s\tremaining: 332ms\n",
      "382:\tlearn: 0.0483544\ttotal: 1.13s\tremaining: 329ms\n",
      "383:\tlearn: 0.0481711\ttotal: 1.14s\tremaining: 326ms\n",
      "384:\tlearn: 0.0480660\ttotal: 1.14s\tremaining: 323ms\n",
      "385:\tlearn: 0.0479291\ttotal: 1.14s\tremaining: 320ms\n",
      "386:\tlearn: 0.0478149\ttotal: 1.15s\tremaining: 317ms\n",
      "387:\tlearn: 0.0477038\ttotal: 1.15s\tremaining: 314ms\n",
      "388:\tlearn: 0.0473569\ttotal: 1.15s\tremaining: 311ms\n",
      "389:\tlearn: 0.0471856\ttotal: 1.15s\tremaining: 308ms\n",
      "390:\tlearn: 0.0470216\ttotal: 1.16s\tremaining: 304ms\n",
      "391:\tlearn: 0.0468299\ttotal: 1.16s\tremaining: 301ms\n",
      "392:\tlearn: 0.0466297\ttotal: 1.16s\tremaining: 298ms\n",
      "393:\tlearn: 0.0463291\ttotal: 1.16s\tremaining: 295ms\n",
      "394:\tlearn: 0.0461216\ttotal: 1.17s\tremaining: 292ms\n",
      "395:\tlearn: 0.0459255\ttotal: 1.17s\tremaining: 289ms\n",
      "396:\tlearn: 0.0456322\ttotal: 1.17s\tremaining: 286ms\n",
      "397:\tlearn: 0.0454419\ttotal: 1.17s\tremaining: 283ms\n",
      "398:\tlearn: 0.0454124\ttotal: 1.17s\tremaining: 280ms\n",
      "399:\tlearn: 0.0452647\ttotal: 1.18s\tremaining: 277ms\n",
      "400:\tlearn: 0.0451794\ttotal: 1.18s\tremaining: 273ms\n",
      "401:\tlearn: 0.0450721\ttotal: 1.18s\tremaining: 270ms\n",
      "402:\tlearn: 0.0448538\ttotal: 1.18s\tremaining: 267ms\n",
      "403:\tlearn: 0.0446682\ttotal: 1.19s\tremaining: 264ms\n",
      "404:\tlearn: 0.0444202\ttotal: 1.19s\tremaining: 261ms\n",
      "405:\tlearn: 0.0440816\ttotal: 1.19s\tremaining: 258ms\n",
      "406:\tlearn: 0.0437722\ttotal: 1.19s\tremaining: 255ms\n",
      "407:\tlearn: 0.0436013\ttotal: 1.19s\tremaining: 252ms\n",
      "408:\tlearn: 0.0434684\ttotal: 1.2s\tremaining: 249ms\n",
      "409:\tlearn: 0.0432034\ttotal: 1.2s\tremaining: 246ms\n",
      "410:\tlearn: 0.0429563\ttotal: 1.2s\tremaining: 243ms\n",
      "411:\tlearn: 0.0428951\ttotal: 1.2s\tremaining: 240ms\n",
      "412:\tlearn: 0.0426030\ttotal: 1.21s\tremaining: 237ms\n",
      "413:\tlearn: 0.0425201\ttotal: 1.21s\tremaining: 234ms\n",
      "414:\tlearn: 0.0423085\ttotal: 1.21s\tremaining: 230ms\n",
      "415:\tlearn: 0.0422371\ttotal: 1.21s\tremaining: 227ms\n",
      "416:\tlearn: 0.0420737\ttotal: 1.22s\tremaining: 224ms\n",
      "417:\tlearn: 0.0419480\ttotal: 1.22s\tremaining: 221ms\n",
      "418:\tlearn: 0.0418280\ttotal: 1.22s\tremaining: 218ms\n",
      "419:\tlearn: 0.0417837\ttotal: 1.22s\tremaining: 215ms\n",
      "420:\tlearn: 0.0416224\ttotal: 1.22s\tremaining: 212ms\n",
      "421:\tlearn: 0.0415220\ttotal: 1.23s\tremaining: 209ms\n",
      "422:\tlearn: 0.0414514\ttotal: 1.23s\tremaining: 206ms\n",
      "423:\tlearn: 0.0413757\ttotal: 1.23s\tremaining: 203ms\n",
      "424:\tlearn: 0.0411909\ttotal: 1.23s\tremaining: 200ms\n",
      "425:\tlearn: 0.0410789\ttotal: 1.24s\tremaining: 197ms\n",
      "426:\tlearn: 0.0409543\ttotal: 1.24s\tremaining: 194ms\n",
      "427:\tlearn: 0.0407644\ttotal: 1.25s\tremaining: 193ms\n",
      "428:\tlearn: 0.0406048\ttotal: 1.26s\tremaining: 191ms\n",
      "429:\tlearn: 0.0402942\ttotal: 1.26s\tremaining: 188ms\n",
      "430:\tlearn: 0.0401309\ttotal: 1.27s\tremaining: 186ms\n",
      "431:\tlearn: 0.0401005\ttotal: 1.27s\tremaining: 183ms\n",
      "432:\tlearn: 0.0399645\ttotal: 1.28s\tremaining: 180ms\n",
      "433:\tlearn: 0.0397997\ttotal: 1.28s\tremaining: 177ms\n",
      "434:\tlearn: 0.0396573\ttotal: 1.28s\tremaining: 174ms\n",
      "435:\tlearn: 0.0396109\ttotal: 1.29s\tremaining: 171ms\n",
      "436:\tlearn: 0.0394226\ttotal: 1.29s\tremaining: 168ms\n",
      "437:\tlearn: 0.0392747\ttotal: 1.29s\tremaining: 165ms\n",
      "438:\tlearn: 0.0390788\ttotal: 1.29s\tremaining: 162ms\n",
      "439:\tlearn: 0.0389029\ttotal: 1.3s\tremaining: 159ms\n",
      "440:\tlearn: 0.0387613\ttotal: 1.3s\tremaining: 156ms\n",
      "441:\tlearn: 0.0386476\ttotal: 1.3s\tremaining: 153ms\n",
      "442:\tlearn: 0.0384249\ttotal: 1.3s\tremaining: 150ms\n",
      "443:\tlearn: 0.0383159\ttotal: 1.3s\tremaining: 147ms\n",
      "444:\tlearn: 0.0382515\ttotal: 1.31s\tremaining: 144ms\n",
      "445:\tlearn: 0.0381735\ttotal: 1.31s\tremaining: 141ms\n",
      "446:\tlearn: 0.0377326\ttotal: 1.31s\tremaining: 138ms\n",
      "447:\tlearn: 0.0375151\ttotal: 1.31s\tremaining: 135ms\n",
      "448:\tlearn: 0.0373715\ttotal: 1.32s\tremaining: 132ms\n",
      "449:\tlearn: 0.0372260\ttotal: 1.32s\tremaining: 129ms\n",
      "450:\tlearn: 0.0371843\ttotal: 1.32s\tremaining: 126ms\n",
      "451:\tlearn: 0.0370018\ttotal: 1.32s\tremaining: 123ms\n",
      "452:\tlearn: 0.0367632\ttotal: 1.36s\tremaining: 123ms\n",
      "453:\tlearn: 0.0367115\ttotal: 1.37s\tremaining: 121ms\n",
      "454:\tlearn: 0.0366467\ttotal: 1.37s\tremaining: 118ms\n",
      "455:\tlearn: 0.0364779\ttotal: 1.38s\tremaining: 115ms\n",
      "456:\tlearn: 0.0363602\ttotal: 1.39s\tremaining: 112ms\n",
      "457:\tlearn: 0.0362765\ttotal: 1.39s\tremaining: 109ms\n",
      "458:\tlearn: 0.0361435\ttotal: 1.4s\tremaining: 107ms\n",
      "459:\tlearn: 0.0360487\ttotal: 1.4s\tremaining: 104ms\n",
      "460:\tlearn: 0.0359949\ttotal: 1.41s\tremaining: 101ms\n",
      "461:\tlearn: 0.0358639\ttotal: 1.41s\tremaining: 97.9ms\n",
      "462:\tlearn: 0.0357323\ttotal: 1.42s\tremaining: 94.9ms\n",
      "463:\tlearn: 0.0355693\ttotal: 1.42s\tremaining: 91.9ms\n",
      "464:\tlearn: 0.0352526\ttotal: 1.42s\tremaining: 88.8ms\n",
      "465:\tlearn: 0.0352156\ttotal: 1.43s\tremaining: 85.7ms\n",
      "466:\tlearn: 0.0351415\ttotal: 1.43s\tremaining: 82.6ms\n",
      "467:\tlearn: 0.0350909\ttotal: 1.43s\tremaining: 79.6ms\n",
      "468:\tlearn: 0.0350588\ttotal: 1.44s\tremaining: 76.5ms\n",
      "469:\tlearn: 0.0349717\ttotal: 1.44s\tremaining: 73.4ms\n",
      "470:\tlearn: 0.0348181\ttotal: 1.44s\tremaining: 70.3ms\n",
      "471:\tlearn: 0.0346953\ttotal: 1.44s\tremaining: 67.2ms\n",
      "472:\tlearn: 0.0346025\ttotal: 1.45s\tremaining: 64.2ms\n",
      "473:\tlearn: 0.0344552\ttotal: 1.45s\tremaining: 61.1ms\n",
      "474:\tlearn: 0.0343042\ttotal: 1.45s\tremaining: 58ms\n",
      "475:\tlearn: 0.0342161\ttotal: 1.45s\tremaining: 54.9ms\n",
      "476:\tlearn: 0.0340826\ttotal: 1.46s\tremaining: 51.9ms\n",
      "477:\tlearn: 0.0340355\ttotal: 1.46s\tremaining: 48.8ms\n",
      "478:\tlearn: 0.0339173\ttotal: 1.46s\tremaining: 45.8ms\n",
      "479:\tlearn: 0.0338033\ttotal: 1.46s\tremaining: 42.7ms\n",
      "480:\tlearn: 0.0336660\ttotal: 1.47s\tremaining: 39.6ms\n",
      "481:\tlearn: 0.0335640\ttotal: 1.47s\tremaining: 36.6ms\n",
      "482:\tlearn: 0.0333902\ttotal: 1.47s\tremaining: 33.5ms\n",
      "483:\tlearn: 0.0333451\ttotal: 1.47s\tremaining: 30.5ms\n",
      "484:\tlearn: 0.0332429\ttotal: 1.49s\tremaining: 27.6ms\n",
      "485:\tlearn: 0.0331609\ttotal: 1.49s\tremaining: 24.5ms\n",
      "486:\tlearn: 0.0329940\ttotal: 1.49s\tremaining: 21.5ms\n",
      "487:\tlearn: 0.0328574\ttotal: 1.5s\tremaining: 18.4ms\n",
      "488:\tlearn: 0.0326645\ttotal: 1.5s\tremaining: 15.3ms\n",
      "489:\tlearn: 0.0325021\ttotal: 1.5s\tremaining: 12.3ms\n",
      "490:\tlearn: 0.0323823\ttotal: 1.5s\tremaining: 9.2ms\n",
      "491:\tlearn: 0.0322772\ttotal: 1.51s\tremaining: 6.13ms\n",
      "492:\tlearn: 0.0321561\ttotal: 1.51s\tremaining: 3.06ms\n",
      "493:\tlearn: 0.0320884\ttotal: 1.51s\tremaining: 0us\n"
     ]
    },
    {
     "data": {
      "text/plain": [
       "<catboost.core.CatBoostClassifier at 0x12759de6a90>"
      ]
     },
     "execution_count": 467,
     "metadata": {},
     "output_type": "execute_result"
    }
   ],
   "source": [
    "cat_hp.fit(X_train_new, y_train)"
   ]
  },
  {
   "cell_type": "code",
   "execution_count": 468,
   "metadata": {},
   "outputs": [],
   "source": [
    "y_pred = cat_hp.predict(X_test_new)"
   ]
  },
  {
   "cell_type": "markdown",
   "metadata": {},
   "source": [
    "#### Model Evaluation"
   ]
  },
  {
   "cell_type": "code",
   "execution_count": 469,
   "metadata": {},
   "outputs": [
    {
     "data": {
      "text/plain": [
       "0.8338658146964856"
      ]
     },
     "execution_count": 469,
     "metadata": {},
     "output_type": "execute_result"
    }
   ],
   "source": [
    "accuracy_score(y_test, y_pred)"
   ]
  },
  {
   "cell_type": "code",
   "execution_count": 470,
   "metadata": {},
   "outputs": [
    {
     "name": "stdout",
     "output_type": "stream",
     "text": [
      "              precision    recall  f1-score   support\n",
      "\n",
      "          No       0.87      0.79      0.83       156\n",
      "         Yes       0.81      0.88      0.84       157\n",
      "\n",
      "    accuracy                           0.83       313\n",
      "   macro avg       0.84      0.83      0.83       313\n",
      "weighted avg       0.84      0.83      0.83       313\n",
      "\n"
     ]
    }
   ],
   "source": [
    "print(classification_report(y_test, y_pred))"
   ]
  },
  {
   "cell_type": "code",
   "execution_count": 472,
   "metadata": {
    "scrolled": true
   },
   "outputs": [
    {
     "data": {
      "text/plain": [
       "0.8414634146341463"
      ]
     },
     "execution_count": 472,
     "metadata": {},
     "output_type": "execute_result"
    }
   ],
   "source": [
    "f1_score(y_test, y_pred, pos_label='Yes')"
   ]
  },
  {
   "cell_type": "markdown",
   "metadata": {},
   "source": [
    "## LGBM Classifier with hyperparameters"
   ]
  },
  {
   "cell_type": "code",
   "execution_count": 473,
   "metadata": {},
   "outputs": [],
   "source": [
    "lgbm_hp = LGBMClassifier(subsample_freq = 2,\n",
    "                         objective =\"binary\",\n",
    "                         importance_type = \"gain\",\n",
    "                         verbosity = -1,\n",
    "                         max_bin = 60,\n",
    "                         num_leaves = 300,\n",
    "                         boosting_type = 'dart',\n",
    "                         learning_rate=0.15,\n",
    "                         n_estimators=494,\n",
    "                         max_depth=5,\n",
    "                         scale_pos_weight=2.5)"
   ]
  },
  {
   "cell_type": "code",
   "execution_count": 474,
   "metadata": {},
   "outputs": [
    {
     "data": {
      "text/plain": [
       "LGBMClassifier(boosting_type='dart', importance_type='gain', learning_rate=0.15,\n",
       "               max_bin=60, max_depth=5, n_estimators=494, num_leaves=300,\n",
       "               objective='binary', scale_pos_weight=2.5, subsample_freq=2,\n",
       "               verbosity=-1)"
      ]
     },
     "execution_count": 474,
     "metadata": {},
     "output_type": "execute_result"
    }
   ],
   "source": [
    "lgbm_hp.fit(X_train_new, y_train)"
   ]
  },
  {
   "cell_type": "code",
   "execution_count": 475,
   "metadata": {},
   "outputs": [],
   "source": [
    "y_pred = lgbm_hp.predict(X_test_new)"
   ]
  },
  {
   "cell_type": "markdown",
   "metadata": {},
   "source": [
    "#### Model Evaluation"
   ]
  },
  {
   "cell_type": "code",
   "execution_count": 476,
   "metadata": {},
   "outputs": [
    {
     "data": {
      "text/plain": [
       "0.8115015974440895"
      ]
     },
     "execution_count": 476,
     "metadata": {},
     "output_type": "execute_result"
    }
   ],
   "source": [
    "accuracy_score(y_test, y_pred)"
   ]
  },
  {
   "cell_type": "code",
   "execution_count": 477,
   "metadata": {},
   "outputs": [
    {
     "name": "stdout",
     "output_type": "stream",
     "text": [
      "              precision    recall  f1-score   support\n",
      "\n",
      "          No       0.84      0.76      0.80       156\n",
      "         Yes       0.78      0.86      0.82       157\n",
      "\n",
      "    accuracy                           0.81       313\n",
      "   macro avg       0.81      0.81      0.81       313\n",
      "weighted avg       0.81      0.81      0.81       313\n",
      "\n"
     ]
    }
   ],
   "source": [
    "print(classification_report(y_test, y_pred))"
   ]
  },
  {
   "cell_type": "code",
   "execution_count": 478,
   "metadata": {},
   "outputs": [
    {
     "data": {
      "text/plain": [
       "0.8206686930091184"
      ]
     },
     "execution_count": 478,
     "metadata": {},
     "output_type": "execute_result"
    }
   ],
   "source": [
    "f1_score(y_test, y_pred, pos_label='Yes')"
   ]
  },
  {
   "cell_type": "code",
   "execution_count": 479,
   "metadata": {},
   "outputs": [],
   "source": [
    "# Lets try one neural network"
   ]
  },
  {
   "cell_type": "markdown",
   "metadata": {},
   "source": [
    "## Neural Network"
   ]
  },
  {
   "cell_type": "code",
   "execution_count": 480,
   "metadata": {},
   "outputs": [],
   "source": [
    "#Dependencies\n",
    "from tensorflow.keras.models import Sequential\n",
    "from tensorflow.keras.layers import Dense"
   ]
  },
  {
   "cell_type": "code",
   "execution_count": 482,
   "metadata": {},
   "outputs": [
    {
     "data": {
      "text/plain": [
       "(730, 35)"
      ]
     },
     "execution_count": 482,
     "metadata": {},
     "output_type": "execute_result"
    }
   ],
   "source": [
    "X_train_new.shape"
   ]
  },
  {
   "cell_type": "code",
   "execution_count": 486,
   "metadata": {},
   "outputs": [],
   "source": [
    "y_train_new = y_train.replace({'Yes':1, 'No':0})"
   ]
  },
  {
   "cell_type": "code",
   "execution_count": 489,
   "metadata": {},
   "outputs": [],
   "source": [
    "y_test_new = y_test.replace({'Yes':1, 'No':0})"
   ]
  },
  {
   "cell_type": "code",
   "execution_count": 520,
   "metadata": {},
   "outputs": [],
   "source": [
    "# Neural network\n",
    "model = Sequential()\n",
    "model.add(Dense(16, input_dim=35, activation='relu'))\n",
    "model.add(Dense(12, activation='relu'))\n",
    "model.add(Dense(1, activation='sigmoid'))"
   ]
  },
  {
   "cell_type": "code",
   "execution_count": 521,
   "metadata": {},
   "outputs": [],
   "source": [
    "model.compile(loss='binary_crossentropy', optimizer='adam', metrics=['accuracy'])"
   ]
  },
  {
   "cell_type": "code",
   "execution_count": 522,
   "metadata": {},
   "outputs": [
    {
     "name": "stdout",
     "output_type": "stream",
     "text": [
      "Epoch 1/100\n",
      "12/12 [==============================] - 1s 2ms/step - loss: 0.6939 - accuracy: 0.5297\n",
      "Epoch 2/100\n",
      "12/12 [==============================] - 0s 2ms/step - loss: 0.6882 - accuracy: 0.5450\n",
      "Epoch 3/100\n",
      "12/12 [==============================] - 0s 2ms/step - loss: 0.6747 - accuracy: 0.6104\n",
      "Epoch 4/100\n",
      "12/12 [==============================] - 0s 2ms/step - loss: 0.6649 - accuracy: 0.6150\n",
      "Epoch 5/100\n",
      "12/12 [==============================] - 0s 2ms/step - loss: 0.6545 - accuracy: 0.6699\n",
      "Epoch 6/100\n",
      "12/12 [==============================] - 0s 1ms/step - loss: 0.6381 - accuracy: 0.6825\n",
      "Epoch 7/100\n",
      "12/12 [==============================] - 0s 2ms/step - loss: 0.6313 - accuracy: 0.7012\n",
      "Epoch 8/100\n",
      "12/12 [==============================] - 0s 1ms/step - loss: 0.6211 - accuracy: 0.7019\n",
      "Epoch 9/100\n",
      "12/12 [==============================] - 0s 2ms/step - loss: 0.5938 - accuracy: 0.7398\n",
      "Epoch 10/100\n",
      "12/12 [==============================] - 0s 1ms/step - loss: 0.5836 - accuracy: 0.7299\n",
      "Epoch 11/100\n",
      "12/12 [==============================] - 0s 1ms/step - loss: 0.5673 - accuracy: 0.7400\n",
      "Epoch 12/100\n",
      "12/12 [==============================] - 0s 2ms/step - loss: 0.5239 - accuracy: 0.7720\n",
      "Epoch 13/100\n",
      "12/12 [==============================] - 0s 1ms/step - loss: 0.5273 - accuracy: 0.7660\n",
      "Epoch 14/100\n",
      "12/12 [==============================] - 0s 2ms/step - loss: 0.5283 - accuracy: 0.7465\n",
      "Epoch 15/100\n",
      "12/12 [==============================] - 0s 2ms/step - loss: 0.4958 - accuracy: 0.7740\n",
      "Epoch 16/100\n",
      "12/12 [==============================] - 0s 1ms/step - loss: 0.5064 - accuracy: 0.7679\n",
      "Epoch 17/100\n",
      "12/12 [==============================] - 0s 2ms/step - loss: 0.4553 - accuracy: 0.8152\n",
      "Epoch 18/100\n",
      "12/12 [==============================] - 0s 1ms/step - loss: 0.4445 - accuracy: 0.8113\n",
      "Epoch 19/100\n",
      "12/12 [==============================] - 0s 1ms/step - loss: 0.4441 - accuracy: 0.8113\n",
      "Epoch 20/100\n",
      "12/12 [==============================] - 0s 2ms/step - loss: 0.4355 - accuracy: 0.8119\n",
      "Epoch 21/100\n",
      "12/12 [==============================] - 0s 2ms/step - loss: 0.4440 - accuracy: 0.8055\n",
      "Epoch 22/100\n",
      "12/12 [==============================] - 0s 2ms/step - loss: 0.4154 - accuracy: 0.8347\n",
      "Epoch 23/100\n",
      "12/12 [==============================] - 0s 2ms/step - loss: 0.4137 - accuracy: 0.8308\n",
      "Epoch 24/100\n",
      "12/12 [==============================] - 0s 2ms/step - loss: 0.4130 - accuracy: 0.8264\n",
      "Epoch 25/100\n",
      "12/12 [==============================] - 0s 1ms/step - loss: 0.3978 - accuracy: 0.8449\n",
      "Epoch 26/100\n",
      "12/12 [==============================] - 0s 1ms/step - loss: 0.3924 - accuracy: 0.8522\n",
      "Epoch 27/100\n",
      "12/12 [==============================] - 0s 2ms/step - loss: 0.3821 - accuracy: 0.8433\n",
      "Epoch 28/100\n",
      "12/12 [==============================] - 0s 2ms/step - loss: 0.3853 - accuracy: 0.8362\n",
      "Epoch 29/100\n",
      "12/12 [==============================] - 0s 2ms/step - loss: 0.3981 - accuracy: 0.8406\n",
      "Epoch 30/100\n",
      "12/12 [==============================] - 0s 2ms/step - loss: 0.3921 - accuracy: 0.8447\n",
      "Epoch 31/100\n",
      "12/12 [==============================] - 0s 2ms/step - loss: 0.4015 - accuracy: 0.8370\n",
      "Epoch 32/100\n",
      "12/12 [==============================] - 0s 2ms/step - loss: 0.3604 - accuracy: 0.8469\n",
      "Epoch 33/100\n",
      "12/12 [==============================] - 0s 1ms/step - loss: 0.3603 - accuracy: 0.8568\n",
      "Epoch 34/100\n",
      "12/12 [==============================] - 0s 2ms/step - loss: 0.3865 - accuracy: 0.8335\n",
      "Epoch 35/100\n",
      "12/12 [==============================] - 0s 2ms/step - loss: 0.3599 - accuracy: 0.8545\n",
      "Epoch 36/100\n",
      "12/12 [==============================] - 0s 2ms/step - loss: 0.3653 - accuracy: 0.8622\n",
      "Epoch 37/100\n",
      "12/12 [==============================] - 0s 1ms/step - loss: 0.3377 - accuracy: 0.8532\n",
      "Epoch 38/100\n",
      "12/12 [==============================] - 0s 1ms/step - loss: 0.3267 - accuracy: 0.8707\n",
      "Epoch 39/100\n",
      "12/12 [==============================] - 0s 2ms/step - loss: 0.3562 - accuracy: 0.8620\n",
      "Epoch 40/100\n",
      "12/12 [==============================] - 0s 2ms/step - loss: 0.3279 - accuracy: 0.8705\n",
      "Epoch 41/100\n",
      "12/12 [==============================] - 0s 2ms/step - loss: 0.3460 - accuracy: 0.8558\n",
      "Epoch 42/100\n",
      "12/12 [==============================] - 0s 1ms/step - loss: 0.3355 - accuracy: 0.8738\n",
      "Epoch 43/100\n",
      "12/12 [==============================] - 0s 1ms/step - loss: 0.3536 - accuracy: 0.8603\n",
      "Epoch 44/100\n",
      "12/12 [==============================] - 0s 2ms/step - loss: 0.3411 - accuracy: 0.8640\n",
      "Epoch 45/100\n",
      "12/12 [==============================] - 0s 2ms/step - loss: 0.3554 - accuracy: 0.8491\n",
      "Epoch 46/100\n",
      "12/12 [==============================] - 0s 1ms/step - loss: 0.3262 - accuracy: 0.8815\n",
      "Epoch 47/100\n",
      "12/12 [==============================] - 0s 1ms/step - loss: 0.3229 - accuracy: 0.8831\n",
      "Epoch 48/100\n",
      "12/12 [==============================] - 0s 2ms/step - loss: 0.3372 - accuracy: 0.8673\n",
      "Epoch 49/100\n",
      "12/12 [==============================] - 0s 1ms/step - loss: 0.3208 - accuracy: 0.8835\n",
      "Epoch 50/100\n",
      "12/12 [==============================] - 0s 2ms/step - loss: 0.2943 - accuracy: 0.8894\n",
      "Epoch 51/100\n",
      "12/12 [==============================] - 0s 2ms/step - loss: 0.3344 - accuracy: 0.8604\n",
      "Epoch 52/100\n",
      "12/12 [==============================] - 0s 2ms/step - loss: 0.3179 - accuracy: 0.8752\n",
      "Epoch 53/100\n",
      "12/12 [==============================] - 0s 2ms/step - loss: 0.3015 - accuracy: 0.8926\n",
      "Epoch 54/100\n",
      "12/12 [==============================] - 0s 2ms/step - loss: 0.3168 - accuracy: 0.8739\n",
      "Epoch 55/100\n",
      "12/12 [==============================] - 0s 2ms/step - loss: 0.3092 - accuracy: 0.8723\n",
      "Epoch 56/100\n",
      "12/12 [==============================] - 0s 2ms/step - loss: 0.3048 - accuracy: 0.8805\n",
      "Epoch 57/100\n",
      "12/12 [==============================] - 0s 1ms/step - loss: 0.2992 - accuracy: 0.8695\n",
      "Epoch 58/100\n",
      "12/12 [==============================] - 0s 1ms/step - loss: 0.2988 - accuracy: 0.8841\n",
      "Epoch 59/100\n",
      "12/12 [==============================] - 0s 2ms/step - loss: 0.2946 - accuracy: 0.8850\n",
      "Epoch 60/100\n",
      "12/12 [==============================] - 0s 1ms/step - loss: 0.2902 - accuracy: 0.8799\n",
      "Epoch 61/100\n",
      "12/12 [==============================] - 0s 2ms/step - loss: 0.2826 - accuracy: 0.8817\n",
      "Epoch 62/100\n",
      "12/12 [==============================] - 0s 2ms/step - loss: 0.2926 - accuracy: 0.8744\n",
      "Epoch 63/100\n",
      "12/12 [==============================] - 0s 1ms/step - loss: 0.2655 - accuracy: 0.9078\n",
      "Epoch 64/100\n",
      "12/12 [==============================] - 0s 1ms/step - loss: 0.2914 - accuracy: 0.8719\n",
      "Epoch 65/100\n",
      "12/12 [==============================] - 0s 1ms/step - loss: 0.2723 - accuracy: 0.8906\n",
      "Epoch 66/100\n",
      "12/12 [==============================] - 0s 1ms/step - loss: 0.3000 - accuracy: 0.8704\n",
      "Epoch 67/100\n",
      "12/12 [==============================] - 0s 2ms/step - loss: 0.2929 - accuracy: 0.8750\n",
      "Epoch 68/100\n",
      "12/12 [==============================] - 0s 1ms/step - loss: 0.3076 - accuracy: 0.8749\n",
      "Epoch 69/100\n",
      "12/12 [==============================] - 0s 1ms/step - loss: 0.2842 - accuracy: 0.8740\n",
      "Epoch 70/100\n",
      "12/12 [==============================] - 0s 1ms/step - loss: 0.2894 - accuracy: 0.8827\n",
      "Epoch 71/100\n",
      "12/12 [==============================] - 0s 1ms/step - loss: 0.2884 - accuracy: 0.8869\n",
      "Epoch 72/100\n",
      "12/12 [==============================] - 0s 2ms/step - loss: 0.2941 - accuracy: 0.8820\n",
      "Epoch 73/100\n",
      "12/12 [==============================] - 0s 2ms/step - loss: 0.2791 - accuracy: 0.8874\n",
      "Epoch 74/100\n",
      "12/12 [==============================] - 0s 2ms/step - loss: 0.2793 - accuracy: 0.8874\n",
      "Epoch 75/100\n",
      "12/12 [==============================] - 0s 2ms/step - loss: 0.2689 - accuracy: 0.8868\n",
      "Epoch 76/100\n",
      "12/12 [==============================] - 0s 2ms/step - loss: 0.2782 - accuracy: 0.8891\n",
      "Epoch 77/100\n",
      "12/12 [==============================] - 0s 2ms/step - loss: 0.2675 - accuracy: 0.8923\n",
      "Epoch 78/100\n",
      "12/12 [==============================] - 0s 1ms/step - loss: 0.2726 - accuracy: 0.9022\n",
      "Epoch 79/100\n",
      "12/12 [==============================] - 0s 1ms/step - loss: 0.2567 - accuracy: 0.9046\n",
      "Epoch 80/100\n",
      "12/12 [==============================] - 0s 2ms/step - loss: 0.2682 - accuracy: 0.8944\n",
      "Epoch 81/100\n",
      "12/12 [==============================] - 0s 2ms/step - loss: 0.2638 - accuracy: 0.9067\n",
      "Epoch 82/100\n",
      "12/12 [==============================] - 0s 1ms/step - loss: 0.2635 - accuracy: 0.8990\n",
      "Epoch 83/100\n"
     ]
    },
    {
     "name": "stdout",
     "output_type": "stream",
     "text": [
      "12/12 [==============================] - 0s 1ms/step - loss: 0.2577 - accuracy: 0.9048\n",
      "Epoch 84/100\n",
      "12/12 [==============================] - 0s 2ms/step - loss: 0.2591 - accuracy: 0.8987\n",
      "Epoch 85/100\n",
      "12/12 [==============================] - 0s 2ms/step - loss: 0.2633 - accuracy: 0.8905\n",
      "Epoch 86/100\n",
      "12/12 [==============================] - 0s 2ms/step - loss: 0.2374 - accuracy: 0.9113\n",
      "Epoch 87/100\n",
      "12/12 [==============================] - 0s 1ms/step - loss: 0.2757 - accuracy: 0.8988\n",
      "Epoch 88/100\n",
      "12/12 [==============================] - 0s 1ms/step - loss: 0.2779 - accuracy: 0.8892\n",
      "Epoch 89/100\n",
      "12/12 [==============================] - 0s 1ms/step - loss: 0.2624 - accuracy: 0.8994\n",
      "Epoch 90/100\n",
      "12/12 [==============================] - 0s 2ms/step - loss: 0.2480 - accuracy: 0.9102\n",
      "Epoch 91/100\n",
      "12/12 [==============================] - 0s 2ms/step - loss: 0.2610 - accuracy: 0.8946\n",
      "Epoch 92/100\n",
      "12/12 [==============================] - 0s 1ms/step - loss: 0.2557 - accuracy: 0.9011\n",
      "Epoch 93/100\n",
      "12/12 [==============================] - 0s 2ms/step - loss: 0.2581 - accuracy: 0.8976\n",
      "Epoch 94/100\n",
      "12/12 [==============================] - 0s 2ms/step - loss: 0.2649 - accuracy: 0.8878\n",
      "Epoch 95/100\n",
      "12/12 [==============================] - 0s 2ms/step - loss: 0.2437 - accuracy: 0.9075\n",
      "Epoch 96/100\n",
      "12/12 [==============================] - 0s 2ms/step - loss: 0.2481 - accuracy: 0.9092\n",
      "Epoch 97/100\n",
      "12/12 [==============================] - 0s 2ms/step - loss: 0.2647 - accuracy: 0.9003\n",
      "Epoch 98/100\n",
      "12/12 [==============================] - 0s 1ms/step - loss: 0.2391 - accuracy: 0.9107\n",
      "Epoch 99/100\n",
      "12/12 [==============================] - 0s 1ms/step - loss: 0.2238 - accuracy: 0.9185\n",
      "Epoch 100/100\n",
      "12/12 [==============================] - 0s 1ms/step - loss: 0.2323 - accuracy: 0.9092\n"
     ]
    }
   ],
   "source": [
    "history = model.fit(X_train_new, y_train_new, epochs=100, batch_size=64)"
   ]
  },
  {
   "cell_type": "code",
   "execution_count": 523,
   "metadata": {},
   "outputs": [],
   "source": [
    "y_pred = model.predict(X_test_new)"
   ]
  },
  {
   "cell_type": "code",
   "execution_count": 524,
   "metadata": {},
   "outputs": [],
   "source": [
    "y_pred[y_pred>0.5] = 1\n",
    "y_pred[y_pred<0.5] = 0"
   ]
  },
  {
   "cell_type": "code",
   "execution_count": 525,
   "metadata": {},
   "outputs": [],
   "source": [
    "y_pred = y_pred.flatten()"
   ]
  },
  {
   "cell_type": "code",
   "execution_count": 526,
   "metadata": {},
   "outputs": [
    {
     "name": "stdout",
     "output_type": "stream",
     "text": [
      "Accuracy is: 80.5111821086262\n"
     ]
    }
   ],
   "source": [
    "from sklearn.metrics import accuracy_score\n",
    "a = accuracy_score(y_pred,y_test_new)\n",
    "print('Accuracy is:', a*100)"
   ]
  },
  {
   "cell_type": "code",
   "execution_count": 527,
   "metadata": {},
   "outputs": [
    {
     "name": "stdout",
     "output_type": "stream",
     "text": [
      "Epoch 1/100\n",
      "12/12 [==============================] - 0s 32ms/step - loss: 0.2430 - accuracy: 0.9014 - val_loss: 0.4584 - val_accuracy: 0.7955\n",
      "Epoch 2/100\n",
      "12/12 [==============================] - 0s 8ms/step - loss: 0.2425 - accuracy: 0.9068 - val_loss: 0.4587 - val_accuracy: 0.8051\n",
      "Epoch 3/100\n",
      "12/12 [==============================] - 0s 8ms/step - loss: 0.2411 - accuracy: 0.9068 - val_loss: 0.4611 - val_accuracy: 0.8051\n",
      "Epoch 4/100\n",
      "12/12 [==============================] - 0s 7ms/step - loss: 0.2406 - accuracy: 0.9027 - val_loss: 0.4605 - val_accuracy: 0.8019\n",
      "Epoch 5/100\n",
      "12/12 [==============================] - 0s 7ms/step - loss: 0.2397 - accuracy: 0.9068 - val_loss: 0.4616 - val_accuracy: 0.8051\n",
      "Epoch 6/100\n",
      "12/12 [==============================] - 0s 11ms/step - loss: 0.2370 - accuracy: 0.9014 - val_loss: 0.4611 - val_accuracy: 0.7987\n",
      "Epoch 7/100\n",
      "12/12 [==============================] - 0s 8ms/step - loss: 0.2368 - accuracy: 0.9027 - val_loss: 0.4644 - val_accuracy: 0.7923\n",
      "Epoch 8/100\n",
      "12/12 [==============================] - 0s 8ms/step - loss: 0.2366 - accuracy: 0.9000 - val_loss: 0.4664 - val_accuracy: 0.8019\n",
      "Epoch 9/100\n",
      "12/12 [==============================] - 0s 9ms/step - loss: 0.2368 - accuracy: 0.9014 - val_loss: 0.4686 - val_accuracy: 0.8019\n",
      "Epoch 10/100\n",
      "12/12 [==============================] - 0s 10ms/step - loss: 0.2350 - accuracy: 0.9000 - val_loss: 0.4692 - val_accuracy: 0.8019\n",
      "Epoch 11/100\n",
      "12/12 [==============================] - 0s 10ms/step - loss: 0.2331 - accuracy: 0.9014 - val_loss: 0.4718 - val_accuracy: 0.8019\n",
      "Epoch 12/100\n",
      "12/12 [==============================] - 0s 7ms/step - loss: 0.2302 - accuracy: 0.9068 - val_loss: 0.4735 - val_accuracy: 0.7955\n",
      "Epoch 13/100\n",
      "12/12 [==============================] - 0s 7ms/step - loss: 0.2306 - accuracy: 0.9014 - val_loss: 0.4734 - val_accuracy: 0.7955\n",
      "Epoch 14/100\n",
      "12/12 [==============================] - 0s 8ms/step - loss: 0.2321 - accuracy: 0.9068 - val_loss: 0.4741 - val_accuracy: 0.7955\n",
      "Epoch 15/100\n",
      "12/12 [==============================] - 0s 7ms/step - loss: 0.2286 - accuracy: 0.9041 - val_loss: 0.4775 - val_accuracy: 0.7987\n",
      "Epoch 16/100\n",
      "12/12 [==============================] - 0s 8ms/step - loss: 0.2259 - accuracy: 0.9082 - val_loss: 0.4777 - val_accuracy: 0.8019\n",
      "Epoch 17/100\n",
      "12/12 [==============================] - 0s 8ms/step - loss: 0.2257 - accuracy: 0.9123 - val_loss: 0.4831 - val_accuracy: 0.7955\n",
      "Epoch 18/100\n",
      "12/12 [==============================] - 0s 8ms/step - loss: 0.2247 - accuracy: 0.9123 - val_loss: 0.4816 - val_accuracy: 0.7955\n",
      "Epoch 19/100\n",
      "12/12 [==============================] - 0s 8ms/step - loss: 0.2232 - accuracy: 0.9151 - val_loss: 0.4843 - val_accuracy: 0.7955\n",
      "Epoch 20/100\n",
      "12/12 [==============================] - 0s 9ms/step - loss: 0.2234 - accuracy: 0.9096 - val_loss: 0.4883 - val_accuracy: 0.7955\n",
      "Epoch 21/100\n",
      "12/12 [==============================] - 0s 8ms/step - loss: 0.2213 - accuracy: 0.9137 - val_loss: 0.4867 - val_accuracy: 0.7987\n",
      "Epoch 22/100\n",
      "12/12 [==============================] - 0s 8ms/step - loss: 0.2204 - accuracy: 0.9123 - val_loss: 0.4893 - val_accuracy: 0.7955\n",
      "Epoch 23/100\n",
      "12/12 [==============================] - 0s 8ms/step - loss: 0.2252 - accuracy: 0.9082 - val_loss: 0.4905 - val_accuracy: 0.8019\n",
      "Epoch 24/100\n",
      "12/12 [==============================] - 0s 8ms/step - loss: 0.2196 - accuracy: 0.9123 - val_loss: 0.4905 - val_accuracy: 0.7987\n",
      "Epoch 25/100\n",
      "12/12 [==============================] - 0s 8ms/step - loss: 0.2184 - accuracy: 0.9233 - val_loss: 0.4931 - val_accuracy: 0.7955\n",
      "Epoch 26/100\n",
      "12/12 [==============================] - 0s 7ms/step - loss: 0.2173 - accuracy: 0.9219 - val_loss: 0.4948 - val_accuracy: 0.8019\n",
      "Epoch 27/100\n",
      "12/12 [==============================] - 0s 8ms/step - loss: 0.2151 - accuracy: 0.9178 - val_loss: 0.5015 - val_accuracy: 0.7987\n",
      "Epoch 28/100\n",
      "12/12 [==============================] - 0s 8ms/step - loss: 0.2155 - accuracy: 0.9178 - val_loss: 0.5000 - val_accuracy: 0.7955\n",
      "Epoch 29/100\n",
      "12/12 [==============================] - 0s 7ms/step - loss: 0.2136 - accuracy: 0.9151 - val_loss: 0.4990 - val_accuracy: 0.7987\n",
      "Epoch 30/100\n",
      "12/12 [==============================] - 0s 8ms/step - loss: 0.2128 - accuracy: 0.9219 - val_loss: 0.5025 - val_accuracy: 0.7955\n",
      "Epoch 31/100\n",
      "12/12 [==============================] - 0s 8ms/step - loss: 0.2122 - accuracy: 0.9178 - val_loss: 0.5041 - val_accuracy: 0.7955\n",
      "Epoch 32/100\n",
      "12/12 [==============================] - 0s 8ms/step - loss: 0.2111 - accuracy: 0.9205 - val_loss: 0.5078 - val_accuracy: 0.7955\n",
      "Epoch 33/100\n",
      "12/12 [==============================] - 0s 7ms/step - loss: 0.2101 - accuracy: 0.9233 - val_loss: 0.5084 - val_accuracy: 0.7955\n",
      "Epoch 34/100\n",
      "12/12 [==============================] - 0s 7ms/step - loss: 0.2092 - accuracy: 0.9260 - val_loss: 0.5090 - val_accuracy: 0.7955\n",
      "Epoch 35/100\n",
      "12/12 [==============================] - 0s 7ms/step - loss: 0.2080 - accuracy: 0.9192 - val_loss: 0.5094 - val_accuracy: 0.7987\n",
      "Epoch 36/100\n",
      "12/12 [==============================] - 0s 8ms/step - loss: 0.2082 - accuracy: 0.9219 - val_loss: 0.5116 - val_accuracy: 0.7955\n",
      "Epoch 37/100\n",
      "12/12 [==============================] - 0s 8ms/step - loss: 0.2067 - accuracy: 0.9247 - val_loss: 0.5168 - val_accuracy: 0.7923\n",
      "Epoch 38/100\n",
      "12/12 [==============================] - 0s 8ms/step - loss: 0.2057 - accuracy: 0.9205 - val_loss: 0.5134 - val_accuracy: 0.8019\n",
      "Epoch 39/100\n",
      "12/12 [==============================] - 0s 8ms/step - loss: 0.2052 - accuracy: 0.9260 - val_loss: 0.5159 - val_accuracy: 0.7955\n",
      "Epoch 40/100\n",
      "12/12 [==============================] - 0s 8ms/step - loss: 0.2037 - accuracy: 0.9233 - val_loss: 0.5153 - val_accuracy: 0.7987\n",
      "Epoch 41/100\n",
      "12/12 [==============================] - 0s 8ms/step - loss: 0.2026 - accuracy: 0.9205 - val_loss: 0.5187 - val_accuracy: 0.7987\n",
      "Epoch 42/100\n",
      "12/12 [==============================] - 0s 8ms/step - loss: 0.2019 - accuracy: 0.9247 - val_loss: 0.5226 - val_accuracy: 0.7955\n",
      "Epoch 43/100\n",
      "12/12 [==============================] - 0s 8ms/step - loss: 0.2003 - accuracy: 0.9288 - val_loss: 0.5213 - val_accuracy: 0.8019\n",
      "Epoch 44/100\n",
      "12/12 [==============================] - 0s 8ms/step - loss: 0.1995 - accuracy: 0.9274 - val_loss: 0.5218 - val_accuracy: 0.7987\n",
      "Epoch 45/100\n",
      "12/12 [==============================] - 0s 8ms/step - loss: 0.1992 - accuracy: 0.9219 - val_loss: 0.5254 - val_accuracy: 0.7987\n",
      "Epoch 46/100\n",
      "12/12 [==============================] - 0s 8ms/step - loss: 0.2001 - accuracy: 0.9274 - val_loss: 0.5296 - val_accuracy: 0.7987\n",
      "Epoch 47/100\n",
      "12/12 [==============================] - 0s 8ms/step - loss: 0.1967 - accuracy: 0.9247 - val_loss: 0.5309 - val_accuracy: 0.8051\n",
      "Epoch 48/100\n",
      "12/12 [==============================] - 0s 8ms/step - loss: 0.1958 - accuracy: 0.9301 - val_loss: 0.5332 - val_accuracy: 0.7955\n",
      "Epoch 49/100\n",
      "12/12 [==============================] - 0s 8ms/step - loss: 0.1972 - accuracy: 0.9315 - val_loss: 0.5316 - val_accuracy: 0.8051\n",
      "Epoch 50/100\n",
      "12/12 [==============================] - 0s 8ms/step - loss: 0.1947 - accuracy: 0.9315 - val_loss: 0.5345 - val_accuracy: 0.7987\n",
      "Epoch 51/100\n",
      "12/12 [==============================] - 0s 8ms/step - loss: 0.1927 - accuracy: 0.9342 - val_loss: 0.5358 - val_accuracy: 0.8019\n",
      "Epoch 52/100\n",
      "12/12 [==============================] - 0s 9ms/step - loss: 0.1923 - accuracy: 0.9288 - val_loss: 0.5381 - val_accuracy: 0.7987\n",
      "Epoch 53/100\n",
      "12/12 [==============================] - 0s 8ms/step - loss: 0.1997 - accuracy: 0.9233 - val_loss: 0.5369 - val_accuracy: 0.8051\n",
      "Epoch 54/100\n",
      "12/12 [==============================] - 0s 8ms/step - loss: 0.1930 - accuracy: 0.9247 - val_loss: 0.5422 - val_accuracy: 0.7987\n",
      "Epoch 55/100\n",
      "12/12 [==============================] - 0s 9ms/step - loss: 0.1884 - accuracy: 0.9384 - val_loss: 0.5400 - val_accuracy: 0.7987\n",
      "Epoch 56/100\n",
      "12/12 [==============================] - 0s 9ms/step - loss: 0.1892 - accuracy: 0.9342 - val_loss: 0.5436 - val_accuracy: 0.7987\n",
      "Epoch 57/100\n",
      "12/12 [==============================] - 0s 8ms/step - loss: 0.1880 - accuracy: 0.9342 - val_loss: 0.5468 - val_accuracy: 0.7987\n",
      "Epoch 58/100\n",
      "12/12 [==============================] - 0s 8ms/step - loss: 0.1858 - accuracy: 0.9342 - val_loss: 0.5458 - val_accuracy: 0.8019\n"
     ]
    },
    {
     "name": "stdout",
     "output_type": "stream",
     "text": [
      "Epoch 59/100\n",
      "12/12 [==============================] - 0s 9ms/step - loss: 0.1863 - accuracy: 0.9342 - val_loss: 0.5498 - val_accuracy: 0.8019\n",
      "Epoch 60/100\n",
      "12/12 [==============================] - 0s 8ms/step - loss: 0.1863 - accuracy: 0.9370 - val_loss: 0.5521 - val_accuracy: 0.8019\n",
      "Epoch 61/100\n",
      "12/12 [==============================] - 0s 7ms/step - loss: 0.1832 - accuracy: 0.9356 - val_loss: 0.5534 - val_accuracy: 0.7987\n",
      "Epoch 62/100\n",
      "12/12 [==============================] - 0s 9ms/step - loss: 0.1823 - accuracy: 0.9384 - val_loss: 0.5515 - val_accuracy: 0.7987\n",
      "Epoch 63/100\n",
      "12/12 [==============================] - 0s 8ms/step - loss: 0.1823 - accuracy: 0.9370 - val_loss: 0.5587 - val_accuracy: 0.8019\n",
      "Epoch 64/100\n",
      "12/12 [==============================] - 0s 8ms/step - loss: 0.1830 - accuracy: 0.9342 - val_loss: 0.5592 - val_accuracy: 0.8019\n",
      "Epoch 65/100\n",
      "12/12 [==============================] - 0s 9ms/step - loss: 0.1827 - accuracy: 0.9315 - val_loss: 0.5625 - val_accuracy: 0.7955\n",
      "Epoch 66/100\n",
      "12/12 [==============================] - 0s 7ms/step - loss: 0.1818 - accuracy: 0.9370 - val_loss: 0.5615 - val_accuracy: 0.7987\n",
      "Epoch 67/100\n",
      "12/12 [==============================] - 0s 7ms/step - loss: 0.1781 - accuracy: 0.9397 - val_loss: 0.5627 - val_accuracy: 0.8019\n",
      "Epoch 68/100\n",
      "12/12 [==============================] - 0s 7ms/step - loss: 0.1762 - accuracy: 0.9384 - val_loss: 0.5669 - val_accuracy: 0.7987\n",
      "Epoch 69/100\n",
      "12/12 [==============================] - 0s 8ms/step - loss: 0.1760 - accuracy: 0.9384 - val_loss: 0.5682 - val_accuracy: 0.7987\n",
      "Epoch 70/100\n",
      "12/12 [==============================] - 0s 9ms/step - loss: 0.1744 - accuracy: 0.9356 - val_loss: 0.5700 - val_accuracy: 0.7987\n",
      "Epoch 71/100\n",
      "12/12 [==============================] - 0s 8ms/step - loss: 0.1755 - accuracy: 0.9342 - val_loss: 0.5724 - val_accuracy: 0.7955\n",
      "Epoch 72/100\n",
      "12/12 [==============================] - 0s 9ms/step - loss: 0.1735 - accuracy: 0.9329 - val_loss: 0.5700 - val_accuracy: 0.7955\n",
      "Epoch 73/100\n",
      "12/12 [==============================] - 0s 8ms/step - loss: 0.1710 - accuracy: 0.9397 - val_loss: 0.5728 - val_accuracy: 0.7955\n",
      "Epoch 74/100\n",
      "12/12 [==============================] - 0s 8ms/step - loss: 0.1707 - accuracy: 0.9411 - val_loss: 0.5748 - val_accuracy: 0.7955\n",
      "Epoch 75/100\n",
      "12/12 [==============================] - 0s 8ms/step - loss: 0.1698 - accuracy: 0.9384 - val_loss: 0.5755 - val_accuracy: 0.7955\n",
      "Epoch 76/100\n",
      "12/12 [==============================] - 0s 7ms/step - loss: 0.1687 - accuracy: 0.9425 - val_loss: 0.5769 - val_accuracy: 0.7955\n",
      "Epoch 77/100\n",
      "12/12 [==============================] - 0s 7ms/step - loss: 0.1687 - accuracy: 0.9342 - val_loss: 0.5764 - val_accuracy: 0.7923\n",
      "Epoch 78/100\n",
      "12/12 [==============================] - 0s 7ms/step - loss: 0.1666 - accuracy: 0.9411 - val_loss: 0.5812 - val_accuracy: 0.7955\n",
      "Epoch 79/100\n",
      "12/12 [==============================] - 0s 7ms/step - loss: 0.1682 - accuracy: 0.9370 - val_loss: 0.5848 - val_accuracy: 0.7955\n",
      "Epoch 80/100\n",
      "12/12 [==============================] - 0s 8ms/step - loss: 0.1645 - accuracy: 0.9466 - val_loss: 0.5843 - val_accuracy: 0.7987\n",
      "Epoch 81/100\n",
      "12/12 [==============================] - 0s 9ms/step - loss: 0.1640 - accuracy: 0.9356 - val_loss: 0.5860 - val_accuracy: 0.7923\n",
      "Epoch 82/100\n",
      "12/12 [==============================] - 0s 9ms/step - loss: 0.1629 - accuracy: 0.9411 - val_loss: 0.5908 - val_accuracy: 0.7955\n",
      "Epoch 83/100\n",
      "12/12 [==============================] - 0s 9ms/step - loss: 0.1619 - accuracy: 0.9425 - val_loss: 0.5895 - val_accuracy: 0.7955\n",
      "Epoch 84/100\n",
      "12/12 [==============================] - 0s 8ms/step - loss: 0.1606 - accuracy: 0.9452 - val_loss: 0.5959 - val_accuracy: 0.7955\n",
      "Epoch 85/100\n",
      "12/12 [==============================] - 0s 8ms/step - loss: 0.1601 - accuracy: 0.9479 - val_loss: 0.5980 - val_accuracy: 0.7987\n",
      "Epoch 86/100\n",
      "12/12 [==============================] - 0s 8ms/step - loss: 0.1618 - accuracy: 0.9356 - val_loss: 0.5950 - val_accuracy: 0.7923\n",
      "Epoch 87/100\n",
      "12/12 [==============================] - 0s 9ms/step - loss: 0.1590 - accuracy: 0.9507 - val_loss: 0.6015 - val_accuracy: 0.7955\n",
      "Epoch 88/100\n",
      "12/12 [==============================] - 0s 9ms/step - loss: 0.1580 - accuracy: 0.9493 - val_loss: 0.6028 - val_accuracy: 0.7923\n",
      "Epoch 89/100\n",
      "12/12 [==============================] - 0s 8ms/step - loss: 0.1578 - accuracy: 0.9438 - val_loss: 0.6048 - val_accuracy: 0.7987\n",
      "Epoch 90/100\n",
      "12/12 [==============================] - 0s 8ms/step - loss: 0.1556 - accuracy: 0.9466 - val_loss: 0.6044 - val_accuracy: 0.7923\n",
      "Epoch 91/100\n",
      "12/12 [==============================] - 0s 8ms/step - loss: 0.1545 - accuracy: 0.9493 - val_loss: 0.6100 - val_accuracy: 0.7923\n",
      "Epoch 92/100\n",
      "12/12 [==============================] - 0s 7ms/step - loss: 0.1540 - accuracy: 0.9438 - val_loss: 0.6085 - val_accuracy: 0.7955\n",
      "Epoch 93/100\n",
      "12/12 [==============================] - 0s 9ms/step - loss: 0.1584 - accuracy: 0.9521 - val_loss: 0.6100 - val_accuracy: 0.7955\n",
      "Epoch 94/100\n",
      "12/12 [==============================] - 0s 10ms/step - loss: 0.1542 - accuracy: 0.9411 - val_loss: 0.6124 - val_accuracy: 0.7923\n",
      "Epoch 95/100\n",
      "12/12 [==============================] - 0s 10ms/step - loss: 0.1522 - accuracy: 0.9507 - val_loss: 0.6190 - val_accuracy: 0.7987\n",
      "Epoch 96/100\n",
      "12/12 [==============================] - 0s 9ms/step - loss: 0.1500 - accuracy: 0.9534 - val_loss: 0.6179 - val_accuracy: 0.7923\n",
      "Epoch 97/100\n",
      "12/12 [==============================] - 0s 8ms/step - loss: 0.1493 - accuracy: 0.9507 - val_loss: 0.6246 - val_accuracy: 0.8051\n",
      "Epoch 98/100\n",
      "12/12 [==============================] - 0s 9ms/step - loss: 0.1487 - accuracy: 0.9507 - val_loss: 0.6221 - val_accuracy: 0.7923\n",
      "Epoch 99/100\n",
      "12/12 [==============================] - 0s 8ms/step - loss: 0.1476 - accuracy: 0.9534 - val_loss: 0.6271 - val_accuracy: 0.7955\n",
      "Epoch 100/100\n",
      "12/12 [==============================] - 0s 10ms/step - loss: 0.1477 - accuracy: 0.9479 - val_loss: 0.6344 - val_accuracy: 0.7923\n"
     ]
    }
   ],
   "source": [
    "history = model.fit(X_train_new, y_train_new,validation_data = (X_test_new,y_test_new), epochs=100, batch_size=64)"
   ]
  },
  {
   "cell_type": "code",
   "execution_count": 528,
   "metadata": {},
   "outputs": [
    {
     "data": {
      "image/png": "[encoded data removed]",
      "text/plain": [
       "<Figure size 432x288 with 1 Axes>"
      ]
     },
     "metadata": {
      "needs_background": "light"
     },
     "output_type": "display_data"
    }
   ],
   "source": [
    "import matplotlib.pyplot as plt\n",
    "plt.plot(history.history['accuracy'])\n",
    "plt.plot(history.history['val_accuracy'])\n",
    "plt.title('Model accuracy')\n",
    "plt.ylabel('Accuracy')\n",
    "plt.xlabel('Epoch')\n",
    "plt.legend(['Train', 'Test'], loc='upper left')\n",
    "plt.show()"
   ]
  },
  {
   "cell_type": "code",
   "execution_count": 529,
   "metadata": {},
   "outputs": [
    {
     "data": {
      "image/png": "[encoded data removed]",
      "text/plain": [
       "<Figure size 432x288 with 1 Axes>"
      ]
     },
     "metadata": {
      "needs_background": "light"
     },
     "output_type": "display_data"
    }
   ],
   "source": [
    "plt.plot(history.history['loss']) \n",
    "plt.plot(history.history['val_loss']) \n",
    "plt.title('Model loss') \n",
    "plt.ylabel('Loss') \n",
    "plt.xlabel('Epoch') \n",
    "plt.legend(['Train', 'Test'], loc='upper left') \n",
    "plt.show()"
   ]
  },
  {
   "cell_type": "code",
   "execution_count": 530,
   "metadata": {},
   "outputs": [],
   "source": [
    "# Up till now, the best model is SVC"
   ]
  },
  {
   "cell_type": "markdown",
   "metadata": {},
   "source": [
    "---"
   ]
  },
  {
   "cell_type": "code",
   "execution_count": 531,
   "metadata": {},
   "outputs": [
    {
     "data": {
      "text/html": [
       "<div>\n",
       "<style scoped>\n",
       "    .dataframe tbody tr th:only-of-type {\n",
       "        vertical-align: middle;\n",
       "    }\n",
       "\n",
       "    .dataframe tbody tr th {\n",
       "        vertical-align: top;\n",
       "    }\n",
       "\n",
       "    .dataframe thead th {\n",
       "        text-align: right;\n",
       "    }\n",
       "</style>\n",
       "<table border=\"1\" class=\"dataframe\">\n",
       "  <thead>\n",
       "    <tr style=\"text-align: right;\">\n",
       "      <th></th>\n",
       "      <th>S.No</th>\n",
       "      <th>Timestamp</th>\n",
       "      <th>Age</th>\n",
       "      <th>Gender</th>\n",
       "      <th>Country</th>\n",
       "      <th>state</th>\n",
       "      <th>self_employed</th>\n",
       "      <th>family_history</th>\n",
       "      <th>treatment</th>\n",
       "      <th>work_interfere</th>\n",
       "      <th>no_employees</th>\n",
       "      <th>remote_work</th>\n",
       "      <th>tech_company</th>\n",
       "      <th>benefits</th>\n",
       "      <th>care_options</th>\n",
       "      <th>wellness_program</th>\n",
       "      <th>seek_help</th>\n",
       "      <th>anonymity</th>\n",
       "      <th>leave</th>\n",
       "      <th>mental_health_consequence</th>\n",
       "      <th>phys_health_consequence</th>\n",
       "      <th>coworkers</th>\n",
       "      <th>supervisor</th>\n",
       "      <th>mental_health_interview</th>\n",
       "      <th>phys_health_interview</th>\n",
       "      <th>mental_vs_physical</th>\n",
       "      <th>obs_consequence</th>\n",
       "      <th>comments</th>\n",
       "    </tr>\n",
       "  </thead>\n",
       "  <tbody>\n",
       "    <tr>\n",
       "      <th>0</th>\n",
       "      <td>1</td>\n",
       "      <td>2014-08-27 11:29:31</td>\n",
       "      <td>37</td>\n",
       "      <td>Female</td>\n",
       "      <td>United States</td>\n",
       "      <td>IL</td>\n",
       "      <td>No</td>\n",
       "      <td>No</td>\n",
       "      <td>Yes</td>\n",
       "      <td>Often</td>\n",
       "      <td>6-25</td>\n",
       "      <td>No</td>\n",
       "      <td>Yes</td>\n",
       "      <td>Yes</td>\n",
       "      <td>Not sure</td>\n",
       "      <td>No</td>\n",
       "      <td>Yes</td>\n",
       "      <td>Yes</td>\n",
       "      <td>Somewhat easy</td>\n",
       "      <td>No</td>\n",
       "      <td>No</td>\n",
       "      <td>Some of them</td>\n",
       "      <td>Yes</td>\n",
       "      <td>No</td>\n",
       "      <td>Maybe</td>\n",
       "      <td>Yes</td>\n",
       "      <td>No</td>\n",
       "      <td>NaN</td>\n",
       "    </tr>\n",
       "    <tr>\n",
       "      <th>1</th>\n",
       "      <td>2</td>\n",
       "      <td>2014-08-27 11:29:37</td>\n",
       "      <td>44</td>\n",
       "      <td>Male</td>\n",
       "      <td>United States</td>\n",
       "      <td>IN</td>\n",
       "      <td>No</td>\n",
       "      <td>No</td>\n",
       "      <td>No</td>\n",
       "      <td>Rarely</td>\n",
       "      <td>More than 1000</td>\n",
       "      <td>No</td>\n",
       "      <td>No</td>\n",
       "      <td>Don't know</td>\n",
       "      <td>No</td>\n",
       "      <td>Don't know</td>\n",
       "      <td>Don't know</td>\n",
       "      <td>Don't know</td>\n",
       "      <td>Don't know</td>\n",
       "      <td>Maybe</td>\n",
       "      <td>No</td>\n",
       "      <td>No</td>\n",
       "      <td>No</td>\n",
       "      <td>No</td>\n",
       "      <td>No</td>\n",
       "      <td>Don't know</td>\n",
       "      <td>No</td>\n",
       "      <td>NaN</td>\n",
       "    </tr>\n",
       "    <tr>\n",
       "      <th>2</th>\n",
       "      <td>3</td>\n",
       "      <td>2014-08-27 11:29:44</td>\n",
       "      <td>32</td>\n",
       "      <td>Male</td>\n",
       "      <td>Canada</td>\n",
       "      <td>NaN</td>\n",
       "      <td>No</td>\n",
       "      <td>No</td>\n",
       "      <td>No</td>\n",
       "      <td>Rarely</td>\n",
       "      <td>6-25</td>\n",
       "      <td>No</td>\n",
       "      <td>Yes</td>\n",
       "      <td>No</td>\n",
       "      <td>No</td>\n",
       "      <td>No</td>\n",
       "      <td>No</td>\n",
       "      <td>Don't know</td>\n",
       "      <td>Somewhat difficult</td>\n",
       "      <td>No</td>\n",
       "      <td>No</td>\n",
       "      <td>Yes</td>\n",
       "      <td>Yes</td>\n",
       "      <td>Yes</td>\n",
       "      <td>Yes</td>\n",
       "      <td>No</td>\n",
       "      <td>No</td>\n",
       "      <td>NaN</td>\n",
       "    </tr>\n",
       "    <tr>\n",
       "      <th>3</th>\n",
       "      <td>4</td>\n",
       "      <td>2014-08-27 11:29:46</td>\n",
       "      <td>31</td>\n",
       "      <td>Male</td>\n",
       "      <td>United Kingdom</td>\n",
       "      <td>NaN</td>\n",
       "      <td>No</td>\n",
       "      <td>Yes</td>\n",
       "      <td>Yes</td>\n",
       "      <td>Often</td>\n",
       "      <td>26-100</td>\n",
       "      <td>No</td>\n",
       "      <td>Yes</td>\n",
       "      <td>No</td>\n",
       "      <td>Yes</td>\n",
       "      <td>No</td>\n",
       "      <td>No</td>\n",
       "      <td>No</td>\n",
       "      <td>Somewhat difficult</td>\n",
       "      <td>Yes</td>\n",
       "      <td>Yes</td>\n",
       "      <td>Some of them</td>\n",
       "      <td>No</td>\n",
       "      <td>Maybe</td>\n",
       "      <td>Maybe</td>\n",
       "      <td>No</td>\n",
       "      <td>Yes</td>\n",
       "      <td>NaN</td>\n",
       "    </tr>\n",
       "    <tr>\n",
       "      <th>4</th>\n",
       "      <td>5</td>\n",
       "      <td>2014-08-27 11:30:22</td>\n",
       "      <td>31</td>\n",
       "      <td>Male</td>\n",
       "      <td>United States</td>\n",
       "      <td>TX</td>\n",
       "      <td>No</td>\n",
       "      <td>No</td>\n",
       "      <td>No</td>\n",
       "      <td>Never</td>\n",
       "      <td>100-500</td>\n",
       "      <td>Yes</td>\n",
       "      <td>Yes</td>\n",
       "      <td>Yes</td>\n",
       "      <td>No</td>\n",
       "      <td>Don't know</td>\n",
       "      <td>Don't know</td>\n",
       "      <td>Don't know</td>\n",
       "      <td>Don't know</td>\n",
       "      <td>No</td>\n",
       "      <td>No</td>\n",
       "      <td>Some of them</td>\n",
       "      <td>Yes</td>\n",
       "      <td>Yes</td>\n",
       "      <td>Yes</td>\n",
       "      <td>Don't know</td>\n",
       "      <td>No</td>\n",
       "      <td>NaN</td>\n",
       "    </tr>\n",
       "  </tbody>\n",
       "</table>\n",
       "</div>"
      ],
      "text/plain": [
       "   S.No            Timestamp  Age  Gender         Country state self_employed  \\\n",
       "0     1  2014-08-27 11:29:31   37  Female   United States    IL            No   \n",
       "1     2  2014-08-27 11:29:37   44    Male   United States    IN            No   \n",
       "2     3  2014-08-27 11:29:44   32    Male          Canada   NaN            No   \n",
       "3     4  2014-08-27 11:29:46   31    Male  United Kingdom   NaN            No   \n",
       "4     5  2014-08-27 11:30:22   31    Male   United States    TX            No   \n",
       "\n",
       "  family_history treatment work_interfere    no_employees remote_work  \\\n",
       "0             No       Yes          Often            6-25          No   \n",
       "1             No        No         Rarely  More than 1000          No   \n",
       "2             No        No         Rarely            6-25          No   \n",
       "3            Yes       Yes          Often          26-100          No   \n",
       "4             No        No          Never         100-500         Yes   \n",
       "\n",
       "  tech_company    benefits care_options wellness_program   seek_help  \\\n",
       "0          Yes         Yes     Not sure               No         Yes   \n",
       "1           No  Don't know           No       Don't know  Don't know   \n",
       "2          Yes          No           No               No          No   \n",
       "3          Yes          No          Yes               No          No   \n",
       "4          Yes         Yes           No       Don't know  Don't know   \n",
       "\n",
       "    anonymity               leave mental_health_consequence  \\\n",
       "0         Yes       Somewhat easy                        No   \n",
       "1  Don't know          Don't know                     Maybe   \n",
       "2  Don't know  Somewhat difficult                        No   \n",
       "3          No  Somewhat difficult                       Yes   \n",
       "4  Don't know          Don't know                        No   \n",
       "\n",
       "  phys_health_consequence     coworkers supervisor mental_health_interview  \\\n",
       "0                      No  Some of them        Yes                      No   \n",
       "1                      No            No         No                      No   \n",
       "2                      No           Yes        Yes                     Yes   \n",
       "3                     Yes  Some of them         No                   Maybe   \n",
       "4                      No  Some of them        Yes                     Yes   \n",
       "\n",
       "  phys_health_interview mental_vs_physical obs_consequence comments  \n",
       "0                 Maybe                Yes              No      NaN  \n",
       "1                    No         Don't know              No      NaN  \n",
       "2                   Yes                 No              No      NaN  \n",
       "3                 Maybe                 No             Yes      NaN  \n",
       "4                   Yes         Don't know              No      NaN  "
      ]
     },
     "execution_count": 531,
     "metadata": {},
     "output_type": "execute_result"
    }
   ],
   "source": [
    "df.head()"
   ]
  },
  {
   "cell_type": "code",
   "execution_count": 536,
   "metadata": {},
   "outputs": [
    {
     "data": {
      "text/plain": [
       "Yes    79\n",
       "No     52\n",
       "Name: treatment, dtype: int64"
      ]
     },
     "execution_count": 536,
     "metadata": {},
     "output_type": "execute_result"
    }
   ],
   "source": [
    "df[df.comments.notnull()]['treatment'].value_counts()"
   ]
  },
  {
   "cell_type": "code",
   "execution_count": 537,
   "metadata": {},
   "outputs": [
    {
     "data": {
      "text/html": [
       "<div>\n",
       "<style scoped>\n",
       "    .dataframe tbody tr th:only-of-type {\n",
       "        vertical-align: middle;\n",
       "    }\n",
       "\n",
       "    .dataframe tbody tr th {\n",
       "        vertical-align: top;\n",
       "    }\n",
       "\n",
       "    .dataframe thead th {\n",
       "        text-align: right;\n",
       "    }\n",
       "</style>\n",
       "<table border=\"1\" class=\"dataframe\">\n",
       "  <thead>\n",
       "    <tr style=\"text-align: right;\">\n",
       "      <th></th>\n",
       "      <th>Age</th>\n",
       "      <th>Gender</th>\n",
       "      <th>Country</th>\n",
       "      <th>family_history</th>\n",
       "      <th>work_interfere</th>\n",
       "      <th>remote_work</th>\n",
       "      <th>benefits</th>\n",
       "      <th>care_options</th>\n",
       "      <th>wellness_program</th>\n",
       "      <th>seek_help</th>\n",
       "      <th>anonymity</th>\n",
       "      <th>leave</th>\n",
       "      <th>mental_health_consequence</th>\n",
       "      <th>mental_health_interview</th>\n",
       "      <th>phys_health_interview</th>\n",
       "      <th>mental_vs_physical</th>\n",
       "      <th>obs_consequence</th>\n",
       "    </tr>\n",
       "  </thead>\n",
       "  <tbody>\n",
       "    <tr>\n",
       "      <th>0</th>\n",
       "      <td>37</td>\n",
       "      <td>Female</td>\n",
       "      <td>United States</td>\n",
       "      <td>No</td>\n",
       "      <td>Often</td>\n",
       "      <td>No</td>\n",
       "      <td>Yes</td>\n",
       "      <td>Not sure</td>\n",
       "      <td>No</td>\n",
       "      <td>Yes</td>\n",
       "      <td>Yes</td>\n",
       "      <td>Somewhat easy</td>\n",
       "      <td>No</td>\n",
       "      <td>No</td>\n",
       "      <td>Maybe</td>\n",
       "      <td>Yes</td>\n",
       "      <td>No</td>\n",
       "    </tr>\n",
       "    <tr>\n",
       "      <th>1</th>\n",
       "      <td>44</td>\n",
       "      <td>Male</td>\n",
       "      <td>United States</td>\n",
       "      <td>No</td>\n",
       "      <td>Rarely</td>\n",
       "      <td>No</td>\n",
       "      <td>Don't know</td>\n",
       "      <td>No</td>\n",
       "      <td>Don't know</td>\n",
       "      <td>Don't know</td>\n",
       "      <td>Don't know</td>\n",
       "      <td>Don't know</td>\n",
       "      <td>Maybe</td>\n",
       "      <td>No</td>\n",
       "      <td>No</td>\n",
       "      <td>Don't know</td>\n",
       "      <td>No</td>\n",
       "    </tr>\n",
       "    <tr>\n",
       "      <th>2</th>\n",
       "      <td>32</td>\n",
       "      <td>Male</td>\n",
       "      <td>Canada</td>\n",
       "      <td>No</td>\n",
       "      <td>Rarely</td>\n",
       "      <td>No</td>\n",
       "      <td>No</td>\n",
       "      <td>No</td>\n",
       "      <td>No</td>\n",
       "      <td>No</td>\n",
       "      <td>Don't know</td>\n",
       "      <td>Somewhat difficult</td>\n",
       "      <td>No</td>\n",
       "      <td>Yes</td>\n",
       "      <td>Yes</td>\n",
       "      <td>No</td>\n",
       "      <td>No</td>\n",
       "    </tr>\n",
       "    <tr>\n",
       "      <th>3</th>\n",
       "      <td>31</td>\n",
       "      <td>Male</td>\n",
       "      <td>United Kingdom</td>\n",
       "      <td>Yes</td>\n",
       "      <td>Often</td>\n",
       "      <td>No</td>\n",
       "      <td>No</td>\n",
       "      <td>Yes</td>\n",
       "      <td>No</td>\n",
       "      <td>No</td>\n",
       "      <td>No</td>\n",
       "      <td>Somewhat difficult</td>\n",
       "      <td>Yes</td>\n",
       "      <td>Maybe</td>\n",
       "      <td>Maybe</td>\n",
       "      <td>No</td>\n",
       "      <td>Yes</td>\n",
       "    </tr>\n",
       "    <tr>\n",
       "      <th>4</th>\n",
       "      <td>31</td>\n",
       "      <td>Male</td>\n",
       "      <td>United States</td>\n",
       "      <td>No</td>\n",
       "      <td>Never</td>\n",
       "      <td>Yes</td>\n",
       "      <td>Yes</td>\n",
       "      <td>No</td>\n",
       "      <td>Don't know</td>\n",
       "      <td>Don't know</td>\n",
       "      <td>Don't know</td>\n",
       "      <td>Don't know</td>\n",
       "      <td>No</td>\n",
       "      <td>Yes</td>\n",
       "      <td>Yes</td>\n",
       "      <td>Don't know</td>\n",
       "      <td>No</td>\n",
       "    </tr>\n",
       "  </tbody>\n",
       "</table>\n",
       "</div>"
      ],
      "text/plain": [
       "   Age  Gender         Country family_history work_interfere remote_work  \\\n",
       "0   37  Female   United States             No          Often          No   \n",
       "1   44    Male   United States             No         Rarely          No   \n",
       "2   32    Male          Canada             No         Rarely          No   \n",
       "3   31    Male  United Kingdom            Yes          Often          No   \n",
       "4   31    Male   United States             No          Never         Yes   \n",
       "\n",
       "     benefits care_options wellness_program   seek_help   anonymity  \\\n",
       "0         Yes     Not sure               No         Yes         Yes   \n",
       "1  Don't know           No       Don't know  Don't know  Don't know   \n",
       "2          No           No               No          No  Don't know   \n",
       "3          No          Yes               No          No          No   \n",
       "4         Yes           No       Don't know  Don't know  Don't know   \n",
       "\n",
       "                leave mental_health_consequence mental_health_interview  \\\n",
       "0       Somewhat easy                        No                      No   \n",
       "1          Don't know                     Maybe                      No   \n",
       "2  Somewhat difficult                        No                     Yes   \n",
       "3  Somewhat difficult                       Yes                   Maybe   \n",
       "4          Don't know                        No                     Yes   \n",
       "\n",
       "  phys_health_interview mental_vs_physical obs_consequence  \n",
       "0                 Maybe                Yes              No  \n",
       "1                    No         Don't know              No  \n",
       "2                   Yes                 No              No  \n",
       "3                 Maybe                 No             Yes  \n",
       "4                   Yes         Don't know              No  "
      ]
     },
     "execution_count": 537,
     "metadata": {},
     "output_type": "execute_result"
    }
   ],
   "source": [
    "X.head()"
   ]
  },
  {
   "cell_type": "code",
   "execution_count": 538,
   "metadata": {},
   "outputs": [
    {
     "data": {
      "text/plain": [
       "0    Yes\n",
       "1     No\n",
       "2     No\n",
       "3    Yes\n",
       "4     No\n",
       "Name: treatment, dtype: object"
      ]
     },
     "execution_count": 538,
     "metadata": {},
     "output_type": "execute_result"
    }
   ],
   "source": [
    "y.head()"
   ]
  },
  {
   "cell_type": "code",
   "execution_count": 539,
   "metadata": {},
   "outputs": [
    {
     "data": {
      "text/html": [
       "<div>\n",
       "<style scoped>\n",
       "    .dataframe tbody tr th:only-of-type {\n",
       "        vertical-align: middle;\n",
       "    }\n",
       "\n",
       "    .dataframe tbody tr th {\n",
       "        vertical-align: top;\n",
       "    }\n",
       "\n",
       "    .dataframe thead th {\n",
       "        text-align: right;\n",
       "    }\n",
       "</style>\n",
       "<table border=\"1\" class=\"dataframe\">\n",
       "  <thead>\n",
       "    <tr style=\"text-align: right;\">\n",
       "      <th></th>\n",
       "      <th>Age</th>\n",
       "      <th>Gender</th>\n",
       "      <th>Country</th>\n",
       "      <th>family_history</th>\n",
       "      <th>work_interfere</th>\n",
       "      <th>remote_work</th>\n",
       "      <th>benefits</th>\n",
       "      <th>care_options</th>\n",
       "      <th>wellness_program</th>\n",
       "      <th>seek_help</th>\n",
       "      <th>anonymity</th>\n",
       "      <th>leave</th>\n",
       "      <th>mental_health_consequence</th>\n",
       "      <th>mental_health_interview</th>\n",
       "      <th>phys_health_interview</th>\n",
       "      <th>mental_vs_physical</th>\n",
       "      <th>obs_consequence</th>\n",
       "    </tr>\n",
       "  </thead>\n",
       "  <tbody>\n",
       "    <tr>\n",
       "      <th>0</th>\n",
       "      <td>39</td>\n",
       "      <td>Male</td>\n",
       "      <td>United Kingdom</td>\n",
       "      <td>Yes</td>\n",
       "      <td>Sometimes</td>\n",
       "      <td>Yes</td>\n",
       "      <td>No</td>\n",
       "      <td>Yes</td>\n",
       "      <td>Yes</td>\n",
       "      <td>Yes</td>\n",
       "      <td>Yes</td>\n",
       "      <td>Somewhat difficult</td>\n",
       "      <td>No</td>\n",
       "      <td>No</td>\n",
       "      <td>Maybe</td>\n",
       "      <td>Yes</td>\n",
       "      <td>Yes</td>\n",
       "    </tr>\n",
       "    <tr>\n",
       "      <th>1</th>\n",
       "      <td>26</td>\n",
       "      <td>Female</td>\n",
       "      <td>United States</td>\n",
       "      <td>Yes</td>\n",
       "      <td>Sometimes</td>\n",
       "      <td>No</td>\n",
       "      <td>Yes</td>\n",
       "      <td>Yes</td>\n",
       "      <td>No</td>\n",
       "      <td>No</td>\n",
       "      <td>Don't know</td>\n",
       "      <td>Don't know</td>\n",
       "      <td>No</td>\n",
       "      <td>No</td>\n",
       "      <td>Maybe</td>\n",
       "      <td>No</td>\n",
       "      <td>Yes</td>\n",
       "    </tr>\n",
       "    <tr>\n",
       "      <th>2</th>\n",
       "      <td>23</td>\n",
       "      <td>Female</td>\n",
       "      <td>United States</td>\n",
       "      <td>Yes</td>\n",
       "      <td>Sometimes</td>\n",
       "      <td>No</td>\n",
       "      <td>No</td>\n",
       "      <td>No</td>\n",
       "      <td>No</td>\n",
       "      <td>No</td>\n",
       "      <td>Don't know</td>\n",
       "      <td>Somewhat difficult</td>\n",
       "      <td>Yes</td>\n",
       "      <td>No</td>\n",
       "      <td>Maybe</td>\n",
       "      <td>No</td>\n",
       "      <td>No</td>\n",
       "    </tr>\n",
       "    <tr>\n",
       "      <th>3</th>\n",
       "      <td>35</td>\n",
       "      <td>Male</td>\n",
       "      <td>Other</td>\n",
       "      <td>Yes</td>\n",
       "      <td>Often</td>\n",
       "      <td>No</td>\n",
       "      <td>Don't know</td>\n",
       "      <td>Not sure</td>\n",
       "      <td>No</td>\n",
       "      <td>No</td>\n",
       "      <td>Yes</td>\n",
       "      <td>Very easy</td>\n",
       "      <td>No</td>\n",
       "      <td>No</td>\n",
       "      <td>Maybe</td>\n",
       "      <td>No</td>\n",
       "      <td>No</td>\n",
       "    </tr>\n",
       "    <tr>\n",
       "      <th>4</th>\n",
       "      <td>36</td>\n",
       "      <td>Male</td>\n",
       "      <td>United States</td>\n",
       "      <td>No</td>\n",
       "      <td>Never</td>\n",
       "      <td>Yes</td>\n",
       "      <td>Don't know</td>\n",
       "      <td>Not sure</td>\n",
       "      <td>Don't know</td>\n",
       "      <td>Don't know</td>\n",
       "      <td>Don't know</td>\n",
       "      <td>Very easy</td>\n",
       "      <td>No</td>\n",
       "      <td>No</td>\n",
       "      <td>No</td>\n",
       "      <td>Don't know</td>\n",
       "      <td>No</td>\n",
       "    </tr>\n",
       "  </tbody>\n",
       "</table>\n",
       "</div>"
      ],
      "text/plain": [
       "   Age  Gender         Country family_history work_interfere remote_work  \\\n",
       "0   39    Male  United Kingdom            Yes      Sometimes         Yes   \n",
       "1   26  Female   United States            Yes      Sometimes          No   \n",
       "2   23  Female   United States            Yes      Sometimes          No   \n",
       "3   35    Male           Other            Yes          Often          No   \n",
       "4   36    Male   United States             No          Never         Yes   \n",
       "\n",
       "     benefits care_options wellness_program   seek_help   anonymity  \\\n",
       "0          No          Yes              Yes         Yes         Yes   \n",
       "1         Yes          Yes               No          No  Don't know   \n",
       "2          No           No               No          No  Don't know   \n",
       "3  Don't know     Not sure               No          No         Yes   \n",
       "4  Don't know     Not sure       Don't know  Don't know  Don't know   \n",
       "\n",
       "                leave mental_health_consequence mental_health_interview  \\\n",
       "0  Somewhat difficult                        No                      No   \n",
       "1          Don't know                        No                      No   \n",
       "2  Somewhat difficult                       Yes                      No   \n",
       "3           Very easy                        No                      No   \n",
       "4           Very easy                        No                      No   \n",
       "\n",
       "  phys_health_interview mental_vs_physical obs_consequence  \n",
       "0                 Maybe                Yes             Yes  \n",
       "1                 Maybe                 No             Yes  \n",
       "2                 Maybe                 No              No  \n",
       "3                 Maybe                 No              No  \n",
       "4                    No         Don't know              No  "
      ]
     },
     "execution_count": 539,
     "metadata": {},
     "output_type": "execute_result"
    }
   ],
   "source": [
    "test.head()"
   ]
  },
  {
   "cell_type": "code",
   "execution_count": 540,
   "metadata": {},
   "outputs": [],
   "source": [
    "ct2 = ColumnTransformer([\n",
    "    ('scaling', StandardScaler(), num_cols),\n",
    "    ('encoding', OneHotEncoder(drop='first', sparse=True), cat_cols)\n",
    "])"
   ]
  },
  {
   "cell_type": "code",
   "execution_count": 541,
   "metadata": {},
   "outputs": [],
   "source": [
    "X_new = ct2.fit_transform(X)\n",
    "test_new = ct2.transform(test)"
   ]
  },
  {
   "cell_type": "code",
   "execution_count": 542,
   "metadata": {},
   "outputs": [],
   "source": [
    "model3_svc = SVC()"
   ]
  },
  {
   "cell_type": "code",
   "execution_count": 544,
   "metadata": {},
   "outputs": [
    {
     "data": {
      "text/plain": [
       "SVC()"
      ]
     },
     "execution_count": 544,
     "metadata": {},
     "output_type": "execute_result"
    }
   ],
   "source": [
    "model3_svc.fit(X_new, y)"
   ]
  },
  {
   "cell_type": "code",
   "execution_count": 545,
   "metadata": {},
   "outputs": [],
   "source": [
    "y_pred = model3_svc.predict(test_new)"
   ]
  },
  {
   "cell_type": "code",
   "execution_count": 546,
   "metadata": {},
   "outputs": [
    {
     "data": {
      "text/plain": [
       "array(['Yes', 'Yes', 'Yes', 'Yes', 'No', 'No', 'Yes', 'No', 'No', 'Yes',\n",
       "       'Yes', 'Yes', 'Yes', 'No', 'Yes', 'No', 'Yes', 'No', 'No', 'No',\n",
       "       'No', 'Yes', 'Yes', 'Yes', 'No', 'Yes', 'Yes', 'Yes', 'Yes', 'Yes',\n",
       "       'Yes', 'Yes', 'Yes', 'Yes', 'Yes', 'Yes', 'No', 'Yes', 'No', 'Yes',\n",
       "       'Yes', 'No', 'No', 'Yes', 'Yes', 'Yes', 'Yes', 'Yes', 'Yes', 'No',\n",
       "       'No', 'No', 'Yes', 'Yes', 'Yes', 'No', 'Yes', 'Yes', 'Yes', 'Yes',\n",
       "       'No', 'Yes', 'Yes', 'No', 'Yes', 'No', 'Yes', 'No', 'Yes', 'Yes',\n",
       "       'No', 'Yes', 'Yes', 'No', 'Yes', 'No', 'Yes', 'Yes', 'Yes', 'Yes',\n",
       "       'No', 'Yes', 'No', 'Yes', 'Yes', 'Yes', 'Yes', 'Yes', 'No', 'Yes',\n",
       "       'Yes', 'Yes', 'No', 'No', 'No', 'No', 'Yes', 'Yes', 'Yes', 'Yes',\n",
       "       'Yes', 'Yes', 'No', 'Yes', 'Yes', 'Yes', 'No', 'No', 'No', 'Yes',\n",
       "       'No', 'Yes', 'No', 'No', 'Yes', 'Yes', 'Yes', 'Yes', 'No', 'No',\n",
       "       'Yes', 'No', 'No', 'Yes', 'Yes', 'No', 'No', 'Yes', 'No', 'Yes',\n",
       "       'No', 'Yes', 'Yes', 'Yes', 'Yes', 'Yes', 'No', 'Yes', 'Yes', 'No',\n",
       "       'Yes', 'Yes', 'Yes', 'No', 'No', 'No', 'Yes', 'No', 'No', 'Yes',\n",
       "       'No', 'No', 'Yes', 'No', 'No', 'No', 'No', 'Yes', 'Yes', 'Yes',\n",
       "       'Yes', 'No', 'No', 'Yes', 'Yes', 'Yes', 'No', 'No', 'No', 'No',\n",
       "       'Yes', 'Yes', 'Yes', 'Yes', 'No', 'Yes', 'No', 'No', 'No', 'Yes',\n",
       "       'No', 'Yes', 'Yes', 'Yes', 'No', 'Yes', 'Yes', 'Yes', 'Yes', 'Yes',\n",
       "       'Yes', 'Yes', 'No', 'No', 'Yes', 'No', 'Yes', 'No', 'Yes', 'Yes',\n",
       "       'Yes', 'Yes', 'Yes', 'Yes', 'Yes', 'No', 'Yes', 'Yes', 'No', 'Yes'],\n",
       "      dtype=object)"
      ]
     },
     "execution_count": 546,
     "metadata": {},
     "output_type": "execute_result"
    }
   ],
   "source": [
    "y_pred"
   ]
  },
  {
   "cell_type": "code",
   "execution_count": 549,
   "metadata": {},
   "outputs": [],
   "source": [
    "sample2 = pd.read_csv('sample.csv')"
   ]
  },
  {
   "cell_type": "code",
   "execution_count": 551,
   "metadata": {},
   "outputs": [],
   "source": [
    "sample2['treatment '] = y_pred"
   ]
  },
  {
   "cell_type": "code",
   "execution_count": null,
   "metadata": {},
   "outputs": [],
   "source": []
  }
 ],
 "metadata": {
  "kernelspec": {
   "display_name": "Python 3",
   "language": "python",
   "name": "python3"
  },
  "language_info": {
   "codemirror_mode": {
    "name": "ipython",
    "version": 3
   },
   "file_extension": ".py",
   "mimetype": "text/x-python",
   "name": "python",
   "nbconvert_exporter": "python",
   "pygments_lexer": "ipython3",
   "version": "3.8.3"
  }
 },
 "nbformat": 4,
 "nbformat_minor": 4
}
